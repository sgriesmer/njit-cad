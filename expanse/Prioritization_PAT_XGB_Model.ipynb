{
 "cells": [
  {
   "cell_type": "markdown",
   "id": "5464fc2b-9cd7-4fd8-98a6-4b8f43e3ad34",
   "metadata": {
    "id": "dfoAktdfUsl1"
   },
   "source": [
    "## Installation"
   ]
  },
  {
   "cell_type": "markdown",
   "id": "4479e1c6-847c-4309-a11f-b28f25a49d8d",
   "metadata": {
    "id": "nSKLjlh-HmIi"
   },
   "source": [
    "Installing Bio, transformers, genomic-benchmarks, and datasets packages.  The Bio package is from Biopython; transformers package for machine learning (pytorch, tensorflow); genomic-benchmarks and datasets from ML-Bioinfo-CEITEC.\n"
   ]
  },
  {
   "cell_type": "code",
   "execution_count": null,
   "id": "da3e4a35-1bd2-494f-94b3-3dea8b471930",
   "metadata": {
    "colab": {
     "base_uri": "https://localhost:8080/"
    },
    "id": "vTrn2sqTOGNV",
    "outputId": "bc84cc59-887a-417b-b905-75bb4123b63d"
   },
   "outputs": [],
   "source": [
    "# already set up on Expanse; toggle for colab\n",
    "\n",
    "# pip install -qq Bio transformers genomic-benchmarks datasets transformers[torch] pyfaidx"
   ]
  },
  {
   "cell_type": "markdown",
   "id": "bc6e69c0-d7df-43fe-9b6f-ed87fc9aa763",
   "metadata": {},
   "source": [
    "Set path prefix for Expanse"
   ]
  },
  {
   "cell_type": "code",
   "execution_count": 1,
   "id": "36d4362c-c4b3-4caf-a7a4-d342528278dc",
   "metadata": {},
   "outputs": [],
   "source": [
    "path_prefix = \"/expanse/lustre/projects/nji102/sgriesmer/\""
   ]
  },
  {
   "cell_type": "markdown",
   "id": "0db717fd-54ae-42f2-a5ee-d2b4dad218f6",
   "metadata": {
    "id": "i2DqTmk9asRO"
   },
   "source": [
    "Import SNP datasets"
   ]
  },
  {
   "cell_type": "code",
   "execution_count": 2,
   "id": "4a6aff36-d304-4ead-aac5-6a87aa07715f",
   "metadata": {
    "colab": {
     "base_uri": "https://localhost:8080/"
    },
    "id": "xw3EuhcVawX4",
    "outputId": "9351656c-5d7a-4839-a4be-bd08616e167b"
   },
   "outputs": [
    {
     "data": {
      "text/plain": [
       "(   BroadDnd41CtcfUniPk151-ran  BroadDnd41Ezh239875UniPk151-ran  \\\n",
       " 0                   -0.183754                         3.424810   \n",
       " 1                    0.064347                        -0.568338   \n",
       " 2                   -0.187900                         0.022428   \n",
       " 3                   -0.188072                        -0.579203   \n",
       " 4                   -0.188218                         1.562255   \n",
       " \n",
       "    BroadGm12878CtcfUniPk151-ran  BroadGm12878Ezh239875UniPk151-ran  \\\n",
       " 0                      2.694036                           2.412509   \n",
       " 1                     -0.206848                          -0.833275   \n",
       " 2                     -0.236223                          -0.094407   \n",
       " 3                     -0.207058                          -0.549511   \n",
       " 4                     -0.240059                          -0.354813   \n",
       " \n",
       "    BroadH1hescChd1a301218aUniPk151-ran  BroadH1hescCtcfUniPk151-ran  \\\n",
       " 0                            -0.411801                    -0.204063   \n",
       " 1                            -0.448292                     0.222933   \n",
       " 2                            -0.447457                    -0.208221   \n",
       " 3                            -0.448281                    -0.209791   \n",
       " 4                             0.046917                    -0.209931   \n",
       " \n",
       "    BroadH1hescEzh239875UniPk151-ran  BroadH1hescJarid1aab26049UniPk151-ran  \\\n",
       " 0                          0.261441                              -0.444878   \n",
       " 1                         -0.298382                              -0.538764   \n",
       " 2                         -0.079009                              -0.438841   \n",
       " 3                         -0.295054                              -0.533341   \n",
       " 4                          0.623560                              -0.508516   \n",
       " \n",
       "    BroadH1hescRbbp5a300109aUniPk151-ran  BroadHelas3CtcfUniPk151-ran  ...  \\\n",
       " 0                              2.368303                    -0.197179  ...   \n",
       " 1                             -0.389391                    -0.176765  ...   \n",
       " 2                             -0.381472                    -0.184461  ...   \n",
       " 3                             -0.387631                    -0.214296  ...   \n",
       " 4                              0.290801                    -0.214543  ...   \n",
       " \n",
       "    UwMcf7CtcfUniPk151-ran.1  UwNb4CtcfUniPk151-ran.1  \\\n",
       " 0                  3.500897                 2.239102   \n",
       " 1                  2.066476                 0.157434   \n",
       " 2                  0.104195                 0.000767   \n",
       " 3                  0.538721                -0.273758   \n",
       " 4                 -0.293038                -0.258978   \n",
       " \n",
       "    UwNhdfneoCtcfUniPk151-ran.1  UwNhekCtcfUniPk151-ran.1  \\\n",
       " 0                     0.042683                 -0.080850   \n",
       " 1                    -0.409339                 -0.116471   \n",
       " 2                    -0.097367                  0.338750   \n",
       " 3                    -0.256114                  0.820249   \n",
       " 4                     0.137079                 -0.293672   \n",
       " \n",
       "    UwNhlfCtcfUniPk151-ran.1  UwRptecCtcfUniPk151-ran.1  \\\n",
       " 0                  0.187946                   3.808217   \n",
       " 1                 -0.302672                  -0.204659   \n",
       " 2                 -0.327467                  -0.371372   \n",
       " 3                 -0.345126                  -0.168301   \n",
       " 4                 -0.129454                   0.213571   \n",
       " \n",
       "    UwSaecCtcfUniPk151-ran.1  UwSknshraCtcfUniPk151-ran.1  \\\n",
       " 0                  0.558647                    -0.270571   \n",
       " 1                 -0.364293                    -0.256381   \n",
       " 2                 -0.180069                     0.036038   \n",
       " 3                 -0.257199                     0.351504   \n",
       " 4                  0.347450                    -0.274081   \n",
       " \n",
       "    UwWerirb1CtcfUniPk151-ran.1  UwWi38CtcfUniPk151-ran.1  \n",
       " 0                     1.675248                  0.313500  \n",
       " 1                    -0.025908                 -0.045311  \n",
       " 2                    -0.223213                  0.556211  \n",
       " 3                    -0.254524                  0.284484  \n",
       " 4                    -0.274353                 -0.299367  \n",
       " \n",
       " [5 rows x 1380 columns],\n",
       " (11436, 1380))"
      ]
     },
     "execution_count": 2,
     "metadata": {},
     "output_type": "execute_result"
    }
   ],
   "source": [
    "import pandas as pd\n",
    "\n",
    "abs_diff_plus_log_odds_scores_norm = pd.read_csv(path_prefix + \"DNABERT_2/output/SNP_PRVCS_PAT_0_11436-abs_diff_plus_log_odds_scores_norm_results_by_variant.csv\", sep=',')\n",
    "abs_diff_plus_log_odds_scores_norm.head(), abs_diff_plus_log_odds_scores_norm.shape\n"
   ]
  },
  {
   "cell_type": "markdown",
   "id": "f7336b9f-19dc-42a5-b1e7-2a692a2ff434",
   "metadata": {
    "id": "mcTP_vqPJ7fS"
   },
   "source": [
    "Choose test set for run"
   ]
  },
  {
   "cell_type": "code",
   "execution_count": 3,
   "id": "e6d5c1ef-e5a2-47a5-8d0f-fcc7fcfc35d7",
   "metadata": {},
   "outputs": [
    {
     "name": "stderr",
     "output_type": "stream",
     "text": [
      "/cm/shared/apps/spack/0.17.3/cpu/b/opt/spack/linux-rocky8-zen/gcc-8.5.0/anaconda3-2021.05-q4munrgvh7qp4o7r3nzcdkbuph4z7375/lib/python3.8/site-packages/scipy/__init__.py:138: UserWarning: A NumPy version >=1.16.5 and <1.23.0 is required for this version of SciPy (detected version 1.24.4)\n",
      "  warnings.warn(f\"A NumPy version >={np_minversion} and <{np_maxversion} is required for this version of \"\n"
     ]
    }
   ],
   "source": [
    "import xgboost"
   ]
  },
  {
   "cell_type": "code",
   "execution_count": 4,
   "id": "7850649d-4714-4f8d-993b-13915d161c2f",
   "metadata": {},
   "outputs": [],
   "source": [
    "from numpy import asarray\n",
    "from numpy import mean\n",
    "from numpy import std\n",
    "from sklearn.datasets import make_classification\n",
    "from xgboost import XGBClassifier\n",
    "from sklearn.model_selection import cross_val_score\n",
    "from sklearn.model_selection import RepeatedStratifiedKFold\n",
    "from matplotlib import pyplot"
   ]
  },
  {
   "cell_type": "code",
   "execution_count": 5,
   "id": "065a3b85-46dc-4451-a9c4-89c6676e026d",
   "metadata": {},
   "outputs": [],
   "source": [
    "X=abs_diff_plus_log_odds_scores_norm[0:11436]"
   ]
  },
  {
   "cell_type": "code",
   "execution_count": 6,
   "id": "72747834-37ae-4f59-b449-7ead84b58f13",
   "metadata": {},
   "outputs": [
    {
     "data": {
      "text/html": [
       "<div>\n",
       "<style scoped>\n",
       "    .dataframe tbody tr th:only-of-type {\n",
       "        vertical-align: middle;\n",
       "    }\n",
       "\n",
       "    .dataframe tbody tr th {\n",
       "        vertical-align: top;\n",
       "    }\n",
       "\n",
       "    .dataframe thead th {\n",
       "        text-align: right;\n",
       "    }\n",
       "</style>\n",
       "<table border=\"1\" class=\"dataframe\">\n",
       "  <thead>\n",
       "    <tr style=\"text-align: right;\">\n",
       "      <th></th>\n",
       "      <th>BroadDnd41CtcfUniPk151-ran</th>\n",
       "      <th>BroadDnd41Ezh239875UniPk151-ran</th>\n",
       "      <th>BroadGm12878CtcfUniPk151-ran</th>\n",
       "      <th>BroadGm12878Ezh239875UniPk151-ran</th>\n",
       "      <th>BroadH1hescChd1a301218aUniPk151-ran</th>\n",
       "      <th>BroadH1hescCtcfUniPk151-ran</th>\n",
       "      <th>BroadH1hescEzh239875UniPk151-ran</th>\n",
       "      <th>BroadH1hescJarid1aab26049UniPk151-ran</th>\n",
       "      <th>BroadH1hescRbbp5a300109aUniPk151-ran</th>\n",
       "      <th>BroadHelas3CtcfUniPk151-ran</th>\n",
       "      <th>...</th>\n",
       "      <th>UwMcf7CtcfUniPk151-ran.1</th>\n",
       "      <th>UwNb4CtcfUniPk151-ran.1</th>\n",
       "      <th>UwNhdfneoCtcfUniPk151-ran.1</th>\n",
       "      <th>UwNhekCtcfUniPk151-ran.1</th>\n",
       "      <th>UwNhlfCtcfUniPk151-ran.1</th>\n",
       "      <th>UwRptecCtcfUniPk151-ran.1</th>\n",
       "      <th>UwSaecCtcfUniPk151-ran.1</th>\n",
       "      <th>UwSknshraCtcfUniPk151-ran.1</th>\n",
       "      <th>UwWerirb1CtcfUniPk151-ran.1</th>\n",
       "      <th>UwWi38CtcfUniPk151-ran.1</th>\n",
       "    </tr>\n",
       "  </thead>\n",
       "  <tbody>\n",
       "    <tr>\n",
       "      <th>0</th>\n",
       "      <td>-0.183754</td>\n",
       "      <td>3.424810</td>\n",
       "      <td>2.694036</td>\n",
       "      <td>2.412509</td>\n",
       "      <td>-0.411801</td>\n",
       "      <td>-0.204063</td>\n",
       "      <td>0.261441</td>\n",
       "      <td>-0.444878</td>\n",
       "      <td>2.368303</td>\n",
       "      <td>-0.197179</td>\n",
       "      <td>...</td>\n",
       "      <td>3.500897</td>\n",
       "      <td>2.239102</td>\n",
       "      <td>0.042683</td>\n",
       "      <td>-0.080850</td>\n",
       "      <td>0.187946</td>\n",
       "      <td>3.808217</td>\n",
       "      <td>0.558647</td>\n",
       "      <td>-0.270571</td>\n",
       "      <td>1.675248</td>\n",
       "      <td>0.313500</td>\n",
       "    </tr>\n",
       "    <tr>\n",
       "      <th>1</th>\n",
       "      <td>0.064347</td>\n",
       "      <td>-0.568338</td>\n",
       "      <td>-0.206848</td>\n",
       "      <td>-0.833275</td>\n",
       "      <td>-0.448292</td>\n",
       "      <td>0.222933</td>\n",
       "      <td>-0.298382</td>\n",
       "      <td>-0.538764</td>\n",
       "      <td>-0.389391</td>\n",
       "      <td>-0.176765</td>\n",
       "      <td>...</td>\n",
       "      <td>2.066476</td>\n",
       "      <td>0.157434</td>\n",
       "      <td>-0.409339</td>\n",
       "      <td>-0.116471</td>\n",
       "      <td>-0.302672</td>\n",
       "      <td>-0.204659</td>\n",
       "      <td>-0.364293</td>\n",
       "      <td>-0.256381</td>\n",
       "      <td>-0.025908</td>\n",
       "      <td>-0.045311</td>\n",
       "    </tr>\n",
       "    <tr>\n",
       "      <th>2</th>\n",
       "      <td>-0.187900</td>\n",
       "      <td>0.022428</td>\n",
       "      <td>-0.236223</td>\n",
       "      <td>-0.094407</td>\n",
       "      <td>-0.447457</td>\n",
       "      <td>-0.208221</td>\n",
       "      <td>-0.079009</td>\n",
       "      <td>-0.438841</td>\n",
       "      <td>-0.381472</td>\n",
       "      <td>-0.184461</td>\n",
       "      <td>...</td>\n",
       "      <td>0.104195</td>\n",
       "      <td>0.000767</td>\n",
       "      <td>-0.097367</td>\n",
       "      <td>0.338750</td>\n",
       "      <td>-0.327467</td>\n",
       "      <td>-0.371372</td>\n",
       "      <td>-0.180069</td>\n",
       "      <td>0.036038</td>\n",
       "      <td>-0.223213</td>\n",
       "      <td>0.556211</td>\n",
       "    </tr>\n",
       "    <tr>\n",
       "      <th>3</th>\n",
       "      <td>-0.188072</td>\n",
       "      <td>-0.579203</td>\n",
       "      <td>-0.207058</td>\n",
       "      <td>-0.549511</td>\n",
       "      <td>-0.448281</td>\n",
       "      <td>-0.209791</td>\n",
       "      <td>-0.295054</td>\n",
       "      <td>-0.533341</td>\n",
       "      <td>-0.387631</td>\n",
       "      <td>-0.214296</td>\n",
       "      <td>...</td>\n",
       "      <td>0.538721</td>\n",
       "      <td>-0.273758</td>\n",
       "      <td>-0.256114</td>\n",
       "      <td>0.820249</td>\n",
       "      <td>-0.345126</td>\n",
       "      <td>-0.168301</td>\n",
       "      <td>-0.257199</td>\n",
       "      <td>0.351504</td>\n",
       "      <td>-0.254524</td>\n",
       "      <td>0.284484</td>\n",
       "    </tr>\n",
       "    <tr>\n",
       "      <th>4</th>\n",
       "      <td>-0.188218</td>\n",
       "      <td>1.562255</td>\n",
       "      <td>-0.240059</td>\n",
       "      <td>-0.354813</td>\n",
       "      <td>0.046917</td>\n",
       "      <td>-0.209931</td>\n",
       "      <td>0.623560</td>\n",
       "      <td>-0.508516</td>\n",
       "      <td>0.290801</td>\n",
       "      <td>-0.214543</td>\n",
       "      <td>...</td>\n",
       "      <td>-0.293038</td>\n",
       "      <td>-0.258978</td>\n",
       "      <td>0.137079</td>\n",
       "      <td>-0.293672</td>\n",
       "      <td>-0.129454</td>\n",
       "      <td>0.213571</td>\n",
       "      <td>0.347450</td>\n",
       "      <td>-0.274081</td>\n",
       "      <td>-0.274353</td>\n",
       "      <td>-0.299367</td>\n",
       "    </tr>\n",
       "    <tr>\n",
       "      <th>...</th>\n",
       "      <td>...</td>\n",
       "      <td>...</td>\n",
       "      <td>...</td>\n",
       "      <td>...</td>\n",
       "      <td>...</td>\n",
       "      <td>...</td>\n",
       "      <td>...</td>\n",
       "      <td>...</td>\n",
       "      <td>...</td>\n",
       "      <td>...</td>\n",
       "      <td>...</td>\n",
       "      <td>...</td>\n",
       "      <td>...</td>\n",
       "      <td>...</td>\n",
       "      <td>...</td>\n",
       "      <td>...</td>\n",
       "      <td>...</td>\n",
       "      <td>...</td>\n",
       "      <td>...</td>\n",
       "      <td>...</td>\n",
       "      <td>...</td>\n",
       "    </tr>\n",
       "    <tr>\n",
       "      <th>11431</th>\n",
       "      <td>1.436435</td>\n",
       "      <td>2.034629</td>\n",
       "      <td>-0.110084</td>\n",
       "      <td>-0.118079</td>\n",
       "      <td>0.770749</td>\n",
       "      <td>0.515963</td>\n",
       "      <td>-0.298379</td>\n",
       "      <td>0.941044</td>\n",
       "      <td>-0.345420</td>\n",
       "      <td>-0.179089</td>\n",
       "      <td>...</td>\n",
       "      <td>0.037913</td>\n",
       "      <td>0.305890</td>\n",
       "      <td>-0.381551</td>\n",
       "      <td>0.591475</td>\n",
       "      <td>0.195190</td>\n",
       "      <td>-0.324202</td>\n",
       "      <td>0.088541</td>\n",
       "      <td>2.264096</td>\n",
       "      <td>-0.279252</td>\n",
       "      <td>-0.317476</td>\n",
       "    </tr>\n",
       "    <tr>\n",
       "      <th>11432</th>\n",
       "      <td>1.256410</td>\n",
       "      <td>1.516462</td>\n",
       "      <td>6.572957</td>\n",
       "      <td>-0.719056</td>\n",
       "      <td>-0.371734</td>\n",
       "      <td>4.279061</td>\n",
       "      <td>-0.298381</td>\n",
       "      <td>-0.293700</td>\n",
       "      <td>1.352434</td>\n",
       "      <td>-0.213418</td>\n",
       "      <td>...</td>\n",
       "      <td>3.183404</td>\n",
       "      <td>8.288656</td>\n",
       "      <td>0.271697</td>\n",
       "      <td>0.782883</td>\n",
       "      <td>0.296712</td>\n",
       "      <td>-0.342937</td>\n",
       "      <td>-0.098434</td>\n",
       "      <td>0.176402</td>\n",
       "      <td>-0.134688</td>\n",
       "      <td>-0.343947</td>\n",
       "    </tr>\n",
       "    <tr>\n",
       "      <th>11433</th>\n",
       "      <td>-0.187023</td>\n",
       "      <td>-0.507361</td>\n",
       "      <td>-0.142247</td>\n",
       "      <td>-0.389903</td>\n",
       "      <td>-0.037496</td>\n",
       "      <td>-0.172706</td>\n",
       "      <td>-0.298380</td>\n",
       "      <td>-0.534680</td>\n",
       "      <td>0.162450</td>\n",
       "      <td>-0.200429</td>\n",
       "      <td>...</td>\n",
       "      <td>-0.369160</td>\n",
       "      <td>-0.044679</td>\n",
       "      <td>-0.390402</td>\n",
       "      <td>-0.249210</td>\n",
       "      <td>-0.197178</td>\n",
       "      <td>-0.323037</td>\n",
       "      <td>-0.501625</td>\n",
       "      <td>-0.311546</td>\n",
       "      <td>-0.243426</td>\n",
       "      <td>-0.392906</td>\n",
       "    </tr>\n",
       "    <tr>\n",
       "      <th>11434</th>\n",
       "      <td>-0.182650</td>\n",
       "      <td>-0.332720</td>\n",
       "      <td>-0.180204</td>\n",
       "      <td>0.637317</td>\n",
       "      <td>-0.387532</td>\n",
       "      <td>1.854642</td>\n",
       "      <td>-0.298372</td>\n",
       "      <td>-0.186441</td>\n",
       "      <td>0.040595</td>\n",
       "      <td>-0.143796</td>\n",
       "      <td>...</td>\n",
       "      <td>0.189565</td>\n",
       "      <td>0.659720</td>\n",
       "      <td>-0.184623</td>\n",
       "      <td>0.929336</td>\n",
       "      <td>-0.028026</td>\n",
       "      <td>0.036826</td>\n",
       "      <td>-0.104785</td>\n",
       "      <td>-0.265703</td>\n",
       "      <td>0.182184</td>\n",
       "      <td>-0.188974</td>\n",
       "    </tr>\n",
       "    <tr>\n",
       "      <th>11435</th>\n",
       "      <td>-0.187976</td>\n",
       "      <td>-0.592141</td>\n",
       "      <td>-0.237907</td>\n",
       "      <td>1.557549</td>\n",
       "      <td>-0.434898</td>\n",
       "      <td>-0.209634</td>\n",
       "      <td>0.723564</td>\n",
       "      <td>-0.016692</td>\n",
       "      <td>1.163046</td>\n",
       "      <td>-0.157042</td>\n",
       "      <td>...</td>\n",
       "      <td>-0.355995</td>\n",
       "      <td>-0.274187</td>\n",
       "      <td>-0.384935</td>\n",
       "      <td>-0.183330</td>\n",
       "      <td>0.020872</td>\n",
       "      <td>0.407123</td>\n",
       "      <td>-0.312758</td>\n",
       "      <td>-0.311169</td>\n",
       "      <td>-0.274502</td>\n",
       "      <td>-0.200527</td>\n",
       "    </tr>\n",
       "  </tbody>\n",
       "</table>\n",
       "<p>11436 rows × 1380 columns</p>\n",
       "</div>"
      ],
      "text/plain": [
       "       BroadDnd41CtcfUniPk151-ran  BroadDnd41Ezh239875UniPk151-ran  \\\n",
       "0                       -0.183754                         3.424810   \n",
       "1                        0.064347                        -0.568338   \n",
       "2                       -0.187900                         0.022428   \n",
       "3                       -0.188072                        -0.579203   \n",
       "4                       -0.188218                         1.562255   \n",
       "...                           ...                              ...   \n",
       "11431                    1.436435                         2.034629   \n",
       "11432                    1.256410                         1.516462   \n",
       "11433                   -0.187023                        -0.507361   \n",
       "11434                   -0.182650                        -0.332720   \n",
       "11435                   -0.187976                        -0.592141   \n",
       "\n",
       "       BroadGm12878CtcfUniPk151-ran  BroadGm12878Ezh239875UniPk151-ran  \\\n",
       "0                          2.694036                           2.412509   \n",
       "1                         -0.206848                          -0.833275   \n",
       "2                         -0.236223                          -0.094407   \n",
       "3                         -0.207058                          -0.549511   \n",
       "4                         -0.240059                          -0.354813   \n",
       "...                             ...                                ...   \n",
       "11431                     -0.110084                          -0.118079   \n",
       "11432                      6.572957                          -0.719056   \n",
       "11433                     -0.142247                          -0.389903   \n",
       "11434                     -0.180204                           0.637317   \n",
       "11435                     -0.237907                           1.557549   \n",
       "\n",
       "       BroadH1hescChd1a301218aUniPk151-ran  BroadH1hescCtcfUniPk151-ran  \\\n",
       "0                                -0.411801                    -0.204063   \n",
       "1                                -0.448292                     0.222933   \n",
       "2                                -0.447457                    -0.208221   \n",
       "3                                -0.448281                    -0.209791   \n",
       "4                                 0.046917                    -0.209931   \n",
       "...                                    ...                          ...   \n",
       "11431                             0.770749                     0.515963   \n",
       "11432                            -0.371734                     4.279061   \n",
       "11433                            -0.037496                    -0.172706   \n",
       "11434                            -0.387532                     1.854642   \n",
       "11435                            -0.434898                    -0.209634   \n",
       "\n",
       "       BroadH1hescEzh239875UniPk151-ran  \\\n",
       "0                              0.261441   \n",
       "1                             -0.298382   \n",
       "2                             -0.079009   \n",
       "3                             -0.295054   \n",
       "4                              0.623560   \n",
       "...                                 ...   \n",
       "11431                         -0.298379   \n",
       "11432                         -0.298381   \n",
       "11433                         -0.298380   \n",
       "11434                         -0.298372   \n",
       "11435                          0.723564   \n",
       "\n",
       "       BroadH1hescJarid1aab26049UniPk151-ran  \\\n",
       "0                                  -0.444878   \n",
       "1                                  -0.538764   \n",
       "2                                  -0.438841   \n",
       "3                                  -0.533341   \n",
       "4                                  -0.508516   \n",
       "...                                      ...   \n",
       "11431                               0.941044   \n",
       "11432                              -0.293700   \n",
       "11433                              -0.534680   \n",
       "11434                              -0.186441   \n",
       "11435                              -0.016692   \n",
       "\n",
       "       BroadH1hescRbbp5a300109aUniPk151-ran  BroadHelas3CtcfUniPk151-ran  ...  \\\n",
       "0                                  2.368303                    -0.197179  ...   \n",
       "1                                 -0.389391                    -0.176765  ...   \n",
       "2                                 -0.381472                    -0.184461  ...   \n",
       "3                                 -0.387631                    -0.214296  ...   \n",
       "4                                  0.290801                    -0.214543  ...   \n",
       "...                                     ...                          ...  ...   \n",
       "11431                             -0.345420                    -0.179089  ...   \n",
       "11432                              1.352434                    -0.213418  ...   \n",
       "11433                              0.162450                    -0.200429  ...   \n",
       "11434                              0.040595                    -0.143796  ...   \n",
       "11435                              1.163046                    -0.157042  ...   \n",
       "\n",
       "       UwMcf7CtcfUniPk151-ran.1  UwNb4CtcfUniPk151-ran.1  \\\n",
       "0                      3.500897                 2.239102   \n",
       "1                      2.066476                 0.157434   \n",
       "2                      0.104195                 0.000767   \n",
       "3                      0.538721                -0.273758   \n",
       "4                     -0.293038                -0.258978   \n",
       "...                         ...                      ...   \n",
       "11431                  0.037913                 0.305890   \n",
       "11432                  3.183404                 8.288656   \n",
       "11433                 -0.369160                -0.044679   \n",
       "11434                  0.189565                 0.659720   \n",
       "11435                 -0.355995                -0.274187   \n",
       "\n",
       "       UwNhdfneoCtcfUniPk151-ran.1  UwNhekCtcfUniPk151-ran.1  \\\n",
       "0                         0.042683                 -0.080850   \n",
       "1                        -0.409339                 -0.116471   \n",
       "2                        -0.097367                  0.338750   \n",
       "3                        -0.256114                  0.820249   \n",
       "4                         0.137079                 -0.293672   \n",
       "...                            ...                       ...   \n",
       "11431                    -0.381551                  0.591475   \n",
       "11432                     0.271697                  0.782883   \n",
       "11433                    -0.390402                 -0.249210   \n",
       "11434                    -0.184623                  0.929336   \n",
       "11435                    -0.384935                 -0.183330   \n",
       "\n",
       "       UwNhlfCtcfUniPk151-ran.1  UwRptecCtcfUniPk151-ran.1  \\\n",
       "0                      0.187946                   3.808217   \n",
       "1                     -0.302672                  -0.204659   \n",
       "2                     -0.327467                  -0.371372   \n",
       "3                     -0.345126                  -0.168301   \n",
       "4                     -0.129454                   0.213571   \n",
       "...                         ...                        ...   \n",
       "11431                  0.195190                  -0.324202   \n",
       "11432                  0.296712                  -0.342937   \n",
       "11433                 -0.197178                  -0.323037   \n",
       "11434                 -0.028026                   0.036826   \n",
       "11435                  0.020872                   0.407123   \n",
       "\n",
       "       UwSaecCtcfUniPk151-ran.1  UwSknshraCtcfUniPk151-ran.1  \\\n",
       "0                      0.558647                    -0.270571   \n",
       "1                     -0.364293                    -0.256381   \n",
       "2                     -0.180069                     0.036038   \n",
       "3                     -0.257199                     0.351504   \n",
       "4                      0.347450                    -0.274081   \n",
       "...                         ...                          ...   \n",
       "11431                  0.088541                     2.264096   \n",
       "11432                 -0.098434                     0.176402   \n",
       "11433                 -0.501625                    -0.311546   \n",
       "11434                 -0.104785                    -0.265703   \n",
       "11435                 -0.312758                    -0.311169   \n",
       "\n",
       "       UwWerirb1CtcfUniPk151-ran.1  UwWi38CtcfUniPk151-ran.1  \n",
       "0                         1.675248                  0.313500  \n",
       "1                        -0.025908                 -0.045311  \n",
       "2                        -0.223213                  0.556211  \n",
       "3                        -0.254524                  0.284484  \n",
       "4                        -0.274353                 -0.299367  \n",
       "...                            ...                       ...  \n",
       "11431                    -0.279252                 -0.317476  \n",
       "11432                    -0.134688                 -0.343947  \n",
       "11433                    -0.243426                 -0.392906  \n",
       "11434                     0.182184                 -0.188974  \n",
       "11435                    -0.274502                 -0.200527  \n",
       "\n",
       "[11436 rows x 1380 columns]"
      ]
     },
     "execution_count": 6,
     "metadata": {},
     "output_type": "execute_result"
    }
   ],
   "source": [
    "X"
   ]
  },
  {
   "cell_type": "code",
   "execution_count": 7,
   "id": "49769645-78b1-41b1-85f8-6e5a018766ec",
   "metadata": {},
   "outputs": [],
   "source": [
    "col_lab = list(range(0,1380))\n",
    "X = X.set_axis(col_lab, axis=\"columns\")"
   ]
  },
  {
   "cell_type": "code",
   "execution_count": 8,
   "id": "ee8ecca4-4ab1-4944-8115-ae231169b821",
   "metadata": {},
   "outputs": [
    {
     "data": {
      "text/html": [
       "<div>\n",
       "<style scoped>\n",
       "    .dataframe tbody tr th:only-of-type {\n",
       "        vertical-align: middle;\n",
       "    }\n",
       "\n",
       "    .dataframe tbody tr th {\n",
       "        vertical-align: top;\n",
       "    }\n",
       "\n",
       "    .dataframe thead th {\n",
       "        text-align: right;\n",
       "    }\n",
       "</style>\n",
       "<table border=\"1\" class=\"dataframe\">\n",
       "  <thead>\n",
       "    <tr style=\"text-align: right;\">\n",
       "      <th></th>\n",
       "      <th>0</th>\n",
       "      <th>1</th>\n",
       "      <th>2</th>\n",
       "      <th>3</th>\n",
       "      <th>4</th>\n",
       "      <th>5</th>\n",
       "      <th>6</th>\n",
       "      <th>7</th>\n",
       "      <th>8</th>\n",
       "      <th>9</th>\n",
       "      <th>...</th>\n",
       "      <th>1370</th>\n",
       "      <th>1371</th>\n",
       "      <th>1372</th>\n",
       "      <th>1373</th>\n",
       "      <th>1374</th>\n",
       "      <th>1375</th>\n",
       "      <th>1376</th>\n",
       "      <th>1377</th>\n",
       "      <th>1378</th>\n",
       "      <th>1379</th>\n",
       "    </tr>\n",
       "  </thead>\n",
       "  <tbody>\n",
       "    <tr>\n",
       "      <th>0</th>\n",
       "      <td>-0.183754</td>\n",
       "      <td>3.424810</td>\n",
       "      <td>2.694036</td>\n",
       "      <td>2.412509</td>\n",
       "      <td>-0.411801</td>\n",
       "      <td>-0.204063</td>\n",
       "      <td>0.261441</td>\n",
       "      <td>-0.444878</td>\n",
       "      <td>2.368303</td>\n",
       "      <td>-0.197179</td>\n",
       "      <td>...</td>\n",
       "      <td>3.500897</td>\n",
       "      <td>2.239102</td>\n",
       "      <td>0.042683</td>\n",
       "      <td>-0.080850</td>\n",
       "      <td>0.187946</td>\n",
       "      <td>3.808217</td>\n",
       "      <td>0.558647</td>\n",
       "      <td>-0.270571</td>\n",
       "      <td>1.675248</td>\n",
       "      <td>0.313500</td>\n",
       "    </tr>\n",
       "    <tr>\n",
       "      <th>1</th>\n",
       "      <td>0.064347</td>\n",
       "      <td>-0.568338</td>\n",
       "      <td>-0.206848</td>\n",
       "      <td>-0.833275</td>\n",
       "      <td>-0.448292</td>\n",
       "      <td>0.222933</td>\n",
       "      <td>-0.298382</td>\n",
       "      <td>-0.538764</td>\n",
       "      <td>-0.389391</td>\n",
       "      <td>-0.176765</td>\n",
       "      <td>...</td>\n",
       "      <td>2.066476</td>\n",
       "      <td>0.157434</td>\n",
       "      <td>-0.409339</td>\n",
       "      <td>-0.116471</td>\n",
       "      <td>-0.302672</td>\n",
       "      <td>-0.204659</td>\n",
       "      <td>-0.364293</td>\n",
       "      <td>-0.256381</td>\n",
       "      <td>-0.025908</td>\n",
       "      <td>-0.045311</td>\n",
       "    </tr>\n",
       "    <tr>\n",
       "      <th>2</th>\n",
       "      <td>-0.187900</td>\n",
       "      <td>0.022428</td>\n",
       "      <td>-0.236223</td>\n",
       "      <td>-0.094407</td>\n",
       "      <td>-0.447457</td>\n",
       "      <td>-0.208221</td>\n",
       "      <td>-0.079009</td>\n",
       "      <td>-0.438841</td>\n",
       "      <td>-0.381472</td>\n",
       "      <td>-0.184461</td>\n",
       "      <td>...</td>\n",
       "      <td>0.104195</td>\n",
       "      <td>0.000767</td>\n",
       "      <td>-0.097367</td>\n",
       "      <td>0.338750</td>\n",
       "      <td>-0.327467</td>\n",
       "      <td>-0.371372</td>\n",
       "      <td>-0.180069</td>\n",
       "      <td>0.036038</td>\n",
       "      <td>-0.223213</td>\n",
       "      <td>0.556211</td>\n",
       "    </tr>\n",
       "    <tr>\n",
       "      <th>3</th>\n",
       "      <td>-0.188072</td>\n",
       "      <td>-0.579203</td>\n",
       "      <td>-0.207058</td>\n",
       "      <td>-0.549511</td>\n",
       "      <td>-0.448281</td>\n",
       "      <td>-0.209791</td>\n",
       "      <td>-0.295054</td>\n",
       "      <td>-0.533341</td>\n",
       "      <td>-0.387631</td>\n",
       "      <td>-0.214296</td>\n",
       "      <td>...</td>\n",
       "      <td>0.538721</td>\n",
       "      <td>-0.273758</td>\n",
       "      <td>-0.256114</td>\n",
       "      <td>0.820249</td>\n",
       "      <td>-0.345126</td>\n",
       "      <td>-0.168301</td>\n",
       "      <td>-0.257199</td>\n",
       "      <td>0.351504</td>\n",
       "      <td>-0.254524</td>\n",
       "      <td>0.284484</td>\n",
       "    </tr>\n",
       "    <tr>\n",
       "      <th>4</th>\n",
       "      <td>-0.188218</td>\n",
       "      <td>1.562255</td>\n",
       "      <td>-0.240059</td>\n",
       "      <td>-0.354813</td>\n",
       "      <td>0.046917</td>\n",
       "      <td>-0.209931</td>\n",
       "      <td>0.623560</td>\n",
       "      <td>-0.508516</td>\n",
       "      <td>0.290801</td>\n",
       "      <td>-0.214543</td>\n",
       "      <td>...</td>\n",
       "      <td>-0.293038</td>\n",
       "      <td>-0.258978</td>\n",
       "      <td>0.137079</td>\n",
       "      <td>-0.293672</td>\n",
       "      <td>-0.129454</td>\n",
       "      <td>0.213571</td>\n",
       "      <td>0.347450</td>\n",
       "      <td>-0.274081</td>\n",
       "      <td>-0.274353</td>\n",
       "      <td>-0.299367</td>\n",
       "    </tr>\n",
       "    <tr>\n",
       "      <th>...</th>\n",
       "      <td>...</td>\n",
       "      <td>...</td>\n",
       "      <td>...</td>\n",
       "      <td>...</td>\n",
       "      <td>...</td>\n",
       "      <td>...</td>\n",
       "      <td>...</td>\n",
       "      <td>...</td>\n",
       "      <td>...</td>\n",
       "      <td>...</td>\n",
       "      <td>...</td>\n",
       "      <td>...</td>\n",
       "      <td>...</td>\n",
       "      <td>...</td>\n",
       "      <td>...</td>\n",
       "      <td>...</td>\n",
       "      <td>...</td>\n",
       "      <td>...</td>\n",
       "      <td>...</td>\n",
       "      <td>...</td>\n",
       "      <td>...</td>\n",
       "    </tr>\n",
       "    <tr>\n",
       "      <th>11431</th>\n",
       "      <td>1.436435</td>\n",
       "      <td>2.034629</td>\n",
       "      <td>-0.110084</td>\n",
       "      <td>-0.118079</td>\n",
       "      <td>0.770749</td>\n",
       "      <td>0.515963</td>\n",
       "      <td>-0.298379</td>\n",
       "      <td>0.941044</td>\n",
       "      <td>-0.345420</td>\n",
       "      <td>-0.179089</td>\n",
       "      <td>...</td>\n",
       "      <td>0.037913</td>\n",
       "      <td>0.305890</td>\n",
       "      <td>-0.381551</td>\n",
       "      <td>0.591475</td>\n",
       "      <td>0.195190</td>\n",
       "      <td>-0.324202</td>\n",
       "      <td>0.088541</td>\n",
       "      <td>2.264096</td>\n",
       "      <td>-0.279252</td>\n",
       "      <td>-0.317476</td>\n",
       "    </tr>\n",
       "    <tr>\n",
       "      <th>11432</th>\n",
       "      <td>1.256410</td>\n",
       "      <td>1.516462</td>\n",
       "      <td>6.572957</td>\n",
       "      <td>-0.719056</td>\n",
       "      <td>-0.371734</td>\n",
       "      <td>4.279061</td>\n",
       "      <td>-0.298381</td>\n",
       "      <td>-0.293700</td>\n",
       "      <td>1.352434</td>\n",
       "      <td>-0.213418</td>\n",
       "      <td>...</td>\n",
       "      <td>3.183404</td>\n",
       "      <td>8.288656</td>\n",
       "      <td>0.271697</td>\n",
       "      <td>0.782883</td>\n",
       "      <td>0.296712</td>\n",
       "      <td>-0.342937</td>\n",
       "      <td>-0.098434</td>\n",
       "      <td>0.176402</td>\n",
       "      <td>-0.134688</td>\n",
       "      <td>-0.343947</td>\n",
       "    </tr>\n",
       "    <tr>\n",
       "      <th>11433</th>\n",
       "      <td>-0.187023</td>\n",
       "      <td>-0.507361</td>\n",
       "      <td>-0.142247</td>\n",
       "      <td>-0.389903</td>\n",
       "      <td>-0.037496</td>\n",
       "      <td>-0.172706</td>\n",
       "      <td>-0.298380</td>\n",
       "      <td>-0.534680</td>\n",
       "      <td>0.162450</td>\n",
       "      <td>-0.200429</td>\n",
       "      <td>...</td>\n",
       "      <td>-0.369160</td>\n",
       "      <td>-0.044679</td>\n",
       "      <td>-0.390402</td>\n",
       "      <td>-0.249210</td>\n",
       "      <td>-0.197178</td>\n",
       "      <td>-0.323037</td>\n",
       "      <td>-0.501625</td>\n",
       "      <td>-0.311546</td>\n",
       "      <td>-0.243426</td>\n",
       "      <td>-0.392906</td>\n",
       "    </tr>\n",
       "    <tr>\n",
       "      <th>11434</th>\n",
       "      <td>-0.182650</td>\n",
       "      <td>-0.332720</td>\n",
       "      <td>-0.180204</td>\n",
       "      <td>0.637317</td>\n",
       "      <td>-0.387532</td>\n",
       "      <td>1.854642</td>\n",
       "      <td>-0.298372</td>\n",
       "      <td>-0.186441</td>\n",
       "      <td>0.040595</td>\n",
       "      <td>-0.143796</td>\n",
       "      <td>...</td>\n",
       "      <td>0.189565</td>\n",
       "      <td>0.659720</td>\n",
       "      <td>-0.184623</td>\n",
       "      <td>0.929336</td>\n",
       "      <td>-0.028026</td>\n",
       "      <td>0.036826</td>\n",
       "      <td>-0.104785</td>\n",
       "      <td>-0.265703</td>\n",
       "      <td>0.182184</td>\n",
       "      <td>-0.188974</td>\n",
       "    </tr>\n",
       "    <tr>\n",
       "      <th>11435</th>\n",
       "      <td>-0.187976</td>\n",
       "      <td>-0.592141</td>\n",
       "      <td>-0.237907</td>\n",
       "      <td>1.557549</td>\n",
       "      <td>-0.434898</td>\n",
       "      <td>-0.209634</td>\n",
       "      <td>0.723564</td>\n",
       "      <td>-0.016692</td>\n",
       "      <td>1.163046</td>\n",
       "      <td>-0.157042</td>\n",
       "      <td>...</td>\n",
       "      <td>-0.355995</td>\n",
       "      <td>-0.274187</td>\n",
       "      <td>-0.384935</td>\n",
       "      <td>-0.183330</td>\n",
       "      <td>0.020872</td>\n",
       "      <td>0.407123</td>\n",
       "      <td>-0.312758</td>\n",
       "      <td>-0.311169</td>\n",
       "      <td>-0.274502</td>\n",
       "      <td>-0.200527</td>\n",
       "    </tr>\n",
       "  </tbody>\n",
       "</table>\n",
       "<p>11436 rows × 1380 columns</p>\n",
       "</div>"
      ],
      "text/plain": [
       "           0         1         2         3         4         5         6     \\\n",
       "0     -0.183754  3.424810  2.694036  2.412509 -0.411801 -0.204063  0.261441   \n",
       "1      0.064347 -0.568338 -0.206848 -0.833275 -0.448292  0.222933 -0.298382   \n",
       "2     -0.187900  0.022428 -0.236223 -0.094407 -0.447457 -0.208221 -0.079009   \n",
       "3     -0.188072 -0.579203 -0.207058 -0.549511 -0.448281 -0.209791 -0.295054   \n",
       "4     -0.188218  1.562255 -0.240059 -0.354813  0.046917 -0.209931  0.623560   \n",
       "...         ...       ...       ...       ...       ...       ...       ...   \n",
       "11431  1.436435  2.034629 -0.110084 -0.118079  0.770749  0.515963 -0.298379   \n",
       "11432  1.256410  1.516462  6.572957 -0.719056 -0.371734  4.279061 -0.298381   \n",
       "11433 -0.187023 -0.507361 -0.142247 -0.389903 -0.037496 -0.172706 -0.298380   \n",
       "11434 -0.182650 -0.332720 -0.180204  0.637317 -0.387532  1.854642 -0.298372   \n",
       "11435 -0.187976 -0.592141 -0.237907  1.557549 -0.434898 -0.209634  0.723564   \n",
       "\n",
       "           7         8         9     ...      1370      1371      1372  \\\n",
       "0     -0.444878  2.368303 -0.197179  ...  3.500897  2.239102  0.042683   \n",
       "1     -0.538764 -0.389391 -0.176765  ...  2.066476  0.157434 -0.409339   \n",
       "2     -0.438841 -0.381472 -0.184461  ...  0.104195  0.000767 -0.097367   \n",
       "3     -0.533341 -0.387631 -0.214296  ...  0.538721 -0.273758 -0.256114   \n",
       "4     -0.508516  0.290801 -0.214543  ... -0.293038 -0.258978  0.137079   \n",
       "...         ...       ...       ...  ...       ...       ...       ...   \n",
       "11431  0.941044 -0.345420 -0.179089  ...  0.037913  0.305890 -0.381551   \n",
       "11432 -0.293700  1.352434 -0.213418  ...  3.183404  8.288656  0.271697   \n",
       "11433 -0.534680  0.162450 -0.200429  ... -0.369160 -0.044679 -0.390402   \n",
       "11434 -0.186441  0.040595 -0.143796  ...  0.189565  0.659720 -0.184623   \n",
       "11435 -0.016692  1.163046 -0.157042  ... -0.355995 -0.274187 -0.384935   \n",
       "\n",
       "           1373      1374      1375      1376      1377      1378      1379  \n",
       "0     -0.080850  0.187946  3.808217  0.558647 -0.270571  1.675248  0.313500  \n",
       "1     -0.116471 -0.302672 -0.204659 -0.364293 -0.256381 -0.025908 -0.045311  \n",
       "2      0.338750 -0.327467 -0.371372 -0.180069  0.036038 -0.223213  0.556211  \n",
       "3      0.820249 -0.345126 -0.168301 -0.257199  0.351504 -0.254524  0.284484  \n",
       "4     -0.293672 -0.129454  0.213571  0.347450 -0.274081 -0.274353 -0.299367  \n",
       "...         ...       ...       ...       ...       ...       ...       ...  \n",
       "11431  0.591475  0.195190 -0.324202  0.088541  2.264096 -0.279252 -0.317476  \n",
       "11432  0.782883  0.296712 -0.342937 -0.098434  0.176402 -0.134688 -0.343947  \n",
       "11433 -0.249210 -0.197178 -0.323037 -0.501625 -0.311546 -0.243426 -0.392906  \n",
       "11434  0.929336 -0.028026  0.036826 -0.104785 -0.265703  0.182184 -0.188974  \n",
       "11435 -0.183330  0.020872  0.407123 -0.312758 -0.311169 -0.274502 -0.200527  \n",
       "\n",
       "[11436 rows x 1380 columns]"
      ]
     },
     "execution_count": 8,
     "metadata": {},
     "output_type": "execute_result"
    }
   ],
   "source": [
    "X"
   ]
  },
  {
   "cell_type": "code",
   "execution_count": 9,
   "id": "c7e8516a-5939-4a37-92a5-936dd4a8570d",
   "metadata": {},
   "outputs": [],
   "source": [
    "import pandas as pd\n",
    "\n",
    "snp_prvcs = pd.read_csv(path_prefix + \"DNABERT_2/Datasets/PRVCS/PAT_dataset_XY-named.csv\", sep=',')\n"
   ]
  },
  {
   "cell_type": "code",
   "execution_count": 10,
   "id": "6e93133f-2216-47d0-bac9-2839adb720c5",
   "metadata": {},
   "outputs": [],
   "source": [
    "y = snp_prvcs['label'][0:11436]"
   ]
  },
  {
   "cell_type": "code",
   "execution_count": 11,
   "id": "ba09a3ff-1382-4bdf-b7ae-63c396932e0d",
   "metadata": {},
   "outputs": [
    {
     "data": {
      "text/plain": [
       "0        0\n",
       "1        0\n",
       "2        0\n",
       "3        0\n",
       "4        0\n",
       "        ..\n",
       "11431    1\n",
       "11432    1\n",
       "11433    1\n",
       "11434    1\n",
       "11435    1\n",
       "Name: label, Length: 11436, dtype: int64"
      ]
     },
     "execution_count": 11,
     "metadata": {},
     "output_type": "execute_result"
    }
   ],
   "source": [
    "y"
   ]
  },
  {
   "cell_type": "code",
   "execution_count": 12,
   "id": "a6f2234d-1bd1-41af-a085-4247dc2c3455",
   "metadata": {},
   "outputs": [
    {
     "data": {
      "text/plain": [
       "860    0\n",
       "861    0\n",
       "862    0\n",
       "863    0\n",
       "864    0\n",
       "865    0\n",
       "866    0\n",
       "867    0\n",
       "868    0\n",
       "869    0\n",
       "Name: label, dtype: int64"
      ]
     },
     "execution_count": 12,
     "metadata": {},
     "output_type": "execute_result"
    }
   ],
   "source": [
    "y[860:870]"
   ]
  },
  {
   "cell_type": "code",
   "execution_count": 13,
   "id": "3c1516c0-c145-4693-9ce6-bcaf3baed2be",
   "metadata": {},
   "outputs": [],
   "source": [
    "from sklearn.model_selection import train_test_split\n",
    "test_size = 0.3\n",
    "seed = 7\n",
    "X_train, X_test, y_train, y_test = train_test_split(X, y, test_size=test_size, random_state=seed)"
   ]
  },
  {
   "cell_type": "markdown",
   "id": "b3187353-7f4c-49bf-aa2b-52e40483a288",
   "metadata": {},
   "source": [
    "Try logistic regression"
   ]
  },
  {
   "cell_type": "code",
   "execution_count": 14,
   "id": "bd8759cf-f944-4e59-85e5-3b2d8f90d3b7",
   "metadata": {},
   "outputs": [],
   "source": [
    "from sklearn.linear_model import LogisticRegression\n",
    "\n",
    "lr_model = LogisticRegression(solver='lbfgs', max_iter=1000)\n",
    "lr_train_model = lr_model.fit(X_train,y_train)\n",
    "pred_lr = lr_model.predict(X_test)"
   ]
  },
  {
   "cell_type": "code",
   "execution_count": 15,
   "id": "5ba5585c-0fbf-47e1-ad2f-52f951f014de",
   "metadata": {},
   "outputs": [
    {
     "name": "stdout",
     "output_type": "stream",
     "text": [
      "Accuracy_model_lr: 0.8852\n",
      "F1_model_lr: 0.3498\n",
      "MCC_model_lr: 0.2916\n",
      "ROC_AUC_model_lr: 0.6654\n"
     ]
    }
   ],
   "source": [
    "from sklearn.metrics import accuracy_score, f1_score, matthews_corrcoef, roc_auc_score\n",
    "\n",
    "print(\"Accuracy_model_lr: %.4f\" % (accuracy_score(y_test, pred_lr))) \n",
    "print(\"F1_model_lr: %.4f\" % (f1_score(y_test, pred_lr)))\n",
    "print(\"MCC_model_lr: %.4f\" % (matthews_corrcoef(y_test, pred_lr)))\n",
    "print(\"ROC_AUC_model_lr: %.4f\" % (roc_auc_score(y_test, pred_lr))) # don't know about call: y_score vs. pred"
   ]
  },
  {
   "cell_type": "code",
   "execution_count": null,
   "id": "a47586ae-1fcd-4a94-9304-cd0a58ac8be5",
   "metadata": {},
   "outputs": [],
   "source": [
    "import matplotlib.pyplot as plt\n",
    "from sklearn import metrics\n",
    "from sklearn.metrics import roc_curve\n",
    "\n",
    "fpr, tpr, _ = roc_curve(y_test, pred_lr)\n",
    "roc_auc = roc_auc_score(y_test, pred_lr)\n",
    "display = metrics.RocCurveDisplay(fpr=fpr, tpr=tpr, roc_auc=roc_auc)\n",
    "display.plot(name=\"ROC Curve\")"
   ]
  },
  {
   "cell_type": "code",
   "execution_count": null,
   "id": "06dff1a4-58b8-4209-b0f1-e0dcc67168c6",
   "metadata": {},
   "outputs": [],
   "source": [
    "from sklearn.metrics import confusion_matrix\n",
    "\n",
    "#confusion_matrix(y_val, pred1)\n",
    "tn, fp, fn, tp = confusion_matrix(y_test, pred_lr).ravel()\n",
    "print(tp, fp, fn, tn)"
   ]
  },
  {
   "cell_type": "code",
   "execution_count": null,
   "id": "399d31e4-1ddd-4e76-bc6f-cd4b84a9490d",
   "metadata": {},
   "outputs": [],
   "source": [
    "# Save logistic regression model\n",
    "\n",
    "from joblib import dump, load\n",
    "\n",
    "best_estimator = lr_train_model\n",
    "dump(best_estimator, path_prefix + \"DNABERT_2/Output_Models/\" + \"model_xpg_boost_PRVCS_PAT_lr.joblib\")"
   ]
  },
  {
   "cell_type": "code",
   "execution_count": 16,
   "id": "8f81419a-43cc-4af2-9e3e-a9e2825ab8c3",
   "metadata": {},
   "outputs": [
    {
     "name": "stdout",
     "output_type": "stream",
     "text": [
      "Accuracy_model1: 0.9423\n",
      "Accuracy_model2: 0.9435\n",
      "F1_model1: 0.4107\n",
      "F1_model2: 0.4192\n",
      "MCC_model1: 0.4759\n",
      "MCC_model2: 0.4910\n",
      "ROC_AUC_model1: 0.6312\n",
      "ROC_AUC_model2: 0.6336\n"
     ]
    }
   ],
   "source": [
    "from sklearn.metrics import accuracy_score, f1_score, matthews_corrcoef, roc_auc_score\n",
    "\n",
    "model1 = XGBClassifier() \n",
    "model2 = XGBClassifier(n_estimators=100, max_depth=8, learning_rate=0.1, subsample=0.5) \n",
    "train_model1 = model1.fit(X_train, y_train) \n",
    "train_model2 = model2.fit(X_train, y_train) \n",
    "pred1 = train_model1.predict(X_test) \n",
    "pred2 = train_model2.predict(X_test) \n",
    "print(\"Accuracy_model1: %.4f\" % (accuracy_score(y_test, pred1))) \n",
    "print(\"Accuracy_model2: %.4f\" % (accuracy_score(y_test, pred2))) \n",
    "print(\"F1_model1: %.4f\" % (f1_score(y_test, pred1)))\n",
    "print(\"F1_model2: %.4f\" % (f1_score(y_test, pred2)))\n",
    "print(\"MCC_model1: %.4f\" % (matthews_corrcoef(y_test, pred1)))\n",
    "print(\"MCC_model2: %.4f\" % (matthews_corrcoef(y_test, pred2)))\n",
    "print(\"ROC_AUC_model1: %.4f\" % (roc_auc_score(y_test, pred1))) # don't know about call: y_score vs. pred\n",
    "print(\"ROC_AUC_model2: %.4f\" % (roc_auc_score(y_test, pred2))) # don't know about call: y_score vs. pred\n"
   ]
  },
  {
   "cell_type": "code",
   "execution_count": null,
   "id": "37621656-aa62-4fa8-b5b9-08699df3af50",
   "metadata": {},
   "outputs": [],
   "source": [
    "from sklearn.metrics import confusion_matrix\n",
    "\n",
    "tn, fp, fn, tp = confusion_matrix(y_test, pred1).ravel()\n",
    "print(tp, fp, fn, tn)"
   ]
  },
  {
   "cell_type": "code",
   "execution_count": null,
   "id": "8bd56465-c3f0-499d-b6d1-017f5808ce2c",
   "metadata": {},
   "outputs": [],
   "source": [
    "import matplotlib.pyplot as plt\n",
    "from sklearn import metrics\n",
    "from sklearn.metrics import roc_curve\n",
    "\n",
    "fpr, tpr, _ = roc_curve(y_test, pred1)\n",
    "roc_auc = roc_auc_score(y_test, pred1)\n",
    "display = metrics.RocCurveDisplay(fpr=fpr, tpr=tpr, roc_auc=roc_auc)\n",
    "display.plot(name=\"ROC Curve\")"
   ]
  },
  {
   "cell_type": "code",
   "execution_count": null,
   "id": "5079a458-391e-4aab-bc5a-b73b449a4ea1",
   "metadata": {},
   "outputs": [],
   "source": [
    "tn, fp, fn, tp = confusion_matrix(y_test, pred2).ravel()\n",
    "print(tp, fp, fn, tn)"
   ]
  },
  {
   "cell_type": "code",
   "execution_count": null,
   "id": "660a2ed5-9616-4fb6-889a-e162a4a55eb2",
   "metadata": {},
   "outputs": [],
   "source": [
    "import matplotlib.pyplot as plt\n",
    "from sklearn import metrics\n",
    "from sklearn.metrics import roc_curve\n",
    "\n",
    "fpr, tpr, _ = roc_curve(y_test, pred2)\n",
    "roc_auc = roc_auc_score(y_test, pred2)\n",
    "display = metrics.RocCurveDisplay(fpr=fpr, tpr=tpr, roc_auc=roc_auc)\n",
    "display.plot(name=\"ROC Curve\")"
   ]
  },
  {
   "cell_type": "code",
   "execution_count": null,
   "id": "af683b67-0945-4dbc-bc99-9aab56b58cf5",
   "metadata": {},
   "outputs": [],
   "source": [
    "model3 = XGBClassifier(\n",
    " learning_rate =0.1,\n",
    " n_estimators=1000,\n",
    " max_depth=5,\n",
    " min_child_weight=1,\n",
    " gamma=0,\n",
    " subsample=0.8,\n",
    " colsample_bytree=0.8,\n",
    " objective= 'binary:logistic',\n",
    " nthread=4,\n",
    " scale_pos_weight=1,\n",
    " seed=7)\n",
    "\n",
    "train_model3 = model3.fit(X_train, y_train)\n",
    "pred3 = train_model3.predict(X_test)\n",
    "print(\"Accuracy_model3: %.4f\" % (accuracy_score(y_test, pred3)))\n",
    "print(\"F1_model3: %.4f\" % (f1_score(y_test, pred3)))\n",
    "print(\"MCC_model3: %.4f\" % (matthews_corrcoef(y_test, pred3)))\n",
    "print(\"ROC_AUC_model3: %.4f\" % (roc_auc_score(y_test, pred3))) # don't know about call: y_score vs. pred"
   ]
  },
  {
   "cell_type": "code",
   "execution_count": null,
   "id": "43468b2a-e8c5-4d30-b996-d98e4ecb2d43",
   "metadata": {},
   "outputs": [],
   "source": [
    "tn, fp, fn, tp = confusion_matrix(y_test, pred3).ravel()\n",
    "print(tp, fp, fn, tn)"
   ]
  },
  {
   "cell_type": "code",
   "execution_count": null,
   "id": "bfa48d89-2b7c-42fe-ac9b-d1b7a7002c9a",
   "metadata": {},
   "outputs": [],
   "source": [
    "import matplotlib.pyplot as plt\n",
    "from sklearn import metrics\n",
    "from sklearn.metrics import roc_curve\n",
    "\n",
    "fpr, tpr, _ = roc_curve(y_test, pred3)\n",
    "roc_auc = roc_auc_score(y_test, pred3)\n",
    "display = metrics.RocCurveDisplay(fpr=fpr, tpr=tpr, roc_auc=roc_auc)\n",
    "display.plot(name=\"ROC Curve\")"
   ]
  },
  {
   "cell_type": "code",
   "execution_count": 24,
   "id": "3d5c50f3-cce3-4a0d-9560-a35d49740611",
   "metadata": {},
   "outputs": [
    {
     "name": "stdout",
     "output_type": "stream",
     "text": [
      "Fitting 5 folds for each of 1 candidates, totalling 5 fits\n",
      "Accuracy_model4: 0.9437\n",
      "F1_model4: 0.4239\n",
      "MCC_model4: 0.4947\n",
      "ROC_AUC_model4: 0.6355\n"
     ]
    }
   ],
   "source": [
    "from sklearn.model_selection import GridSearchCV\n",
    "\n",
    "param_test = {\n",
    " 'max_depth':[10],\n",
    " 'min_child_weight':[1],\n",
    " 'learning_rate':[0.1],\n",
    " 'n_estimators':[1000],\n",
    " 'objective':['binary:logistic']\n",
    " #'objective':['binary:logistic','binary:hinge','binary:logitraw']\n",
    "}\n",
    "    \n",
    "gsearch = GridSearchCV(estimator=XGBClassifier(gamma=0, \n",
    "                                               subsample=0.8, \n",
    "                                               colsample_bytree=0.8, \n",
    "                                               nthread=4, \n",
    "                                               scale_pos_weight=1, \n",
    "                                               seed=7), \n",
    "                       param_grid=param_test, \n",
    "                       scoring='roc_auc',\n",
    "                       n_jobs=4, \n",
    "                       verbose=4,\n",
    "                       return_train_score=True,\n",
    "                       cv=5,\n",
    "                       refit=True)\n",
    "\n",
    "train_model4 = gsearch.fit(X_train, y_train)\n",
    "pred4 = train_model4.predict(X_test)\n",
    "print(\"Accuracy_model4: %.4f\" % (accuracy_score(y_test, pred4)))  \n",
    "print(\"F1_model4: %.4f\" % (f1_score(y_test, pred4)))  \n",
    "print(\"MCC_model4: %.4f\" % (matthews_corrcoef(y_test, pred4)))  \n",
    "print(\"ROC_AUC_model4: %.4f\" % (roc_auc_score(y_test, pred4)))  "
   ]
  },
  {
   "cell_type": "code",
   "execution_count": null,
   "id": "5f838d82-1ec3-4ad6-a2ac-25cffd931ed7",
   "metadata": {},
   "outputs": [],
   "source": [
    "tn, fp, fn, tp = confusion_matrix(y_test, pred4).ravel()\n",
    "print(tp, fp, fn, tn)"
   ]
  },
  {
   "cell_type": "code",
   "execution_count": null,
   "id": "6e878444-14d0-4f45-af76-1f4b20bcd505",
   "metadata": {},
   "outputs": [],
   "source": [
    "import matplotlib.pyplot as plt\n",
    "from sklearn import metrics\n",
    "from sklearn.metrics import roc_curve\n",
    "\n",
    "fpr, tpr, _ = roc_curve(y_test, pred4)\n",
    "roc_auc = roc_auc_score(y_test, pred4)\n",
    "display = metrics.RocCurveDisplay(fpr=fpr, tpr=tpr, roc_auc=roc_auc)\n",
    "display.plot(name=\"ROC Curve\")"
   ]
  },
  {
   "cell_type": "code",
   "execution_count": null,
   "id": "7ebdd02b-d38d-48bb-aac3-1a8f4551c882",
   "metadata": {},
   "outputs": [],
   "source": [
    "gsearch.cv_results_['params'][gsearch.best_index_]"
   ]
  },
  {
   "cell_type": "code",
   "execution_count": null,
   "id": "cdeb08e1-ce89-4e0d-8902-03afd928c743",
   "metadata": {},
   "outputs": [],
   "source": [
    "model_deepsea1 = XGBClassifier(\n",
    " reg_alpha = 20,\n",
    " reg_lambda = 2000,\n",
    " eta = 0.1,\n",
    " n_estimators=10,\n",
    " objective= 'binary:logistic',\n",
    " seed=7)\n",
    "\n",
    "train_model_deepsea1 = model_deepsea1.fit(X_train, y_train)\n",
    "pred_deepsea1 = train_model_deepsea1.predict(X_test)\n",
    "print(\"Accuracy_model_deepsea1: %.4f\" % (accuracy_score(y_test, pred_deepsea1)))\n",
    "print(\"F1_model_deepsea1: %.4f\" % (f1_score(y_test, pred_deepsea1)))\n",
    "print(\"MCC_model_deepsea1: %.4f\" % (matthews_corrcoef(y_test, pred_deepsea1)))\n",
    "print(\"ROC_AUC_model_deepsea1: %.4f\" % (roc_auc_score(y_test, pred_deepsea1))) # don't know about call: y_score vs. pred"
   ]
  },
  {
   "cell_type": "code",
   "execution_count": null,
   "id": "de14555a-9502-44db-b42b-0c5623e6805d",
   "metadata": {},
   "outputs": [],
   "source": [
    "model_deepsea2 = XGBClassifier(\n",
    " reg_alpha = 0,\n",
    " reg_lambda = 10,\n",
    " eta = 0.1,\n",
    " n_estimators=500,\n",
    " objective= 'binary:logistic',\n",
    " seed=7)\n",
    "\n",
    "train_model_deepsea2 = model_deepsea2.fit(X_train, y_train)\n",
    "pred_deepsea2 = train_model_deepsea2.predict(X_test)\n",
    "print(\"Accuracy_model_deepsea1: %.4f\" % (accuracy_score(y_test, pred_deepsea2)))\n",
    "print(\"F1_model_deepsea2: %.4f\" % (f1_score(y_test, pred_deepsea2)))\n",
    "print(\"MCC_model_deepsea2: %.4f\" % (matthews_corrcoef(y_test, pred_deepsea2)))\n",
    "print(\"ROC_AUC_model_deepsea2: %.4f\" % (roc_auc_score(y_test, pred_deepsea2))) # don't know about call: y_score vs. pred"
   ]
  },
  {
   "cell_type": "code",
   "execution_count": null,
   "id": "4bc3daf8-b6a7-4e5c-98c3-54e724824864",
   "metadata": {},
   "outputs": [],
   "source": [
    "tn, fp, fn, tp = confusion_matrix(y_test, pred_deepsea2).ravel()\n",
    "print(tp, fp, fn, tn)"
   ]
  },
  {
   "cell_type": "code",
   "execution_count": null,
   "id": "93625a13-4a47-40e1-bf44-fdf03c706c80",
   "metadata": {},
   "outputs": [],
   "source": [
    "import matplotlib.pyplot as plt\n",
    "from sklearn import metrics\n",
    "from sklearn.metrics import roc_curve\n",
    "\n",
    "fpr, tpr, _ = roc_curve(y_test, pred_deepsea2)\n",
    "roc_auc = roc_auc_score(y_test, pred_deepsea2)\n",
    "display = metrics.RocCurveDisplay(fpr=fpr, tpr=tpr, roc_auc=roc_auc)\n",
    "display.plot(name=\"ROC Curve\")"
   ]
  },
  {
   "cell_type": "code",
   "execution_count": 18,
   "id": "df757d0f-d87e-4b2f-862d-77fe27028aad",
   "metadata": {},
   "outputs": [
    {
     "name": "stdout",
     "output_type": "stream",
     "text": [
      "Accuracy_model_regbase: 0.9414\n",
      "F1_model_regbase: 0.4806\n",
      "MCC_model_regbase: 0.4876\n",
      "ROC_AUC_model_regbase: 0.6730\n"
     ]
    }
   ],
   "source": [
    "model_regbase = XGBClassifier(\n",
    "    colsample_bylevel = 0.3,\n",
    "    colsample_bytree = 1.0,\n",
    "    gamma = 3.6,\n",
    "    learning_rate = 0.1,\n",
    "    max_depth = 8,\n",
    "    min_child_weight = 3,\n",
    "    n_estimators = 100,\n",
    "    reg_alpha = 0.001,\n",
    "    reg_lambda = 2,\n",
    "    scale_pos_weight = 12.1599539701,\n",
    "    subsample = 0.7)\n",
    "\n",
    "train_model_regbase = model_regbase.fit(X_train, y_train)\n",
    "pred_regbase = train_model_regbase.predict(X_test)\n",
    "print(\"Accuracy_model_regbase: %.4f\" % (accuracy_score(y_test, pred_regbase)))\n",
    "print(\"F1_model_regbase: %.4f\" % (f1_score(y_test, pred_regbase)))\n",
    "print(\"MCC_model_regbase: %.4f\" % (matthews_corrcoef(y_test, pred_regbase)))\n",
    "print(\"ROC_AUC_model_regbase: %.4f\" % (roc_auc_score(y_test, pred_regbase)))"
   ]
  },
  {
   "cell_type": "code",
   "execution_count": null,
   "id": "aeb3de4c-3083-4cc0-99c7-f0bf00e987d5",
   "metadata": {},
   "outputs": [],
   "source": [
    "tn, fp, fn, tp = confusion_matrix(y_test, pred_regbase).ravel()\n",
    "print(tp, fp, fn, tn)"
   ]
  },
  {
   "cell_type": "code",
   "execution_count": null,
   "id": "1f6a994d-d27a-414f-b3f5-e22416cf00c7",
   "metadata": {},
   "outputs": [],
   "source": [
    "import matplotlib.pyplot as plt\n",
    "from sklearn import metrics\n",
    "from sklearn.metrics import roc_curve\n",
    "\n",
    "fpr, tpr, _ = roc_curve(y_test, pred_regbase)\n",
    "roc_auc = roc_auc_score(y_test, pred_regbase)\n",
    "display = metrics.RocCurveDisplay(fpr=fpr, tpr=tpr, roc_auc=roc_auc)\n",
    "display.plot(name=\"ROC Curve\")"
   ]
  },
  {
   "cell_type": "code",
   "execution_count": 19,
   "id": "0c70f4d0-5d97-4ab4-8895-f825bfa4a4ae",
   "metadata": {},
   "outputs": [],
   "source": [
    "import xgboost as xgb\n",
    "\n",
    "data_matrix = xgb.DMatrix(data=X, label=y)\n",
    "\n",
    "params = {\n",
    "    \"colsample_bylevel\": 0.3,\n",
    "    \"colsample_bytree\": 1.0,\n",
    "    \"gamma\": 3.6,\n",
    "    \"learning_rate\": 0.1,\n",
    "    \"max_depth\": 8,\n",
    "    \"min_child_weight\": 3,\n",
    "    \"alpha\": 0.001,\n",
    "    \"lambda\": 2,\n",
    "    \"scale_pos_weight\": 12.1599539701,\n",
    "    \"subsample\": 0.7\n",
    "}\n",
    "\n",
    "xgb_cv = xgb.cv(dtrain=data_matrix, params=params, nfold=10,\n",
    "                    num_boost_round=100, early_stopping_rounds=10, metrics=\"auc\", as_pandas=True, seed=7)\n"
   ]
  },
  {
   "cell_type": "code",
   "execution_count": 20,
   "id": "0a0e5c60-f57f-43d5-9650-af8a88e58937",
   "metadata": {},
   "outputs": [
    {
     "data": {
      "text/html": [
       "<div>\n",
       "<style scoped>\n",
       "    .dataframe tbody tr th:only-of-type {\n",
       "        vertical-align: middle;\n",
       "    }\n",
       "\n",
       "    .dataframe tbody tr th {\n",
       "        vertical-align: top;\n",
       "    }\n",
       "\n",
       "    .dataframe thead th {\n",
       "        text-align: right;\n",
       "    }\n",
       "</style>\n",
       "<table border=\"1\" class=\"dataframe\">\n",
       "  <thead>\n",
       "    <tr style=\"text-align: right;\">\n",
       "      <th></th>\n",
       "      <th>train-auc-mean</th>\n",
       "      <th>train-auc-std</th>\n",
       "      <th>test-auc-mean</th>\n",
       "      <th>test-auc-std</th>\n",
       "    </tr>\n",
       "  </thead>\n",
       "  <tbody>\n",
       "    <tr>\n",
       "      <th>0</th>\n",
       "      <td>0.850845</td>\n",
       "      <td>0.010008</td>\n",
       "      <td>0.669715</td>\n",
       "      <td>0.028620</td>\n",
       "    </tr>\n",
       "    <tr>\n",
       "      <th>1</th>\n",
       "      <td>0.919368</td>\n",
       "      <td>0.004921</td>\n",
       "      <td>0.710552</td>\n",
       "      <td>0.023180</td>\n",
       "    </tr>\n",
       "    <tr>\n",
       "      <th>2</th>\n",
       "      <td>0.946874</td>\n",
       "      <td>0.004257</td>\n",
       "      <td>0.719757</td>\n",
       "      <td>0.030174</td>\n",
       "    </tr>\n",
       "    <tr>\n",
       "      <th>3</th>\n",
       "      <td>0.960756</td>\n",
       "      <td>0.003113</td>\n",
       "      <td>0.731105</td>\n",
       "      <td>0.026727</td>\n",
       "    </tr>\n",
       "    <tr>\n",
       "      <th>4</th>\n",
       "      <td>0.969932</td>\n",
       "      <td>0.003279</td>\n",
       "      <td>0.743583</td>\n",
       "      <td>0.023903</td>\n",
       "    </tr>\n",
       "    <tr>\n",
       "      <th>5</th>\n",
       "      <td>0.975509</td>\n",
       "      <td>0.002432</td>\n",
       "      <td>0.745466</td>\n",
       "      <td>0.025259</td>\n",
       "    </tr>\n",
       "    <tr>\n",
       "      <th>6</th>\n",
       "      <td>0.979075</td>\n",
       "      <td>0.001572</td>\n",
       "      <td>0.747188</td>\n",
       "      <td>0.022923</td>\n",
       "    </tr>\n",
       "    <tr>\n",
       "      <th>7</th>\n",
       "      <td>0.981869</td>\n",
       "      <td>0.001708</td>\n",
       "      <td>0.749809</td>\n",
       "      <td>0.022561</td>\n",
       "    </tr>\n",
       "    <tr>\n",
       "      <th>8</th>\n",
       "      <td>0.984163</td>\n",
       "      <td>0.001740</td>\n",
       "      <td>0.749290</td>\n",
       "      <td>0.023436</td>\n",
       "    </tr>\n",
       "    <tr>\n",
       "      <th>9</th>\n",
       "      <td>0.985835</td>\n",
       "      <td>0.002152</td>\n",
       "      <td>0.752434</td>\n",
       "      <td>0.023256</td>\n",
       "    </tr>\n",
       "    <tr>\n",
       "      <th>10</th>\n",
       "      <td>0.987541</td>\n",
       "      <td>0.002109</td>\n",
       "      <td>0.753115</td>\n",
       "      <td>0.024992</td>\n",
       "    </tr>\n",
       "    <tr>\n",
       "      <th>11</th>\n",
       "      <td>0.988957</td>\n",
       "      <td>0.001806</td>\n",
       "      <td>0.753163</td>\n",
       "      <td>0.024461</td>\n",
       "    </tr>\n",
       "    <tr>\n",
       "      <th>12</th>\n",
       "      <td>0.990387</td>\n",
       "      <td>0.001613</td>\n",
       "      <td>0.753625</td>\n",
       "      <td>0.025004</td>\n",
       "    </tr>\n",
       "    <tr>\n",
       "      <th>13</th>\n",
       "      <td>0.991253</td>\n",
       "      <td>0.001526</td>\n",
       "      <td>0.754476</td>\n",
       "      <td>0.022807</td>\n",
       "    </tr>\n",
       "    <tr>\n",
       "      <th>14</th>\n",
       "      <td>0.992208</td>\n",
       "      <td>0.001425</td>\n",
       "      <td>0.754878</td>\n",
       "      <td>0.023411</td>\n",
       "    </tr>\n",
       "    <tr>\n",
       "      <th>15</th>\n",
       "      <td>0.993178</td>\n",
       "      <td>0.001177</td>\n",
       "      <td>0.755359</td>\n",
       "      <td>0.023069</td>\n",
       "    </tr>\n",
       "    <tr>\n",
       "      <th>16</th>\n",
       "      <td>0.993948</td>\n",
       "      <td>0.001082</td>\n",
       "      <td>0.755911</td>\n",
       "      <td>0.022593</td>\n",
       "    </tr>\n",
       "    <tr>\n",
       "      <th>17</th>\n",
       "      <td>0.994595</td>\n",
       "      <td>0.000843</td>\n",
       "      <td>0.757052</td>\n",
       "      <td>0.024138</td>\n",
       "    </tr>\n",
       "    <tr>\n",
       "      <th>18</th>\n",
       "      <td>0.995238</td>\n",
       "      <td>0.000829</td>\n",
       "      <td>0.758911</td>\n",
       "      <td>0.025072</td>\n",
       "    </tr>\n",
       "    <tr>\n",
       "      <th>19</th>\n",
       "      <td>0.995743</td>\n",
       "      <td>0.000756</td>\n",
       "      <td>0.759145</td>\n",
       "      <td>0.024536</td>\n",
       "    </tr>\n",
       "    <tr>\n",
       "      <th>20</th>\n",
       "      <td>0.996112</td>\n",
       "      <td>0.000692</td>\n",
       "      <td>0.759507</td>\n",
       "      <td>0.024686</td>\n",
       "    </tr>\n",
       "    <tr>\n",
       "      <th>21</th>\n",
       "      <td>0.996584</td>\n",
       "      <td>0.000540</td>\n",
       "      <td>0.761201</td>\n",
       "      <td>0.024544</td>\n",
       "    </tr>\n",
       "    <tr>\n",
       "      <th>22</th>\n",
       "      <td>0.996976</td>\n",
       "      <td>0.000427</td>\n",
       "      <td>0.761317</td>\n",
       "      <td>0.024844</td>\n",
       "    </tr>\n",
       "    <tr>\n",
       "      <th>23</th>\n",
       "      <td>0.997228</td>\n",
       "      <td>0.000414</td>\n",
       "      <td>0.761519</td>\n",
       "      <td>0.024546</td>\n",
       "    </tr>\n",
       "    <tr>\n",
       "      <th>24</th>\n",
       "      <td>0.997464</td>\n",
       "      <td>0.000379</td>\n",
       "      <td>0.761801</td>\n",
       "      <td>0.024494</td>\n",
       "    </tr>\n",
       "    <tr>\n",
       "      <th>25</th>\n",
       "      <td>0.997696</td>\n",
       "      <td>0.000321</td>\n",
       "      <td>0.762587</td>\n",
       "      <td>0.024744</td>\n",
       "    </tr>\n",
       "    <tr>\n",
       "      <th>26</th>\n",
       "      <td>0.997890</td>\n",
       "      <td>0.000293</td>\n",
       "      <td>0.763070</td>\n",
       "      <td>0.025119</td>\n",
       "    </tr>\n",
       "  </tbody>\n",
       "</table>\n",
       "</div>"
      ],
      "text/plain": [
       "    train-auc-mean  train-auc-std  test-auc-mean  test-auc-std\n",
       "0         0.850845       0.010008       0.669715      0.028620\n",
       "1         0.919368       0.004921       0.710552      0.023180\n",
       "2         0.946874       0.004257       0.719757      0.030174\n",
       "3         0.960756       0.003113       0.731105      0.026727\n",
       "4         0.969932       0.003279       0.743583      0.023903\n",
       "5         0.975509       0.002432       0.745466      0.025259\n",
       "6         0.979075       0.001572       0.747188      0.022923\n",
       "7         0.981869       0.001708       0.749809      0.022561\n",
       "8         0.984163       0.001740       0.749290      0.023436\n",
       "9         0.985835       0.002152       0.752434      0.023256\n",
       "10        0.987541       0.002109       0.753115      0.024992\n",
       "11        0.988957       0.001806       0.753163      0.024461\n",
       "12        0.990387       0.001613       0.753625      0.025004\n",
       "13        0.991253       0.001526       0.754476      0.022807\n",
       "14        0.992208       0.001425       0.754878      0.023411\n",
       "15        0.993178       0.001177       0.755359      0.023069\n",
       "16        0.993948       0.001082       0.755911      0.022593\n",
       "17        0.994595       0.000843       0.757052      0.024138\n",
       "18        0.995238       0.000829       0.758911      0.025072\n",
       "19        0.995743       0.000756       0.759145      0.024536\n",
       "20        0.996112       0.000692       0.759507      0.024686\n",
       "21        0.996584       0.000540       0.761201      0.024544\n",
       "22        0.996976       0.000427       0.761317      0.024844\n",
       "23        0.997228       0.000414       0.761519      0.024546\n",
       "24        0.997464       0.000379       0.761801      0.024494\n",
       "25        0.997696       0.000321       0.762587      0.024744\n",
       "26        0.997890       0.000293       0.763070      0.025119"
      ]
     },
     "execution_count": 20,
     "metadata": {},
     "output_type": "execute_result"
    }
   ],
   "source": [
    "xgb_cv"
   ]
  },
  {
   "cell_type": "code",
   "execution_count": 21,
   "id": "6e5d7dd4-4487-4dcd-8114-22321892abdd",
   "metadata": {},
   "outputs": [
    {
     "data": {
      "text/plain": [
       "XGBClassifier(base_score=None, booster=None, callbacks=None,\n",
       "              colsample_bylevel=0.3, colsample_bynode=None,\n",
       "              colsample_bytree=1.0, device=None, early_stopping_rounds=None,\n",
       "              enable_categorical=False, eval_metric=None, feature_types=None,\n",
       "              gamma=3.6, grow_policy=None, importance_type=None,\n",
       "              interaction_constraints=None, learning_rate=0.1, max_bin=None,\n",
       "              max_cat_threshold=None, max_cat_to_onehot=None,\n",
       "              max_delta_step=None, max_depth=8, max_leaves=None,\n",
       "              min_child_weight=3, missing=nan, monotone_constraints=None,\n",
       "              multi_strategy=None, n_estimators=27, n_jobs=None,\n",
       "              num_parallel_tree=None, random_state=None, ...)"
      ]
     },
     "execution_count": 21,
     "metadata": {},
     "output_type": "execute_result"
    }
   ],
   "source": [
    "model_regbase.set_params(n_estimators=xgb_cv.shape[0])"
   ]
  },
  {
   "cell_type": "code",
   "execution_count": 22,
   "id": "c5e3843f-ab28-48e1-919e-e0a9f84df86b",
   "metadata": {},
   "outputs": [
    {
     "name": "stdout",
     "output_type": "stream",
     "text": [
      "Accuracy_model_regbase: 0.9131\n",
      "F1_model_regbase: 0.4087\n",
      "MCC_model_regbase: 0.3622\n",
      "ROC_AUC_model_regbase: 0.6752\n"
     ]
    }
   ],
   "source": [
    "train_model_regbase_cv = model_regbase.fit(X_train,y_train)\n",
    "pred_regbase_cv = train_model_regbase.predict(X_test)\n",
    "print(\"Accuracy_model_regbase: %.4f\" % (accuracy_score(y_test, pred_regbase_cv)))\n",
    "print(\"F1_model_regbase: %.4f\" % (f1_score(y_test, pred_regbase_cv)))\n",
    "print(\"MCC_model_regbase: %.4f\" % (matthews_corrcoef(y_test, pred_regbase_cv)))\n",
    "print(\"ROC_AUC_model_regbase: %.4f\" % (roc_auc_score(y_test, pred_regbase_cv)))"
   ]
  },
  {
   "cell_type": "code",
   "execution_count": null,
   "id": "f7ff0c1d-1ddd-452c-9d48-2548c6890041",
   "metadata": {},
   "outputs": [],
   "source": [
    "tn, fp, fn, tp = confusion_matrix(y_test, pred_regbase_cv).ravel()\n",
    "print(tp, fp, fn, tn)"
   ]
  },
  {
   "cell_type": "code",
   "execution_count": null,
   "id": "7a6c662e-a109-4eff-a51f-c87a55651dd9",
   "metadata": {},
   "outputs": [],
   "source": [
    "import matplotlib.pyplot as plt\n",
    "from sklearn import metrics\n",
    "from sklearn.metrics import roc_curve\n",
    "\n",
    "fpr, tpr, _ = roc_curve(y_test, pred_regbase_cv)\n",
    "roc_auc = roc_auc_score(y_test, pred_regbase_cv)\n",
    "display = metrics.RocCurveDisplay(fpr=fpr, tpr=tpr, roc_auc=roc_auc)\n",
    "display.plot(name=\"ROC Curve\")"
   ]
  },
  {
   "cell_type": "code",
   "execution_count": null,
   "id": "c100fa2d-8e13-4291-9152-a1f8f18ba342",
   "metadata": {},
   "outputs": [],
   "source": [
    "pred_regbase.sum()"
   ]
  },
  {
   "cell_type": "code",
   "execution_count": null,
   "id": "2185b0bc-0a6d-4a78-b1f9-9cd06519141d",
   "metadata": {},
   "outputs": [],
   "source": [
    "param_test = {\n",
    " 'max_depth': range(2,10,2),\n",
    " 'min_child_weight': range(2,10,2)\n",
    "}\n",
    "    \n",
    "gsearch = GridSearchCV(estimator=XGBClassifier(colsample_bylevel = 0.3,\n",
    "                                                colsample_bytree = 1.0,\n",
    "                                                gamma = 3.6,\n",
    "                                                learning_rate = 0.1,\n",
    "                                                max_depth = 8,\n",
    "                                                min_child_weight = 3,\n",
    "                                                n_estimators = 27,\n",
    "                                                objective = 'binary:logistic',\n",
    "                                                reg_alpha = 0.001,\n",
    "                                                reg_lambda = 2,\n",
    "                                                scale_pos_weight = 12.1599539701,\n",
    "                                                subsample = 0.7), \n",
    "                       param_grid=param_test, \n",
    "                       scoring='roc_auc',\n",
    "                       n_jobs=4, \n",
    "                       verbose=4,\n",
    "                       return_train_score=True,\n",
    "                       cv=10,\n",
    "                       refit=True)\n",
    "\n",
    "train_model_regbase_cv3 = gsearch.fit(X_train, y_train)\n",
    "pred_regbase_cv3 = train_model_regbase_cv3.predict(X_test)\n",
    "print(\"Accuracy_model_cv3: %.4f\" % (accuracy_score(y_test, pred_regbase_cv3)))  \n",
    "print(\"F1_model_cv3: %.4f\" % (f1_score(y_test, pred_regbase_cv3)))  \n",
    "print(\"MCC_model_cv3: %.4f\" % (matthews_corrcoef(y_test, pred_regbase_cv3)))  \n",
    "print(\"ROC_AUC_model_cv3: %.4f\" % (roc_auc_score(y_test, pred_regbase_cv3)))  "
   ]
  },
  {
   "cell_type": "code",
   "execution_count": null,
   "id": "f94f21e3-37c2-4d92-82b0-8329c25cc251",
   "metadata": {},
   "outputs": [],
   "source": [
    "gsearch.cv_results_['params'][gsearch.best_index_]"
   ]
  },
  {
   "cell_type": "code",
   "execution_count": null,
   "id": "8cc33279-35ee-461a-bab3-15cbceed31fd",
   "metadata": {},
   "outputs": [],
   "source": [
    "param_test = {\n",
    " 'max_depth': [7,8,9],\n",
    " 'min_child_weight': [7,8,9]\n",
    "}\n",
    "    \n",
    "gsearch = GridSearchCV(estimator=XGBClassifier(colsample_bylevel = 0.3,\n",
    "                                                colsample_bytree = 1.0,\n",
    "                                                gamma = 3.6,\n",
    "                                                learning_rate = 0.1,\n",
    "                                                max_depth = 8,\n",
    "                                                min_child_weight = 3,\n",
    "                                                n_estimators = 27,\n",
    "                                                objective = 'binary:logistic',\n",
    "                                                reg_alpha = 0.001,\n",
    "                                                reg_lambda = 2,\n",
    "                                                scale_pos_weight = 12.1599539701,\n",
    "                                                subsample = 0.7), \n",
    "                       param_grid=param_test, \n",
    "                       scoring='roc_auc',\n",
    "                       n_jobs=4, \n",
    "                       verbose=4,\n",
    "                       return_train_score=True,\n",
    "                       cv=10,\n",
    "                       refit=True)\n",
    "\n",
    "train_model_regbase_cv4 = gsearch.fit(X_train, y_train)\n",
    "pred_regbase_cv4 = train_model_regbase_cv4.predict(X_test)\n",
    "print(\"Accuracy_model_cv4: %.4f\" % (accuracy_score(y_test, pred_regbase_cv4)))  \n",
    "print(\"F1_model_cv4: %.4f\" % (f1_score(y_test, pred_regbase_cv4)))  \n",
    "print(\"MCC_model_cv4: %.4f\" % (matthews_corrcoef(y_test, pred_regbase_cv4)))  \n",
    "print(\"ROC_AUC_model_cv4: %.4f\" % (roc_auc_score(y_test, pred_regbase_cv4)))  "
   ]
  },
  {
   "cell_type": "code",
   "execution_count": null,
   "id": "89f7b894-d952-4437-8512-e4dfdbdc1f47",
   "metadata": {},
   "outputs": [],
   "source": [
    "gsearch.cv_results_['params'][gsearch.best_index_]"
   ]
  },
  {
   "cell_type": "code",
   "execution_count": null,
   "id": "57eadf96-46da-4424-9c5a-aa2c62a17723",
   "metadata": {},
   "outputs": [],
   "source": [
    "pd.DataFrame(gsearch.cv_results_)"
   ]
  },
  {
   "cell_type": "code",
   "execution_count": null,
   "id": "9af7e5b1-d704-48a4-9f6e-e1cc5dd9cda0",
   "metadata": {},
   "outputs": [],
   "source": [
    "param_test = {\n",
    " 'gamma': range(2,6),\n",
    "}\n",
    "    \n",
    "gsearch = GridSearchCV(estimator=XGBClassifier(colsample_bylevel = 0.3,\n",
    "                                                colsample_bytree = 1.0,\n",
    "                                                gamma = 3.6,\n",
    "                                                learning_rate = 0.1,\n",
    "                                                max_depth = 9,\n",
    "                                                min_child_weight = 9,\n",
    "                                                n_estimators = 27,\n",
    "                                                objective = 'binary:logistic',\n",
    "                                                reg_alpha = 0.001,\n",
    "                                                reg_lambda = 2,\n",
    "                                                scale_pos_weight = 12.1599539701,\n",
    "                                                subsample = 0.7), \n",
    "                       param_grid=param_test, \n",
    "                       scoring='roc_auc',\n",
    "                       n_jobs=4, \n",
    "                       verbose=4,\n",
    "                       return_train_score=True,\n",
    "                       cv=10,\n",
    "                       refit=True)\n",
    "\n",
    "train_model_regbase_cv5 = gsearch.fit(X_train, y_train)\n",
    "pred_regbase_cv5 = train_model_regbase_cv5.predict(X_test)\n",
    "print(\"Accuracy_model_cv5: %.4f\" % (accuracy_score(y_test, pred_regbase_cv5)))  \n",
    "print(\"F1_model_cv5: %.4f\" % (f1_score(y_test, pred_regbase_cv5)))  \n",
    "print(\"MCC_model_cv5: %.4f\" % (matthews_corrcoef(y_test, pred_regbase_cv5)))  \n",
    "print(\"ROC_AUC_model_cv5: %.4f\" % (roc_auc_score(y_test, pred_regbase_cv5))) "
   ]
  },
  {
   "cell_type": "code",
   "execution_count": null,
   "id": "c2505559-c131-4c6a-ab5c-d52ddb36e148",
   "metadata": {},
   "outputs": [],
   "source": [
    "gsearch.cv_results_['params'][gsearch.best_index_]"
   ]
  },
  {
   "cell_type": "code",
   "execution_count": null,
   "id": "10da82b7-efc9-4d7f-9b50-33e0800d0e96",
   "metadata": {},
   "outputs": [],
   "source": [
    "pd.DataFrame(gsearch.cv_results_)"
   ]
  },
  {
   "cell_type": "code",
   "execution_count": 25,
   "id": "65e92fdc-a2fa-455d-aad6-724f4b79fcb3",
   "metadata": {},
   "outputs": [
    {
     "name": "stdout",
     "output_type": "stream",
     "text": [
      "Fitting 10 folds for each of 16 candidates, totalling 160 fits\n",
      "Accuracy_model_cv6: 0.9231\n",
      "F1_model_cv6: 0.4454\n",
      "MCC_model_cv6: 0.4066\n",
      "ROC_AUC_model_cv6: 0.6859\n"
     ]
    }
   ],
   "source": [
    "param_test = {\n",
    "  'subsample': [i/10.0 for i in range(6,10)],\n",
    "  'colsample_bytree': [i/10.0 for i in range(6,10)]\n",
    "}\n",
    "    \n",
    "gsearch = GridSearchCV(estimator=XGBClassifier(colsample_bylevel = 0.3,\n",
    "                                                colsample_bytree = 1.0,\n",
    "                                                gamma = 3.6,\n",
    "                                                learning_rate = 0.1,\n",
    "                                                max_depth = 9,\n",
    "                                                min_child_weight = 9,\n",
    "                                                n_estimators = 27,\n",
    "                                                objective = 'binary:logistic',\n",
    "                                                reg_alpha = 0.001,\n",
    "                                                reg_lambda = 2,\n",
    "                                                scale_pos_weight = 12.1599539701,\n",
    "                                                subsample = 0.7), \n",
    "                       param_grid=param_test, \n",
    "                       scoring='roc_auc',\n",
    "                       n_jobs=4, \n",
    "                       verbose=4,\n",
    "                       return_train_score=True,\n",
    "                       cv=10,\n",
    "                       refit=True)\n",
    "\n",
    "train_model_regbase_cv6 = gsearch.fit(X_train, y_train)\n",
    "pred_regbase_cv6 = train_model_regbase_cv6.predict(X_test)\n",
    "print(\"Accuracy_model_cv6: %.4f\" % (accuracy_score(y_test, pred_regbase_cv6)))  \n",
    "print(\"F1_model_cv6: %.4f\" % (f1_score(y_test, pred_regbase_cv6)))  \n",
    "print(\"MCC_model_cv6: %.4f\" % (matthews_corrcoef(y_test, pred_regbase_cv6)))  \n",
    "print(\"ROC_AUC_model_cv6: %.4f\" % (roc_auc_score(y_test, pred_regbase_cv6))) "
   ]
  },
  {
   "cell_type": "code",
   "execution_count": 26,
   "id": "d38a6b4a-3bee-483a-9f8f-15572df534ac",
   "metadata": {},
   "outputs": [
    {
     "data": {
      "text/plain": [
       "{'colsample_bytree': 0.7, 'subsample': 0.9}"
      ]
     },
     "execution_count": 26,
     "metadata": {},
     "output_type": "execute_result"
    }
   ],
   "source": [
    "gsearch.cv_results_['params'][gsearch.best_index_]"
   ]
  },
  {
   "cell_type": "code",
   "execution_count": null,
   "id": "10d181e2-af4d-489f-a392-bcbf720d3d0d",
   "metadata": {},
   "outputs": [],
   "source": [
    "pd.DataFrame(gsearch.cv_results_)"
   ]
  },
  {
   "cell_type": "code",
   "execution_count": null,
   "id": "8124b46a-90bf-41ee-9faa-3f89c89c8f56",
   "metadata": {},
   "outputs": [],
   "source": [
    "param_test = {\n",
    "  'reg_alpha':[1e-5, 1e-4, 1e-3, 1e-2, 0.1, 1],\n",
    "}\n",
    "    \n",
    "gsearch = GridSearchCV(estimator=XGBClassifier(colsample_bylevel = 0.3,\n",
    "                                                colsample_bytree = 0.7,\n",
    "                                                gamma = 3.6,\n",
    "                                                learning_rate = 0.1,\n",
    "                                                max_depth = 9,\n",
    "                                                min_child_weight = 9,\n",
    "                                                n_estimators = 27,\n",
    "                                                objective = 'binary:logistic',\n",
    "                                                reg_alpha = 0.001,\n",
    "                                                reg_lambda = 2,\n",
    "                                                scale_pos_weight = 12.1599539701,\n",
    "                                                subsample = 0.9), \n",
    "                       param_grid=param_test, \n",
    "                       scoring='roc_auc',\n",
    "                       n_jobs=4, \n",
    "                       verbose=4,\n",
    "                       return_train_score=True,\n",
    "                       cv=10,\n",
    "                       refit=True)\n",
    "\n",
    "train_model_regbase_cv7 = gsearch.fit(X_train, y_train)\n",
    "pred_regbase_cv7 = train_model_regbase_cv7.predict(X_test)\n",
    "print(\"Accuracy_model_cv7: %.4f\" % (accuracy_score(y_test, pred_regbase_cv7)))  \n",
    "print(\"F1_model_cv7: %.4f\" % (f1_score(y_test, pred_regbase_cv7)))  \n",
    "print(\"MCC_model_cv7: %.4f\" % (matthews_corrcoef(y_test, pred_regbase_cv7)))  \n",
    "print(\"ROC_AUC_model_cv7: %.4f\" % (roc_auc_score(y_test, pred_regbase_cv7))) "
   ]
  },
  {
   "cell_type": "code",
   "execution_count": null,
   "id": "7eab5883-cfce-4087-abf4-b14711f41c61",
   "metadata": {},
   "outputs": [],
   "source": [
    "gsearch.cv_results_['params'][gsearch.best_index_]"
   ]
  },
  {
   "cell_type": "code",
   "execution_count": null,
   "id": "85e36419-678d-4a8c-a9e2-9608169f8927",
   "metadata": {},
   "outputs": [],
   "source": [
    "pd.DataFrame(gsearch.cv_results_)"
   ]
  },
  {
   "cell_type": "code",
   "execution_count": null,
   "id": "c4bccffb-dbf9-4f5f-b228-0b0c3e58c5ad",
   "metadata": {},
   "outputs": [],
   "source": [
    "param_test = {\n",
    "  'reg_alpha':[5e-3, 3e-3, 1e-3, 8e-2, 6e-2],\n",
    "}\n",
    "    \n",
    "gsearch = GridSearchCV(estimator=XGBClassifier(colsample_bylevel = 0.3,\n",
    "                                                colsample_bytree = 0.7,\n",
    "                                                gamma = 3.6,\n",
    "                                                learning_rate = 0.1,\n",
    "                                                max_depth = 9,\n",
    "                                                min_child_weight = 9,\n",
    "                                                n_estimators = 27,\n",
    "                                                objective = 'binary:logistic',\n",
    "                                                reg_alpha = 0.001,\n",
    "                                                reg_lambda = 2,\n",
    "                                                scale_pos_weight = 12.1599539701,\n",
    "                                                subsample = 0.9), \n",
    "                       param_grid=param_test, \n",
    "                       scoring='roc_auc',\n",
    "                       n_jobs=4, \n",
    "                       verbose=4,\n",
    "                       return_train_score=True,\n",
    "                       cv=10,\n",
    "                       refit=True)\n",
    "\n",
    "train_model_regbase_cv8 = gsearch.fit(X_train, y_train)\n",
    "pred_regbase_cv8 = train_model_regbase_cv8.predict(X_test)\n",
    "print(\"Accuracy_model_cv8: %.4f\" % (accuracy_score(y_test, pred_regbase_cv8)))  \n",
    "print(\"F1_model_cv8: %.4f\" % (f1_score(y_test, pred_regbase_cv8)))  \n",
    "print(\"MCC_model_cv8: %.4f\" % (matthews_corrcoef(y_test, pred_regbase_cv8)))  \n",
    "print(\"ROC_AUC_model_cv8: %.4f\" % (roc_auc_score(y_test, pred_regbase_cv8))) "
   ]
  },
  {
   "cell_type": "code",
   "execution_count": null,
   "id": "c4f8417a-70fb-4330-a886-116385ea8c44",
   "metadata": {},
   "outputs": [],
   "source": [
    "gsearch.cv_results_['params'][gsearch.best_index_]"
   ]
  },
  {
   "cell_type": "code",
   "execution_count": null,
   "id": "52efbbee-eec3-426f-9687-098943f28275",
   "metadata": {},
   "outputs": [],
   "source": [
    "pd.DataFrame(gsearch.cv_results_)"
   ]
  },
  {
   "cell_type": "code",
   "execution_count": null,
   "id": "81f49502-286e-4408-b282-825886bb3a45",
   "metadata": {},
   "outputs": [],
   "source": [
    "param_test = {\n",
    "  'learning_rate':[0.01, 0.05, 0.1, 0.15, 0.2],\n",
    "}\n",
    "    \n",
    "gsearch = GridSearchCV(estimator=XGBClassifier(colsample_bylevel = 0.3,\n",
    "                                                colsample_bytree = 0.7,\n",
    "                                                gamma = 3.6,\n",
    "                                                learning_rate = 0.1,\n",
    "                                                max_depth = 9,\n",
    "                                                min_child_weight = 9,\n",
    "                                                n_estimators = 27,\n",
    "                                                objective = 'binary:logistic',\n",
    "                                                reg_alpha = 0.001,\n",
    "                                                reg_lambda = 2,\n",
    "                                                scale_pos_weight = 12.1599539701,\n",
    "                                                subsample = 0.9), \n",
    "                       param_grid=param_test, \n",
    "                       scoring='roc_auc',\n",
    "                       n_jobs=4, \n",
    "                       verbose=4,\n",
    "                       return_train_score=True,\n",
    "                       cv=10,\n",
    "                       refit=True)\n",
    "\n",
    "train_model_regbase_cv9 = gsearch.fit(X_train, y_train)\n",
    "pred_regbase_cv9 = train_model_regbase_cv9.predict(X_test)\n",
    "print(\"Accuracy_model_cv9: %.4f\" % (accuracy_score(y_test, pred_regbase_cv9)))  \n",
    "print(\"F1_model_cv9: %.4f\" % (f1_score(y_test, pred_regbase_cv9)))  \n",
    "print(\"MCC_model_cv9: %.4f\" % (matthews_corrcoef(y_test, pred_regbase_cv9)))  \n",
    "print(\"ROC_AUC_model_cv9: %.4f\" % (roc_auc_score(y_test, pred_regbase_cv9))) "
   ]
  },
  {
   "cell_type": "code",
   "execution_count": null,
   "id": "7badf5ff-0743-40c9-921c-dc839919244e",
   "metadata": {},
   "outputs": [],
   "source": [
    "gsearch.cv_results_['params'][gsearch.best_index_]"
   ]
  },
  {
   "cell_type": "code",
   "execution_count": null,
   "id": "204b6c7e-f04f-4345-8561-cbdc4ca7444a",
   "metadata": {},
   "outputs": [],
   "source": [
    "pd.DataFrame(gsearch.cv_results_)"
   ]
  },
  {
   "cell_type": "code",
   "execution_count": null,
   "id": "7dec5ad7-fd02-4183-bb41-f49c8102cadf",
   "metadata": {},
   "outputs": [],
   "source": [
    "# Save default model\n",
    "\n",
    "from joblib import dump, load\n",
    "\n",
    "best_estimator = train_model1\n",
    "dump(best_estimator, path_prefix + \"DNABERT_2/Output_Models/\" + \"model_xpg_boost_PRVCS_PAT_default.joblib\")"
   ]
  },
  {
   "cell_type": "code",
   "execution_count": null,
   "id": "565fa294-f245-45f8-9634-10f1341b563f",
   "metadata": {},
   "outputs": [],
   "source": [
    "# Save best model"
   ]
  },
  {
   "cell_type": "code",
   "execution_count": null,
   "id": "f7104199-32e5-47e0-a70f-585d4cbca887",
   "metadata": {},
   "outputs": [],
   "source": [
    "from joblib import dump, load\n",
    "\n",
    "best_estimator = train_model_regbase_cv6\n",
    "dump(best_estimator, path_prefix + \"DNABERT_2/Output_Models/\" + \"model_xpg_boost_PRVCS_PAT_all.joblib\")"
   ]
  },
  {
   "cell_type": "code",
   "execution_count": null,
   "id": "f0324ff2-5351-49c6-be86-7a5e99193448",
   "metadata": {},
   "outputs": [],
   "source": [
    "from joblib import dump, load\n",
    "\n",
    "test_estimator = load('/expanse/lustre/projects/nji102/sgriesmer/DNABERT_2/Output_Models/model_xpg_boost_PRVCS_PAT_all.joblib')"
   ]
  },
  {
   "cell_type": "code",
   "execution_count": null,
   "id": "3e44eeff-af85-4842-b9d3-7e2bac418d4c",
   "metadata": {},
   "outputs": [],
   "source": [
    "test_pred = test_estimator.predict(X_test)"
   ]
  },
  {
   "cell_type": "code",
   "execution_count": null,
   "id": "234ec97d-ef7d-421a-834d-367f3cc6e605",
   "metadata": {},
   "outputs": [],
   "source": [
    "test_pred.sum()"
   ]
  },
  {
   "cell_type": "code",
   "execution_count": null,
   "id": "1481426c-2427-4f0b-b042-04733e190114",
   "metadata": {},
   "outputs": [],
   "source": [
    "# Load Rate_Patho dataset"
   ]
  },
  {
   "cell_type": "code",
   "execution_count": null,
   "id": "2b438a10-1b23-40f6-a822-104a44eac023",
   "metadata": {},
   "outputs": [],
   "source": [
    "RARPAT_abs_diff_plus_log_odds_scores_norm = pd.read_csv(path_prefix + \"DNABERT_2/output/RARPAT_0_102-abs_diff_plus_log_odds_scores_norm_results_by_variant.csv\", sep=',')"
   ]
  },
  {
   "cell_type": "code",
   "execution_count": null,
   "id": "b945e60b-089a-43ec-9c90-eada10a506e1",
   "metadata": {},
   "outputs": [],
   "source": [
    "RARPAT_abs_diff_plus_log_odds_scores_norm.shape"
   ]
  },
  {
   "cell_type": "code",
   "execution_count": null,
   "id": "c846cdb1-35ab-4d1d-9187-537c0400e818",
   "metadata": {},
   "outputs": [],
   "source": [
    "# Set model names to numbers"
   ]
  },
  {
   "cell_type": "code",
   "execution_count": null,
   "id": "8cdc7fd6-28db-4854-b89c-1aa8e857b3a9",
   "metadata": {},
   "outputs": [],
   "source": [
    "RARPAT_abs_diff_plus_log_odds_scores_norm = RARPAT_abs_diff_plus_log_odds_scores_norm.set_axis(col_lab, axis=\"columns\")"
   ]
  },
  {
   "cell_type": "code",
   "execution_count": null,
   "id": "5ba74706-e412-4cd7-ae9b-ffb035c50c9b",
   "metadata": {},
   "outputs": [],
   "source": [
    "RARPAT_abs_diff_plus_log_odds_scores_norm"
   ]
  },
  {
   "cell_type": "code",
   "execution_count": null,
   "id": "a381498b-4a4c-43af-8d42-1543da32589c",
   "metadata": {},
   "outputs": [],
   "source": [
    "RARPAT_prvcs = pd.read_csv(path_prefix + \"DNABERT_2/Datasets/PRVCS/test_dataset/Rare_Patho_SNV_dataset_XY-named.txt\", sep='\\t')"
   ]
  },
  {
   "cell_type": "code",
   "execution_count": null,
   "id": "f2b356e5-3c36-4fa7-8dff-9dfcf1fb98a4",
   "metadata": {},
   "outputs": [],
   "source": [
    "y = RARPAT_prvcs['label']"
   ]
  },
  {
   "cell_type": "code",
   "execution_count": null,
   "id": "077cbf34-d341-43b6-abfa-a9928b72dedd",
   "metadata": {},
   "outputs": [],
   "source": [
    "y"
   ]
  },
  {
   "cell_type": "code",
   "execution_count": null,
   "id": "d07651bd-2b51-4113-a497-ee21db50e94e",
   "metadata": {},
   "outputs": [],
   "source": [
    "RARPAT_pred = test_estimator.predict(RARPAT_abs_diff_plus_log_odds_scores_norm)"
   ]
  },
  {
   "cell_type": "code",
   "execution_count": null,
   "id": "84d0c5fd-3402-436d-b40d-25834d3a67a0",
   "metadata": {},
   "outputs": [],
   "source": [
    "print(\"Accuracy_model_CAN: %.4f\" % (accuracy_score(y, RARPAT_pred)))  \n",
    "print(\"F1_model_CAN: %.4f\" % (f1_score(y, RARPAT_pred)))  \n",
    "print(\"MCC_model_CAN: %.4f\" % (matthews_corrcoef(y, RARPAT_pred)))  \n",
    "print(\"ROC_AUC_model_CAN: %.4f\" % (roc_auc_score(y , RARPAT_pred)))"
   ]
  },
  {
   "cell_type": "markdown",
   "id": "3777d06e-e1b2-42f7-82fc-d9dce37a3fc1",
   "metadata": {},
   "source": [
    "Load ASD dataset"
   ]
  },
  {
   "cell_type": "code",
   "execution_count": null,
   "id": "722b8001-df6d-4262-8b2d-7278c453b2db",
   "metadata": {},
   "outputs": [],
   "source": [
    "ASD_abs_diff_plus_log_odds_scores_norm = pd.read_csv(path_prefix + \"DNABERT_2/output/ASD_0_107-abs_diff_plus_log_odds_scores_norm_results_by_variant.csv\", sep=',')"
   ]
  },
  {
   "cell_type": "code",
   "execution_count": null,
   "id": "9398b89b-a7b6-4a31-be70-fb1486c7010a",
   "metadata": {},
   "outputs": [],
   "source": [
    "ASD_abs_diff_plus_log_odds_scores_norm = ASD_abs_diff_plus_log_odds_scores_norm.set_axis(col_lab, axis=\"columns\")"
   ]
  },
  {
   "cell_type": "code",
   "execution_count": null,
   "id": "50dab5ae-9877-45b3-ac02-d50875fb5777",
   "metadata": {},
   "outputs": [],
   "source": [
    "ASD_prvcs = pd.read_csv(path_prefix + \"DNABERT_2/Datasets/PRVCS/test_dataset/ASD_denovo_SNV_dataset_XY-named.txt\", sep='\\t')"
   ]
  },
  {
   "cell_type": "code",
   "execution_count": null,
   "id": "117f46a5-5c8a-4651-b593-4a8a4cdc9fa2",
   "metadata": {},
   "outputs": [],
   "source": [
    "y = ASD_prvcs['label']"
   ]
  },
  {
   "cell_type": "code",
   "execution_count": null,
   "id": "e0df701b-5941-4dae-9ecd-2cb39b619659",
   "metadata": {},
   "outputs": [],
   "source": [
    "ASD_pred = test_estimator.predict(ASD_abs_diff_plus_log_odds_scores_norm)"
   ]
  },
  {
   "cell_type": "code",
   "execution_count": null,
   "id": "4b9490bd-fe3a-4f62-b481-11f2b7442bc5",
   "metadata": {},
   "outputs": [],
   "source": [
    "print(\"Accuracy_model_CAN: %.4f\" % (accuracy_score(y, ASD_pred)))  \n",
    "print(\"F1_model_CAN: %.4f\" % (f1_score(y, ASD_pred)))  \n",
    "print(\"MCC_model_CAN: %.4f\" % (matthews_corrcoef(y, ASD_pred)))  \n",
    "print(\"ROC_AUC_model_CAN: %.4f\" % (roc_auc_score(y , ASD_pred)))"
   ]
  },
  {
   "cell_type": "markdown",
   "id": "c24777bc-821f-4a61-b363-37865607836c",
   "metadata": {},
   "source": [
    "Load GTEx dataset"
   ]
  },
  {
   "cell_type": "code",
   "execution_count": null,
   "id": "92075d5a-48c1-4a93-82b0-92d817ac56cc",
   "metadata": {},
   "outputs": [],
   "source": [
    "GTEX_abs_diff_plus_log_odds_scores_norm = pd.read_csv(path_prefix + \"DNABERT_2/output/GTEX_0_796-abs_diff_plus_log_odds_scores_norm_results_by_variant.csv\", sep=',')"
   ]
  },
  {
   "cell_type": "code",
   "execution_count": null,
   "id": "16ddeade-2b34-4237-8041-e072027e576b",
   "metadata": {},
   "outputs": [],
   "source": [
    "GTEX_abs_diff_plus_log_odds_scores_norm = GTEX_abs_diff_plus_log_odds_scores_norm.set_axis(col_lab, axis=\"columns\")"
   ]
  },
  {
   "cell_type": "code",
   "execution_count": null,
   "id": "7749dedd-4733-483e-b9f5-3be42d439f93",
   "metadata": {},
   "outputs": [],
   "source": [
    "GTEX_prvcs = pd.read_csv(path_prefix + \"DNABERT_2/Datasets/PRVCS/test_dataset/GTEx_eQTL_dataset_XY-named.txt\", sep='\\t')"
   ]
  },
  {
   "cell_type": "code",
   "execution_count": null,
   "id": "9be5bef4-14a1-465a-8ea5-148a9563b505",
   "metadata": {},
   "outputs": [],
   "source": [
    "y = GTEX_prvcs['label']"
   ]
  },
  {
   "cell_type": "code",
   "execution_count": null,
   "id": "3a301756-4d31-40f6-8e60-e0f3e065bddd",
   "metadata": {
    "tags": []
   },
   "outputs": [],
   "source": [
    "GTEX_pred = test_estimator.predict(GTEX_abs_diff_plus_log_odds_scores_norm)"
   ]
  },
  {
   "cell_type": "code",
   "execution_count": null,
   "id": "93a48458-a9b3-4205-9011-72676500d8bd",
   "metadata": {},
   "outputs": [],
   "source": [
    "print(\"Accuracy_model_CAN: %.4f\" % (accuracy_score(y, GTEX_pred)))  \n",
    "print(\"F1_model_CAN: %.4f\" % (f1_score(y, GTEX_pred)))  \n",
    "print(\"MCC_model_CAN: %.4f\" % (matthews_corrcoef(y, GTEX_pred)))  \n",
    "print(\"ROC_AUC_model_CAN: %.4f\" % (roc_auc_score(y , GTEX_pred)))"
   ]
  },
  {
   "cell_type": "markdown",
   "id": "1a40a1d7-6f07-48b5-9fa6-ffe21dc455e5",
   "metadata": {},
   "source": [
    "Load Somatic eQTL dataset"
   ]
  },
  {
   "cell_type": "code",
   "execution_count": null,
   "id": "a1957adb-f7f0-4d90-9bcf-15df83492411",
   "metadata": {},
   "outputs": [],
   "source": [
    "SOMEQTL_abs_diff_plus_log_odds_scores_norm = pd.read_csv(path_prefix + \"DNABERT_2/output/SOMEQTL_0_7513-abs_diff_plus_log_odds_scores_norm_results_by_variant.csv\", sep=',')"
   ]
  },
  {
   "cell_type": "code",
   "execution_count": null,
   "id": "d03ad5a6-ae36-47ef-b79a-871ee234efc2",
   "metadata": {},
   "outputs": [],
   "source": [
    "SOMEQTL_abs_diff_plus_log_odds_scores_norm = SOMEQTL_abs_diff_plus_log_odds_scores_norm.set_axis(col_lab, axis=\"columns\")"
   ]
  },
  {
   "cell_type": "code",
   "execution_count": null,
   "id": "a21c8d2e-8097-477d-b0a9-6821bd966e44",
   "metadata": {},
   "outputs": [],
   "source": [
    "SOMEQTL_prvcs = pd.read_csv(path_prefix + \"DNABERT_2/Datasets/PRVCS/test_dataset/Somatic_eQTL_dataset_XY-named.txt\", sep='\\t')"
   ]
  },
  {
   "cell_type": "code",
   "execution_count": null,
   "id": "3787bbec-fce4-4b63-a851-7c35d523907c",
   "metadata": {
    "tags": []
   },
   "outputs": [],
   "source": [
    "y = SOMEQTL_prvcs['label']"
   ]
  },
  {
   "cell_type": "code",
   "execution_count": null,
   "id": "42d1d0f5-d4cd-4b44-9aae-df019fdff2c6",
   "metadata": {},
   "outputs": [],
   "source": [
    "SOMEQTL_pred = test_estimator.predict(SOMEQTL_abs_diff_plus_log_odds_scores_norm)"
   ]
  },
  {
   "cell_type": "code",
   "execution_count": null,
   "id": "3a8c6e21-98a6-43a6-af8f-31a0c0cc5943",
   "metadata": {},
   "outputs": [],
   "source": [
    "print(\"Accuracy_model_CAN: %.4f\" % (accuracy_score(y, SOMEQTL_pred)))  \n",
    "print(\"F1_model_CAN: %.4f\" % (f1_score(y, SOMEQTL_pred)))  \n",
    "print(\"MCC_model_CAN: %.4f\" % (matthews_corrcoef(y, SOMEQTL_pred)))  \n",
    "print(\"ROC_AUC_model_CAN: %.4f\" % (roc_auc_score(y , SOMEQTL_pred)))"
   ]
  },
  {
   "cell_type": "code",
   "execution_count": null,
   "id": "c289bbe7-c8a1-446a-bbdf-f85e6b9eda01",
   "metadata": {},
   "outputs": [],
   "source": []
  }
 ],
 "metadata": {
  "kernelspec": {
   "display_name": "Python 3",
   "language": "python",
   "name": "python3"
  },
  "language_info": {
   "codemirror_mode": {
    "name": "ipython",
    "version": 3
   },
   "file_extension": ".py",
   "mimetype": "text/x-python",
   "name": "python",
   "nbconvert_exporter": "python",
   "pygments_lexer": "ipython3",
   "version": "3.8.8"
  }
 },
 "nbformat": 4,
 "nbformat_minor": 5
}
