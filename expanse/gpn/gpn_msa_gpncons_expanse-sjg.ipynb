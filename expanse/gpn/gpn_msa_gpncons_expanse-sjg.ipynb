{
 "cells": [
  {
   "cell_type": "markdown",
   "metadata": {
    "id": "RVs1eelGRwcp",
    "user_expressions": []
   },
   "source": [
    "# GPN-MSA Testing with PRVCS PAT, CAN, and REG Datasets"
   ]
  },
  {
   "cell_type": "markdown",
   "metadata": {
    "id": "8B2MO9GJqTsH",
    "user_expressions": []
   },
   "source": [
    "## Setup environment "
   ]
  },
  {
   "cell_type": "code",
   "execution_count": null,
   "metadata": {
    "colab": {
     "base_uri": "https://localhost:8080/"
    },
    "id": "Ff_VhW6GciQ-",
    "outputId": "b7eb60c7-467a-4e05-fbf3-4765fdf1740c",
    "tags": []
   },
   "outputs": [],
   "source": [
    "# only need once for GPN-MSA use\n",
    "# !pip install git+https://github.com/songlab-cal/gpn.git"
   ]
  },
  {
   "cell_type": "code",
   "execution_count": null,
   "metadata": {
    "colab": {
     "base_uri": "https://localhost:8080/"
    },
    "id": "uap-SN1CFmQM",
    "outputId": "98cdd109-c321-4921-fbb4-b68295619837"
   },
   "outputs": [],
   "source": [
    "# !ldconfig /usr/lib64-nvidia"
   ]
  },
  {
   "cell_type": "code",
   "execution_count": 1,
   "metadata": {
    "id": "w1NVT828inDl",
    "tags": []
   },
   "outputs": [
    {
     "name": "stderr",
     "output_type": "stream",
     "text": [
      "/cm/shared/apps/spack/0.17.3/cpu/b/opt/spack/linux-rocky8-zen/gcc-8.5.0/anaconda3-2021.05-q4munrgvh7qp4o7r3nzcdkbuph4z7375/lib/python3.8/site-packages/scipy/__init__.py:138: UserWarning: A NumPy version >=1.16.5 and <1.23.0 is required for this version of SciPy (detected version 1.24.4)\n",
      "  warnings.warn(f\"A NumPy version >={np_minversion} and <{np_maxversion} is required for this version of \"\n"
     ]
    }
   ],
   "source": [
    "from gpn.data import GenomeMSA, Tokenizer\n",
    "import gpn.model\n",
    "import matplotlib.pyplot as plt\n",
    "import numpy as np\n",
    "import pandas as pd\n",
    "import seaborn as sns\n",
    "from sklearn.preprocessing import StandardScaler\n",
    "import torch\n",
    "from transformers import AutoModel, AutoModelForMaskedLM"
   ]
  },
  {
   "cell_type": "code",
   "execution_count": 2,
   "metadata": {
    "id": "_Cn_23iac-d3"
   },
   "outputs": [],
   "source": [
    "from datasets import load_dataset, disable_caching\n",
    "from gpn.data import load_dataset_from_file_or_dir"
   ]
  },
  {
   "cell_type": "code",
   "execution_count": 3,
   "metadata": {
    "colab": {
     "base_uri": "https://localhost:8080/"
    },
    "id": "FkwBXyoS4_bG",
    "outputId": "2e34f75a-b198-49df-855f-6164550de382"
   },
   "outputs": [],
   "source": [
    "dataset_prefix = \"/expanse/lustre/projects/nji102/sgriesmer/gpn/Datasets/\""
   ]
  },
  {
   "cell_type": "code",
   "execution_count": null,
   "metadata": {
    "id": "XVsoVlAc4PFy"
   },
   "outputs": [],
   "source": [
    "input_file =  dataset_prefix + \"test.parquet\"\n",
    "dataset = load_dataset_from_file_or_dir(input_file, split=\"test\", is_file=True)"
   ]
  },
  {
   "cell_type": "markdown",
   "metadata": {},
   "source": [
    "## Pathogenic Dataset"
   ]
  },
  {
   "cell_type": "markdown",
   "metadata": {
    "id": "N_7JyZ6S6NaR"
   },
   "source": [
    "## Load scored dataset (if previously created)"
   ]
  },
  {
   "cell_type": "code",
   "execution_count": 4,
   "metadata": {},
   "outputs": [
    {
     "data": {
      "text/plain": [
       "(            Name   label    gpn_score\n",
       " 0  SNP_PAT_00001  Common   -1.5404252\n",
       " 1  SNP_PAT_00002  Common   0.19373989\n",
       " 2  SNP_PAT_00003  Common   -2.5867186\n",
       " 3  SNP_PAT_00004  Common  -0.76693577\n",
       " 4  SNP_PAT_00005  Common   -1.6453758,\n",
       " (11436, 3))"
      ]
     },
     "execution_count": 4,
     "metadata": {},
     "output_type": "execute_result"
    }
   ],
   "source": [
    "df_pathogenic_set = pd.read_csv(dataset_prefix + \"PRVCS/PAT_dataset_XY-named-plus-gpncons.csv\", sep=',')\n",
    "df_pathogenic_set.head(), df_pathogenic_set.shape"
   ]
  },
  {
   "cell_type": "markdown",
   "metadata": {},
   "source": [
    "## Drop rows with \"No scores\""
   ]
  },
  {
   "cell_type": "code",
   "execution_count": 5,
   "metadata": {},
   "outputs": [
    {
     "data": {
      "text/html": [
       "<div>\n",
       "<style scoped>\n",
       "    .dataframe tbody tr th:only-of-type {\n",
       "        vertical-align: middle;\n",
       "    }\n",
       "\n",
       "    .dataframe tbody tr th {\n",
       "        vertical-align: top;\n",
       "    }\n",
       "\n",
       "    .dataframe thead th {\n",
       "        text-align: right;\n",
       "    }\n",
       "</style>\n",
       "<table border=\"1\" class=\"dataframe\">\n",
       "  <thead>\n",
       "    <tr style=\"text-align: right;\">\n",
       "      <th></th>\n",
       "      <th>Name</th>\n",
       "      <th>label</th>\n",
       "      <th>gpn_score</th>\n",
       "    </tr>\n",
       "  </thead>\n",
       "  <tbody>\n",
       "    <tr>\n",
       "      <th>0</th>\n",
       "      <td>SNP_PAT_00001</td>\n",
       "      <td>Common</td>\n",
       "      <td>-1.5404252</td>\n",
       "    </tr>\n",
       "    <tr>\n",
       "      <th>1</th>\n",
       "      <td>SNP_PAT_00002</td>\n",
       "      <td>Common</td>\n",
       "      <td>0.19373989</td>\n",
       "    </tr>\n",
       "    <tr>\n",
       "      <th>2</th>\n",
       "      <td>SNP_PAT_00003</td>\n",
       "      <td>Common</td>\n",
       "      <td>-2.5867186</td>\n",
       "    </tr>\n",
       "    <tr>\n",
       "      <th>3</th>\n",
       "      <td>SNP_PAT_00004</td>\n",
       "      <td>Common</td>\n",
       "      <td>-0.76693577</td>\n",
       "    </tr>\n",
       "    <tr>\n",
       "      <th>4</th>\n",
       "      <td>SNP_PAT_00005</td>\n",
       "      <td>Common</td>\n",
       "      <td>-1.6453758</td>\n",
       "    </tr>\n",
       "    <tr>\n",
       "      <th>...</th>\n",
       "      <td>...</td>\n",
       "      <td>...</td>\n",
       "      <td>...</td>\n",
       "    </tr>\n",
       "    <tr>\n",
       "      <th>11431</th>\n",
       "      <td>SNP_PAT_11432</td>\n",
       "      <td>Pathogenic</td>\n",
       "      <td>-5.67437</td>\n",
       "    </tr>\n",
       "    <tr>\n",
       "      <th>11432</th>\n",
       "      <td>SNP_PAT_11433</td>\n",
       "      <td>Pathogenic</td>\n",
       "      <td>-8.000279</td>\n",
       "    </tr>\n",
       "    <tr>\n",
       "      <th>11433</th>\n",
       "      <td>SNP_PAT_11434</td>\n",
       "      <td>Pathogenic</td>\n",
       "      <td>-6.372505</td>\n",
       "    </tr>\n",
       "    <tr>\n",
       "      <th>11434</th>\n",
       "      <td>SNP_PAT_11435</td>\n",
       "      <td>Pathogenic</td>\n",
       "      <td>-6.439803</td>\n",
       "    </tr>\n",
       "    <tr>\n",
       "      <th>11435</th>\n",
       "      <td>SNP_PAT_11436</td>\n",
       "      <td>Pathogenic</td>\n",
       "      <td>0.090256095</td>\n",
       "    </tr>\n",
       "  </tbody>\n",
       "</table>\n",
       "<p>11393 rows × 3 columns</p>\n",
       "</div>"
      ],
      "text/plain": [
       "                Name       label    gpn_score\n",
       "0      SNP_PAT_00001      Common   -1.5404252\n",
       "1      SNP_PAT_00002      Common   0.19373989\n",
       "2      SNP_PAT_00003      Common   -2.5867186\n",
       "3      SNP_PAT_00004      Common  -0.76693577\n",
       "4      SNP_PAT_00005      Common   -1.6453758\n",
       "...              ...         ...          ...\n",
       "11431  SNP_PAT_11432  Pathogenic     -5.67437\n",
       "11432  SNP_PAT_11433  Pathogenic    -8.000279\n",
       "11433  SNP_PAT_11434  Pathogenic    -6.372505\n",
       "11434  SNP_PAT_11435  Pathogenic    -6.439803\n",
       "11435  SNP_PAT_11436  Pathogenic  0.090256095\n",
       "\n",
       "[11393 rows x 3 columns]"
      ]
     },
     "execution_count": 5,
     "metadata": {},
     "output_type": "execute_result"
    }
   ],
   "source": [
    "df_pathogenic_set = df_pathogenic_set[df_pathogenic_set[\"gpn_score\"].str.contains(\"No score\") == False]\n",
    "df_pathogenic_set"
   ]
  },
  {
   "cell_type": "markdown",
   "metadata": {},
   "source": [
    "## Convert gpn_score to floating point"
   ]
  },
  {
   "cell_type": "code",
   "execution_count": 6,
   "metadata": {},
   "outputs": [
    {
     "data": {
      "text/html": [
       "<div>\n",
       "<style scoped>\n",
       "    .dataframe tbody tr th:only-of-type {\n",
       "        vertical-align: middle;\n",
       "    }\n",
       "\n",
       "    .dataframe tbody tr th {\n",
       "        vertical-align: top;\n",
       "    }\n",
       "\n",
       "    .dataframe thead th {\n",
       "        text-align: right;\n",
       "    }\n",
       "</style>\n",
       "<table border=\"1\" class=\"dataframe\">\n",
       "  <thead>\n",
       "    <tr style=\"text-align: right;\">\n",
       "      <th></th>\n",
       "      <th>Name</th>\n",
       "      <th>label</th>\n",
       "      <th>gpn_score</th>\n",
       "    </tr>\n",
       "  </thead>\n",
       "  <tbody>\n",
       "    <tr>\n",
       "      <th>0</th>\n",
       "      <td>SNP_PAT_00001</td>\n",
       "      <td>Common</td>\n",
       "      <td>-1.540425</td>\n",
       "    </tr>\n",
       "    <tr>\n",
       "      <th>1</th>\n",
       "      <td>SNP_PAT_00002</td>\n",
       "      <td>Common</td>\n",
       "      <td>0.193740</td>\n",
       "    </tr>\n",
       "    <tr>\n",
       "      <th>2</th>\n",
       "      <td>SNP_PAT_00003</td>\n",
       "      <td>Common</td>\n",
       "      <td>-2.586719</td>\n",
       "    </tr>\n",
       "    <tr>\n",
       "      <th>3</th>\n",
       "      <td>SNP_PAT_00004</td>\n",
       "      <td>Common</td>\n",
       "      <td>-0.766936</td>\n",
       "    </tr>\n",
       "    <tr>\n",
       "      <th>4</th>\n",
       "      <td>SNP_PAT_00005</td>\n",
       "      <td>Common</td>\n",
       "      <td>-1.645376</td>\n",
       "    </tr>\n",
       "    <tr>\n",
       "      <th>...</th>\n",
       "      <td>...</td>\n",
       "      <td>...</td>\n",
       "      <td>...</td>\n",
       "    </tr>\n",
       "    <tr>\n",
       "      <th>11431</th>\n",
       "      <td>SNP_PAT_11432</td>\n",
       "      <td>Pathogenic</td>\n",
       "      <td>-5.674370</td>\n",
       "    </tr>\n",
       "    <tr>\n",
       "      <th>11432</th>\n",
       "      <td>SNP_PAT_11433</td>\n",
       "      <td>Pathogenic</td>\n",
       "      <td>-8.000279</td>\n",
       "    </tr>\n",
       "    <tr>\n",
       "      <th>11433</th>\n",
       "      <td>SNP_PAT_11434</td>\n",
       "      <td>Pathogenic</td>\n",
       "      <td>-6.372505</td>\n",
       "    </tr>\n",
       "    <tr>\n",
       "      <th>11434</th>\n",
       "      <td>SNP_PAT_11435</td>\n",
       "      <td>Pathogenic</td>\n",
       "      <td>-6.439803</td>\n",
       "    </tr>\n",
       "    <tr>\n",
       "      <th>11435</th>\n",
       "      <td>SNP_PAT_11436</td>\n",
       "      <td>Pathogenic</td>\n",
       "      <td>0.090256</td>\n",
       "    </tr>\n",
       "  </tbody>\n",
       "</table>\n",
       "<p>11393 rows × 3 columns</p>\n",
       "</div>"
      ],
      "text/plain": [
       "                Name       label  gpn_score\n",
       "0      SNP_PAT_00001      Common  -1.540425\n",
       "1      SNP_PAT_00002      Common   0.193740\n",
       "2      SNP_PAT_00003      Common  -2.586719\n",
       "3      SNP_PAT_00004      Common  -0.766936\n",
       "4      SNP_PAT_00005      Common  -1.645376\n",
       "...              ...         ...        ...\n",
       "11431  SNP_PAT_11432  Pathogenic  -5.674370\n",
       "11432  SNP_PAT_11433  Pathogenic  -8.000279\n",
       "11433  SNP_PAT_11434  Pathogenic  -6.372505\n",
       "11434  SNP_PAT_11435  Pathogenic  -6.439803\n",
       "11435  SNP_PAT_11436  Pathogenic   0.090256\n",
       "\n",
       "[11393 rows x 3 columns]"
      ]
     },
     "execution_count": 6,
     "metadata": {},
     "output_type": "execute_result"
    }
   ],
   "source": [
    "df_pathogenic_set['gpn_score'] = df_pathogenic_set['gpn_score'].astype(float)\n",
    "df_pathogenic_set"
   ]
  },
  {
   "cell_type": "markdown",
   "metadata": {
    "id": "7WqloMgqIcVo"
   },
   "source": [
    "## Plot shows differentiation between Common and Pathogenic mutations"
   ]
  },
  {
   "cell_type": "code",
   "execution_count": 7,
   "metadata": {
    "colab": {
     "base_uri": "https://localhost:8080/",
     "height": 466
    },
    "id": "Dc2zMD0nzj-A",
    "outputId": "7f888a71-74c2-45e5-90fe-92935bd82632"
   },
   "outputs": [
    {
     "data": {
      "text/plain": [
       "<AxesSubplot:xlabel='gpn_score', ylabel='Count'>"
      ]
     },
     "execution_count": 7,
     "metadata": {},
     "output_type": "execute_result"
    },
    {
     "data": {
      "image/png": "[encoded data removed]",
      "text/plain": [
       "<Figure size 432x288 with 1 Axes>"
      ]
     },
     "metadata": {
      "needs_background": "light"
     },
     "output_type": "display_data"
    }
   ],
   "source": [
    "sns.histplot(data=df_pathogenic_set, x=\"gpn_score\", hue=\"label\")"
   ]
  },
  {
   "cell_type": "markdown",
   "metadata": {},
   "source": [
    "## Calculate metrics"
   ]
  },
  {
   "cell_type": "code",
   "execution_count": 8,
   "metadata": {},
   "outputs": [
    {
     "data": {
      "text/plain": [
       "(0.8266347969395615, 0.4898646964614233)"
      ]
     },
     "execution_count": 8,
     "metadata": {},
     "output_type": "execute_result"
    }
   ],
   "source": [
    "from sklearn.metrics import roc_auc_score, average_precision_score, f1_score\n",
    "\n",
    "AUROC = roc_auc_score(df_pathogenic_set.label==\"Pathogenic\", -df_pathogenic_set.gpn_score)\n",
    "AUPRC = average_precision_score(df_pathogenic_set.label==\"Pathogenic\", -df_pathogenic_set.gpn_score)\n",
    "AUROC, AUPRC"
   ]
  },
  {
   "cell_type": "markdown",
   "metadata": {},
   "source": [
    "## Plot ROC curve"
   ]
  },
  {
   "cell_type": "code",
   "execution_count": 9,
   "metadata": {},
   "outputs": [],
   "source": [
    "from sklearn.metrics import roc_curve\n",
    "\n",
    "fpr, tpr, thresholds = roc_curve(df_pathogenic_set.label==\"Pathogenic\", -df_pathogenic_set.gpn_score)"
   ]
  },
  {
   "cell_type": "code",
   "execution_count": 10,
   "metadata": {},
   "outputs": [
    {
     "data": {
      "image/png": "[encoded data removed]",
      "text/plain": [
       "<Figure size 576x432 with 1 Axes>"
      ]
     },
     "metadata": {
      "needs_background": "light"
     },
     "output_type": "display_data"
    }
   ],
   "source": [
    "plt.figure(figsize=(8, 6))\n",
    "plt.plot(fpr, tpr, color='b', lw=2, label=f'ROC curve (AUC = {AUROC:.2f})')\n",
    "plt.plot([0, 1], [0, 1], color='gray', linestyle='--')\n",
    "plt.xlim([0.0, 1.0])\n",
    "plt.ylim([0.0, 1.05])\n",
    "plt.xlabel('False Positive Rate (FPR)')\n",
    "plt.ylabel('True Positive Rate (TPR)')\n",
    "plt.title('Receiver Operating Characteristic (ROC) Curve')\n",
    "plt.legend(loc='lower right')\n",
    "plt.grid(True)\n",
    "plt.show()"
   ]
  },
  {
   "cell_type": "code",
   "execution_count": 11,
   "metadata": {},
   "outputs": [],
   "source": [
    "from numpy import asarray\n",
    "from numpy import mean\n",
    "from numpy import std\n",
    "from sklearn.datasets import make_classification\n",
    "from xgboost import XGBClassifier\n",
    "from sklearn.model_selection import cross_val_score\n",
    "from sklearn.model_selection import RepeatedStratifiedKFold\n",
    "from matplotlib import pyplot"
   ]
  },
  {
   "cell_type": "code",
   "execution_count": 12,
   "metadata": {},
   "outputs": [],
   "source": [
    "X = df_pathogenic_set['gpn_score']\n",
    "y = df_pathogenic_set['label']"
   ]
  },
  {
   "cell_type": "code",
   "execution_count": 13,
   "metadata": {},
   "outputs": [],
   "source": [
    "X = X.values.reshape(-1,1)"
   ]
  },
  {
   "cell_type": "code",
   "execution_count": 14,
   "metadata": {},
   "outputs": [
    {
     "data": {
      "text/plain": [
       "array([[-1.5404252 ],\n",
       "       [ 0.19373989],\n",
       "       [-2.5867186 ],\n",
       "       ...,\n",
       "       [-6.372505  ],\n",
       "       [-6.439803  ],\n",
       "       [ 0.09025609]])"
      ]
     },
     "execution_count": 14,
     "metadata": {},
     "output_type": "execute_result"
    }
   ],
   "source": [
    "X"
   ]
  },
  {
   "cell_type": "code",
   "execution_count": 15,
   "metadata": {},
   "outputs": [],
   "source": [
    "y = df_pathogenic_set['label'] == 'Pathogenic'\n",
    "y = y.astype(int)"
   ]
  },
  {
   "cell_type": "code",
   "execution_count": 16,
   "metadata": {},
   "outputs": [
    {
     "data": {
      "text/plain": [
       "0        0\n",
       "1        0\n",
       "2        0\n",
       "3        0\n",
       "4        0\n",
       "        ..\n",
       "11431    1\n",
       "11432    1\n",
       "11433    1\n",
       "11434    1\n",
       "11435    1\n",
       "Name: label, Length: 11393, dtype: int64"
      ]
     },
     "execution_count": 16,
     "metadata": {},
     "output_type": "execute_result"
    }
   ],
   "source": [
    "y"
   ]
  },
  {
   "cell_type": "code",
   "execution_count": 17,
   "metadata": {},
   "outputs": [],
   "source": [
    "from sklearn.model_selection import train_test_split\n",
    "test_size = 0.3\n",
    "seed = 7\n",
    "X_train, X_test, y_train, y_test = train_test_split(X, y, test_size=test_size, random_state=seed)"
   ]
  },
  {
   "cell_type": "code",
   "execution_count": 18,
   "metadata": {},
   "outputs": [],
   "source": [
    "from sklearn.linear_model import LogisticRegression\n",
    "\n",
    "lr_model = LogisticRegression(solver='lbfgs', max_iter=1000)\n",
    "lr_train_model = lr_model.fit(X_train,y_train)\n",
    "pred_lr = lr_model.predict(X_test)"
   ]
  },
  {
   "cell_type": "code",
   "execution_count": 19,
   "metadata": {},
   "outputs": [
    {
     "name": "stdout",
     "output_type": "stream",
     "text": [
      "Accuracy_model_lr: 0.9269\n",
      "F1_model_lr: 0.3316\n",
      "MCC_model_lr: 0.3682\n",
      "ROC_AUC_model_lr: 0.6038\n"
     ]
    }
   ],
   "source": [
    "from sklearn.metrics import accuracy_score, f1_score, matthews_corrcoef, roc_auc_score\n",
    "\n",
    "print(\"Accuracy_model_lr: %.4f\" % (accuracy_score(y_test, pred_lr))) \n",
    "print(\"F1_model_lr: %.4f\" % (f1_score(y_test, pred_lr)))\n",
    "print(\"MCC_model_lr: %.4f\" % (matthews_corrcoef(y_test, pred_lr)))\n",
    "print(\"ROC_AUC_model_lr: %.4f\" % (roc_auc_score(y_test, pred_lr))) # don't know about call: y_score vs. pred"
   ]
  },
  {
   "cell_type": "code",
   "execution_count": 20,
   "metadata": {},
   "outputs": [
    {
     "name": "stdout",
     "output_type": "stream",
     "text": [
      "Accuracy_model1: 0.9292\n",
      "Accuracy_model2: 0.9301\n",
      "F1_model1: 0.3763\n",
      "F1_model2: 0.3949\n",
      "MCC_model1: 0.4036\n",
      "MCC_model2: 0.4172\n",
      "ROC_AUC_model1: 0.6224\n",
      "ROC_AUC_model2: 0.6308\n"
     ]
    }
   ],
   "source": [
    "model1 = XGBClassifier() \n",
    "model2 = XGBClassifier(n_estimators=100, max_depth=8, learning_rate=0.1, subsample=0.5) \n",
    "train_model1 = model1.fit(X_train, y_train) \n",
    "train_model2 = model2.fit(X_train, y_train) \n",
    "pred1 = train_model1.predict(X_test) \n",
    "pred2 = train_model2.predict(X_test) \n",
    "print(\"Accuracy_model1: %.4f\" % (accuracy_score(y_test, pred1))) \n",
    "print(\"Accuracy_model2: %.4f\" % (accuracy_score(y_test, pred2))) \n",
    "print(\"F1_model1: %.4f\" % (f1_score(y_test, pred1)))\n",
    "print(\"F1_model2: %.4f\" % (f1_score(y_test, pred2)))\n",
    "print(\"MCC_model1: %.4f\" % (matthews_corrcoef(y_test, pred1)))\n",
    "print(\"MCC_model2: %.4f\" % (matthews_corrcoef(y_test, pred2)))\n",
    "print(\"ROC_AUC_model1: %.4f\" % (roc_auc_score(y_test, pred1))) # don't know about call: y_score vs. pred\n",
    "print(\"ROC_AUC_model2: %.4f\" % (roc_auc_score(y_test, pred2))) # don't know about call: y_score vs. pred"
   ]
  },
  {
   "cell_type": "code",
   "execution_count": 21,
   "metadata": {},
   "outputs": [
    {
     "name": "stdout",
     "output_type": "stream",
     "text": [
      "73 27 215 3103\n"
     ]
    }
   ],
   "source": [
    "from sklearn.metrics import confusion_matrix\n",
    "\n",
    "tn, fp, fn, tp = confusion_matrix(y_test, pred1).ravel()\n",
    "print(tp, fp, fn, tn)"
   ]
  },
  {
   "cell_type": "code",
   "execution_count": 22,
   "metadata": {},
   "outputs": [
    {
     "data": {
      "text/plain": [
       "<sklearn.metrics._plot.roc_curve.RocCurveDisplay at 0x1554376e8a60>"
      ]
     },
     "execution_count": 22,
     "metadata": {},
     "output_type": "execute_result"
    },
    {
     "data": {
      "image/png": "[encoded data removed]",
      "text/plain": [
       "<Figure size 432x288 with 1 Axes>"
      ]
     },
     "metadata": {
      "needs_background": "light"
     },
     "output_type": "display_data"
    }
   ],
   "source": [
    "import matplotlib.pyplot as plt\n",
    "from sklearn import metrics\n",
    "from sklearn.metrics import roc_curve\n",
    "\n",
    "fpr, tpr, _ = roc_curve(y_test, pred1)\n",
    "roc_auc = roc_auc_score(y_test, pred1)\n",
    "display = metrics.RocCurveDisplay(fpr=fpr, tpr=tpr, roc_auc=roc_auc)\n",
    "display.plot(name=\"ROC Curve\")"
   ]
  },
  {
   "cell_type": "code",
   "execution_count": 23,
   "metadata": {},
   "outputs": [
    {
     "name": "stdout",
     "output_type": "stream",
     "text": [
      "Accuracy_model3: 0.9292\n",
      "F1_model3: 0.3763\n",
      "MCC_model3: 0.4036\n",
      "ROC_AUC_model3: 0.6224\n"
     ]
    }
   ],
   "source": [
    "model3 = XGBClassifier(\n",
    " learning_rate =0.1,\n",
    " n_estimators=1000,\n",
    " max_depth=5,\n",
    " min_child_weight=1,\n",
    " gamma=0,\n",
    " subsample=0.8,\n",
    " colsample_bytree=0.8,\n",
    " objective= 'binary:logistic',\n",
    " nthread=4,\n",
    " scale_pos_weight=1,\n",
    " seed=7)\n",
    "\n",
    "train_model3 = model3.fit(X_train, y_train)\n",
    "pred3 = train_model3.predict(X_test)\n",
    "print(\"Accuracy_model3: %.4f\" % (accuracy_score(y_test, pred3)))\n",
    "print(\"F1_model3: %.4f\" % (f1_score(y_test, pred3)))\n",
    "print(\"MCC_model3: %.4f\" % (matthews_corrcoef(y_test, pred3)))\n",
    "print(\"ROC_AUC_model3: %.4f\" % (roc_auc_score(y_test, pred3))) # don't know about call: y_score vs. pred"
   ]
  },
  {
   "cell_type": "code",
   "execution_count": 24,
   "metadata": {},
   "outputs": [
    {
     "name": "stdout",
     "output_type": "stream",
     "text": [
      "Accuracy_model_regbase: 0.8198\n",
      "F1_model_regbase: 0.3663\n",
      "MCC_model_regbase: 0.3169\n",
      "ROC_AUC_model_regbase: 0.7282\n"
     ]
    }
   ],
   "source": [
    "model_regbase = XGBClassifier(\n",
    "    colsample_bylevel = 0.3,\n",
    "    colsample_bytree = 1.0,\n",
    "    gamma = 3.6,\n",
    "    learning_rate = 0.1,\n",
    "    max_depth = 8,\n",
    "    min_child_weight = 3,\n",
    "    n_estimators = 100,\n",
    "    reg_alpha = 0.001,\n",
    "    reg_lambda = 2,\n",
    "    scale_pos_weight = 12.1599539701,\n",
    "    subsample = 0.7)\n",
    "\n",
    "train_model_regbase = model_regbase.fit(X_train, y_train)\n",
    "pred_regbase = train_model_regbase.predict(X_test)\n",
    "print(\"Accuracy_model_regbase: %.4f\" % (accuracy_score(y_test, pred_regbase)))\n",
    "print(\"F1_model_regbase: %.4f\" % (f1_score(y_test, pred_regbase)))\n",
    "print(\"MCC_model_regbase: %.4f\" % (matthews_corrcoef(y_test, pred_regbase)))\n",
    "print(\"ROC_AUC_model_regbase: %.4f\" % (roc_auc_score(y_test, pred_regbase)))"
   ]
  },
  {
   "cell_type": "code",
   "execution_count": 25,
   "metadata": {},
   "outputs": [],
   "source": [
    "import xgboost as xgb\n",
    "\n",
    "data_matrix = xgb.DMatrix(data=X, label=y)\n",
    "\n",
    "params = {\n",
    "    \"colsample_bylevel\": 0.3,\n",
    "    \"colsample_bytree\": 1.0,\n",
    "    \"gamma\": 3.6,\n",
    "    \"learning_rate\": 0.1,\n",
    "    \"max_depth\": 8,\n",
    "    \"min_child_weight\": 3,\n",
    "    \"alpha\": 0.001,\n",
    "    \"lambda\": 2,\n",
    "    \"scale_pos_weight\": 12.1599539701,\n",
    "    \"subsample\": 0.7\n",
    "}\n",
    "\n",
    "xgb_cv = xgb.cv(dtrain=data_matrix, params=params, nfold=10,\n",
    "                    num_boost_round=100, early_stopping_rounds=10, metrics=\"auc\", as_pandas=True, seed=7)"
   ]
  },
  {
   "cell_type": "code",
   "execution_count": 26,
   "metadata": {},
   "outputs": [
    {
     "data": {
      "text/html": [
       "<div>\n",
       "<style scoped>\n",
       "    .dataframe tbody tr th:only-of-type {\n",
       "        vertical-align: middle;\n",
       "    }\n",
       "\n",
       "    .dataframe tbody tr th {\n",
       "        vertical-align: top;\n",
       "    }\n",
       "\n",
       "    .dataframe thead th {\n",
       "        text-align: right;\n",
       "    }\n",
       "</style>\n",
       "<table border=\"1\" class=\"dataframe\">\n",
       "  <thead>\n",
       "    <tr style=\"text-align: right;\">\n",
       "      <th></th>\n",
       "      <th>train-auc-mean</th>\n",
       "      <th>train-auc-std</th>\n",
       "      <th>test-auc-mean</th>\n",
       "      <th>test-auc-std</th>\n",
       "    </tr>\n",
       "  </thead>\n",
       "  <tbody>\n",
       "    <tr>\n",
       "      <th>0</th>\n",
       "      <td>0.836722</td>\n",
       "      <td>0.004076</td>\n",
       "      <td>0.812844</td>\n",
       "      <td>0.026510</td>\n",
       "    </tr>\n",
       "    <tr>\n",
       "      <th>1</th>\n",
       "      <td>0.840395</td>\n",
       "      <td>0.003079</td>\n",
       "      <td>0.818270</td>\n",
       "      <td>0.021587</td>\n",
       "    </tr>\n",
       "    <tr>\n",
       "      <th>2</th>\n",
       "      <td>0.842696</td>\n",
       "      <td>0.003522</td>\n",
       "      <td>0.820475</td>\n",
       "      <td>0.021129</td>\n",
       "    </tr>\n",
       "    <tr>\n",
       "      <th>3</th>\n",
       "      <td>0.844159</td>\n",
       "      <td>0.003541</td>\n",
       "      <td>0.821075</td>\n",
       "      <td>0.022778</td>\n",
       "    </tr>\n",
       "    <tr>\n",
       "      <th>4</th>\n",
       "      <td>0.844877</td>\n",
       "      <td>0.003580</td>\n",
       "      <td>0.820197</td>\n",
       "      <td>0.022356</td>\n",
       "    </tr>\n",
       "    <tr>\n",
       "      <th>5</th>\n",
       "      <td>0.844947</td>\n",
       "      <td>0.003892</td>\n",
       "      <td>0.820751</td>\n",
       "      <td>0.021636</td>\n",
       "    </tr>\n",
       "    <tr>\n",
       "      <th>6</th>\n",
       "      <td>0.845480</td>\n",
       "      <td>0.003596</td>\n",
       "      <td>0.821411</td>\n",
       "      <td>0.021434</td>\n",
       "    </tr>\n",
       "    <tr>\n",
       "      <th>7</th>\n",
       "      <td>0.845503</td>\n",
       "      <td>0.003691</td>\n",
       "      <td>0.822596</td>\n",
       "      <td>0.022179</td>\n",
       "    </tr>\n",
       "    <tr>\n",
       "      <th>8</th>\n",
       "      <td>0.845686</td>\n",
       "      <td>0.003772</td>\n",
       "      <td>0.822614</td>\n",
       "      <td>0.022292</td>\n",
       "    </tr>\n",
       "    <tr>\n",
       "      <th>9</th>\n",
       "      <td>0.845803</td>\n",
       "      <td>0.003562</td>\n",
       "      <td>0.822880</td>\n",
       "      <td>0.022113</td>\n",
       "    </tr>\n",
       "    <tr>\n",
       "      <th>10</th>\n",
       "      <td>0.846150</td>\n",
       "      <td>0.003715</td>\n",
       "      <td>0.822434</td>\n",
       "      <td>0.023293</td>\n",
       "    </tr>\n",
       "    <tr>\n",
       "      <th>11</th>\n",
       "      <td>0.846529</td>\n",
       "      <td>0.003347</td>\n",
       "      <td>0.822144</td>\n",
       "      <td>0.022869</td>\n",
       "    </tr>\n",
       "    <tr>\n",
       "      <th>12</th>\n",
       "      <td>0.846581</td>\n",
       "      <td>0.003380</td>\n",
       "      <td>0.822732</td>\n",
       "      <td>0.022996</td>\n",
       "    </tr>\n",
       "    <tr>\n",
       "      <th>13</th>\n",
       "      <td>0.846759</td>\n",
       "      <td>0.003165</td>\n",
       "      <td>0.822892</td>\n",
       "      <td>0.023269</td>\n",
       "    </tr>\n",
       "    <tr>\n",
       "      <th>14</th>\n",
       "      <td>0.846968</td>\n",
       "      <td>0.003120</td>\n",
       "      <td>0.822792</td>\n",
       "      <td>0.023076</td>\n",
       "    </tr>\n",
       "    <tr>\n",
       "      <th>15</th>\n",
       "      <td>0.846941</td>\n",
       "      <td>0.003009</td>\n",
       "      <td>0.823341</td>\n",
       "      <td>0.023199</td>\n",
       "    </tr>\n",
       "    <tr>\n",
       "      <th>16</th>\n",
       "      <td>0.847332</td>\n",
       "      <td>0.003105</td>\n",
       "      <td>0.823822</td>\n",
       "      <td>0.023319</td>\n",
       "    </tr>\n",
       "    <tr>\n",
       "      <th>17</th>\n",
       "      <td>0.847308</td>\n",
       "      <td>0.003111</td>\n",
       "      <td>0.823681</td>\n",
       "      <td>0.023248</td>\n",
       "    </tr>\n",
       "    <tr>\n",
       "      <th>18</th>\n",
       "      <td>0.847521</td>\n",
       "      <td>0.003321</td>\n",
       "      <td>0.823898</td>\n",
       "      <td>0.023193</td>\n",
       "    </tr>\n",
       "    <tr>\n",
       "      <th>19</th>\n",
       "      <td>0.847508</td>\n",
       "      <td>0.003304</td>\n",
       "      <td>0.823891</td>\n",
       "      <td>0.023218</td>\n",
       "    </tr>\n",
       "    <tr>\n",
       "      <th>20</th>\n",
       "      <td>0.847508</td>\n",
       "      <td>0.003298</td>\n",
       "      <td>0.824396</td>\n",
       "      <td>0.022720</td>\n",
       "    </tr>\n",
       "    <tr>\n",
       "      <th>21</th>\n",
       "      <td>0.847783</td>\n",
       "      <td>0.003189</td>\n",
       "      <td>0.823921</td>\n",
       "      <td>0.022694</td>\n",
       "    </tr>\n",
       "    <tr>\n",
       "      <th>22</th>\n",
       "      <td>0.847824</td>\n",
       "      <td>0.003169</td>\n",
       "      <td>0.824046</td>\n",
       "      <td>0.022258</td>\n",
       "    </tr>\n",
       "    <tr>\n",
       "      <th>23</th>\n",
       "      <td>0.847948</td>\n",
       "      <td>0.003186</td>\n",
       "      <td>0.824081</td>\n",
       "      <td>0.022320</td>\n",
       "    </tr>\n",
       "    <tr>\n",
       "      <th>24</th>\n",
       "      <td>0.848045</td>\n",
       "      <td>0.003119</td>\n",
       "      <td>0.824250</td>\n",
       "      <td>0.022924</td>\n",
       "    </tr>\n",
       "    <tr>\n",
       "      <th>25</th>\n",
       "      <td>0.848148</td>\n",
       "      <td>0.003282</td>\n",
       "      <td>0.824381</td>\n",
       "      <td>0.022669</td>\n",
       "    </tr>\n",
       "    <tr>\n",
       "      <th>26</th>\n",
       "      <td>0.848115</td>\n",
       "      <td>0.003191</td>\n",
       "      <td>0.824787</td>\n",
       "      <td>0.022550</td>\n",
       "    </tr>\n",
       "    <tr>\n",
       "      <th>27</th>\n",
       "      <td>0.848096</td>\n",
       "      <td>0.003203</td>\n",
       "      <td>0.825070</td>\n",
       "      <td>0.022479</td>\n",
       "    </tr>\n",
       "    <tr>\n",
       "      <th>28</th>\n",
       "      <td>0.848178</td>\n",
       "      <td>0.003238</td>\n",
       "      <td>0.825059</td>\n",
       "      <td>0.022622</td>\n",
       "    </tr>\n",
       "    <tr>\n",
       "      <th>29</th>\n",
       "      <td>0.848216</td>\n",
       "      <td>0.003270</td>\n",
       "      <td>0.825050</td>\n",
       "      <td>0.022551</td>\n",
       "    </tr>\n",
       "    <tr>\n",
       "      <th>30</th>\n",
       "      <td>0.848255</td>\n",
       "      <td>0.003254</td>\n",
       "      <td>0.825040</td>\n",
       "      <td>0.022486</td>\n",
       "    </tr>\n",
       "    <tr>\n",
       "      <th>31</th>\n",
       "      <td>0.848251</td>\n",
       "      <td>0.003243</td>\n",
       "      <td>0.825150</td>\n",
       "      <td>0.022309</td>\n",
       "    </tr>\n",
       "    <tr>\n",
       "      <th>32</th>\n",
       "      <td>0.848242</td>\n",
       "      <td>0.003227</td>\n",
       "      <td>0.825175</td>\n",
       "      <td>0.022329</td>\n",
       "    </tr>\n",
       "    <tr>\n",
       "      <th>33</th>\n",
       "      <td>0.848240</td>\n",
       "      <td>0.003229</td>\n",
       "      <td>0.825200</td>\n",
       "      <td>0.022372</td>\n",
       "    </tr>\n",
       "    <tr>\n",
       "      <th>34</th>\n",
       "      <td>0.848207</td>\n",
       "      <td>0.003213</td>\n",
       "      <td>0.825252</td>\n",
       "      <td>0.022370</td>\n",
       "    </tr>\n",
       "  </tbody>\n",
       "</table>\n",
       "</div>"
      ],
      "text/plain": [
       "    train-auc-mean  train-auc-std  test-auc-mean  test-auc-std\n",
       "0         0.836722       0.004076       0.812844      0.026510\n",
       "1         0.840395       0.003079       0.818270      0.021587\n",
       "2         0.842696       0.003522       0.820475      0.021129\n",
       "3         0.844159       0.003541       0.821075      0.022778\n",
       "4         0.844877       0.003580       0.820197      0.022356\n",
       "5         0.844947       0.003892       0.820751      0.021636\n",
       "6         0.845480       0.003596       0.821411      0.021434\n",
       "7         0.845503       0.003691       0.822596      0.022179\n",
       "8         0.845686       0.003772       0.822614      0.022292\n",
       "9         0.845803       0.003562       0.822880      0.022113\n",
       "10        0.846150       0.003715       0.822434      0.023293\n",
       "11        0.846529       0.003347       0.822144      0.022869\n",
       "12        0.846581       0.003380       0.822732      0.022996\n",
       "13        0.846759       0.003165       0.822892      0.023269\n",
       "14        0.846968       0.003120       0.822792      0.023076\n",
       "15        0.846941       0.003009       0.823341      0.023199\n",
       "16        0.847332       0.003105       0.823822      0.023319\n",
       "17        0.847308       0.003111       0.823681      0.023248\n",
       "18        0.847521       0.003321       0.823898      0.023193\n",
       "19        0.847508       0.003304       0.823891      0.023218\n",
       "20        0.847508       0.003298       0.824396      0.022720\n",
       "21        0.847783       0.003189       0.823921      0.022694\n",
       "22        0.847824       0.003169       0.824046      0.022258\n",
       "23        0.847948       0.003186       0.824081      0.022320\n",
       "24        0.848045       0.003119       0.824250      0.022924\n",
       "25        0.848148       0.003282       0.824381      0.022669\n",
       "26        0.848115       0.003191       0.824787      0.022550\n",
       "27        0.848096       0.003203       0.825070      0.022479\n",
       "28        0.848178       0.003238       0.825059      0.022622\n",
       "29        0.848216       0.003270       0.825050      0.022551\n",
       "30        0.848255       0.003254       0.825040      0.022486\n",
       "31        0.848251       0.003243       0.825150      0.022309\n",
       "32        0.848242       0.003227       0.825175      0.022329\n",
       "33        0.848240       0.003229       0.825200      0.022372\n",
       "34        0.848207       0.003213       0.825252      0.022370"
      ]
     },
     "execution_count": 26,
     "metadata": {},
     "output_type": "execute_result"
    }
   ],
   "source": [
    "xgb_cv"
   ]
  },
  {
   "cell_type": "code",
   "execution_count": 27,
   "metadata": {},
   "outputs": [
    {
     "data": {
      "text/plain": [
       "XGBClassifier(base_score=None, booster=None, callbacks=None,\n",
       "              colsample_bylevel=0.3, colsample_bynode=None,\n",
       "              colsample_bytree=1.0, device=None, early_stopping_rounds=None,\n",
       "              enable_categorical=False, eval_metric=None, feature_types=None,\n",
       "              gamma=3.6, grow_policy=None, importance_type=None,\n",
       "              interaction_constraints=None, learning_rate=0.1, max_bin=None,\n",
       "              max_cat_threshold=None, max_cat_to_onehot=None,\n",
       "              max_delta_step=None, max_depth=8, max_leaves=None,\n",
       "              min_child_weight=3, missing=nan, monotone_constraints=None,\n",
       "              multi_strategy=None, n_estimators=35, n_jobs=None,\n",
       "              num_parallel_tree=None, random_state=None, ...)"
      ]
     },
     "execution_count": 27,
     "metadata": {},
     "output_type": "execute_result"
    }
   ],
   "source": [
    "model_regbase.set_params(n_estimators=xgb_cv.shape[0])"
   ]
  },
  {
   "cell_type": "code",
   "execution_count": 28,
   "metadata": {},
   "outputs": [
    {
     "name": "stdout",
     "output_type": "stream",
     "text": [
      "Accuracy_model_regbase: 0.8461\n",
      "F1_model_regbase: 0.3968\n",
      "MCC_model_regbase: 0.3464\n",
      "ROC_AUC_model_regbase: 0.7347\n"
     ]
    }
   ],
   "source": [
    "train_model_regbase_cv = model_regbase.fit(X_train,y_train)\n",
    "pred_regbase_cv = train_model_regbase.predict(X_test)\n",
    "print(\"Accuracy_model_regbase: %.4f\" % (accuracy_score(y_test, pred_regbase_cv)))\n",
    "print(\"F1_model_regbase: %.4f\" % (f1_score(y_test, pred_regbase_cv)))\n",
    "print(\"MCC_model_regbase: %.4f\" % (matthews_corrcoef(y_test, pred_regbase_cv)))\n",
    "print(\"ROC_AUC_model_regbase: %.4f\" % (roc_auc_score(y_test, pred_regbase_cv)))"
   ]
  },
  {
   "cell_type": "code",
   "execution_count": 29,
   "metadata": {},
   "outputs": [
    {
     "name": "stdout",
     "output_type": "stream",
     "text": [
      "Fitting 10 folds for each of 16 candidates, totalling 160 fits\n",
      "Accuracy_model_cv3: 0.8806\n",
      "F1_model_cv3: 0.4441\n",
      "MCC_model_cv3: 0.3922\n",
      "ROC_AUC_model_cv3: 0.7378\n"
     ]
    }
   ],
   "source": [
    "from sklearn.model_selection import GridSearchCV\n",
    "\n",
    "param_test = {\n",
    " 'max_depth': range(2,10,2),\n",
    " 'min_child_weight': range(2,10,2)\n",
    "}\n",
    "    \n",
    "gsearch = GridSearchCV(estimator=XGBClassifier(colsample_bylevel = 0.3,\n",
    "                                                colsample_bytree = 1.0,\n",
    "                                                gamma = 3.6,\n",
    "                                                learning_rate = 0.1,\n",
    "                                                max_depth = 8,\n",
    "                                                min_child_weight = 3,\n",
    "                                                n_estimators = 27,\n",
    "                                                objective = 'binary:logistic',\n",
    "                                                reg_alpha = 0.001,\n",
    "                                                reg_lambda = 2,\n",
    "                                                scale_pos_weight = 12.1599539701,\n",
    "                                                subsample = 0.7), \n",
    "                       param_grid=param_test, \n",
    "                       scoring='roc_auc',\n",
    "                       n_jobs=4, \n",
    "                       verbose=4,\n",
    "                       return_train_score=True,\n",
    "                       cv=10,\n",
    "                       refit=True)\n",
    "\n",
    "train_model_regbase_cv3 = gsearch.fit(X_train, y_train)\n",
    "pred_regbase_cv3 = train_model_regbase_cv3.predict(X_test)\n",
    "print(\"Accuracy_model_cv3: %.4f\" % (accuracy_score(y_test, pred_regbase_cv3)))  \n",
    "print(\"F1_model_cv3: %.4f\" % (f1_score(y_test, pred_regbase_cv3)))  \n",
    "print(\"MCC_model_cv3: %.4f\" % (matthews_corrcoef(y_test, pred_regbase_cv3)))  \n",
    "print(\"ROC_AUC_model_cv3: %.4f\" % (roc_auc_score(y_test, pred_regbase_cv3)))  "
   ]
  },
  {
   "cell_type": "code",
   "execution_count": 30,
   "metadata": {},
   "outputs": [
    {
     "data": {
      "text/plain": [
       "{'max_depth': 2, 'min_child_weight': 2}"
      ]
     },
     "execution_count": 30,
     "metadata": {},
     "output_type": "execute_result"
    }
   ],
   "source": [
    "gsearch.cv_results_['params'][gsearch.best_index_]"
   ]
  },
  {
   "cell_type": "code",
   "execution_count": 31,
   "metadata": {},
   "outputs": [
    {
     "name": "stdout",
     "output_type": "stream",
     "text": [
      "Fitting 10 folds for each of 4 candidates, totalling 40 fits\n",
      "Accuracy_model_cv4: 0.8806\n",
      "F1_model_cv4: 0.4441\n",
      "MCC_model_cv4: 0.3922\n",
      "ROC_AUC_model_cv4: 0.7378\n"
     ]
    }
   ],
   "source": [
    "param_test = {\n",
    " 'max_depth': [1,2],\n",
    " 'min_child_weight': [1,2]\n",
    "}\n",
    "    \n",
    "gsearch = GridSearchCV(estimator=XGBClassifier(colsample_bylevel = 0.3,\n",
    "                                                colsample_bytree = 1.0,\n",
    "                                                gamma = 3.6,\n",
    "                                                learning_rate = 0.1,\n",
    "                                                max_depth = 8,\n",
    "                                                min_child_weight = 3,\n",
    "                                                n_estimators = 27,\n",
    "                                                objective = 'binary:logistic',\n",
    "                                                reg_alpha = 0.001,\n",
    "                                                reg_lambda = 2,\n",
    "                                                scale_pos_weight = 12.1599539701,\n",
    "                                                subsample = 0.7), \n",
    "                       param_grid=param_test, \n",
    "                       scoring='roc_auc',\n",
    "                       n_jobs=4, \n",
    "                       verbose=4,\n",
    "                       return_train_score=True,\n",
    "                       cv=10,\n",
    "                       refit=True)\n",
    "\n",
    "train_model_regbase_cv4 = gsearch.fit(X_train, y_train)\n",
    "pred_regbase_cv4 = train_model_regbase_cv4.predict(X_test)\n",
    "print(\"Accuracy_model_cv4: %.4f\" % (accuracy_score(y_test, pred_regbase_cv4)))  \n",
    "print(\"F1_model_cv4: %.4f\" % (f1_score(y_test, pred_regbase_cv4)))  \n",
    "print(\"MCC_model_cv4: %.4f\" % (matthews_corrcoef(y_test, pred_regbase_cv4)))  \n",
    "print(\"ROC_AUC_model_cv4: %.4f\" % (roc_auc_score(y_test, pred_regbase_cv4)))  "
   ]
  },
  {
   "cell_type": "code",
   "execution_count": 65,
   "metadata": {},
   "outputs": [
    {
     "name": "stdout",
     "output_type": "stream",
     "text": [
      "Fitting 10 folds for each of 4 candidates, totalling 40 fits\n",
      "Accuracy_model_cv5: 0.8406\n",
      "F1_model_cv5: 0.3911\n",
      "MCC_model_cv5: 0.3413\n",
      "ROC_AUC_model_cv5: 0.7348\n"
     ]
    }
   ],
   "source": [
    "param_test = {\n",
    " 'gamma': range(2,6),\n",
    "}\n",
    "    \n",
    "gsearch = GridSearchCV(estimator=XGBClassifier(colsample_bylevel = 0.3,\n",
    "                                                colsample_bytree = 1.0,\n",
    "                                                gamma = 3.6,\n",
    "                                                learning_rate = 0.1,\n",
    "                                                max_depth = 9,\n",
    "                                                min_child_weight = 9,\n",
    "                                                n_estimators = 27,\n",
    "                                                objective = 'binary:logistic',\n",
    "                                                reg_alpha = 0.001,\n",
    "                                                reg_lambda = 2,\n",
    "                                                scale_pos_weight = 12.1599539701,\n",
    "                                                subsample = 0.7), \n",
    "                       param_grid=param_test, \n",
    "                       scoring='roc_auc',\n",
    "                       n_jobs=4, \n",
    "                       verbose=4,\n",
    "                       return_train_score=True,\n",
    "                       cv=10,\n",
    "                       refit=True)\n",
    "\n",
    "train_model_regbase_cv5 = gsearch.fit(X_train, y_train)\n",
    "pred_regbase_cv5 = train_model_regbase_cv5.predict(X_test)\n",
    "print(\"Accuracy_model_cv5: %.4f\" % (accuracy_score(y_test, pred_regbase_cv5)))  \n",
    "print(\"F1_model_cv5: %.4f\" % (f1_score(y_test, pred_regbase_cv5)))  \n",
    "print(\"MCC_model_cv5: %.4f\" % (matthews_corrcoef(y_test, pred_regbase_cv5)))  \n",
    "print(\"ROC_AUC_model_cv5: %.4f\" % (roc_auc_score(y_test, pred_regbase_cv5))) "
   ]
  },
  {
   "cell_type": "code",
   "execution_count": 66,
   "metadata": {},
   "outputs": [
    {
     "name": "stdout",
     "output_type": "stream",
     "text": [
      "Fitting 10 folds for each of 16 candidates, totalling 160 fits\n",
      "Accuracy_model_cv6: 0.8449\n",
      "F1_model_cv6: 0.3950\n",
      "MCC_model_cv6: 0.3445\n",
      "ROC_AUC_model_cv6: 0.7341\n"
     ]
    }
   ],
   "source": [
    "param_test = {\n",
    "  'subsample': [i/10.0 for i in range(6,10)],\n",
    "  'colsample_bytree': [i/10.0 for i in range(6,10)]\n",
    "}\n",
    "    \n",
    "gsearch = GridSearchCV(estimator=XGBClassifier(colsample_bylevel = 0.3,\n",
    "                                                colsample_bytree = 1.0,\n",
    "                                                gamma = 3.6,\n",
    "                                                learning_rate = 0.1,\n",
    "                                                max_depth = 9,\n",
    "                                                min_child_weight = 9,\n",
    "                                                n_estimators = 27,\n",
    "                                                objective = 'binary:logistic',\n",
    "                                                reg_alpha = 0.001,\n",
    "                                                reg_lambda = 2,\n",
    "                                                scale_pos_weight = 12.1599539701,\n",
    "                                                subsample = 0.7), \n",
    "                       param_grid=param_test, \n",
    "                       scoring='roc_auc',\n",
    "                       n_jobs=4, \n",
    "                       verbose=4,\n",
    "                       return_train_score=True,\n",
    "                       cv=10,\n",
    "                       refit=True)\n",
    "\n",
    "train_model_regbase_cv6 = gsearch.fit(X_train, y_train)\n",
    "pred_regbase_cv6 = train_model_regbase_cv6.predict(X_test)\n",
    "print(\"Accuracy_model_cv6: %.4f\" % (accuracy_score(y_test, pred_regbase_cv6)))  \n",
    "print(\"F1_model_cv6: %.4f\" % (f1_score(y_test, pred_regbase_cv6)))  \n",
    "print(\"MCC_model_cv6: %.4f\" % (matthews_corrcoef(y_test, pred_regbase_cv6)))  \n",
    "print(\"ROC_AUC_model_cv6: %.4f\" % (roc_auc_score(y_test, pred_regbase_cv6))) "
   ]
  },
  {
   "cell_type": "code",
   "execution_count": 67,
   "metadata": {},
   "outputs": [
    {
     "name": "stdout",
     "output_type": "stream",
     "text": [
      "Fitting 10 folds for each of 6 candidates, totalling 60 fits\n",
      "Accuracy_model_cv7: 0.8490\n",
      "F1_model_cv7: 0.3958\n",
      "MCC_model_cv7: 0.3437\n",
      "ROC_AUC_model_cv7: 0.7300\n"
     ]
    }
   ],
   "source": [
    "param_test = {\n",
    "  'reg_alpha':[1e-5, 1e-4, 1e-3, 1e-2, 0.1, 1],\n",
    "}\n",
    "    \n",
    "gsearch = GridSearchCV(estimator=XGBClassifier(colsample_bylevel = 0.3,\n",
    "                                                colsample_bytree = 0.7,\n",
    "                                                gamma = 3.6,\n",
    "                                                learning_rate = 0.1,\n",
    "                                                max_depth = 9,\n",
    "                                                min_child_weight = 9,\n",
    "                                                n_estimators = 27,\n",
    "                                                objective = 'binary:logistic',\n",
    "                                                reg_alpha = 0.001,\n",
    "                                                reg_lambda = 2,\n",
    "                                                scale_pos_weight = 12.1599539701,\n",
    "                                                subsample = 0.9), \n",
    "                       param_grid=param_test, \n",
    "                       scoring='roc_auc',\n",
    "                       n_jobs=4, \n",
    "                       verbose=4,\n",
    "                       return_train_score=True,\n",
    "                       cv=10,\n",
    "                       refit=True)\n",
    "\n",
    "train_model_regbase_cv7 = gsearch.fit(X_train, y_train)\n",
    "pred_regbase_cv7 = train_model_regbase_cv7.predict(X_test)\n",
    "print(\"Accuracy_model_cv7: %.4f\" % (accuracy_score(y_test, pred_regbase_cv7)))  \n",
    "print(\"F1_model_cv7: %.4f\" % (f1_score(y_test, pred_regbase_cv7)))  \n",
    "print(\"MCC_model_cv7: %.4f\" % (matthews_corrcoef(y_test, pred_regbase_cv7)))  \n",
    "print(\"ROC_AUC_model_cv7: %.4f\" % (roc_auc_score(y_test, pred_regbase_cv7))) "
   ]
  },
  {
   "cell_type": "code",
   "execution_count": 68,
   "metadata": {},
   "outputs": [
    {
     "name": "stdout",
     "output_type": "stream",
     "text": [
      "Fitting 10 folds for each of 5 candidates, totalling 50 fits\n",
      "Accuracy_model_cv9: 0.8449\n",
      "F1_model_cv9: 0.3950\n",
      "MCC_model_cv9: 0.3445\n",
      "ROC_AUC_model_cv9: 0.7341\n"
     ]
    }
   ],
   "source": [
    "param_test = {\n",
    "  'learning_rate':[0.01, 0.05, 0.1, 0.15, 0.2],\n",
    "}\n",
    "    \n",
    "gsearch = GridSearchCV(estimator=XGBClassifier(colsample_bylevel = 0.3,\n",
    "                                                colsample_bytree = 0.7,\n",
    "                                                gamma = 3.6,\n",
    "                                                learning_rate = 0.1,\n",
    "                                                max_depth = 9,\n",
    "                                                min_child_weight = 9,\n",
    "                                                n_estimators = 27,\n",
    "                                                objective = 'binary:logistic',\n",
    "                                                reg_alpha = 0.001,\n",
    "                                                reg_lambda = 2,\n",
    "                                                scale_pos_weight = 12.1599539701,\n",
    "                                                subsample = 0.9), \n",
    "                       param_grid=param_test, \n",
    "                       scoring='roc_auc',\n",
    "                       n_jobs=4, \n",
    "                       verbose=4,\n",
    "                       return_train_score=True,\n",
    "                       cv=10,\n",
    "                       refit=True)\n",
    "\n",
    "train_model_regbase_cv9 = gsearch.fit(X_train, y_train)\n",
    "pred_regbase_cv9 = train_model_regbase_cv9.predict(X_test)\n",
    "print(\"Accuracy_model_cv9: %.4f\" % (accuracy_score(y_test, pred_regbase_cv9)))  \n",
    "print(\"F1_model_cv9: %.4f\" % (f1_score(y_test, pred_regbase_cv9)))  \n",
    "print(\"MCC_model_cv9: %.4f\" % (matthews_corrcoef(y_test, pred_regbase_cv9)))  \n",
    "print(\"ROC_AUC_model_cv9: %.4f\" % (roc_auc_score(y_test, pred_regbase_cv9))) "
   ]
  },
  {
   "cell_type": "markdown",
   "metadata": {},
   "source": [
    "## Cancer Dataset"
   ]
  },
  {
   "cell_type": "markdown",
   "metadata": {},
   "source": [
    "## Load scored dataset (if previously created)"
   ]
  },
  {
   "cell_type": "code",
   "execution_count": 32,
   "metadata": {},
   "outputs": [
    {
     "data": {
      "text/plain": [
       "(           Name   label    gpn_score\n",
       " 0  SNP_CAN_0001  Common  -0.53121036\n",
       " 1  SNP_CAN_0002  Common   -1.7068372\n",
       " 2  SNP_CAN_0003  Common    0.5689588\n",
       " 3  SNP_CAN_0004  Common   -1.8153526\n",
       " 4  SNP_CAN_0005  Common   -1.3809743,\n",
       " (5023, 3))"
      ]
     },
     "execution_count": 32,
     "metadata": {},
     "output_type": "execute_result"
    }
   ],
   "source": [
    "df_cancer_set = pd.read_csv(dataset_prefix + \"CAN_dataset_XY-named-plus-gpncons.csv\", sep=',')\n",
    "df_cancer_set.head(), df_cancer_set.shape"
   ]
  },
  {
   "cell_type": "markdown",
   "metadata": {},
   "source": [
    "## Drop rows with \"No score\""
   ]
  },
  {
   "cell_type": "code",
   "execution_count": 33,
   "metadata": {},
   "outputs": [
    {
     "data": {
      "text/html": [
       "<div>\n",
       "<style scoped>\n",
       "    .dataframe tbody tr th:only-of-type {\n",
       "        vertical-align: middle;\n",
       "    }\n",
       "\n",
       "    .dataframe tbody tr th {\n",
       "        vertical-align: top;\n",
       "    }\n",
       "\n",
       "    .dataframe thead th {\n",
       "        text-align: right;\n",
       "    }\n",
       "</style>\n",
       "<table border=\"1\" class=\"dataframe\">\n",
       "  <thead>\n",
       "    <tr style=\"text-align: right;\">\n",
       "      <th></th>\n",
       "      <th>Name</th>\n",
       "      <th>label</th>\n",
       "      <th>gpn_score</th>\n",
       "    </tr>\n",
       "  </thead>\n",
       "  <tbody>\n",
       "    <tr>\n",
       "      <th>0</th>\n",
       "      <td>SNP_CAN_0001</td>\n",
       "      <td>Common</td>\n",
       "      <td>-0.53121036</td>\n",
       "    </tr>\n",
       "    <tr>\n",
       "      <th>1</th>\n",
       "      <td>SNP_CAN_0002</td>\n",
       "      <td>Common</td>\n",
       "      <td>-1.7068372</td>\n",
       "    </tr>\n",
       "    <tr>\n",
       "      <th>2</th>\n",
       "      <td>SNP_CAN_0003</td>\n",
       "      <td>Common</td>\n",
       "      <td>0.5689588</td>\n",
       "    </tr>\n",
       "    <tr>\n",
       "      <th>3</th>\n",
       "      <td>SNP_CAN_0004</td>\n",
       "      <td>Common</td>\n",
       "      <td>-1.8153526</td>\n",
       "    </tr>\n",
       "    <tr>\n",
       "      <th>4</th>\n",
       "      <td>SNP_CAN_0005</td>\n",
       "      <td>Common</td>\n",
       "      <td>-1.3809743</td>\n",
       "    </tr>\n",
       "    <tr>\n",
       "      <th>...</th>\n",
       "      <td>...</td>\n",
       "      <td>...</td>\n",
       "      <td>...</td>\n",
       "    </tr>\n",
       "    <tr>\n",
       "      <th>5018</th>\n",
       "      <td>SNP_CAN_5019</td>\n",
       "      <td>Cancer</td>\n",
       "      <td>-3.5750618</td>\n",
       "    </tr>\n",
       "    <tr>\n",
       "      <th>5019</th>\n",
       "      <td>SNP_CAN_5020</td>\n",
       "      <td>Cancer</td>\n",
       "      <td>-0.08785868</td>\n",
       "    </tr>\n",
       "    <tr>\n",
       "      <th>5020</th>\n",
       "      <td>SNP_CAN_5021</td>\n",
       "      <td>Cancer</td>\n",
       "      <td>-2.124812</td>\n",
       "    </tr>\n",
       "    <tr>\n",
       "      <th>5021</th>\n",
       "      <td>SNP_CAN_5022</td>\n",
       "      <td>Cancer</td>\n",
       "      <td>1.5109184</td>\n",
       "    </tr>\n",
       "    <tr>\n",
       "      <th>5022</th>\n",
       "      <td>SNP_CAN_5023</td>\n",
       "      <td>Cancer</td>\n",
       "      <td>-1.6876688</td>\n",
       "    </tr>\n",
       "  </tbody>\n",
       "</table>\n",
       "<p>4830 rows × 3 columns</p>\n",
       "</div>"
      ],
      "text/plain": [
       "              Name   label    gpn_score\n",
       "0     SNP_CAN_0001  Common  -0.53121036\n",
       "1     SNP_CAN_0002  Common   -1.7068372\n",
       "2     SNP_CAN_0003  Common    0.5689588\n",
       "3     SNP_CAN_0004  Common   -1.8153526\n",
       "4     SNP_CAN_0005  Common   -1.3809743\n",
       "...            ...     ...          ...\n",
       "5018  SNP_CAN_5019  Cancer   -3.5750618\n",
       "5019  SNP_CAN_5020  Cancer  -0.08785868\n",
       "5020  SNP_CAN_5021  Cancer    -2.124812\n",
       "5021  SNP_CAN_5022  Cancer    1.5109184\n",
       "5022  SNP_CAN_5023  Cancer   -1.6876688\n",
       "\n",
       "[4830 rows x 3 columns]"
      ]
     },
     "execution_count": 33,
     "metadata": {},
     "output_type": "execute_result"
    }
   ],
   "source": [
    "df_cancer_set = df_cancer_set[df_cancer_set[\"gpn_score\"].str.contains(\"No score\") == False]\n",
    "df_cancer_set"
   ]
  },
  {
   "cell_type": "markdown",
   "metadata": {},
   "source": [
    "## Convert 'gpn_score' to floating point"
   ]
  },
  {
   "cell_type": "code",
   "execution_count": 34,
   "metadata": {},
   "outputs": [
    {
     "data": {
      "text/html": [
       "<div>\n",
       "<style scoped>\n",
       "    .dataframe tbody tr th:only-of-type {\n",
       "        vertical-align: middle;\n",
       "    }\n",
       "\n",
       "    .dataframe tbody tr th {\n",
       "        vertical-align: top;\n",
       "    }\n",
       "\n",
       "    .dataframe thead th {\n",
       "        text-align: right;\n",
       "    }\n",
       "</style>\n",
       "<table border=\"1\" class=\"dataframe\">\n",
       "  <thead>\n",
       "    <tr style=\"text-align: right;\">\n",
       "      <th></th>\n",
       "      <th>Name</th>\n",
       "      <th>label</th>\n",
       "      <th>gpn_score</th>\n",
       "    </tr>\n",
       "  </thead>\n",
       "  <tbody>\n",
       "    <tr>\n",
       "      <th>0</th>\n",
       "      <td>SNP_CAN_0001</td>\n",
       "      <td>Common</td>\n",
       "      <td>-0.531210</td>\n",
       "    </tr>\n",
       "    <tr>\n",
       "      <th>1</th>\n",
       "      <td>SNP_CAN_0002</td>\n",
       "      <td>Common</td>\n",
       "      <td>-1.706837</td>\n",
       "    </tr>\n",
       "    <tr>\n",
       "      <th>2</th>\n",
       "      <td>SNP_CAN_0003</td>\n",
       "      <td>Common</td>\n",
       "      <td>0.568959</td>\n",
       "    </tr>\n",
       "    <tr>\n",
       "      <th>3</th>\n",
       "      <td>SNP_CAN_0004</td>\n",
       "      <td>Common</td>\n",
       "      <td>-1.815353</td>\n",
       "    </tr>\n",
       "    <tr>\n",
       "      <th>4</th>\n",
       "      <td>SNP_CAN_0005</td>\n",
       "      <td>Common</td>\n",
       "      <td>-1.380974</td>\n",
       "    </tr>\n",
       "    <tr>\n",
       "      <th>...</th>\n",
       "      <td>...</td>\n",
       "      <td>...</td>\n",
       "      <td>...</td>\n",
       "    </tr>\n",
       "    <tr>\n",
       "      <th>5018</th>\n",
       "      <td>SNP_CAN_5019</td>\n",
       "      <td>Cancer</td>\n",
       "      <td>-3.575062</td>\n",
       "    </tr>\n",
       "    <tr>\n",
       "      <th>5019</th>\n",
       "      <td>SNP_CAN_5020</td>\n",
       "      <td>Cancer</td>\n",
       "      <td>-0.087859</td>\n",
       "    </tr>\n",
       "    <tr>\n",
       "      <th>5020</th>\n",
       "      <td>SNP_CAN_5021</td>\n",
       "      <td>Cancer</td>\n",
       "      <td>-2.124812</td>\n",
       "    </tr>\n",
       "    <tr>\n",
       "      <th>5021</th>\n",
       "      <td>SNP_CAN_5022</td>\n",
       "      <td>Cancer</td>\n",
       "      <td>1.510918</td>\n",
       "    </tr>\n",
       "    <tr>\n",
       "      <th>5022</th>\n",
       "      <td>SNP_CAN_5023</td>\n",
       "      <td>Cancer</td>\n",
       "      <td>-1.687669</td>\n",
       "    </tr>\n",
       "  </tbody>\n",
       "</table>\n",
       "<p>4830 rows × 3 columns</p>\n",
       "</div>"
      ],
      "text/plain": [
       "              Name   label  gpn_score\n",
       "0     SNP_CAN_0001  Common  -0.531210\n",
       "1     SNP_CAN_0002  Common  -1.706837\n",
       "2     SNP_CAN_0003  Common   0.568959\n",
       "3     SNP_CAN_0004  Common  -1.815353\n",
       "4     SNP_CAN_0005  Common  -1.380974\n",
       "...            ...     ...        ...\n",
       "5018  SNP_CAN_5019  Cancer  -3.575062\n",
       "5019  SNP_CAN_5020  Cancer  -0.087859\n",
       "5020  SNP_CAN_5021  Cancer  -2.124812\n",
       "5021  SNP_CAN_5022  Cancer   1.510918\n",
       "5022  SNP_CAN_5023  Cancer  -1.687669\n",
       "\n",
       "[4830 rows x 3 columns]"
      ]
     },
     "execution_count": 34,
     "metadata": {},
     "output_type": "execute_result"
    }
   ],
   "source": [
    "df_cancer_set['gpn_score'] = df_cancer_set['gpn_score'].astype(float)\n",
    "df_cancer_set"
   ]
  },
  {
   "cell_type": "markdown",
   "metadata": {
    "id": "7WqloMgqIcVo"
   },
   "source": [
    "## Plot shows differentiation between Common and COSMIC/Frequent mutations"
   ]
  },
  {
   "cell_type": "code",
   "execution_count": 35,
   "metadata": {
    "colab": {
     "base_uri": "https://localhost:8080/",
     "height": 466
    },
    "id": "Dc2zMD0nzj-A",
    "outputId": "7f888a71-74c2-45e5-90fe-92935bd82632"
   },
   "outputs": [
    {
     "data": {
      "text/plain": [
       "<seaborn.axisgrid.FacetGrid at 0x1554318ffc40>"
      ]
     },
     "execution_count": 35,
     "metadata": {},
     "output_type": "execute_result"
    },
    {
     "data": {
      "image/png": "[encoded data removed]",
      "text/plain": [
       "<Figure size 440.5x360 with 1 Axes>"
      ]
     },
     "metadata": {
      "needs_background": "light"
     },
     "output_type": "display_data"
    }
   ],
   "source": [
    "sns.displot(data=df_cancer_set, hue=\"label\", x=\"gpn_score\")"
   ]
  },
  {
   "cell_type": "markdown",
   "metadata": {},
   "source": [
    "## Calculate metrics"
   ]
  },
  {
   "cell_type": "code",
   "execution_count": 36,
   "metadata": {},
   "outputs": [
    {
     "data": {
      "text/plain": [
       "(0.3563820256960138, 0.4630926601877383)"
      ]
     },
     "execution_count": 36,
     "metadata": {},
     "output_type": "execute_result"
    }
   ],
   "source": [
    "from sklearn.metrics import roc_auc_score, average_precision_score\n",
    "\n",
    "gpn_score = df_cancer_set.gpn_score\n",
    "AUROC = roc_auc_score(df_cancer_set.label==\"Cancer\", -gpn_score)\n",
    "AUPRC = average_precision_score(df_cancer_set.label==\"Cancer\", -gpn_score)\n",
    "AUROC, AUPRC"
   ]
  },
  {
   "cell_type": "markdown",
   "metadata": {},
   "source": [
    "## Plot ROC curve"
   ]
  },
  {
   "cell_type": "code",
   "execution_count": 37,
   "metadata": {},
   "outputs": [],
   "source": [
    "from sklearn.metrics import roc_curve\n",
    "\n",
    "fpr, tpr, thresholds = roc_curve(df_cancer_set.label==\"Cancer\", -gpn_score)"
   ]
  },
  {
   "cell_type": "code",
   "execution_count": 38,
   "metadata": {},
   "outputs": [
    {
     "data": {
      "image/png": "[encoded data removed]",
      "text/plain": [
       "<Figure size 576x432 with 1 Axes>"
      ]
     },
     "metadata": {
      "needs_background": "light"
     },
     "output_type": "display_data"
    }
   ],
   "source": [
    "plt.figure(figsize=(8, 6))\n",
    "plt.plot(fpr, tpr, color='b', lw=2, label=f'ROC curve (AUC = {AUROC:.2f})')\n",
    "plt.plot([0, 1], [0, 1], color='gray', linestyle='--')\n",
    "plt.xlim([0.0, 1.0])\n",
    "plt.ylim([0.0, 1.05])\n",
    "plt.xlabel('False Positive Rate (FPR)')\n",
    "plt.ylabel('True Positive Rate (TPR)')\n",
    "plt.title('Receiver Operating Characteristic (ROC) Curve')\n",
    "plt.legend(loc='lower right')\n",
    "plt.grid(True)\n",
    "plt.show()"
   ]
  },
  {
   "cell_type": "code",
   "execution_count": 39,
   "metadata": {},
   "outputs": [],
   "source": [
    "from numpy import asarray\n",
    "from numpy import mean\n",
    "from numpy import std\n",
    "from sklearn.datasets import make_classification\n",
    "from xgboost import XGBClassifier\n",
    "from sklearn.model_selection import cross_val_score\n",
    "from sklearn.model_selection import RepeatedStratifiedKFold\n",
    "from matplotlib import pyplot"
   ]
  },
  {
   "cell_type": "code",
   "execution_count": 51,
   "metadata": {},
   "outputs": [],
   "source": [
    "X = df_cancer_set['gpn_score']\n",
    "y = df_cancer_set['label']"
   ]
  },
  {
   "cell_type": "code",
   "execution_count": 55,
   "metadata": {},
   "outputs": [
    {
     "data": {
      "text/plain": [
       "array([[-0.53121036],\n",
       "       [-1.7068372 ],\n",
       "       [ 0.5689588 ],\n",
       "       ...,\n",
       "       [-2.124812  ],\n",
       "       [ 1.5109184 ],\n",
       "       [-1.6876688 ]])"
      ]
     },
     "execution_count": 55,
     "metadata": {},
     "output_type": "execute_result"
    }
   ],
   "source": [
    "X"
   ]
  },
  {
   "cell_type": "code",
   "execution_count": 56,
   "metadata": {},
   "outputs": [],
   "source": [
    "#X = X.values.reshape(-1,1)\n",
    "y = df_cancer_set['label'] == 'Cancer'\n",
    "y = y.astype(int)"
   ]
  },
  {
   "cell_type": "code",
   "execution_count": 57,
   "metadata": {},
   "outputs": [],
   "source": [
    "from sklearn.model_selection import train_test_split\n",
    "test_size = 0.3\n",
    "seed = 7\n",
    "X_train, X_test, y_train, y_test = train_test_split(X, y, test_size=test_size, random_state=seed)"
   ]
  },
  {
   "cell_type": "code",
   "execution_count": 58,
   "metadata": {},
   "outputs": [
    {
     "data": {
      "text/plain": [
       "array([[-0.53121036],\n",
       "       [-1.7068372 ],\n",
       "       [ 0.5689588 ],\n",
       "       ...,\n",
       "       [-2.124812  ],\n",
       "       [ 1.5109184 ],\n",
       "       [-1.6876688 ]])"
      ]
     },
     "execution_count": 58,
     "metadata": {},
     "output_type": "execute_result"
    }
   ],
   "source": [
    "X"
   ]
  },
  {
   "cell_type": "code",
   "execution_count": 59,
   "metadata": {},
   "outputs": [
    {
     "data": {
      "text/plain": [
       "0       0\n",
       "1       0\n",
       "2       0\n",
       "3       0\n",
       "4       0\n",
       "       ..\n",
       "5018    1\n",
       "5019    1\n",
       "5020    1\n",
       "5021    1\n",
       "5022    1\n",
       "Name: label, Length: 4830, dtype: int64"
      ]
     },
     "execution_count": 59,
     "metadata": {},
     "output_type": "execute_result"
    }
   ],
   "source": [
    "y"
   ]
  },
  {
   "cell_type": "code",
   "execution_count": 60,
   "metadata": {},
   "outputs": [],
   "source": [
    "from sklearn.linear_model import LogisticRegression\n",
    "\n",
    "lr_model = LogisticRegression(solver='lbfgs', max_iter=1000)\n",
    "lr_train_model = lr_model.fit(X_train,y_train)\n",
    "pred_lr = lr_model.predict(X_test)"
   ]
  },
  {
   "cell_type": "code",
   "execution_count": 61,
   "metadata": {},
   "outputs": [
    {
     "name": "stdout",
     "output_type": "stream",
     "text": [
      "Accuracy_model_lr: 0.6308\n",
      "F1_model_lr: 0.5589\n",
      "MCC_model_lr: 0.2711\n",
      "ROC_AUC_model_lr: 0.6288\n"
     ]
    }
   ],
   "source": [
    "from sklearn.metrics import accuracy_score, f1_score, matthews_corrcoef, roc_auc_score\n",
    "\n",
    "print(\"Accuracy_model_lr: %.4f\" % (accuracy_score(y_test, pred_lr))) \n",
    "print(\"F1_model_lr: %.4f\" % (f1_score(y_test, pred_lr)))\n",
    "print(\"MCC_model_lr: %.4f\" % (matthews_corrcoef(y_test, pred_lr)))\n",
    "print(\"ROC_AUC_model_lr: %.4f\" % (roc_auc_score(y_test, pred_lr))) # don't know about call: y_score vs. pred"
   ]
  },
  {
   "cell_type": "code",
   "execution_count": 62,
   "metadata": {},
   "outputs": [
    {
     "name": "stdout",
     "output_type": "stream",
     "text": [
      "Accuracy_model1: 0.6363\n",
      "Accuracy_model2: 0.6391\n",
      "F1_model1: 0.6099\n",
      "F1_model2: 0.6152\n",
      "MCC_model1: 0.2731\n",
      "MCC_model2: 0.2784\n",
      "ROC_AUC_model1: 0.6355\n",
      "ROC_AUC_model2: 0.6384\n"
     ]
    }
   ],
   "source": [
    "model1 = XGBClassifier() \n",
    "model2 = XGBClassifier(n_estimators=100, max_depth=8, learning_rate=0.1, subsample=0.5) \n",
    "train_model1 = model1.fit(X_train, y_train) \n",
    "train_model2 = model2.fit(X_train, y_train) \n",
    "pred1 = train_model1.predict(X_test) \n",
    "pred2 = train_model2.predict(X_test) \n",
    "print(\"Accuracy_model1: %.4f\" % (accuracy_score(y_test, pred1))) \n",
    "print(\"Accuracy_model2: %.4f\" % (accuracy_score(y_test, pred2))) \n",
    "print(\"F1_model1: %.4f\" % (f1_score(y_test, pred1)))\n",
    "print(\"F1_model2: %.4f\" % (f1_score(y_test, pred2)))\n",
    "print(\"MCC_model1: %.4f\" % (matthews_corrcoef(y_test, pred1)))\n",
    "print(\"MCC_model2: %.4f\" % (matthews_corrcoef(y_test, pred2)))\n",
    "print(\"ROC_AUC_model1: %.4f\" % (roc_auc_score(y_test, pred1))) # don't know about call: y_score vs. pred\n",
    "print(\"ROC_AUC_model2: %.4f\" % (roc_auc_score(y_test, pred2))) # don't know about call: y_score vs. pred"
   ]
  },
  {
   "cell_type": "code",
   "execution_count": 63,
   "metadata": {},
   "outputs": [
    {
     "name": "stdout",
     "output_type": "stream",
     "text": [
      "412 224 303 510\n"
     ]
    }
   ],
   "source": [
    "from sklearn.metrics import confusion_matrix\n",
    "\n",
    "tn, fp, fn, tp = confusion_matrix(y_test, pred1).ravel()\n",
    "print(tp, fp, fn, tn)"
   ]
  },
  {
   "cell_type": "code",
   "execution_count": 64,
   "metadata": {},
   "outputs": [
    {
     "data": {
      "text/plain": [
       "<sklearn.metrics._plot.roc_curve.RocCurveDisplay at 0x15543002dd30>"
      ]
     },
     "execution_count": 64,
     "metadata": {},
     "output_type": "execute_result"
    },
    {
     "data": {
      "image/png": "[encoded data removed]",
      "text/plain": [
       "<Figure size 432x288 with 1 Axes>"
      ]
     },
     "metadata": {
      "needs_background": "light"
     },
     "output_type": "display_data"
    }
   ],
   "source": [
    "import matplotlib.pyplot as plt\n",
    "from sklearn import metrics\n",
    "from sklearn.metrics import roc_curve\n",
    "\n",
    "fpr, tpr, _ = roc_curve(y_test, pred1)\n",
    "roc_auc = roc_auc_score(y_test, pred1)\n",
    "display = metrics.RocCurveDisplay(fpr=fpr, tpr=tpr, roc_auc=roc_auc)\n",
    "display.plot(name=\"ROC Curve\")"
   ]
  },
  {
   "cell_type": "code",
   "execution_count": 65,
   "metadata": {},
   "outputs": [
    {
     "name": "stdout",
     "output_type": "stream",
     "text": [
      "Accuracy_model3: 0.6342\n",
      "F1_model3: 0.6091\n",
      "MCC_model3: 0.2688\n",
      "ROC_AUC_model3: 0.6335\n"
     ]
    }
   ],
   "source": [
    "model3 = XGBClassifier(\n",
    " learning_rate =0.1,\n",
    " n_estimators=1000,\n",
    " max_depth=5,\n",
    " min_child_weight=1,\n",
    " gamma=0,\n",
    " subsample=0.8,\n",
    " colsample_bytree=0.8,\n",
    " objective= 'binary:logistic',\n",
    " nthread=4,\n",
    " scale_pos_weight=1,\n",
    " seed=7)\n",
    "\n",
    "train_model3 = model3.fit(X_train, y_train)\n",
    "pred3 = train_model3.predict(X_test)\n",
    "print(\"Accuracy_model3: %.4f\" % (accuracy_score(y_test, pred3)))\n",
    "print(\"F1_model3: %.4f\" % (f1_score(y_test, pred3)))\n",
    "print(\"MCC_model3: %.4f\" % (matthews_corrcoef(y_test, pred3)))\n",
    "print(\"ROC_AUC_model3: %.4f\" % (roc_auc_score(y_test, pred3))) # don't know about call: y_score vs. pred\n"
   ]
  },
  {
   "cell_type": "code",
   "execution_count": 66,
   "metadata": {},
   "outputs": [
    {
     "name": "stdout",
     "output_type": "stream",
     "text": [
      "Accuracy_model_regbase: 0.6370\n",
      "F1_model_regbase: 0.6127\n",
      "MCC_model_regbase: 0.2743\n",
      "ROC_AUC_model_regbase: 0.6363\n"
     ]
    }
   ],
   "source": [
    "model_regbase = XGBClassifier(\n",
    "    colsample_bylevel = 0.5,\n",
    "    colsample_bytree = 0.8,\n",
    "    gamma = 0.0,\n",
    "    learning_rate = 0.1,\n",
    "    max_depth = 9,\n",
    "    min_child_weight = 1,\n",
    "    n_estimators = 200,\n",
    "    reg_alpha = 0.0,\n",
    "    reg_lambda = 1,\n",
    "    scale_pos_weight = 0.9956297179,\n",
    "    subsample = 0.8)\n",
    "\n",
    "train_model_regbase = model_regbase.fit(X_train, y_train)\n",
    "pred_regbase = train_model_regbase.predict(X_test)\n",
    "print(\"Accuracy_model_regbase: %.4f\" % (accuracy_score(y_test, pred_regbase)))\n",
    "print(\"F1_model_regbase: %.4f\" % (f1_score(y_test, pred_regbase)))\n",
    "print(\"MCC_model_regbase: %.4f\" % (matthews_corrcoef(y_test, pred_regbase)))\n",
    "print(\"ROC_AUC_model_regbase: %.4f\" % (roc_auc_score(y_test, pred_regbase)))"
   ]
  },
  {
   "cell_type": "code",
   "execution_count": 67,
   "metadata": {},
   "outputs": [
    {
     "name": "stdout",
     "output_type": "stream",
     "text": [
      "416 227 299 507\n"
     ]
    }
   ],
   "source": [
    "tn, fp, fn, tp = confusion_matrix(y_test, pred_regbase).ravel()\n",
    "print(tp, fp, fn, tn)"
   ]
  },
  {
   "cell_type": "code",
   "execution_count": 68,
   "metadata": {},
   "outputs": [
    {
     "data": {
      "text/plain": [
       "<sklearn.metrics._plot.roc_curve.RocCurveDisplay at 0x15543003c5e0>"
      ]
     },
     "execution_count": 68,
     "metadata": {},
     "output_type": "execute_result"
    },
    {
     "data": {
      "image/png": "[encoded data removed]",
      "text/plain": [
       "<Figure size 432x288 with 1 Axes>"
      ]
     },
     "metadata": {
      "needs_background": "light"
     },
     "output_type": "display_data"
    }
   ],
   "source": [
    "import matplotlib.pyplot as plt\n",
    "from sklearn import metrics\n",
    "from sklearn.metrics import roc_curve\n",
    "\n",
    "fpr, tpr, _ = roc_curve(y_test, pred_regbase)\n",
    "roc_auc = roc_auc_score(y_test, pred_regbase)\n",
    "display = metrics.RocCurveDisplay(fpr=fpr, tpr=tpr, roc_auc=roc_auc)\n",
    "display.plot(name=\"ROC Curve\")"
   ]
  },
  {
   "cell_type": "code",
   "execution_count": 69,
   "metadata": {},
   "outputs": [],
   "source": [
    "xgb_cv = xgb.cv(dtrain=data_matrix, params=params, nfold=10,\n",
    "                    num_boost_round=100, early_stopping_rounds=10, metrics=\"auc\", as_pandas=True, seed=7)"
   ]
  },
  {
   "cell_type": "code",
   "execution_count": 70,
   "metadata": {},
   "outputs": [
    {
     "data": {
      "text/html": [
       "<div>\n",
       "<style scoped>\n",
       "    .dataframe tbody tr th:only-of-type {\n",
       "        vertical-align: middle;\n",
       "    }\n",
       "\n",
       "    .dataframe tbody tr th {\n",
       "        vertical-align: top;\n",
       "    }\n",
       "\n",
       "    .dataframe thead th {\n",
       "        text-align: right;\n",
       "    }\n",
       "</style>\n",
       "<table border=\"1\" class=\"dataframe\">\n",
       "  <thead>\n",
       "    <tr style=\"text-align: right;\">\n",
       "      <th></th>\n",
       "      <th>train-auc-mean</th>\n",
       "      <th>train-auc-std</th>\n",
       "      <th>test-auc-mean</th>\n",
       "      <th>test-auc-std</th>\n",
       "    </tr>\n",
       "  </thead>\n",
       "  <tbody>\n",
       "    <tr>\n",
       "      <th>0</th>\n",
       "      <td>0.836722</td>\n",
       "      <td>0.004076</td>\n",
       "      <td>0.812844</td>\n",
       "      <td>0.026510</td>\n",
       "    </tr>\n",
       "    <tr>\n",
       "      <th>1</th>\n",
       "      <td>0.840395</td>\n",
       "      <td>0.003079</td>\n",
       "      <td>0.818270</td>\n",
       "      <td>0.021587</td>\n",
       "    </tr>\n",
       "    <tr>\n",
       "      <th>2</th>\n",
       "      <td>0.842696</td>\n",
       "      <td>0.003522</td>\n",
       "      <td>0.820475</td>\n",
       "      <td>0.021129</td>\n",
       "    </tr>\n",
       "    <tr>\n",
       "      <th>3</th>\n",
       "      <td>0.844159</td>\n",
       "      <td>0.003541</td>\n",
       "      <td>0.821075</td>\n",
       "      <td>0.022778</td>\n",
       "    </tr>\n",
       "    <tr>\n",
       "      <th>4</th>\n",
       "      <td>0.844877</td>\n",
       "      <td>0.003580</td>\n",
       "      <td>0.820197</td>\n",
       "      <td>0.022356</td>\n",
       "    </tr>\n",
       "    <tr>\n",
       "      <th>5</th>\n",
       "      <td>0.844947</td>\n",
       "      <td>0.003892</td>\n",
       "      <td>0.820751</td>\n",
       "      <td>0.021636</td>\n",
       "    </tr>\n",
       "    <tr>\n",
       "      <th>6</th>\n",
       "      <td>0.845480</td>\n",
       "      <td>0.003596</td>\n",
       "      <td>0.821411</td>\n",
       "      <td>0.021434</td>\n",
       "    </tr>\n",
       "    <tr>\n",
       "      <th>7</th>\n",
       "      <td>0.845503</td>\n",
       "      <td>0.003691</td>\n",
       "      <td>0.822596</td>\n",
       "      <td>0.022179</td>\n",
       "    </tr>\n",
       "    <tr>\n",
       "      <th>8</th>\n",
       "      <td>0.845686</td>\n",
       "      <td>0.003772</td>\n",
       "      <td>0.822614</td>\n",
       "      <td>0.022292</td>\n",
       "    </tr>\n",
       "    <tr>\n",
       "      <th>9</th>\n",
       "      <td>0.845803</td>\n",
       "      <td>0.003562</td>\n",
       "      <td>0.822880</td>\n",
       "      <td>0.022113</td>\n",
       "    </tr>\n",
       "    <tr>\n",
       "      <th>10</th>\n",
       "      <td>0.846150</td>\n",
       "      <td>0.003715</td>\n",
       "      <td>0.822434</td>\n",
       "      <td>0.023293</td>\n",
       "    </tr>\n",
       "    <tr>\n",
       "      <th>11</th>\n",
       "      <td>0.846529</td>\n",
       "      <td>0.003347</td>\n",
       "      <td>0.822144</td>\n",
       "      <td>0.022869</td>\n",
       "    </tr>\n",
       "    <tr>\n",
       "      <th>12</th>\n",
       "      <td>0.846581</td>\n",
       "      <td>0.003380</td>\n",
       "      <td>0.822732</td>\n",
       "      <td>0.022996</td>\n",
       "    </tr>\n",
       "    <tr>\n",
       "      <th>13</th>\n",
       "      <td>0.846759</td>\n",
       "      <td>0.003165</td>\n",
       "      <td>0.822892</td>\n",
       "      <td>0.023269</td>\n",
       "    </tr>\n",
       "    <tr>\n",
       "      <th>14</th>\n",
       "      <td>0.846968</td>\n",
       "      <td>0.003120</td>\n",
       "      <td>0.822792</td>\n",
       "      <td>0.023076</td>\n",
       "    </tr>\n",
       "    <tr>\n",
       "      <th>15</th>\n",
       "      <td>0.846941</td>\n",
       "      <td>0.003009</td>\n",
       "      <td>0.823341</td>\n",
       "      <td>0.023199</td>\n",
       "    </tr>\n",
       "    <tr>\n",
       "      <th>16</th>\n",
       "      <td>0.847332</td>\n",
       "      <td>0.003105</td>\n",
       "      <td>0.823822</td>\n",
       "      <td>0.023319</td>\n",
       "    </tr>\n",
       "    <tr>\n",
       "      <th>17</th>\n",
       "      <td>0.847308</td>\n",
       "      <td>0.003111</td>\n",
       "      <td>0.823681</td>\n",
       "      <td>0.023248</td>\n",
       "    </tr>\n",
       "    <tr>\n",
       "      <th>18</th>\n",
       "      <td>0.847521</td>\n",
       "      <td>0.003321</td>\n",
       "      <td>0.823898</td>\n",
       "      <td>0.023193</td>\n",
       "    </tr>\n",
       "    <tr>\n",
       "      <th>19</th>\n",
       "      <td>0.847508</td>\n",
       "      <td>0.003304</td>\n",
       "      <td>0.823891</td>\n",
       "      <td>0.023218</td>\n",
       "    </tr>\n",
       "    <tr>\n",
       "      <th>20</th>\n",
       "      <td>0.847508</td>\n",
       "      <td>0.003298</td>\n",
       "      <td>0.824396</td>\n",
       "      <td>0.022720</td>\n",
       "    </tr>\n",
       "    <tr>\n",
       "      <th>21</th>\n",
       "      <td>0.847783</td>\n",
       "      <td>0.003189</td>\n",
       "      <td>0.823921</td>\n",
       "      <td>0.022694</td>\n",
       "    </tr>\n",
       "    <tr>\n",
       "      <th>22</th>\n",
       "      <td>0.847824</td>\n",
       "      <td>0.003169</td>\n",
       "      <td>0.824046</td>\n",
       "      <td>0.022258</td>\n",
       "    </tr>\n",
       "    <tr>\n",
       "      <th>23</th>\n",
       "      <td>0.847948</td>\n",
       "      <td>0.003186</td>\n",
       "      <td>0.824081</td>\n",
       "      <td>0.022320</td>\n",
       "    </tr>\n",
       "    <tr>\n",
       "      <th>24</th>\n",
       "      <td>0.848045</td>\n",
       "      <td>0.003119</td>\n",
       "      <td>0.824250</td>\n",
       "      <td>0.022924</td>\n",
       "    </tr>\n",
       "    <tr>\n",
       "      <th>25</th>\n",
       "      <td>0.848148</td>\n",
       "      <td>0.003282</td>\n",
       "      <td>0.824381</td>\n",
       "      <td>0.022669</td>\n",
       "    </tr>\n",
       "    <tr>\n",
       "      <th>26</th>\n",
       "      <td>0.848115</td>\n",
       "      <td>0.003191</td>\n",
       "      <td>0.824787</td>\n",
       "      <td>0.022550</td>\n",
       "    </tr>\n",
       "    <tr>\n",
       "      <th>27</th>\n",
       "      <td>0.848096</td>\n",
       "      <td>0.003203</td>\n",
       "      <td>0.825070</td>\n",
       "      <td>0.022479</td>\n",
       "    </tr>\n",
       "    <tr>\n",
       "      <th>28</th>\n",
       "      <td>0.848178</td>\n",
       "      <td>0.003238</td>\n",
       "      <td>0.825059</td>\n",
       "      <td>0.022622</td>\n",
       "    </tr>\n",
       "    <tr>\n",
       "      <th>29</th>\n",
       "      <td>0.848216</td>\n",
       "      <td>0.003270</td>\n",
       "      <td>0.825050</td>\n",
       "      <td>0.022551</td>\n",
       "    </tr>\n",
       "    <tr>\n",
       "      <th>30</th>\n",
       "      <td>0.848255</td>\n",
       "      <td>0.003254</td>\n",
       "      <td>0.825040</td>\n",
       "      <td>0.022486</td>\n",
       "    </tr>\n",
       "    <tr>\n",
       "      <th>31</th>\n",
       "      <td>0.848251</td>\n",
       "      <td>0.003243</td>\n",
       "      <td>0.825150</td>\n",
       "      <td>0.022309</td>\n",
       "    </tr>\n",
       "    <tr>\n",
       "      <th>32</th>\n",
       "      <td>0.848242</td>\n",
       "      <td>0.003227</td>\n",
       "      <td>0.825175</td>\n",
       "      <td>0.022329</td>\n",
       "    </tr>\n",
       "    <tr>\n",
       "      <th>33</th>\n",
       "      <td>0.848240</td>\n",
       "      <td>0.003229</td>\n",
       "      <td>0.825200</td>\n",
       "      <td>0.022372</td>\n",
       "    </tr>\n",
       "    <tr>\n",
       "      <th>34</th>\n",
       "      <td>0.848207</td>\n",
       "      <td>0.003213</td>\n",
       "      <td>0.825252</td>\n",
       "      <td>0.022370</td>\n",
       "    </tr>\n",
       "  </tbody>\n",
       "</table>\n",
       "</div>"
      ],
      "text/plain": [
       "    train-auc-mean  train-auc-std  test-auc-mean  test-auc-std\n",
       "0         0.836722       0.004076       0.812844      0.026510\n",
       "1         0.840395       0.003079       0.818270      0.021587\n",
       "2         0.842696       0.003522       0.820475      0.021129\n",
       "3         0.844159       0.003541       0.821075      0.022778\n",
       "4         0.844877       0.003580       0.820197      0.022356\n",
       "5         0.844947       0.003892       0.820751      0.021636\n",
       "6         0.845480       0.003596       0.821411      0.021434\n",
       "7         0.845503       0.003691       0.822596      0.022179\n",
       "8         0.845686       0.003772       0.822614      0.022292\n",
       "9         0.845803       0.003562       0.822880      0.022113\n",
       "10        0.846150       0.003715       0.822434      0.023293\n",
       "11        0.846529       0.003347       0.822144      0.022869\n",
       "12        0.846581       0.003380       0.822732      0.022996\n",
       "13        0.846759       0.003165       0.822892      0.023269\n",
       "14        0.846968       0.003120       0.822792      0.023076\n",
       "15        0.846941       0.003009       0.823341      0.023199\n",
       "16        0.847332       0.003105       0.823822      0.023319\n",
       "17        0.847308       0.003111       0.823681      0.023248\n",
       "18        0.847521       0.003321       0.823898      0.023193\n",
       "19        0.847508       0.003304       0.823891      0.023218\n",
       "20        0.847508       0.003298       0.824396      0.022720\n",
       "21        0.847783       0.003189       0.823921      0.022694\n",
       "22        0.847824       0.003169       0.824046      0.022258\n",
       "23        0.847948       0.003186       0.824081      0.022320\n",
       "24        0.848045       0.003119       0.824250      0.022924\n",
       "25        0.848148       0.003282       0.824381      0.022669\n",
       "26        0.848115       0.003191       0.824787      0.022550\n",
       "27        0.848096       0.003203       0.825070      0.022479\n",
       "28        0.848178       0.003238       0.825059      0.022622\n",
       "29        0.848216       0.003270       0.825050      0.022551\n",
       "30        0.848255       0.003254       0.825040      0.022486\n",
       "31        0.848251       0.003243       0.825150      0.022309\n",
       "32        0.848242       0.003227       0.825175      0.022329\n",
       "33        0.848240       0.003229       0.825200      0.022372\n",
       "34        0.848207       0.003213       0.825252      0.022370"
      ]
     },
     "execution_count": 70,
     "metadata": {},
     "output_type": "execute_result"
    }
   ],
   "source": [
    "xgb_cv"
   ]
  },
  {
   "cell_type": "code",
   "execution_count": 71,
   "metadata": {},
   "outputs": [
    {
     "data": {
      "text/plain": [
       "XGBClassifier(base_score=None, booster=None, callbacks=None,\n",
       "              colsample_bylevel=0.5, colsample_bynode=None,\n",
       "              colsample_bytree=0.8, device=None, early_stopping_rounds=None,\n",
       "              enable_categorical=False, eval_metric=None, feature_types=None,\n",
       "              gamma=0.0, grow_policy=None, importance_type=None,\n",
       "              interaction_constraints=None, learning_rate=0.1, max_bin=None,\n",
       "              max_cat_threshold=None, max_cat_to_onehot=None,\n",
       "              max_delta_step=None, max_depth=9, max_leaves=None,\n",
       "              min_child_weight=1, missing=nan, monotone_constraints=None,\n",
       "              multi_strategy=None, n_estimators=35, n_jobs=None,\n",
       "              num_parallel_tree=None, random_state=None, ...)"
      ]
     },
     "execution_count": 71,
     "metadata": {},
     "output_type": "execute_result"
    }
   ],
   "source": [
    "model_regbase.set_params(n_estimators=xgb_cv.shape[0])"
   ]
  },
  {
   "cell_type": "code",
   "execution_count": 72,
   "metadata": {},
   "outputs": [
    {
     "name": "stdout",
     "output_type": "stream",
     "text": [
      "Accuracy_model_regbase: 0.6349\n",
      "F1_model_regbase: 0.6079\n",
      "MCC_model_regbase: 0.2703\n",
      "ROC_AUC_model_regbase: 0.6341\n"
     ]
    }
   ],
   "source": [
    "rain_model_regbase_cv = model_regbase.fit(X_train,y_train)\n",
    "pred_regbase_cv = train_model_regbase.predict(X_test)\n",
    "print(\"Accuracy_model_regbase: %.4f\" % (accuracy_score(y_test, pred_regbase_cv)))\n",
    "print(\"F1_model_regbase: %.4f\" % (f1_score(y_test, pred_regbase_cv)))\n",
    "print(\"MCC_model_regbase: %.4f\" % (matthews_corrcoef(y_test, pred_regbase_cv)))\n",
    "print(\"ROC_AUC_model_regbase: %.4f\" % (roc_auc_score(y_test, pred_regbase_cv)))"
   ]
  },
  {
   "cell_type": "code",
   "execution_count": 21,
   "metadata": {},
   "outputs": [],
   "source": [
    "## Regulatory Dataset"
   ]
  },
  {
   "cell_type": "markdown",
   "metadata": {},
   "source": [
    "## Load Dataset to be Scored (if previously created)"
   ]
  },
  {
   "cell_type": "code",
   "execution_count": 22,
   "metadata": {},
   "outputs": [],
   "source": [
    "## Load scored dataset (if previously created)"
   ]
  },
  {
   "cell_type": "code",
   "execution_count": 73,
   "metadata": {},
   "outputs": [
    {
     "data": {
      "text/plain": [
       "(       Name       label   gpn_score\n",
       " 0  SNP00001  Regulatory  -1.3505003\n",
       " 1  SNP00002  Regulatory  -2.6757724\n",
       " 2  SNP00003  Regulatory  -1.6896006\n",
       " 3  SNP00004  Regulatory  -0.6497843\n",
       " 4  SNP00005  Regulatory   1.4730732,\n",
       " (61170, 3))"
      ]
     },
     "execution_count": 73,
     "metadata": {},
     "output_type": "execute_result"
    }
   ],
   "source": [
    "df_regulatory_set = pd.read_csv(dataset_prefix + \"PRVCS/REG_dataset_XY-named-plus-gpncons.csv\", sep=',')\n",
    "df_regulatory_set.head(), df_regulatory_set.shape"
   ]
  },
  {
   "cell_type": "markdown",
   "metadata": {},
   "source": [
    "## Drop rows with \"No score\""
   ]
  },
  {
   "cell_type": "code",
   "execution_count": 74,
   "metadata": {},
   "outputs": [
    {
     "data": {
      "text/html": [
       "<div>\n",
       "<style scoped>\n",
       "    .dataframe tbody tr th:only-of-type {\n",
       "        vertical-align: middle;\n",
       "    }\n",
       "\n",
       "    .dataframe tbody tr th {\n",
       "        vertical-align: top;\n",
       "    }\n",
       "\n",
       "    .dataframe thead th {\n",
       "        text-align: right;\n",
       "    }\n",
       "</style>\n",
       "<table border=\"1\" class=\"dataframe\">\n",
       "  <thead>\n",
       "    <tr style=\"text-align: right;\">\n",
       "      <th></th>\n",
       "      <th>Name</th>\n",
       "      <th>label</th>\n",
       "      <th>gpn_score</th>\n",
       "    </tr>\n",
       "  </thead>\n",
       "  <tbody>\n",
       "    <tr>\n",
       "      <th>0</th>\n",
       "      <td>SNP00001</td>\n",
       "      <td>Regulatory</td>\n",
       "      <td>-1.3505003</td>\n",
       "    </tr>\n",
       "    <tr>\n",
       "      <th>1</th>\n",
       "      <td>SNP00002</td>\n",
       "      <td>Regulatory</td>\n",
       "      <td>-2.6757724</td>\n",
       "    </tr>\n",
       "    <tr>\n",
       "      <th>2</th>\n",
       "      <td>SNP00003</td>\n",
       "      <td>Regulatory</td>\n",
       "      <td>-1.6896006</td>\n",
       "    </tr>\n",
       "    <tr>\n",
       "      <th>3</th>\n",
       "      <td>SNP00004</td>\n",
       "      <td>Regulatory</td>\n",
       "      <td>-0.6497843</td>\n",
       "    </tr>\n",
       "    <tr>\n",
       "      <th>4</th>\n",
       "      <td>SNP00005</td>\n",
       "      <td>Regulatory</td>\n",
       "      <td>1.4730732</td>\n",
       "    </tr>\n",
       "    <tr>\n",
       "      <th>...</th>\n",
       "      <td>...</td>\n",
       "      <td>...</td>\n",
       "      <td>...</td>\n",
       "    </tr>\n",
       "    <tr>\n",
       "      <th>61165</th>\n",
       "      <td>SNP61166</td>\n",
       "      <td>Common</td>\n",
       "      <td>0.8097592</td>\n",
       "    </tr>\n",
       "    <tr>\n",
       "      <th>61166</th>\n",
       "      <td>SNP61167</td>\n",
       "      <td>Common</td>\n",
       "      <td>-0.43282062</td>\n",
       "    </tr>\n",
       "    <tr>\n",
       "      <th>61167</th>\n",
       "      <td>SNP61168</td>\n",
       "      <td>Common</td>\n",
       "      <td>-0.7828549</td>\n",
       "    </tr>\n",
       "    <tr>\n",
       "      <th>61168</th>\n",
       "      <td>SNP61169</td>\n",
       "      <td>Common</td>\n",
       "      <td>1.1537557</td>\n",
       "    </tr>\n",
       "    <tr>\n",
       "      <th>61169</th>\n",
       "      <td>SNP61170</td>\n",
       "      <td>Common</td>\n",
       "      <td>-0.28793555</td>\n",
       "    </tr>\n",
       "  </tbody>\n",
       "</table>\n",
       "<p>57514 rows × 3 columns</p>\n",
       "</div>"
      ],
      "text/plain": [
       "           Name       label    gpn_score\n",
       "0      SNP00001  Regulatory   -1.3505003\n",
       "1      SNP00002  Regulatory   -2.6757724\n",
       "2      SNP00003  Regulatory   -1.6896006\n",
       "3      SNP00004  Regulatory   -0.6497843\n",
       "4      SNP00005  Regulatory    1.4730732\n",
       "...         ...         ...          ...\n",
       "61165  SNP61166      Common    0.8097592\n",
       "61166  SNP61167      Common  -0.43282062\n",
       "61167  SNP61168      Common   -0.7828549\n",
       "61168  SNP61169      Common    1.1537557\n",
       "61169  SNP61170      Common  -0.28793555\n",
       "\n",
       "[57514 rows x 3 columns]"
      ]
     },
     "execution_count": 74,
     "metadata": {},
     "output_type": "execute_result"
    }
   ],
   "source": [
    "df_regulatory_set = df_regulatory_set[df_regulatory_set[\"gpn_score\"].str.contains(\"No score\") == False]\n",
    "df_regulatory_set"
   ]
  },
  {
   "cell_type": "markdown",
   "metadata": {},
   "source": [
    "## Convert 'gpn_score' to floating point"
   ]
  },
  {
   "cell_type": "code",
   "execution_count": 75,
   "metadata": {},
   "outputs": [
    {
     "data": {
      "text/html": [
       "<div>\n",
       "<style scoped>\n",
       "    .dataframe tbody tr th:only-of-type {\n",
       "        vertical-align: middle;\n",
       "    }\n",
       "\n",
       "    .dataframe tbody tr th {\n",
       "        vertical-align: top;\n",
       "    }\n",
       "\n",
       "    .dataframe thead th {\n",
       "        text-align: right;\n",
       "    }\n",
       "</style>\n",
       "<table border=\"1\" class=\"dataframe\">\n",
       "  <thead>\n",
       "    <tr style=\"text-align: right;\">\n",
       "      <th></th>\n",
       "      <th>Name</th>\n",
       "      <th>label</th>\n",
       "      <th>gpn_score</th>\n",
       "    </tr>\n",
       "  </thead>\n",
       "  <tbody>\n",
       "    <tr>\n",
       "      <th>0</th>\n",
       "      <td>SNP00001</td>\n",
       "      <td>Regulatory</td>\n",
       "      <td>-1.350500</td>\n",
       "    </tr>\n",
       "    <tr>\n",
       "      <th>1</th>\n",
       "      <td>SNP00002</td>\n",
       "      <td>Regulatory</td>\n",
       "      <td>-2.675772</td>\n",
       "    </tr>\n",
       "    <tr>\n",
       "      <th>2</th>\n",
       "      <td>SNP00003</td>\n",
       "      <td>Regulatory</td>\n",
       "      <td>-1.689601</td>\n",
       "    </tr>\n",
       "    <tr>\n",
       "      <th>3</th>\n",
       "      <td>SNP00004</td>\n",
       "      <td>Regulatory</td>\n",
       "      <td>-0.649784</td>\n",
       "    </tr>\n",
       "    <tr>\n",
       "      <th>4</th>\n",
       "      <td>SNP00005</td>\n",
       "      <td>Regulatory</td>\n",
       "      <td>1.473073</td>\n",
       "    </tr>\n",
       "    <tr>\n",
       "      <th>...</th>\n",
       "      <td>...</td>\n",
       "      <td>...</td>\n",
       "      <td>...</td>\n",
       "    </tr>\n",
       "    <tr>\n",
       "      <th>61165</th>\n",
       "      <td>SNP61166</td>\n",
       "      <td>Common</td>\n",
       "      <td>0.809759</td>\n",
       "    </tr>\n",
       "    <tr>\n",
       "      <th>61166</th>\n",
       "      <td>SNP61167</td>\n",
       "      <td>Common</td>\n",
       "      <td>-0.432821</td>\n",
       "    </tr>\n",
       "    <tr>\n",
       "      <th>61167</th>\n",
       "      <td>SNP61168</td>\n",
       "      <td>Common</td>\n",
       "      <td>-0.782855</td>\n",
       "    </tr>\n",
       "    <tr>\n",
       "      <th>61168</th>\n",
       "      <td>SNP61169</td>\n",
       "      <td>Common</td>\n",
       "      <td>1.153756</td>\n",
       "    </tr>\n",
       "    <tr>\n",
       "      <th>61169</th>\n",
       "      <td>SNP61170</td>\n",
       "      <td>Common</td>\n",
       "      <td>-0.287936</td>\n",
       "    </tr>\n",
       "  </tbody>\n",
       "</table>\n",
       "<p>57514 rows × 3 columns</p>\n",
       "</div>"
      ],
      "text/plain": [
       "           Name       label  gpn_score\n",
       "0      SNP00001  Regulatory  -1.350500\n",
       "1      SNP00002  Regulatory  -2.675772\n",
       "2      SNP00003  Regulatory  -1.689601\n",
       "3      SNP00004  Regulatory  -0.649784\n",
       "4      SNP00005  Regulatory   1.473073\n",
       "...         ...         ...        ...\n",
       "61165  SNP61166      Common   0.809759\n",
       "61166  SNP61167      Common  -0.432821\n",
       "61167  SNP61168      Common  -0.782855\n",
       "61168  SNP61169      Common   1.153756\n",
       "61169  SNP61170      Common  -0.287936\n",
       "\n",
       "[57514 rows x 3 columns]"
      ]
     },
     "execution_count": 75,
     "metadata": {},
     "output_type": "execute_result"
    }
   ],
   "source": [
    "df_regulatory_set['gpn_score'] = df_regulatory_set['gpn_score'].astype(float)\n",
    "df_regulatory_set"
   ]
  },
  {
   "cell_type": "markdown",
   "metadata": {
    "id": "7WqloMgqIcVo"
   },
   "source": [
    "## Plot shows differentiation between Common and OMIM/Pathogenic mutations"
   ]
  },
  {
   "cell_type": "code",
   "execution_count": 76,
   "metadata": {
    "colab": {
     "base_uri": "https://localhost:8080/",
     "height": 466
    },
    "id": "Dc2zMD0nzj-A",
    "outputId": "7f888a71-74c2-45e5-90fe-92935bd82632"
   },
   "outputs": [
    {
     "data": {
      "text/plain": [
       "<AxesSubplot:xlabel='gpn_score', ylabel='Count'>"
      ]
     },
     "execution_count": 76,
     "metadata": {},
     "output_type": "execute_result"
    },
    {
     "data": {
      "image/png": "[encoded data removed]",
      "text/plain": [
       "<Figure size 432x288 with 1 Axes>"
      ]
     },
     "metadata": {
      "needs_background": "light"
     },
     "output_type": "display_data"
    }
   ],
   "source": [
    "sns.histplot(data=df_regulatory_set, x=\"gpn_score\", hue=\"label\")"
   ]
  },
  {
   "cell_type": "code",
   "execution_count": 77,
   "metadata": {},
   "outputs": [
    {
     "data": {
      "text/plain": [
       "(0.5197468249413786, 0.10453511572986386)"
      ]
     },
     "execution_count": 77,
     "metadata": {},
     "output_type": "execute_result"
    }
   ],
   "source": [
    "from sklearn.metrics import roc_auc_score, average_precision_score\n",
    "AUROC = roc_auc_score(df_regulatory_set.label==\"Regulatory\", -df_regulatory_set.gpn_score)\n",
    "AUPRC = average_precision_score(df_regulatory_set.label==\"Regulatory\", -df_regulatory_set.gpn_score)\n",
    "AUROC, AUPRC"
   ]
  },
  {
   "cell_type": "markdown",
   "metadata": {},
   "source": [
    "## Plot ROC curve"
   ]
  },
  {
   "cell_type": "code",
   "execution_count": 78,
   "metadata": {},
   "outputs": [],
   "source": [
    "from sklearn.metrics import roc_curve\n",
    "\n",
    "fpr, tpr, thresholds = roc_curve(df_regulatory_set.label==\"Regulatory\", -df_regulatory_set.gpn_score)"
   ]
  },
  {
   "cell_type": "code",
   "execution_count": 79,
   "metadata": {},
   "outputs": [
    {
     "data": {
      "image/png": "[encoded data removed]",
      "text/plain": [
       "<Figure size 576x432 with 1 Axes>"
      ]
     },
     "metadata": {
      "needs_background": "light"
     },
     "output_type": "display_data"
    }
   ],
   "source": [
    "plt.figure(figsize=(8, 6))\n",
    "plt.plot(fpr, tpr, color='b', lw=2, label=f'ROC curve (AUC = {AUROC:.2f})')\n",
    "plt.plot([0, 1], [0, 1], color='gray', linestyle='--')\n",
    "plt.xlim([0.0, 1.0])\n",
    "plt.ylim([0.0, 1.05])\n",
    "plt.xlabel('False Positive Rate (FPR)')\n",
    "plt.ylabel('True Positive Rate (TPR)')\n",
    "plt.title('Receiver Operating Characteristic (ROC) Curve')\n",
    "plt.legend(loc='lower right')\n",
    "plt.grid(True)\n",
    "plt.show()"
   ]
  },
  {
   "cell_type": "code",
   "execution_count": 96,
   "metadata": {},
   "outputs": [],
   "source": [
    "X = df_regulatory_set['gpn_score']\n",
    "y = df_regulatory_set['label']"
   ]
  },
  {
   "cell_type": "code",
   "execution_count": 97,
   "metadata": {},
   "outputs": [
    {
     "data": {
      "text/plain": [
       "0       -1.350500\n",
       "1       -2.675772\n",
       "2       -1.689601\n",
       "3       -0.649784\n",
       "4        1.473073\n",
       "           ...   \n",
       "61165    0.809759\n",
       "61166   -0.432821\n",
       "61167   -0.782855\n",
       "61168    1.153756\n",
       "61169   -0.287936\n",
       "Name: gpn_score, Length: 57514, dtype: float64"
      ]
     },
     "execution_count": 97,
     "metadata": {},
     "output_type": "execute_result"
    }
   ],
   "source": [
    "X"
   ]
  },
  {
   "cell_type": "code",
   "execution_count": 98,
   "metadata": {},
   "outputs": [
    {
     "data": {
      "text/plain": [
       "0        Regulatory\n",
       "1        Regulatory\n",
       "2        Regulatory\n",
       "3        Regulatory\n",
       "4        Regulatory\n",
       "            ...    \n",
       "61165        Common\n",
       "61166        Common\n",
       "61167        Common\n",
       "61168        Common\n",
       "61169        Common\n",
       "Name: label, Length: 57514, dtype: object"
      ]
     },
     "execution_count": 98,
     "metadata": {},
     "output_type": "execute_result"
    }
   ],
   "source": [
    "y"
   ]
  },
  {
   "cell_type": "code",
   "execution_count": 99,
   "metadata": {},
   "outputs": [],
   "source": [
    "X = X.values.reshape(-1,1)"
   ]
  },
  {
   "cell_type": "code",
   "execution_count": 100,
   "metadata": {},
   "outputs": [],
   "source": [
    "y = df_regulatory_set['label'] == 'Regulatory'\n",
    "y = y.astype(int)"
   ]
  },
  {
   "cell_type": "code",
   "execution_count": 101,
   "metadata": {},
   "outputs": [
    {
     "data": {
      "text/plain": [
       "0        1\n",
       "1        1\n",
       "2        1\n",
       "3        1\n",
       "4        1\n",
       "        ..\n",
       "61165    0\n",
       "61166    0\n",
       "61167    0\n",
       "61168    0\n",
       "61169    0\n",
       "Name: label, Length: 57514, dtype: int64"
      ]
     },
     "execution_count": 101,
     "metadata": {},
     "output_type": "execute_result"
    }
   ],
   "source": [
    "y"
   ]
  },
  {
   "cell_type": "code",
   "execution_count": 102,
   "metadata": {},
   "outputs": [],
   "source": [
    "from sklearn.model_selection import train_test_split\n",
    "test_size = 0.3\n",
    "seed = 7\n",
    "X_train, X_test, y_train, y_test = train_test_split(X, y, test_size=test_size, random_state=seed)"
   ]
  },
  {
   "cell_type": "code",
   "execution_count": 103,
   "metadata": {},
   "outputs": [],
   "source": [
    "from sklearn.linear_model import LogisticRegression\n",
    "\n",
    "lr_model = LogisticRegression(solver='lbfgs', max_iter=1000)\n",
    "lr_train_model = lr_model.fit(X_train,y_train)\n",
    "pred_lr = lr_model.predict(X_test)"
   ]
  },
  {
   "cell_type": "code",
   "execution_count": 105,
   "metadata": {},
   "outputs": [
    {
     "name": "stdout",
     "output_type": "stream",
     "text": [
      "Accuracy_model_lr: 0.9120\n",
      "F1_model_lr: 0.0000\n",
      "MCC_model_lr: 0.0000\n",
      "ROC_AUC_model_lr: 0.5000\n"
     ]
    },
    {
     "name": "stderr",
     "output_type": "stream",
     "text": [
      "/cm/shared/apps/spack/0.17.3/cpu/b/opt/spack/linux-rocky8-zen/gcc-8.5.0/anaconda3-2021.05-q4munrgvh7qp4o7r3nzcdkbuph4z7375/lib/python3.8/site-packages/sklearn/metrics/_classification.py:870: RuntimeWarning: invalid value encountered in scalar divide\n",
      "  mcc = cov_ytyp / np.sqrt(cov_ytyt * cov_ypyp)\n"
     ]
    }
   ],
   "source": [
    "from sklearn.metrics import accuracy_score, f1_score, matthews_corrcoef, roc_auc_score\n",
    "\n",
    "print(\"Accuracy_model_lr: %.4f\" % (accuracy_score(y_test, pred_lr))) \n",
    "print(\"F1_model_lr: %.4f\" % (f1_score(y_test, pred_lr)))\n",
    "print(\"MCC_model_lr: %.4f\" % (matthews_corrcoef(y_test, pred_lr)))\n",
    "print(\"ROC_AUC_model_lr: %.4f\" % (roc_auc_score(y_test, pred_lr))) # don't know about call: y_score vs. pred"
   ]
  },
  {
   "cell_type": "code",
   "execution_count": 106,
   "metadata": {},
   "outputs": [
    {
     "name": "stdout",
     "output_type": "stream",
     "text": [
      "Accuracy_model1: 0.9120\n",
      "Accuracy_model2: 0.9120\n",
      "F1_model1: 0.0000\n",
      "F1_model2: 0.0000\n",
      "MCC_model1: 0.0000\n",
      "MCC_model2: 0.0000\n",
      "ROC_AUC_model1: 0.5000\n",
      "ROC_AUC_model2: 0.5000\n"
     ]
    },
    {
     "name": "stderr",
     "output_type": "stream",
     "text": [
      "/cm/shared/apps/spack/0.17.3/cpu/b/opt/spack/linux-rocky8-zen/gcc-8.5.0/anaconda3-2021.05-q4munrgvh7qp4o7r3nzcdkbuph4z7375/lib/python3.8/site-packages/sklearn/metrics/_classification.py:870: RuntimeWarning: invalid value encountered in scalar divide\n",
      "  mcc = cov_ytyp / np.sqrt(cov_ytyt * cov_ypyp)\n",
      "/cm/shared/apps/spack/0.17.3/cpu/b/opt/spack/linux-rocky8-zen/gcc-8.5.0/anaconda3-2021.05-q4munrgvh7qp4o7r3nzcdkbuph4z7375/lib/python3.8/site-packages/sklearn/metrics/_classification.py:870: RuntimeWarning: invalid value encountered in scalar divide\n",
      "  mcc = cov_ytyp / np.sqrt(cov_ytyt * cov_ypyp)\n"
     ]
    }
   ],
   "source": [
    "model1 = XGBClassifier() \n",
    "model2 = XGBClassifier(n_estimators=100, max_depth=8, learning_rate=0.1, subsample=0.5) \n",
    "train_model1 = model1.fit(X_train, y_train) \n",
    "train_model2 = model2.fit(X_train, y_train) \n",
    "pred1 = train_model1.predict(X_test) \n",
    "pred2 = train_model2.predict(X_test) \n",
    "print(\"Accuracy_model1: %.4f\" % (accuracy_score(y_test, pred1))) \n",
    "print(\"Accuracy_model2: %.4f\" % (accuracy_score(y_test, pred2))) \n",
    "print(\"F1_model1: %.4f\" % (f1_score(y_test, pred1)))\n",
    "print(\"F1_model2: %.4f\" % (f1_score(y_test, pred2)))\n",
    "print(\"MCC_model1: %.4f\" % (matthews_corrcoef(y_test, pred1)))\n",
    "print(\"MCC_model2: %.4f\" % (matthews_corrcoef(y_test, pred2)))\n",
    "print(\"ROC_AUC_model1: %.4f\" % (roc_auc_score(y_test, pred1))) # don't know about call: y_score vs. pred\n",
    "print(\"ROC_AUC_model2: %.4f\" % (roc_auc_score(y_test, pred2))) # don't know about call: y_score vs. pred"
   ]
  },
  {
   "cell_type": "code",
   "execution_count": 112,
   "metadata": {},
   "outputs": [
    {
     "name": "stdout",
     "output_type": "stream",
     "text": [
      "0 0 1519 15736\n"
     ]
    }
   ],
   "source": [
    "tn, fp, fn, tp = confusion_matrix(y_test, pred1).ravel()\n",
    "print(tp, fp, fn, tn)"
   ]
  },
  {
   "cell_type": "code",
   "execution_count": 113,
   "metadata": {},
   "outputs": [
    {
     "name": "stdout",
     "output_type": "stream",
     "text": [
      "0 0 1519 15736\n"
     ]
    }
   ],
   "source": [
    "tn, fp, fn, tp = confusion_matrix(y_test, pred2).ravel()\n",
    "print(tp, fp, fn, tn)"
   ]
  },
  {
   "cell_type": "code",
   "execution_count": 107,
   "metadata": {},
   "outputs": [
    {
     "name": "stdout",
     "output_type": "stream",
     "text": [
      "Accuracy_model3: 0.9120\n",
      "F1_model3: 0.0000\n",
      "MCC_model3: 0.0000\n",
      "ROC_AUC_model3: 0.5000\n"
     ]
    },
    {
     "name": "stderr",
     "output_type": "stream",
     "text": [
      "/cm/shared/apps/spack/0.17.3/cpu/b/opt/spack/linux-rocky8-zen/gcc-8.5.0/anaconda3-2021.05-q4munrgvh7qp4o7r3nzcdkbuph4z7375/lib/python3.8/site-packages/sklearn/metrics/_classification.py:870: RuntimeWarning: invalid value encountered in scalar divide\n",
      "  mcc = cov_ytyp / np.sqrt(cov_ytyt * cov_ypyp)\n"
     ]
    }
   ],
   "source": [
    "model3 = XGBClassifier(\n",
    " learning_rate =0.1,\n",
    " n_estimators=1000,\n",
    " max_depth=5,\n",
    " min_child_weight=1,\n",
    " gamma=0,\n",
    " subsample=0.8,\n",
    " colsample_bytree=0.8,\n",
    " objective= 'binary:logistic',\n",
    " nthread=4,\n",
    " scale_pos_weight=1,\n",
    " seed=7)\n",
    "\n",
    "train_model3 = model3.fit(X_train, y_train)\n",
    "pred3 = train_model3.predict(X_test)\n",
    "print(\"Accuracy_model3: %.4f\" % (accuracy_score(y_test, pred3)))\n",
    "print(\"F1_model3: %.4f\" % (f1_score(y_test, pred3)))\n",
    "print(\"MCC_model3: %.4f\" % (matthews_corrcoef(y_test, pred3)))\n",
    "print(\"ROC_AUC_model3: %.4f\" % (roc_auc_score(y_test, pred3))) # don't know about call: y_score vs. pred\n"
   ]
  },
  {
   "cell_type": "code",
   "execution_count": 111,
   "metadata": {},
   "outputs": [
    {
     "name": "stdout",
     "output_type": "stream",
     "text": [
      "0 0 1519 15736\n"
     ]
    }
   ],
   "source": [
    "tn, fp, fn, tp = confusion_matrix(y_test, pred3).ravel()\n",
    "print(tp, fp, fn, tn)"
   ]
  },
  {
   "cell_type": "code",
   "execution_count": 109,
   "metadata": {},
   "outputs": [
    {
     "name": "stdout",
     "output_type": "stream",
     "text": [
      "Accuracy_model_regbase: 0.9120\n",
      "F1_model_regbase: 0.0000\n",
      "MCC_model_regbase: 0.0000\n",
      "ROC_AUC_model_regbase: 0.5000\n"
     ]
    },
    {
     "name": "stderr",
     "output_type": "stream",
     "text": [
      "/cm/shared/apps/spack/0.17.3/cpu/b/opt/spack/linux-rocky8-zen/gcc-8.5.0/anaconda3-2021.05-q4munrgvh7qp4o7r3nzcdkbuph4z7375/lib/python3.8/site-packages/sklearn/metrics/_classification.py:870: RuntimeWarning: invalid value encountered in scalar divide\n",
      "  mcc = cov_ytyp / np.sqrt(cov_ytyt * cov_ypyp)\n"
     ]
    }
   ],
   "source": [
    "train_model_regbase = model_regbase.fit(X_train, y_train)\n",
    "#pred_regbase = train_model_regbase.predict(X_val)\n",
    "#print(\"Accuracy_model_regbase: %.4f\" % (accuracy_score(y_val, pred_regbase)))\n",
    "#print(\"F1_model_regbase: %.4f\" % (f1_score(y_val, pred_regbase)))\n",
    "#print(\"MCC_model_regbase: %.4f\" % (matthews_corrcoef(y_val, pred_regbase)))\n",
    "#print(\"ROC_AUC_model_regbase: %.4f\" % (roc_auc_score(y_val, pred_regbase)))\n",
    "pred_regbase = train_model_regbase.predict(X_test)\n",
    "print(\"Accuracy_model_regbase: %.4f\" % (accuracy_score(y_test, pred_regbase)))\n",
    "print(\"F1_model_regbase: %.4f\" % (f1_score(y_test, pred_regbase)))\n",
    "print(\"MCC_model_regbase: %.4f\" % (matthews_corrcoef(y_test, pred_regbase)))\n",
    "print(\"ROC_AUC_model_regbase: %.4f\" % (roc_auc_score(y_test, pred_regbase)))"
   ]
  },
  {
   "cell_type": "code",
   "execution_count": 110,
   "metadata": {},
   "outputs": [
    {
     "name": "stdout",
     "output_type": "stream",
     "text": [
      "0 0 1519 15736\n"
     ]
    }
   ],
   "source": [
    "tn, fp, fn, tp = confusion_matrix(y_test, pred_regbase).ravel()\n",
    "print(tp, fp, fn, tn)"
   ]
  },
  {
   "cell_type": "code",
   "execution_count": null,
   "metadata": {},
   "outputs": [],
   "source": []
  }
 ],
 "metadata": {
  "accelerator": "GPU",
  "colab": {
   "gpuType": "A100",
   "machine_shape": "hm",
   "provenance": []
  },
  "kernelspec": {
   "display_name": "Python 3",
   "language": "python",
   "name": "python3"
  },
  "language_info": {
   "codemirror_mode": {
    "name": "ipython",
    "version": 3
   },
   "file_extension": ".py",
   "mimetype": "text/x-python",
   "name": "python",
   "nbconvert_exporter": "python",
   "pygments_lexer": "ipython3",
   "version": "3.8.8"
  },
  "widgets": {
   "application/vnd.jupyter.widget-state+json": {
    "00e15afb909343c0bd5580a58fb0aeca": {
     "model_module": "@jupyter-widgets/base",
     "model_module_version": "1.2.0",
     "model_name": "LayoutModel",
     "state": {
      "_model_module": "@jupyter-widgets/base",
      "_model_module_version": "1.2.0",
      "_model_name": "LayoutModel",
      "_view_count": null,
      "_view_module": "@jupyter-widgets/base",
      "_view_module_version": "1.2.0",
      "_view_name": "LayoutView",
      "align_content": null,
      "align_items": null,
      "align_self": null,
      "border": null,
      "bottom": null,
      "display": null,
      "flex": null,
      "flex_flow": null,
      "grid_area": null,
      "grid_auto_columns": null,
      "grid_auto_flow": null,
      "grid_auto_rows": null,
      "grid_column": null,
      "grid_gap": null,
      "grid_row": null,
      "grid_template_areas": null,
      "grid_template_columns": null,
      "grid_template_rows": null,
      "height": null,
      "justify_content": null,
      "justify_items": null,
      "left": null,
      "margin": null,
      "max_height": null,
      "max_width": null,
      "min_height": null,
      "min_width": null,
      "object_fit": null,
      "object_position": null,
      "order": null,
      "overflow": null,
      "overflow_x": null,
      "overflow_y": null,
      "padding": null,
      "right": null,
      "top": null,
      "visibility": null,
      "width": null
     }
    },
    "012d27483f074768bd69e4017383a011": {
     "model_module": "@jupyter-widgets/controls",
     "model_module_version": "1.5.0",
     "model_name": "DescriptionStyleModel",
     "state": {
      "_model_module": "@jupyter-widgets/controls",
      "_model_module_version": "1.5.0",
      "_model_name": "DescriptionStyleModel",
      "_view_count": null,
      "_view_module": "@jupyter-widgets/base",
      "_view_module_version": "1.2.0",
      "_view_name": "StyleView",
      "description_width": ""
     }
    },
    "0141c10e6e4d4d068f1e83a38ac7de2b": {
     "model_module": "@jupyter-widgets/controls",
     "model_module_version": "1.5.0",
     "model_name": "HBoxModel",
     "state": {
      "_dom_classes": [],
      "_model_module": "@jupyter-widgets/controls",
      "_model_module_version": "1.5.0",
      "_model_name": "HBoxModel",
      "_view_count": null,
      "_view_module": "@jupyter-widgets/controls",
      "_view_module_version": "1.5.0",
      "_view_name": "HBoxView",
      "box_style": "",
      "children": [
       "IPY_MODEL_82e528a86d7e4f479f99b1f9caa1619b",
       "IPY_MODEL_7629b6c1f78b4f64be614403c170f412",
       "IPY_MODEL_25d4867eae194198a0b2402076a9b828"
      ],
      "layout": "IPY_MODEL_099bc9d6aedf451ab75a165e7998c48a"
     }
    },
    "0410163023af47cd9304f250cf0d32f2": {
     "model_module": "@jupyter-widgets/base",
     "model_module_version": "1.2.0",
     "model_name": "LayoutModel",
     "state": {
      "_model_module": "@jupyter-widgets/base",
      "_model_module_version": "1.2.0",
      "_model_name": "LayoutModel",
      "_view_count": null,
      "_view_module": "@jupyter-widgets/base",
      "_view_module_version": "1.2.0",
      "_view_name": "LayoutView",
      "align_content": null,
      "align_items": null,
      "align_self": null,
      "border": null,
      "bottom": null,
      "display": null,
      "flex": null,
      "flex_flow": null,
      "grid_area": null,
      "grid_auto_columns": null,
      "grid_auto_flow": null,
      "grid_auto_rows": null,
      "grid_column": null,
      "grid_gap": null,
      "grid_row": null,
      "grid_template_areas": null,
      "grid_template_columns": null,
      "grid_template_rows": null,
      "height": null,
      "justify_content": null,
      "justify_items": null,
      "left": null,
      "margin": null,
      "max_height": null,
      "max_width": null,
      "min_height": null,
      "min_width": null,
      "object_fit": null,
      "object_position": null,
      "order": null,
      "overflow": null,
      "overflow_x": null,
      "overflow_y": null,
      "padding": null,
      "right": null,
      "top": null,
      "visibility": null,
      "width": null
     }
    },
    "07377b5371e7489cba645e32d955fe39": {
     "model_module": "@jupyter-widgets/controls",
     "model_module_version": "1.5.0",
     "model_name": "HTMLModel",
     "state": {
      "_dom_classes": [],
      "_model_module": "@jupyter-widgets/controls",
      "_model_module_version": "1.5.0",
      "_model_name": "HTMLModel",
      "_view_count": null,
      "_view_module": "@jupyter-widgets/controls",
      "_view_module_version": "1.5.0",
      "_view_name": "HTMLView",
      "description": "",
      "description_tooltip": null,
      "layout": "IPY_MODEL_21c4fed2661a43f1a56ab765c45ae979",
      "placeholder": "​",
      "style": "IPY_MODEL_71633234d48d4ed7b126a6ed4b3b599c",
      "value": "config.json: 100%"
     }
    },
    "099bc9d6aedf451ab75a165e7998c48a": {
     "model_module": "@jupyter-widgets/base",
     "model_module_version": "1.2.0",
     "model_name": "LayoutModel",
     "state": {
      "_model_module": "@jupyter-widgets/base",
      "_model_module_version": "1.2.0",
      "_model_name": "LayoutModel",
      "_view_count": null,
      "_view_module": "@jupyter-widgets/base",
      "_view_module_version": "1.2.0",
      "_view_name": "LayoutView",
      "align_content": null,
      "align_items": null,
      "align_self": null,
      "border": null,
      "bottom": null,
      "display": null,
      "flex": null,
      "flex_flow": null,
      "grid_area": null,
      "grid_auto_columns": null,
      "grid_auto_flow": null,
      "grid_auto_rows": null,
      "grid_column": null,
      "grid_gap": null,
      "grid_row": null,
      "grid_template_areas": null,
      "grid_template_columns": null,
      "grid_template_rows": null,
      "height": null,
      "justify_content": null,
      "justify_items": null,
      "left": null,
      "margin": null,
      "max_height": null,
      "max_width": null,
      "min_height": null,
      "min_width": null,
      "object_fit": null,
      "object_position": null,
      "order": null,
      "overflow": null,
      "overflow_x": null,
      "overflow_y": null,
      "padding": null,
      "right": null,
      "top": null,
      "visibility": null,
      "width": null
     }
    },
    "0b90c8ccb877444088da9d9db6042afc": {
     "model_module": "@jupyter-widgets/controls",
     "model_module_version": "1.5.0",
     "model_name": "ProgressStyleModel",
     "state": {
      "_model_module": "@jupyter-widgets/controls",
      "_model_module_version": "1.5.0",
      "_model_name": "ProgressStyleModel",
      "_view_count": null,
      "_view_module": "@jupyter-widgets/base",
      "_view_module_version": "1.2.0",
      "_view_name": "StyleView",
      "bar_color": null,
      "description_width": ""
     }
    },
    "171406a5ab004c90bd7471ab8c060d0a": {
     "model_module": "@jupyter-widgets/controls",
     "model_module_version": "1.5.0",
     "model_name": "DescriptionStyleModel",
     "state": {
      "_model_module": "@jupyter-widgets/controls",
      "_model_module_version": "1.5.0",
      "_model_name": "DescriptionStyleModel",
      "_view_count": null,
      "_view_module": "@jupyter-widgets/base",
      "_view_module_version": "1.2.0",
      "_view_name": "StyleView",
      "description_width": ""
     }
    },
    "1d083f716ae24d4c90a44363c117cf51": {
     "model_module": "@jupyter-widgets/controls",
     "model_module_version": "1.5.0",
     "model_name": "ProgressStyleModel",
     "state": {
      "_model_module": "@jupyter-widgets/controls",
      "_model_module_version": "1.5.0",
      "_model_name": "ProgressStyleModel",
      "_view_count": null,
      "_view_module": "@jupyter-widgets/base",
      "_view_module_version": "1.2.0",
      "_view_name": "StyleView",
      "bar_color": null,
      "description_width": ""
     }
    },
    "1da2e8ddeeb84998851b70208e7a39a5": {
     "model_module": "@jupyter-widgets/controls",
     "model_module_version": "1.5.0",
     "model_name": "HTMLModel",
     "state": {
      "_dom_classes": [],
      "_model_module": "@jupyter-widgets/controls",
      "_model_module_version": "1.5.0",
      "_model_name": "HTMLModel",
      "_view_count": null,
      "_view_module": "@jupyter-widgets/controls",
      "_view_module_version": "1.5.0",
      "_view_name": "HTMLView",
      "description": "",
      "description_tooltip": null,
      "layout": "IPY_MODEL_531fa210fcc74105b753fb8adb870da3",
      "placeholder": "​",
      "style": "IPY_MODEL_bffb7d6280864246af0de6179d6c2c1c",
      "value": "Filter: 100%"
     }
    },
    "21520660a28a422ba0ee1caee61116ca": {
     "model_module": "@jupyter-widgets/controls",
     "model_module_version": "1.5.0",
     "model_name": "HBoxModel",
     "state": {
      "_dom_classes": [],
      "_model_module": "@jupyter-widgets/controls",
      "_model_module_version": "1.5.0",
      "_model_name": "HBoxModel",
      "_view_count": null,
      "_view_module": "@jupyter-widgets/controls",
      "_view_module_version": "1.5.0",
      "_view_name": "HBoxView",
      "box_style": "",
      "children": [
       "IPY_MODEL_07377b5371e7489cba645e32d955fe39",
       "IPY_MODEL_9da13b3945cc48fe9ed1ecd11ccd2d97",
       "IPY_MODEL_4e7e34eb2aa2485db5f4f9434e704e2b"
      ],
      "layout": "IPY_MODEL_cd70659960b94448930c63058158ace9"
     }
    },
    "21a3333f99f444afb8a4f8b82bbba4ea": {
     "model_module": "@jupyter-widgets/controls",
     "model_module_version": "1.5.0",
     "model_name": "HBoxModel",
     "state": {
      "_dom_classes": [],
      "_model_module": "@jupyter-widgets/controls",
      "_model_module_version": "1.5.0",
      "_model_name": "HBoxModel",
      "_view_count": null,
      "_view_module": "@jupyter-widgets/controls",
      "_view_module_version": "1.5.0",
      "_view_name": "HBoxView",
      "box_style": "",
      "children": [
       "IPY_MODEL_1da2e8ddeeb84998851b70208e7a39a5",
       "IPY_MODEL_4766ae97957f486a9749439ef8560cdd",
       "IPY_MODEL_e3924633f045407098f8e79c7c419f61"
      ],
      "layout": "IPY_MODEL_00e15afb909343c0bd5580a58fb0aeca"
     }
    },
    "21c4fed2661a43f1a56ab765c45ae979": {
     "model_module": "@jupyter-widgets/base",
     "model_module_version": "1.2.0",
     "model_name": "LayoutModel",
     "state": {
      "_model_module": "@jupyter-widgets/base",
      "_model_module_version": "1.2.0",
      "_model_name": "LayoutModel",
      "_view_count": null,
      "_view_module": "@jupyter-widgets/base",
      "_view_module_version": "1.2.0",
      "_view_name": "LayoutView",
      "align_content": null,
      "align_items": null,
      "align_self": null,
      "border": null,
      "bottom": null,
      "display": null,
      "flex": null,
      "flex_flow": null,
      "grid_area": null,
      "grid_auto_columns": null,
      "grid_auto_flow": null,
      "grid_auto_rows": null,
      "grid_column": null,
      "grid_gap": null,
      "grid_row": null,
      "grid_template_areas": null,
      "grid_template_columns": null,
      "grid_template_rows": null,
      "height": null,
      "justify_content": null,
      "justify_items": null,
      "left": null,
      "margin": null,
      "max_height": null,
      "max_width": null,
      "min_height": null,
      "min_width": null,
      "object_fit": null,
      "object_position": null,
      "order": null,
      "overflow": null,
      "overflow_x": null,
      "overflow_y": null,
      "padding": null,
      "right": null,
      "top": null,
      "visibility": null,
      "width": null
     }
    },
    "221672eec59e45a8a0ff95186e90189b": {
     "model_module": "@jupyter-widgets/base",
     "model_module_version": "1.2.0",
     "model_name": "LayoutModel",
     "state": {
      "_model_module": "@jupyter-widgets/base",
      "_model_module_version": "1.2.0",
      "_model_name": "LayoutModel",
      "_view_count": null,
      "_view_module": "@jupyter-widgets/base",
      "_view_module_version": "1.2.0",
      "_view_name": "LayoutView",
      "align_content": null,
      "align_items": null,
      "align_self": null,
      "border": null,
      "bottom": null,
      "display": null,
      "flex": null,
      "flex_flow": null,
      "grid_area": null,
      "grid_auto_columns": null,
      "grid_auto_flow": null,
      "grid_auto_rows": null,
      "grid_column": null,
      "grid_gap": null,
      "grid_row": null,
      "grid_template_areas": null,
      "grid_template_columns": null,
      "grid_template_rows": null,
      "height": null,
      "justify_content": null,
      "justify_items": null,
      "left": null,
      "margin": null,
      "max_height": null,
      "max_width": null,
      "min_height": null,
      "min_width": null,
      "object_fit": null,
      "object_position": null,
      "order": null,
      "overflow": null,
      "overflow_x": null,
      "overflow_y": null,
      "padding": null,
      "right": null,
      "top": null,
      "visibility": null,
      "width": null
     }
    },
    "25d4867eae194198a0b2402076a9b828": {
     "model_module": "@jupyter-widgets/controls",
     "model_module_version": "1.5.0",
     "model_name": "HTMLModel",
     "state": {
      "_dom_classes": [],
      "_model_module": "@jupyter-widgets/controls",
      "_model_module_version": "1.5.0",
      "_model_name": "HTMLModel",
      "_view_count": null,
      "_view_module": "@jupyter-widgets/controls",
      "_view_module_version": "1.5.0",
      "_view_name": "HTMLView",
      "description": "",
      "description_tooltip": null,
      "layout": "IPY_MODEL_2ce91020d8834b8d88699fc38a692f07",
      "placeholder": "​",
      "style": "IPY_MODEL_b0cc9cddb6e14f198321332da62b1ba4",
      "value": " 9761267/9761267 [02:26&lt;00:00, 65238.45 examples/s]"
     }
    },
    "2c0161221d6e441198a30cab93f227c3": {
     "model_module": "@jupyter-widgets/controls",
     "model_module_version": "1.5.0",
     "model_name": "DescriptionStyleModel",
     "state": {
      "_model_module": "@jupyter-widgets/controls",
      "_model_module_version": "1.5.0",
      "_model_name": "DescriptionStyleModel",
      "_view_count": null,
      "_view_module": "@jupyter-widgets/base",
      "_view_module_version": "1.2.0",
      "_view_name": "StyleView",
      "description_width": ""
     }
    },
    "2ce91020d8834b8d88699fc38a692f07": {
     "model_module": "@jupyter-widgets/base",
     "model_module_version": "1.2.0",
     "model_name": "LayoutModel",
     "state": {
      "_model_module": "@jupyter-widgets/base",
      "_model_module_version": "1.2.0",
      "_model_name": "LayoutModel",
      "_view_count": null,
      "_view_module": "@jupyter-widgets/base",
      "_view_module_version": "1.2.0",
      "_view_name": "LayoutView",
      "align_content": null,
      "align_items": null,
      "align_self": null,
      "border": null,
      "bottom": null,
      "display": null,
      "flex": null,
      "flex_flow": null,
      "grid_area": null,
      "grid_auto_columns": null,
      "grid_auto_flow": null,
      "grid_auto_rows": null,
      "grid_column": null,
      "grid_gap": null,
      "grid_row": null,
      "grid_template_areas": null,
      "grid_template_columns": null,
      "grid_template_rows": null,
      "height": null,
      "justify_content": null,
      "justify_items": null,
      "left": null,
      "margin": null,
      "max_height": null,
      "max_width": null,
      "min_height": null,
      "min_width": null,
      "object_fit": null,
      "object_position": null,
      "order": null,
      "overflow": null,
      "overflow_x": null,
      "overflow_y": null,
      "padding": null,
      "right": null,
      "top": null,
      "visibility": null,
      "width": null
     }
    },
    "2f6ad30fb3c5452b9736de95f8933bce": {
     "model_module": "@jupyter-widgets/controls",
     "model_module_version": "1.5.0",
     "model_name": "HBoxModel",
     "state": {
      "_dom_classes": [],
      "_model_module": "@jupyter-widgets/controls",
      "_model_module_version": "1.5.0",
      "_model_name": "HBoxModel",
      "_view_count": null,
      "_view_module": "@jupyter-widgets/controls",
      "_view_module_version": "1.5.0",
      "_view_name": "HBoxView",
      "box_style": "",
      "children": [
       "IPY_MODEL_43c28e7ae1c14a44aa83b73ee921cf25",
       "IPY_MODEL_fec558ceb67143068f2d7a07e06258e6",
       "IPY_MODEL_74c31538135a4e4c9d7d23d112a0cfa0"
      ],
      "layout": "IPY_MODEL_7453a7db0ec2433190fedbbe6f4c746d"
     }
    },
    "3fa7c7f8ab044c358166432f5c55642f": {
     "model_module": "@jupyter-widgets/base",
     "model_module_version": "1.2.0",
     "model_name": "LayoutModel",
     "state": {
      "_model_module": "@jupyter-widgets/base",
      "_model_module_version": "1.2.0",
      "_model_name": "LayoutModel",
      "_view_count": null,
      "_view_module": "@jupyter-widgets/base",
      "_view_module_version": "1.2.0",
      "_view_name": "LayoutView",
      "align_content": null,
      "align_items": null,
      "align_self": null,
      "border": null,
      "bottom": null,
      "display": null,
      "flex": null,
      "flex_flow": null,
      "grid_area": null,
      "grid_auto_columns": null,
      "grid_auto_flow": null,
      "grid_auto_rows": null,
      "grid_column": null,
      "grid_gap": null,
      "grid_row": null,
      "grid_template_areas": null,
      "grid_template_columns": null,
      "grid_template_rows": null,
      "height": null,
      "justify_content": null,
      "justify_items": null,
      "left": null,
      "margin": null,
      "max_height": null,
      "max_width": null,
      "min_height": null,
      "min_width": null,
      "object_fit": null,
      "object_position": null,
      "order": null,
      "overflow": null,
      "overflow_x": null,
      "overflow_y": null,
      "padding": null,
      "right": null,
      "top": null,
      "visibility": null,
      "width": null
     }
    },
    "43c28e7ae1c14a44aa83b73ee921cf25": {
     "model_module": "@jupyter-widgets/controls",
     "model_module_version": "1.5.0",
     "model_name": "HTMLModel",
     "state": {
      "_dom_classes": [],
      "_model_module": "@jupyter-widgets/controls",
      "_model_module_version": "1.5.0",
      "_model_name": "HTMLModel",
      "_view_count": null,
      "_view_module": "@jupyter-widgets/controls",
      "_view_module_version": "1.5.0",
      "_view_name": "HTMLView",
      "description": "",
      "description_tooltip": null,
      "layout": "IPY_MODEL_b9025a317b5b4402b766d9f5ddbbb2b2",
      "placeholder": "​",
      "style": "IPY_MODEL_61989154f6e7474a8dcbc8849474f56a",
      "value": "Filter: 100%"
     }
    },
    "46c4293be4f04fb6a259aabd58a952f8": {
     "model_module": "@jupyter-widgets/base",
     "model_module_version": "1.2.0",
     "model_name": "LayoutModel",
     "state": {
      "_model_module": "@jupyter-widgets/base",
      "_model_module_version": "1.2.0",
      "_model_name": "LayoutModel",
      "_view_count": null,
      "_view_module": "@jupyter-widgets/base",
      "_view_module_version": "1.2.0",
      "_view_name": "LayoutView",
      "align_content": null,
      "align_items": null,
      "align_self": null,
      "border": null,
      "bottom": null,
      "display": null,
      "flex": null,
      "flex_flow": null,
      "grid_area": null,
      "grid_auto_columns": null,
      "grid_auto_flow": null,
      "grid_auto_rows": null,
      "grid_column": null,
      "grid_gap": null,
      "grid_row": null,
      "grid_template_areas": null,
      "grid_template_columns": null,
      "grid_template_rows": null,
      "height": null,
      "justify_content": null,
      "justify_items": null,
      "left": null,
      "margin": null,
      "max_height": null,
      "max_width": null,
      "min_height": null,
      "min_width": null,
      "object_fit": null,
      "object_position": null,
      "order": null,
      "overflow": null,
      "overflow_x": null,
      "overflow_y": null,
      "padding": null,
      "right": null,
      "top": null,
      "visibility": null,
      "width": null
     }
    },
    "4766ae97957f486a9749439ef8560cdd": {
     "model_module": "@jupyter-widgets/controls",
     "model_module_version": "1.5.0",
     "model_name": "FloatProgressModel",
     "state": {
      "_dom_classes": [],
      "_model_module": "@jupyter-widgets/controls",
      "_model_module_version": "1.5.0",
      "_model_name": "FloatProgressModel",
      "_view_count": null,
      "_view_module": "@jupyter-widgets/controls",
      "_view_module_version": "1.5.0",
      "_view_name": "ProgressView",
      "bar_style": "success",
      "description": "",
      "description_tooltip": null,
      "layout": "IPY_MODEL_fe5978623a9549268b64d644ef6ab400",
      "max": 9761267,
      "min": 0,
      "orientation": "horizontal",
      "style": "IPY_MODEL_c6b66b9aeae54bf6ac72893eec44fa48",
      "value": 9761267
     }
    },
    "4c18505813814a64810bfbeef9986741": {
     "model_module": "@jupyter-widgets/base",
     "model_module_version": "1.2.0",
     "model_name": "LayoutModel",
     "state": {
      "_model_module": "@jupyter-widgets/base",
      "_model_module_version": "1.2.0",
      "_model_name": "LayoutModel",
      "_view_count": null,
      "_view_module": "@jupyter-widgets/base",
      "_view_module_version": "1.2.0",
      "_view_name": "LayoutView",
      "align_content": null,
      "align_items": null,
      "align_self": null,
      "border": null,
      "bottom": null,
      "display": null,
      "flex": null,
      "flex_flow": null,
      "grid_area": null,
      "grid_auto_columns": null,
      "grid_auto_flow": null,
      "grid_auto_rows": null,
      "grid_column": null,
      "grid_gap": null,
      "grid_row": null,
      "grid_template_areas": null,
      "grid_template_columns": null,
      "grid_template_rows": null,
      "height": null,
      "justify_content": null,
      "justify_items": null,
      "left": null,
      "margin": null,
      "max_height": null,
      "max_width": null,
      "min_height": null,
      "min_width": null,
      "object_fit": null,
      "object_position": null,
      "order": null,
      "overflow": null,
      "overflow_x": null,
      "overflow_y": null,
      "padding": null,
      "right": null,
      "top": null,
      "visibility": null,
      "width": null
     }
    },
    "4e7e34eb2aa2485db5f4f9434e704e2b": {
     "model_module": "@jupyter-widgets/controls",
     "model_module_version": "1.5.0",
     "model_name": "HTMLModel",
     "state": {
      "_dom_classes": [],
      "_model_module": "@jupyter-widgets/controls",
      "_model_module_version": "1.5.0",
      "_model_name": "HTMLModel",
      "_view_count": null,
      "_view_module": "@jupyter-widgets/controls",
      "_view_module_version": "1.5.0",
      "_view_name": "HTMLView",
      "description": "",
      "description_tooltip": null,
      "layout": "IPY_MODEL_e275e78371ad47c7a2d682b1a6f80b76",
      "placeholder": "​",
      "style": "IPY_MODEL_012d27483f074768bd69e4017383a011",
      "value": " 784/784 [00:00&lt;00:00, 69.9kB/s]"
     }
    },
    "531fa210fcc74105b753fb8adb870da3": {
     "model_module": "@jupyter-widgets/base",
     "model_module_version": "1.2.0",
     "model_name": "LayoutModel",
     "state": {
      "_model_module": "@jupyter-widgets/base",
      "_model_module_version": "1.2.0",
      "_model_name": "LayoutModel",
      "_view_count": null,
      "_view_module": "@jupyter-widgets/base",
      "_view_module_version": "1.2.0",
      "_view_name": "LayoutView",
      "align_content": null,
      "align_items": null,
      "align_self": null,
      "border": null,
      "bottom": null,
      "display": null,
      "flex": null,
      "flex_flow": null,
      "grid_area": null,
      "grid_auto_columns": null,
      "grid_auto_flow": null,
      "grid_auto_rows": null,
      "grid_column": null,
      "grid_gap": null,
      "grid_row": null,
      "grid_template_areas": null,
      "grid_template_columns": null,
      "grid_template_rows": null,
      "height": null,
      "justify_content": null,
      "justify_items": null,
      "left": null,
      "margin": null,
      "max_height": null,
      "max_width": null,
      "min_height": null,
      "min_width": null,
      "object_fit": null,
      "object_position": null,
      "order": null,
      "overflow": null,
      "overflow_x": null,
      "overflow_y": null,
      "padding": null,
      "right": null,
      "top": null,
      "visibility": null,
      "width": null
     }
    },
    "61989154f6e7474a8dcbc8849474f56a": {
     "model_module": "@jupyter-widgets/controls",
     "model_module_version": "1.5.0",
     "model_name": "DescriptionStyleModel",
     "state": {
      "_model_module": "@jupyter-widgets/controls",
      "_model_module_version": "1.5.0",
      "_model_name": "DescriptionStyleModel",
      "_view_count": null,
      "_view_module": "@jupyter-widgets/base",
      "_view_module_version": "1.2.0",
      "_view_name": "StyleView",
      "description_width": ""
     }
    },
    "6bad89144cb14a77ba129aab38f455ae": {
     "model_module": "@jupyter-widgets/base",
     "model_module_version": "1.2.0",
     "model_name": "LayoutModel",
     "state": {
      "_model_module": "@jupyter-widgets/base",
      "_model_module_version": "1.2.0",
      "_model_name": "LayoutModel",
      "_view_count": null,
      "_view_module": "@jupyter-widgets/base",
      "_view_module_version": "1.2.0",
      "_view_name": "LayoutView",
      "align_content": null,
      "align_items": null,
      "align_self": null,
      "border": null,
      "bottom": null,
      "display": null,
      "flex": null,
      "flex_flow": null,
      "grid_area": null,
      "grid_auto_columns": null,
      "grid_auto_flow": null,
      "grid_auto_rows": null,
      "grid_column": null,
      "grid_gap": null,
      "grid_row": null,
      "grid_template_areas": null,
      "grid_template_columns": null,
      "grid_template_rows": null,
      "height": null,
      "justify_content": null,
      "justify_items": null,
      "left": null,
      "margin": null,
      "max_height": null,
      "max_width": null,
      "min_height": null,
      "min_width": null,
      "object_fit": null,
      "object_position": null,
      "order": null,
      "overflow": null,
      "overflow_x": null,
      "overflow_y": null,
      "padding": null,
      "right": null,
      "top": null,
      "visibility": null,
      "width": null
     }
    },
    "701a68116de94886afeea16b637c5e6b": {
     "model_module": "@jupyter-widgets/base",
     "model_module_version": "1.2.0",
     "model_name": "LayoutModel",
     "state": {
      "_model_module": "@jupyter-widgets/base",
      "_model_module_version": "1.2.0",
      "_model_name": "LayoutModel",
      "_view_count": null,
      "_view_module": "@jupyter-widgets/base",
      "_view_module_version": "1.2.0",
      "_view_name": "LayoutView",
      "align_content": null,
      "align_items": null,
      "align_self": null,
      "border": null,
      "bottom": null,
      "display": null,
      "flex": null,
      "flex_flow": null,
      "grid_area": null,
      "grid_auto_columns": null,
      "grid_auto_flow": null,
      "grid_auto_rows": null,
      "grid_column": null,
      "grid_gap": null,
      "grid_row": null,
      "grid_template_areas": null,
      "grid_template_columns": null,
      "grid_template_rows": null,
      "height": null,
      "justify_content": null,
      "justify_items": null,
      "left": null,
      "margin": null,
      "max_height": null,
      "max_width": null,
      "min_height": null,
      "min_width": null,
      "object_fit": null,
      "object_position": null,
      "order": null,
      "overflow": null,
      "overflow_x": null,
      "overflow_y": null,
      "padding": null,
      "right": null,
      "top": null,
      "visibility": null,
      "width": null
     }
    },
    "71633234d48d4ed7b126a6ed4b3b599c": {
     "model_module": "@jupyter-widgets/controls",
     "model_module_version": "1.5.0",
     "model_name": "DescriptionStyleModel",
     "state": {
      "_model_module": "@jupyter-widgets/controls",
      "_model_module_version": "1.5.0",
      "_model_name": "DescriptionStyleModel",
      "_view_count": null,
      "_view_module": "@jupyter-widgets/base",
      "_view_module_version": "1.2.0",
      "_view_name": "StyleView",
      "description_width": ""
     }
    },
    "7453a7db0ec2433190fedbbe6f4c746d": {
     "model_module": "@jupyter-widgets/base",
     "model_module_version": "1.2.0",
     "model_name": "LayoutModel",
     "state": {
      "_model_module": "@jupyter-widgets/base",
      "_model_module_version": "1.2.0",
      "_model_name": "LayoutModel",
      "_view_count": null,
      "_view_module": "@jupyter-widgets/base",
      "_view_module_version": "1.2.0",
      "_view_name": "LayoutView",
      "align_content": null,
      "align_items": null,
      "align_self": null,
      "border": null,
      "bottom": null,
      "display": null,
      "flex": null,
      "flex_flow": null,
      "grid_area": null,
      "grid_auto_columns": null,
      "grid_auto_flow": null,
      "grid_auto_rows": null,
      "grid_column": null,
      "grid_gap": null,
      "grid_row": null,
      "grid_template_areas": null,
      "grid_template_columns": null,
      "grid_template_rows": null,
      "height": null,
      "justify_content": null,
      "justify_items": null,
      "left": null,
      "margin": null,
      "max_height": null,
      "max_width": null,
      "min_height": null,
      "min_width": null,
      "object_fit": null,
      "object_position": null,
      "order": null,
      "overflow": null,
      "overflow_x": null,
      "overflow_y": null,
      "padding": null,
      "right": null,
      "top": null,
      "visibility": null,
      "width": null
     }
    },
    "7498e1d85a60419da550630092cf905b": {
     "model_module": "@jupyter-widgets/controls",
     "model_module_version": "1.5.0",
     "model_name": "HTMLModel",
     "state": {
      "_dom_classes": [],
      "_model_module": "@jupyter-widgets/controls",
      "_model_module_version": "1.5.0",
      "_model_name": "HTMLModel",
      "_view_count": null,
      "_view_module": "@jupyter-widgets/controls",
      "_view_module_version": "1.5.0",
      "_view_name": "HTMLView",
      "description": "",
      "description_tooltip": null,
      "layout": "IPY_MODEL_3fa7c7f8ab044c358166432f5c55642f",
      "placeholder": "​",
      "style": "IPY_MODEL_2c0161221d6e441198a30cab93f227c3",
      "value": "pytorch_model.bin: 100%"
     }
    },
    "74c31538135a4e4c9d7d23d112a0cfa0": {
     "model_module": "@jupyter-widgets/controls",
     "model_module_version": "1.5.0",
     "model_name": "HTMLModel",
     "state": {
      "_dom_classes": [],
      "_model_module": "@jupyter-widgets/controls",
      "_model_module_version": "1.5.0",
      "_model_name": "HTMLModel",
      "_view_count": null,
      "_view_module": "@jupyter-widgets/controls",
      "_view_module_version": "1.5.0",
      "_view_name": "HTMLView",
      "description": "",
      "description_tooltip": null,
      "layout": "IPY_MODEL_e82cd9242007446a91602aba9f5dc63c",
      "placeholder": "​",
      "style": "IPY_MODEL_e49605d41988446e9544c8a1f6d7a06c",
      "value": " 9761267/9761267 [02:44&lt;00:00, 58718.10 examples/s]"
     }
    },
    "7629b6c1f78b4f64be614403c170f412": {
     "model_module": "@jupyter-widgets/controls",
     "model_module_version": "1.5.0",
     "model_name": "FloatProgressModel",
     "state": {
      "_dom_classes": [],
      "_model_module": "@jupyter-widgets/controls",
      "_model_module_version": "1.5.0",
      "_model_name": "FloatProgressModel",
      "_view_count": null,
      "_view_module": "@jupyter-widgets/controls",
      "_view_module_version": "1.5.0",
      "_view_name": "ProgressView",
      "bar_style": "success",
      "description": "",
      "description_tooltip": null,
      "layout": "IPY_MODEL_46c4293be4f04fb6a259aabd58a952f8",
      "max": 9761267,
      "min": 0,
      "orientation": "horizontal",
      "style": "IPY_MODEL_0b90c8ccb877444088da9d9db6042afc",
      "value": 9761267
     }
    },
    "82e528a86d7e4f479f99b1f9caa1619b": {
     "model_module": "@jupyter-widgets/controls",
     "model_module_version": "1.5.0",
     "model_name": "HTMLModel",
     "state": {
      "_dom_classes": [],
      "_model_module": "@jupyter-widgets/controls",
      "_model_module_version": "1.5.0",
      "_model_name": "HTMLModel",
      "_view_count": null,
      "_view_module": "@jupyter-widgets/controls",
      "_view_module_version": "1.5.0",
      "_view_name": "HTMLView",
      "description": "",
      "description_tooltip": null,
      "layout": "IPY_MODEL_6bad89144cb14a77ba129aab38f455ae",
      "placeholder": "​",
      "style": "IPY_MODEL_e18b4e814daf45e78f4dccf1c2a13c6b",
      "value": "Filter: 100%"
     }
    },
    "901d799c96464905bc4d5a6940d4e0e0": {
     "model_module": "@jupyter-widgets/controls",
     "model_module_version": "1.5.0",
     "model_name": "FloatProgressModel",
     "state": {
      "_dom_classes": [],
      "_model_module": "@jupyter-widgets/controls",
      "_model_module_version": "1.5.0",
      "_model_name": "FloatProgressModel",
      "_view_count": null,
      "_view_module": "@jupyter-widgets/controls",
      "_view_module_version": "1.5.0",
      "_view_name": "ProgressView",
      "bar_style": "success",
      "description": "",
      "description_tooltip": null,
      "layout": "IPY_MODEL_b91e2ad1ef914314a161357e9a350db3",
      "max": 343063273,
      "min": 0,
      "orientation": "horizontal",
      "style": "IPY_MODEL_1d083f716ae24d4c90a44363c117cf51",
      "value": 343063273
     }
    },
    "99a5fd00e9c441b698bbedfce5a62435": {
     "model_module": "@jupyter-widgets/controls",
     "model_module_version": "1.5.0",
     "model_name": "DescriptionStyleModel",
     "state": {
      "_model_module": "@jupyter-widgets/controls",
      "_model_module_version": "1.5.0",
      "_model_name": "DescriptionStyleModel",
      "_view_count": null,
      "_view_module": "@jupyter-widgets/base",
      "_view_module_version": "1.2.0",
      "_view_name": "StyleView",
      "description_width": ""
     }
    },
    "9a1b2cb746b44121a9b2ae05fcea31d4": {
     "model_module": "@jupyter-widgets/controls",
     "model_module_version": "1.5.0",
     "model_name": "HTMLModel",
     "state": {
      "_dom_classes": [],
      "_model_module": "@jupyter-widgets/controls",
      "_model_module_version": "1.5.0",
      "_model_name": "HTMLModel",
      "_view_count": null,
      "_view_module": "@jupyter-widgets/controls",
      "_view_module_version": "1.5.0",
      "_view_name": "HTMLView",
      "description": "",
      "description_tooltip": null,
      "layout": "IPY_MODEL_f1e286ad3c3a44aea02a4a8f38fbb458",
      "placeholder": "​",
      "style": "IPY_MODEL_99a5fd00e9c441b698bbedfce5a62435",
      "value": " 343M/343M [00:26&lt;00:00, 11.4MB/s]"
     }
    },
    "9cf729509177481e96d000fea80419c6": {
     "model_module": "@jupyter-widgets/controls",
     "model_module_version": "1.5.0",
     "model_name": "ProgressStyleModel",
     "state": {
      "_model_module": "@jupyter-widgets/controls",
      "_model_module_version": "1.5.0",
      "_model_name": "ProgressStyleModel",
      "_view_count": null,
      "_view_module": "@jupyter-widgets/base",
      "_view_module_version": "1.2.0",
      "_view_name": "StyleView",
      "bar_color": null,
      "description_width": ""
     }
    },
    "9da13b3945cc48fe9ed1ecd11ccd2d97": {
     "model_module": "@jupyter-widgets/controls",
     "model_module_version": "1.5.0",
     "model_name": "FloatProgressModel",
     "state": {
      "_dom_classes": [],
      "_model_module": "@jupyter-widgets/controls",
      "_model_module_version": "1.5.0",
      "_model_name": "FloatProgressModel",
      "_view_count": null,
      "_view_module": "@jupyter-widgets/controls",
      "_view_module_version": "1.5.0",
      "_view_name": "ProgressView",
      "bar_style": "success",
      "description": "",
      "description_tooltip": null,
      "layout": "IPY_MODEL_4c18505813814a64810bfbeef9986741",
      "max": 784,
      "min": 0,
      "orientation": "horizontal",
      "style": "IPY_MODEL_9cf729509177481e96d000fea80419c6",
      "value": 784
     }
    },
    "b0cc9cddb6e14f198321332da62b1ba4": {
     "model_module": "@jupyter-widgets/controls",
     "model_module_version": "1.5.0",
     "model_name": "DescriptionStyleModel",
     "state": {
      "_model_module": "@jupyter-widgets/controls",
      "_model_module_version": "1.5.0",
      "_model_name": "DescriptionStyleModel",
      "_view_count": null,
      "_view_module": "@jupyter-widgets/base",
      "_view_module_version": "1.2.0",
      "_view_name": "StyleView",
      "description_width": ""
     }
    },
    "b29922a7755a43b6930c5efed0029f59": {
     "model_module": "@jupyter-widgets/controls",
     "model_module_version": "1.5.0",
     "model_name": "ProgressStyleModel",
     "state": {
      "_model_module": "@jupyter-widgets/controls",
      "_model_module_version": "1.5.0",
      "_model_name": "ProgressStyleModel",
      "_view_count": null,
      "_view_module": "@jupyter-widgets/base",
      "_view_module_version": "1.2.0",
      "_view_name": "StyleView",
      "bar_color": null,
      "description_width": ""
     }
    },
    "b9025a317b5b4402b766d9f5ddbbb2b2": {
     "model_module": "@jupyter-widgets/base",
     "model_module_version": "1.2.0",
     "model_name": "LayoutModel",
     "state": {
      "_model_module": "@jupyter-widgets/base",
      "_model_module_version": "1.2.0",
      "_model_name": "LayoutModel",
      "_view_count": null,
      "_view_module": "@jupyter-widgets/base",
      "_view_module_version": "1.2.0",
      "_view_name": "LayoutView",
      "align_content": null,
      "align_items": null,
      "align_self": null,
      "border": null,
      "bottom": null,
      "display": null,
      "flex": null,
      "flex_flow": null,
      "grid_area": null,
      "grid_auto_columns": null,
      "grid_auto_flow": null,
      "grid_auto_rows": null,
      "grid_column": null,
      "grid_gap": null,
      "grid_row": null,
      "grid_template_areas": null,
      "grid_template_columns": null,
      "grid_template_rows": null,
      "height": null,
      "justify_content": null,
      "justify_items": null,
      "left": null,
      "margin": null,
      "max_height": null,
      "max_width": null,
      "min_height": null,
      "min_width": null,
      "object_fit": null,
      "object_position": null,
      "order": null,
      "overflow": null,
      "overflow_x": null,
      "overflow_y": null,
      "padding": null,
      "right": null,
      "top": null,
      "visibility": null,
      "width": null
     }
    },
    "b91e2ad1ef914314a161357e9a350db3": {
     "model_module": "@jupyter-widgets/base",
     "model_module_version": "1.2.0",
     "model_name": "LayoutModel",
     "state": {
      "_model_module": "@jupyter-widgets/base",
      "_model_module_version": "1.2.0",
      "_model_name": "LayoutModel",
      "_view_count": null,
      "_view_module": "@jupyter-widgets/base",
      "_view_module_version": "1.2.0",
      "_view_name": "LayoutView",
      "align_content": null,
      "align_items": null,
      "align_self": null,
      "border": null,
      "bottom": null,
      "display": null,
      "flex": null,
      "flex_flow": null,
      "grid_area": null,
      "grid_auto_columns": null,
      "grid_auto_flow": null,
      "grid_auto_rows": null,
      "grid_column": null,
      "grid_gap": null,
      "grid_row": null,
      "grid_template_areas": null,
      "grid_template_columns": null,
      "grid_template_rows": null,
      "height": null,
      "justify_content": null,
      "justify_items": null,
      "left": null,
      "margin": null,
      "max_height": null,
      "max_width": null,
      "min_height": null,
      "min_width": null,
      "object_fit": null,
      "object_position": null,
      "order": null,
      "overflow": null,
      "overflow_x": null,
      "overflow_y": null,
      "padding": null,
      "right": null,
      "top": null,
      "visibility": null,
      "width": null
     }
    },
    "bffb7d6280864246af0de6179d6c2c1c": {
     "model_module": "@jupyter-widgets/controls",
     "model_module_version": "1.5.0",
     "model_name": "DescriptionStyleModel",
     "state": {
      "_model_module": "@jupyter-widgets/controls",
      "_model_module_version": "1.5.0",
      "_model_name": "DescriptionStyleModel",
      "_view_count": null,
      "_view_module": "@jupyter-widgets/base",
      "_view_module_version": "1.2.0",
      "_view_name": "StyleView",
      "description_width": ""
     }
    },
    "c6b66b9aeae54bf6ac72893eec44fa48": {
     "model_module": "@jupyter-widgets/controls",
     "model_module_version": "1.5.0",
     "model_name": "ProgressStyleModel",
     "state": {
      "_model_module": "@jupyter-widgets/controls",
      "_model_module_version": "1.5.0",
      "_model_name": "ProgressStyleModel",
      "_view_count": null,
      "_view_module": "@jupyter-widgets/base",
      "_view_module_version": "1.2.0",
      "_view_name": "StyleView",
      "bar_color": null,
      "description_width": ""
     }
    },
    "cd70659960b94448930c63058158ace9": {
     "model_module": "@jupyter-widgets/base",
     "model_module_version": "1.2.0",
     "model_name": "LayoutModel",
     "state": {
      "_model_module": "@jupyter-widgets/base",
      "_model_module_version": "1.2.0",
      "_model_name": "LayoutModel",
      "_view_count": null,
      "_view_module": "@jupyter-widgets/base",
      "_view_module_version": "1.2.0",
      "_view_name": "LayoutView",
      "align_content": null,
      "align_items": null,
      "align_self": null,
      "border": null,
      "bottom": null,
      "display": null,
      "flex": null,
      "flex_flow": null,
      "grid_area": null,
      "grid_auto_columns": null,
      "grid_auto_flow": null,
      "grid_auto_rows": null,
      "grid_column": null,
      "grid_gap": null,
      "grid_row": null,
      "grid_template_areas": null,
      "grid_template_columns": null,
      "grid_template_rows": null,
      "height": null,
      "justify_content": null,
      "justify_items": null,
      "left": null,
      "margin": null,
      "max_height": null,
      "max_width": null,
      "min_height": null,
      "min_width": null,
      "object_fit": null,
      "object_position": null,
      "order": null,
      "overflow": null,
      "overflow_x": null,
      "overflow_y": null,
      "padding": null,
      "right": null,
      "top": null,
      "visibility": null,
      "width": null
     }
    },
    "ddf102151bfc420e98bbde067dc7c372": {
     "model_module": "@jupyter-widgets/controls",
     "model_module_version": "1.5.0",
     "model_name": "HBoxModel",
     "state": {
      "_dom_classes": [],
      "_model_module": "@jupyter-widgets/controls",
      "_model_module_version": "1.5.0",
      "_model_name": "HBoxModel",
      "_view_count": null,
      "_view_module": "@jupyter-widgets/controls",
      "_view_module_version": "1.5.0",
      "_view_name": "HBoxView",
      "box_style": "",
      "children": [
       "IPY_MODEL_7498e1d85a60419da550630092cf905b",
       "IPY_MODEL_901d799c96464905bc4d5a6940d4e0e0",
       "IPY_MODEL_9a1b2cb746b44121a9b2ae05fcea31d4"
      ],
      "layout": "IPY_MODEL_0410163023af47cd9304f250cf0d32f2"
     }
    },
    "e18b4e814daf45e78f4dccf1c2a13c6b": {
     "model_module": "@jupyter-widgets/controls",
     "model_module_version": "1.5.0",
     "model_name": "DescriptionStyleModel",
     "state": {
      "_model_module": "@jupyter-widgets/controls",
      "_model_module_version": "1.5.0",
      "_model_name": "DescriptionStyleModel",
      "_view_count": null,
      "_view_module": "@jupyter-widgets/base",
      "_view_module_version": "1.2.0",
      "_view_name": "StyleView",
      "description_width": ""
     }
    },
    "e275e78371ad47c7a2d682b1a6f80b76": {
     "model_module": "@jupyter-widgets/base",
     "model_module_version": "1.2.0",
     "model_name": "LayoutModel",
     "state": {
      "_model_module": "@jupyter-widgets/base",
      "_model_module_version": "1.2.0",
      "_model_name": "LayoutModel",
      "_view_count": null,
      "_view_module": "@jupyter-widgets/base",
      "_view_module_version": "1.2.0",
      "_view_name": "LayoutView",
      "align_content": null,
      "align_items": null,
      "align_self": null,
      "border": null,
      "bottom": null,
      "display": null,
      "flex": null,
      "flex_flow": null,
      "grid_area": null,
      "grid_auto_columns": null,
      "grid_auto_flow": null,
      "grid_auto_rows": null,
      "grid_column": null,
      "grid_gap": null,
      "grid_row": null,
      "grid_template_areas": null,
      "grid_template_columns": null,
      "grid_template_rows": null,
      "height": null,
      "justify_content": null,
      "justify_items": null,
      "left": null,
      "margin": null,
      "max_height": null,
      "max_width": null,
      "min_height": null,
      "min_width": null,
      "object_fit": null,
      "object_position": null,
      "order": null,
      "overflow": null,
      "overflow_x": null,
      "overflow_y": null,
      "padding": null,
      "right": null,
      "top": null,
      "visibility": null,
      "width": null
     }
    },
    "e3924633f045407098f8e79c7c419f61": {
     "model_module": "@jupyter-widgets/controls",
     "model_module_version": "1.5.0",
     "model_name": "HTMLModel",
     "state": {
      "_dom_classes": [],
      "_model_module": "@jupyter-widgets/controls",
      "_model_module_version": "1.5.0",
      "_model_name": "HTMLModel",
      "_view_count": null,
      "_view_module": "@jupyter-widgets/controls",
      "_view_module_version": "1.5.0",
      "_view_name": "HTMLView",
      "description": "",
      "description_tooltip": null,
      "layout": "IPY_MODEL_701a68116de94886afeea16b637c5e6b",
      "placeholder": "​",
      "style": "IPY_MODEL_171406a5ab004c90bd7471ab8c060d0a",
      "value": " 9761267/9761267 [02:30&lt;00:00, 64612.65 examples/s]"
     }
    },
    "e49605d41988446e9544c8a1f6d7a06c": {
     "model_module": "@jupyter-widgets/controls",
     "model_module_version": "1.5.0",
     "model_name": "DescriptionStyleModel",
     "state": {
      "_model_module": "@jupyter-widgets/controls",
      "_model_module_version": "1.5.0",
      "_model_name": "DescriptionStyleModel",
      "_view_count": null,
      "_view_module": "@jupyter-widgets/base",
      "_view_module_version": "1.2.0",
      "_view_name": "StyleView",
      "description_width": ""
     }
    },
    "e82cd9242007446a91602aba9f5dc63c": {
     "model_module": "@jupyter-widgets/base",
     "model_module_version": "1.2.0",
     "model_name": "LayoutModel",
     "state": {
      "_model_module": "@jupyter-widgets/base",
      "_model_module_version": "1.2.0",
      "_model_name": "LayoutModel",
      "_view_count": null,
      "_view_module": "@jupyter-widgets/base",
      "_view_module_version": "1.2.0",
      "_view_name": "LayoutView",
      "align_content": null,
      "align_items": null,
      "align_self": null,
      "border": null,
      "bottom": null,
      "display": null,
      "flex": null,
      "flex_flow": null,
      "grid_area": null,
      "grid_auto_columns": null,
      "grid_auto_flow": null,
      "grid_auto_rows": null,
      "grid_column": null,
      "grid_gap": null,
      "grid_row": null,
      "grid_template_areas": null,
      "grid_template_columns": null,
      "grid_template_rows": null,
      "height": null,
      "justify_content": null,
      "justify_items": null,
      "left": null,
      "margin": null,
      "max_height": null,
      "max_width": null,
      "min_height": null,
      "min_width": null,
      "object_fit": null,
      "object_position": null,
      "order": null,
      "overflow": null,
      "overflow_x": null,
      "overflow_y": null,
      "padding": null,
      "right": null,
      "top": null,
      "visibility": null,
      "width": null
     }
    },
    "f1e286ad3c3a44aea02a4a8f38fbb458": {
     "model_module": "@jupyter-widgets/base",
     "model_module_version": "1.2.0",
     "model_name": "LayoutModel",
     "state": {
      "_model_module": "@jupyter-widgets/base",
      "_model_module_version": "1.2.0",
      "_model_name": "LayoutModel",
      "_view_count": null,
      "_view_module": "@jupyter-widgets/base",
      "_view_module_version": "1.2.0",
      "_view_name": "LayoutView",
      "align_content": null,
      "align_items": null,
      "align_self": null,
      "border": null,
      "bottom": null,
      "display": null,
      "flex": null,
      "flex_flow": null,
      "grid_area": null,
      "grid_auto_columns": null,
      "grid_auto_flow": null,
      "grid_auto_rows": null,
      "grid_column": null,
      "grid_gap": null,
      "grid_row": null,
      "grid_template_areas": null,
      "grid_template_columns": null,
      "grid_template_rows": null,
      "height": null,
      "justify_content": null,
      "justify_items": null,
      "left": null,
      "margin": null,
      "max_height": null,
      "max_width": null,
      "min_height": null,
      "min_width": null,
      "object_fit": null,
      "object_position": null,
      "order": null,
      "overflow": null,
      "overflow_x": null,
      "overflow_y": null,
      "padding": null,
      "right": null,
      "top": null,
      "visibility": null,
      "width": null
     }
    },
    "fe5978623a9549268b64d644ef6ab400": {
     "model_module": "@jupyter-widgets/base",
     "model_module_version": "1.2.0",
     "model_name": "LayoutModel",
     "state": {
      "_model_module": "@jupyter-widgets/base",
      "_model_module_version": "1.2.0",
      "_model_name": "LayoutModel",
      "_view_count": null,
      "_view_module": "@jupyter-widgets/base",
      "_view_module_version": "1.2.0",
      "_view_name": "LayoutView",
      "align_content": null,
      "align_items": null,
      "align_self": null,
      "border": null,
      "bottom": null,
      "display": null,
      "flex": null,
      "flex_flow": null,
      "grid_area": null,
      "grid_auto_columns": null,
      "grid_auto_flow": null,
      "grid_auto_rows": null,
      "grid_column": null,
      "grid_gap": null,
      "grid_row": null,
      "grid_template_areas": null,
      "grid_template_columns": null,
      "grid_template_rows": null,
      "height": null,
      "justify_content": null,
      "justify_items": null,
      "left": null,
      "margin": null,
      "max_height": null,
      "max_width": null,
      "min_height": null,
      "min_width": null,
      "object_fit": null,
      "object_position": null,
      "order": null,
      "overflow": null,
      "overflow_x": null,
      "overflow_y": null,
      "padding": null,
      "right": null,
      "top": null,
      "visibility": null,
      "width": null
     }
    },
    "fec558ceb67143068f2d7a07e06258e6": {
     "model_module": "@jupyter-widgets/controls",
     "model_module_version": "1.5.0",
     "model_name": "FloatProgressModel",
     "state": {
      "_dom_classes": [],
      "_model_module": "@jupyter-widgets/controls",
      "_model_module_version": "1.5.0",
      "_model_name": "FloatProgressModel",
      "_view_count": null,
      "_view_module": "@jupyter-widgets/controls",
      "_view_module_version": "1.5.0",
      "_view_name": "ProgressView",
      "bar_style": "success",
      "description": "",
      "description_tooltip": null,
      "layout": "IPY_MODEL_221672eec59e45a8a0ff95186e90189b",
      "max": 9761267,
      "min": 0,
      "orientation": "horizontal",
      "style": "IPY_MODEL_b29922a7755a43b6930c5efed0029f59",
      "value": 9761267
     }
    }
   }
  }
 },
 "nbformat": 4,
 "nbformat_minor": 4
}
