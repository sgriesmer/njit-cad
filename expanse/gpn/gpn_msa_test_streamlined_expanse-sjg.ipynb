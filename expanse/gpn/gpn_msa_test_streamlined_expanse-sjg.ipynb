{
 "cells": [
  {
   "cell_type": "markdown",
   "metadata": {
    "id": "RVs1eelGRwcp",
    "user_expressions": []
   },
   "source": [
    "# GPN-MSA Testing with Datasets"
   ]
  },
  {
   "cell_type": "markdown",
   "metadata": {
    "id": "8B2MO9GJqTsH",
    "user_expressions": []
   },
   "source": [
    "## Setup environment "
   ]
  },
  {
   "cell_type": "code",
   "execution_count": null,
   "metadata": {
    "colab": {
     "base_uri": "https://localhost:8080/"
    },
    "id": "Ff_VhW6GciQ-",
    "outputId": "b7eb60c7-467a-4e05-fbf3-4765fdf1740c",
    "tags": []
   },
   "outputs": [],
   "source": [
    "# only need once for GPN-MSA use\n",
    "# !pip install git+https://github.com/songlab-cal/gpn.git"
   ]
  },
  {
   "cell_type": "code",
   "execution_count": null,
   "metadata": {
    "colab": {
     "base_uri": "https://localhost:8080/"
    },
    "id": "uap-SN1CFmQM",
    "outputId": "98cdd109-c321-4921-fbb4-b68295619837"
   },
   "outputs": [],
   "source": [
    "# !ldconfig /usr/lib64-nvidia"
   ]
  },
  {
   "cell_type": "code",
   "execution_count": 1,
   "metadata": {
    "id": "w1NVT828inDl",
    "tags": []
   },
   "outputs": [
    {
     "name": "stderr",
     "output_type": "stream",
     "text": [
      "/cm/shared/apps/spack/0.17.3/cpu/b/opt/spack/linux-rocky8-zen/gcc-8.5.0/anaconda3-2021.05-q4munrgvh7qp4o7r3nzcdkbuph4z7375/lib/python3.8/site-packages/scipy/__init__.py:138: UserWarning: A NumPy version >=1.16.5 and <1.23.0 is required for this version of SciPy (detected version 1.24.4)\n",
      "  warnings.warn(f\"A NumPy version >={np_minversion} and <{np_maxversion} is required for this version of \"\n"
     ]
    }
   ],
   "source": [
    "from gpn.data import GenomeMSA, Tokenizer\n",
    "import gpn.model\n",
    "import matplotlib.pyplot as plt\n",
    "import numpy as np\n",
    "import pandas as pd\n",
    "import seaborn as sns\n",
    "from sklearn.preprocessing import StandardScaler\n",
    "import torch\n",
    "from transformers import AutoModel, AutoModelForMaskedLM"
   ]
  },
  {
   "cell_type": "code",
   "execution_count": 2,
   "metadata": {
    "id": "_Cn_23iac-d3"
   },
   "outputs": [],
   "source": [
    "from datasets import load_dataset, disable_caching\n",
    "from gpn.data import load_dataset_from_file_or_dir"
   ]
  },
  {
   "cell_type": "code",
   "execution_count": 3,
   "metadata": {
    "colab": {
     "base_uri": "https://localhost:8080/"
    },
    "id": "FkwBXyoS4_bG",
    "outputId": "2e34f75a-b198-49df-855f-6164550de382"
   },
   "outputs": [],
   "source": [
    "dataset_prefix = \"/expanse/lustre/projects/nji102/sgriesmer/gpn/Datasets/\""
   ]
  },
  {
   "cell_type": "code",
   "execution_count": null,
   "metadata": {
    "id": "XVsoVlAc4PFy",
    "tags": []
   },
   "outputs": [],
   "source": [
    "input_file =  dataset_prefix + \"test.parquet\"\n",
    "dataset = load_dataset_from_file_or_dir(input_file, split=\"test\", is_file=True)"
   ]
  },
  {
   "cell_type": "markdown",
   "metadata": {},
   "source": [
    "## Create datasets"
   ]
  },
  {
   "cell_type": "markdown",
   "metadata": {
    "id": "pDphiS-7hhkq"
   },
   "source": [
    "### Create Pathogenic dataset (only needed once)"
   ]
  },
  {
   "cell_type": "code",
   "execution_count": null,
   "metadata": {
    "colab": {
     "base_uri": "https://localhost:8080/",
     "height": 94,
     "referenced_widgets": [
      "2f6ad30fb3c5452b9736de95f8933bce",
      "43c28e7ae1c14a44aa83b73ee921cf25",
      "fec558ceb67143068f2d7a07e06258e6",
      "74c31538135a4e4c9d7d23d112a0cfa0",
      "7453a7db0ec2433190fedbbe6f4c746d",
      "b9025a317b5b4402b766d9f5ddbbb2b2",
      "61989154f6e7474a8dcbc8849474f56a",
      "221672eec59e45a8a0ff95186e90189b",
      "b29922a7755a43b6930c5efed0029f59",
      "e82cd9242007446a91602aba9f5dc63c",
      "e49605d41988446e9544c8a1f6d7a06c"
     ]
    },
    "id": "1vEIfi01nVf3",
    "outputId": "dbab257f-7459-45f1-ac19-ba8a30c770a2",
    "tags": []
   },
   "outputs": [],
   "source": [
    "dataset_pathogenic = dataset.filter(lambda v: v[\"source\"]==\"ClinVar\" or (v[\"label\"]==\"Common\" and \"missense\" in v[\"consequence\"]))\n",
    "dataset_pathogenic.shape"
   ]
  },
  {
   "cell_type": "markdown",
   "metadata": {
    "id": "2QjXWPo5hsjl"
   },
   "source": [
    "### Create Cancer dataset (only needed once)"
   ]
  },
  {
   "cell_type": "code",
   "execution_count": null,
   "metadata": {
    "colab": {
     "base_uri": "https://localhost:8080/",
     "height": 66,
     "referenced_widgets": [
      "0141c10e6e4d4d068f1e83a38ac7de2b",
      "82e528a86d7e4f479f99b1f9caa1619b",
      "7629b6c1f78b4f64be614403c170f412",
      "25d4867eae194198a0b2402076a9b828",
      "099bc9d6aedf451ab75a165e7998c48a",
      "6bad89144cb14a77ba129aab38f455ae",
      "e18b4e814daf45e78f4dccf1c2a13c6b",
      "46c4293be4f04fb6a259aabd58a952f8",
      "0b90c8ccb877444088da9d9db6042afc",
      "2ce91020d8834b8d88699fc38a692f07",
      "b0cc9cddb6e14f198321332da62b1ba4"
     ]
    },
    "id": "17gHL7Ft_0q2",
    "outputId": "4a9cbaeb-e4c3-412f-d6bd-fb337ed54dda"
   },
   "outputs": [],
   "source": [
    "dataset_cancer = dataset.filter(lambda v: v[\"source\"]==\"COSMIC\" or (v[\"label\"]==\"Common\" and \"missense\" in v[\"consequence\"]))\n",
    "dataset_cancer.shape"
   ]
  },
  {
   "cell_type": "markdown",
   "metadata": {
    "id": "gsbQaK8HhxEq"
   },
   "source": [
    "### Create Regulatory dataset (only needed once)"
   ]
  },
  {
   "cell_type": "code",
   "execution_count": null,
   "metadata": {
    "colab": {
     "base_uri": "https://localhost:8080/",
     "height": 66,
     "referenced_widgets": [
      "21a3333f99f444afb8a4f8b82bbba4ea",
      "1da2e8ddeeb84998851b70208e7a39a5",
      "4766ae97957f486a9749439ef8560cdd",
      "e3924633f045407098f8e79c7c419f61",
      "00e15afb909343c0bd5580a58fb0aeca",
      "531fa210fcc74105b753fb8adb870da3",
      "bffb7d6280864246af0de6179d6c2c1c",
      "fe5978623a9549268b64d644ef6ab400",
      "c6b66b9aeae54bf6ac72893eec44fa48",
      "701a68116de94886afeea16b637c5e6b",
      "171406a5ab004c90bd7471ab8c060d0a"
     ]
    },
    "id": "qbHJeMByBUDt",
    "outputId": "548f060e-80c4-42ce-f65f-87edac497d8f"
   },
   "outputs": [],
   "source": [
    "cs = [\"5_prime_UTR\", \"upstream_gene\", \"intergenic\", \"3_prime_UTR\", \"non_coding_transcript_exon\"]\n",
    "dataset_regulatory = dataset.filter(lambda v: v[\"source\"]==\"OMIM\" or (v[\"label\"]==\"Common\" and \"missense\" not in v[\"consequence\"] and any([c in v[\"consequence\"] for c in cs])))\n",
    "dataset_regulatory.shape"
   ]
  },
  {
   "cell_type": "markdown",
   "metadata": {},
   "source": [
    "## Save datasets as parquet files"
   ]
  },
  {
   "cell_type": "code",
   "execution_count": null,
   "metadata": {},
   "outputs": [],
   "source": [
    "dataset_pathogenic_filename = dataset_prefix + \"pathogenic.parquet\"\n",
    "dataset_pathogenic.to_parquet(dataset_pathogenic_filename)"
   ]
  },
  {
   "cell_type": "code",
   "execution_count": null,
   "metadata": {},
   "outputs": [],
   "source": [
    "dataset_cancer_filename = dataset_prefix + \"cancer.parquet\"\n",
    "dataset_cancer.to_parquet(dataset_cancer_filename)"
   ]
  },
  {
   "cell_type": "code",
   "execution_count": null,
   "metadata": {},
   "outputs": [],
   "source": [
    "dataset_regulatory_filename = dataset_prefix + \"regulatory.parquet\"\n",
    "dataset_regulatory.to_parquet(dataset_regulatory_filename)"
   ]
  },
  {
   "cell_type": "markdown",
   "metadata": {},
   "source": [
    "# Test and Score with GPN-MSA"
   ]
  },
  {
   "cell_type": "code",
   "execution_count": 22,
   "metadata": {},
   "outputs": [
    {
     "data": {
      "text/plain": [
       "(11436, 5)"
      ]
     },
     "execution_count": 22,
     "metadata": {},
     "output_type": "execute_result"
    }
   ],
   "source": [
    "part = \"\"\n",
    "dataset_pathogenic_filename = dataset_prefix + \"PAT_dataset_XY-named-hg38\" + part +\".vcf\"\n",
    "dataset_pathogenic_df = pd.read_csv(dataset_pathogenic_filename, sep='\\t')\n",
    "dataset_pathogenic_filename_parquet = dataset_prefix + \"PAT_dataset_XY-named-hg38.parquet\"\n",
    "dataset_pathogenic_df.to_parquet(dataset_pathogenic_filename_parquet)\n",
    "dataset_pathogenic = load_dataset_from_file_or_dir(dataset_pathogenic_filename_parquet, split=\"test\", is_file=True)\n",
    "dataset_pathogenic.shape"
   ]
  },
  {
   "cell_type": "code",
   "execution_count": 23,
   "metadata": {},
   "outputs": [
    {
     "data": {
      "text/plain": [
       "{'chrom': Value(dtype='string', id=None),\n",
       " 'pos': Value(dtype='int64', id=None),\n",
       " 'name': Value(dtype='string', id=None),\n",
       " 'ref': Value(dtype='string', id=None),\n",
       " 'alt': Value(dtype='string', id=None)}"
      ]
     },
     "execution_count": 23,
     "metadata": {},
     "output_type": "execute_result"
    }
   ],
   "source": [
    "dataset_pathogenic.features"
   ]
  },
  {
   "cell_type": "markdown",
   "metadata": {},
   "source": [
    "## Load Dataset to be Scored (if previously created)"
   ]
  },
  {
   "cell_type": "code",
   "execution_count": null,
   "metadata": {},
   "outputs": [],
   "source": [
    "#dataset_pathogenic_filename = dataset_prefix + \"pathogenic.parquet\"\n",
    "#dataset_pathogenic = load_dataset_from_file_or_dir(dataset_pathogenic_filename, split=\"test\", is_file=True)\n",
    "#dataset_pathogenic.shape"
   ]
  },
  {
   "cell_type": "markdown",
   "metadata": {
    "id": "QP8qJdMLqL8C",
    "user_expressions": []
   },
   "source": [
    "## Load MSA data"
   ]
  },
  {
   "cell_type": "code",
   "execution_count": 26,
   "metadata": {
    "colab": {
     "base_uri": "https://localhost:8080/"
    },
    "id": "tGRtdN-jnTeE",
    "outputId": "e657dd7e-1369-4f60-9f76-109469012849",
    "tags": []
   },
   "outputs": [
    {
     "name": "stdout",
     "output_type": "stream",
     "text": [
      "Loading MSA...\n",
      "Loading MSA... Done\n"
     ]
    }
   ],
   "source": [
    "msa_path = \"zip:///::https://huggingface.co/datasets/songlab/multiz100way/resolve/main/89.zarr.zip\"\n",
    "genome_msa = GenomeMSA(msa_path)  # can take a minute or two"
   ]
  },
  {
   "cell_type": "markdown",
   "metadata": {
    "id": "33WyBAgnGBRA"
   },
   "source": [
    "## Load inference model"
   ]
  },
  {
   "cell_type": "code",
   "execution_count": 27,
   "metadata": {
    "colab": {
     "base_uri": "https://localhost:8080/",
     "height": 203,
     "referenced_widgets": [
      "21520660a28a422ba0ee1caee61116ca",
      "07377b5371e7489cba645e32d955fe39",
      "9da13b3945cc48fe9ed1ecd11ccd2d97",
      "4e7e34eb2aa2485db5f4f9434e704e2b",
      "cd70659960b94448930c63058158ace9",
      "21c4fed2661a43f1a56ab765c45ae979",
      "71633234d48d4ed7b126a6ed4b3b599c",
      "4c18505813814a64810bfbeef9986741",
      "9cf729509177481e96d000fea80419c6",
      "e275e78371ad47c7a2d682b1a6f80b76",
      "012d27483f074768bd69e4017383a011",
      "ddf102151bfc420e98bbde067dc7c372",
      "7498e1d85a60419da550630092cf905b",
      "901d799c96464905bc4d5a6940d4e0e0",
      "9a1b2cb746b44121a9b2ae05fcea31d4",
      "0410163023af47cd9304f250cf0d32f2",
      "3fa7c7f8ab044c358166432f5c55642f",
      "2c0161221d6e441198a30cab93f227c3",
      "b91e2ad1ef914314a161357e9a350db3",
      "1d083f716ae24d4c90a44363c117cf51",
      "f1e286ad3c3a44aea02a4a8f38fbb458",
      "99a5fd00e9c441b698bbedfce5a62435"
     ]
    },
    "id": "AkPXrj7FeVPD",
    "outputId": "7c7e1fd1-5f0e-42b9-c93e-b3498d1c02fa"
   },
   "outputs": [],
   "source": [
    "from gpn.msa.vep import VEPInference\n",
    "\n",
    "model_path = \"songlab/gpn-msa-sapiens\"\n",
    "window_size = 128\n",
    "vep_inf = VEPInference(model_path, genome_msa, window_size, disable_aux_features=False)"
   ]
  },
  {
   "cell_type": "markdown",
   "metadata": {},
   "source": [
    "## Pathogenic Dataset"
   ]
  },
  {
   "cell_type": "markdown",
   "metadata": {
    "id": "N_7JyZ6S6NaR"
   },
   "source": [
    "## Subset Dataset to be Scored"
   ]
  },
  {
   "cell_type": "code",
   "execution_count": 70,
   "metadata": {
    "colab": {
     "base_uri": "https://localhost:8080/",
     "height": 253
    },
    "id": "iPh5hwvrfom4",
    "outputId": "c9fbc7f6-c032-4645-970c-90f85cd72c85"
   },
   "outputs": [
    {
     "data": {
      "text/html": [
       "<div>\n",
       "<style scoped>\n",
       "    .dataframe tbody tr th:only-of-type {\n",
       "        vertical-align: middle;\n",
       "    }\n",
       "\n",
       "    .dataframe tbody tr th {\n",
       "        vertical-align: top;\n",
       "    }\n",
       "\n",
       "    .dataframe thead th {\n",
       "        text-align: right;\n",
       "    }\n",
       "</style>\n",
       "<table border=\"1\" class=\"dataframe\">\n",
       "  <thead>\n",
       "    <tr style=\"text-align: right;\">\n",
       "      <th></th>\n",
       "      <th>chrom</th>\n",
       "      <th>pos</th>\n",
       "      <th>name</th>\n",
       "      <th>ref</th>\n",
       "      <th>alt</th>\n",
       "    </tr>\n",
       "  </thead>\n",
       "  <tbody>\n",
       "    <tr>\n",
       "      <th>0</th>\n",
       "      <td>10</td>\n",
       "      <td>79946452</td>\n",
       "      <td>SNP_PAT_01001</td>\n",
       "      <td>C</td>\n",
       "      <td>T</td>\n",
       "    </tr>\n",
       "    <tr>\n",
       "      <th>1</th>\n",
       "      <td>10</td>\n",
       "      <td>80272484</td>\n",
       "      <td>SNP_PAT_01002</td>\n",
       "      <td>A</td>\n",
       "      <td>G</td>\n",
       "    </tr>\n",
       "    <tr>\n",
       "      <th>2</th>\n",
       "      <td>10</td>\n",
       "      <td>80272575</td>\n",
       "      <td>SNP_PAT_01003</td>\n",
       "      <td>C</td>\n",
       "      <td>T</td>\n",
       "    </tr>\n",
       "    <tr>\n",
       "      <th>3</th>\n",
       "      <td>10</td>\n",
       "      <td>80272799</td>\n",
       "      <td>SNP_PAT_01004</td>\n",
       "      <td>T</td>\n",
       "      <td>A</td>\n",
       "    </tr>\n",
       "    <tr>\n",
       "      <th>4</th>\n",
       "      <td>10</td>\n",
       "      <td>80273714</td>\n",
       "      <td>SNP_PAT_01005</td>\n",
       "      <td>G</td>\n",
       "      <td>A</td>\n",
       "    </tr>\n",
       "    <tr>\n",
       "      <th>...</th>\n",
       "      <td>...</td>\n",
       "      <td>...</td>\n",
       "      <td>...</td>\n",
       "      <td>...</td>\n",
       "      <td>...</td>\n",
       "    </tr>\n",
       "    <tr>\n",
       "      <th>295</th>\n",
       "      <td>11</td>\n",
       "      <td>6610130</td>\n",
       "      <td>SNP_PAT_01296</td>\n",
       "      <td>C</td>\n",
       "      <td>T</td>\n",
       "    </tr>\n",
       "    <tr>\n",
       "      <th>296</th>\n",
       "      <td>11</td>\n",
       "      <td>6612918</td>\n",
       "      <td>SNP_PAT_01297</td>\n",
       "      <td>C</td>\n",
       "      <td>T</td>\n",
       "    </tr>\n",
       "    <tr>\n",
       "      <th>297</th>\n",
       "      <td>11</td>\n",
       "      <td>6612958</td>\n",
       "      <td>SNP_PAT_01298</td>\n",
       "      <td>G</td>\n",
       "      <td>A</td>\n",
       "    </tr>\n",
       "    <tr>\n",
       "      <th>298</th>\n",
       "      <td>11</td>\n",
       "      <td>6613428</td>\n",
       "      <td>SNP_PAT_01299</td>\n",
       "      <td>C</td>\n",
       "      <td>G</td>\n",
       "    </tr>\n",
       "    <tr>\n",
       "      <th>299</th>\n",
       "      <td>11</td>\n",
       "      <td>6615414</td>\n",
       "      <td>SNP_PAT_01300</td>\n",
       "      <td>C</td>\n",
       "      <td>T</td>\n",
       "    </tr>\n",
       "  </tbody>\n",
       "</table>\n",
       "<p>300 rows × 5 columns</p>\n",
       "</div>"
      ],
      "text/plain": [
       "    chrom       pos           name ref alt\n",
       "0      10  79946452  SNP_PAT_01001   C   T\n",
       "1      10  80272484  SNP_PAT_01002   A   G\n",
       "2      10  80272575  SNP_PAT_01003   C   T\n",
       "3      10  80272799  SNP_PAT_01004   T   A\n",
       "4      10  80273714  SNP_PAT_01005   G   A\n",
       "..    ...       ...            ...  ..  ..\n",
       "295    11   6610130  SNP_PAT_01296   C   T\n",
       "296    11   6612918  SNP_PAT_01297   C   T\n",
       "297    11   6612958  SNP_PAT_01298   G   A\n",
       "298    11   6613428  SNP_PAT_01299   C   G\n",
       "299    11   6615414  SNP_PAT_01300   C   T\n",
       "\n",
       "[300 rows x 5 columns]"
      ]
     },
     "execution_count": 70,
     "metadata": {},
     "output_type": "execute_result"
    }
   ],
   "source": [
    "set_start = 1000\n",
    "set_end = 1300\n",
    "dataset_pathogenic_set = dataset_pathogenic.select(range(set_start, set_end))\n",
    "df_pathogenic_set = pd.DataFrame(dataset_pathogenic_set)\n",
    "df_pathogenic_set"
   ]
  },
  {
   "cell_type": "markdown",
   "metadata": {},
   "source": [
    "## Tokenize Dataset"
   ]
  },
  {
   "cell_type": "code",
   "execution_count": 71,
   "metadata": {
    "id": "HzU-Ik5Ap5F6"
   },
   "outputs": [],
   "source": [
    "dataset_pathogenic_set.set_transform(vep_inf.tokenize_function)"
   ]
  },
  {
   "cell_type": "markdown",
   "metadata": {},
   "source": [
    "## Set Arguments for Testing"
   ]
  },
  {
   "cell_type": "code",
   "execution_count": 72,
   "metadata": {
    "id": "7psQo-T4qJo7"
   },
   "outputs": [],
   "source": [
    "from transformers import Trainer, TrainingArguments\n",
    "\n",
    "output_dir = \"/expanse/lustre/projects/nji102/sgriesmer/gpn/output\"\n",
    "\n",
    "batch_size = 100\n",
    "training_args = TrainingArguments(\n",
    "  output_dir=output_dir,\n",
    "  per_device_eval_batch_size=batch_size,\n",
    "  dataloader_num_workers=0,\n",
    "  remove_unused_columns=False,\n",
    "#  torch_compile=True,\n",
    "#  fp16=True,\n",
    ")"
   ]
  },
  {
   "cell_type": "code",
   "execution_count": 73,
   "metadata": {
    "id": "IYsXPjxMq-Px"
   },
   "outputs": [],
   "source": [
    "trainer = Trainer(\n",
    "    model=vep_inf.model,\n",
    "    args=training_args\n",
    ")"
   ]
  },
  {
   "cell_type": "markdown",
   "metadata": {},
   "source": [
    "## Test and Score Dataset Subset"
   ]
  },
  {
   "cell_type": "code",
   "execution_count": 74,
   "metadata": {
    "id": "Eo3ysWx_sbDA"
   },
   "outputs": [],
   "source": [
    "# for debugging purposes\n",
    "!TORCH_LOGS=\"+dynamo\"\n",
    "!TORCHDYNAMO_VERBOSE=1"
   ]
  },
  {
   "cell_type": "code",
   "execution_count": 75,
   "metadata": {
    "colab": {
     "base_uri": "https://localhost:8080/",
     "height": 419
    },
    "id": "h3gNyjE1xhKJ",
    "outputId": "781f2a71-d6c3-49ee-9b93-b9eeef2cad74"
   },
   "outputs": [
    {
     "data": {
      "text/html": [],
      "text/plain": [
       "<IPython.core.display.HTML object>"
      ]
     },
     "metadata": {},
     "output_type": "display_data"
    }
   ],
   "source": [
    "pred=trainer.predict(test_dataset=dataset_pathogenic_set).predictions"
   ]
  },
  {
   "cell_type": "markdown",
   "metadata": {},
   "source": [
    "## Add Score to Dataframe"
   ]
  },
  {
   "cell_type": "code",
   "execution_count": 76,
   "metadata": {
    "colab": {
     "base_uri": "https://localhost:8080/",
     "height": 419
    },
    "id": "Q1lWiOrhzEWz",
    "outputId": "ff21a45f-219c-4e48-b8e9-e3c8938e7934"
   },
   "outputs": [
    {
     "data": {
      "text/html": [
       "<div>\n",
       "<style scoped>\n",
       "    .dataframe tbody tr th:only-of-type {\n",
       "        vertical-align: middle;\n",
       "    }\n",
       "\n",
       "    .dataframe tbody tr th {\n",
       "        vertical-align: top;\n",
       "    }\n",
       "\n",
       "    .dataframe thead th {\n",
       "        text-align: right;\n",
       "    }\n",
       "</style>\n",
       "<table border=\"1\" class=\"dataframe\">\n",
       "  <thead>\n",
       "    <tr style=\"text-align: right;\">\n",
       "      <th></th>\n",
       "      <th>chrom</th>\n",
       "      <th>pos</th>\n",
       "      <th>name</th>\n",
       "      <th>ref</th>\n",
       "      <th>alt</th>\n",
       "      <th>gpn_score</th>\n",
       "    </tr>\n",
       "  </thead>\n",
       "  <tbody>\n",
       "    <tr>\n",
       "      <th>0</th>\n",
       "      <td>10</td>\n",
       "      <td>79946452</td>\n",
       "      <td>SNP_PAT_01001</td>\n",
       "      <td>C</td>\n",
       "      <td>T</td>\n",
       "      <td>-1.065650</td>\n",
       "    </tr>\n",
       "    <tr>\n",
       "      <th>1</th>\n",
       "      <td>10</td>\n",
       "      <td>80272484</td>\n",
       "      <td>SNP_PAT_01002</td>\n",
       "      <td>A</td>\n",
       "      <td>G</td>\n",
       "      <td>-1.708707</td>\n",
       "    </tr>\n",
       "    <tr>\n",
       "      <th>2</th>\n",
       "      <td>10</td>\n",
       "      <td>80272575</td>\n",
       "      <td>SNP_PAT_01003</td>\n",
       "      <td>C</td>\n",
       "      <td>T</td>\n",
       "      <td>-0.865141</td>\n",
       "    </tr>\n",
       "    <tr>\n",
       "      <th>3</th>\n",
       "      <td>10</td>\n",
       "      <td>80272799</td>\n",
       "      <td>SNP_PAT_01004</td>\n",
       "      <td>T</td>\n",
       "      <td>A</td>\n",
       "      <td>1.565545</td>\n",
       "    </tr>\n",
       "    <tr>\n",
       "      <th>4</th>\n",
       "      <td>10</td>\n",
       "      <td>80273714</td>\n",
       "      <td>SNP_PAT_01005</td>\n",
       "      <td>G</td>\n",
       "      <td>A</td>\n",
       "      <td>-0.195607</td>\n",
       "    </tr>\n",
       "  </tbody>\n",
       "</table>\n",
       "</div>"
      ],
      "text/plain": [
       "  chrom       pos           name ref alt  gpn_score\n",
       "0    10  79946452  SNP_PAT_01001   C   T  -1.065650\n",
       "1    10  80272484  SNP_PAT_01002   A   G  -1.708707\n",
       "2    10  80272575  SNP_PAT_01003   C   T  -0.865141\n",
       "3    10  80272799  SNP_PAT_01004   T   A   1.565545\n",
       "4    10  80273714  SNP_PAT_01005   G   A  -0.195607"
      ]
     },
     "execution_count": 76,
     "metadata": {},
     "output_type": "execute_result"
    }
   ],
   "source": [
    "gpn_score = vep_inf.postprocess(pred)\n",
    "df_pathogenic_set[\"gpn_score\"] = gpn_score\n",
    "df_pathogenic_set.head()"
   ]
  },
  {
   "cell_type": "markdown",
   "metadata": {
    "id": "7WqloMgqIcVo"
   },
   "source": [
    "## Plot shows differentiation between Common and Pathogenic mutations"
   ]
  },
  {
   "cell_type": "code",
   "execution_count": 56,
   "metadata": {
    "colab": {
     "base_uri": "https://localhost:8080/",
     "height": 466
    },
    "id": "Dc2zMD0nzj-A",
    "outputId": "7f888a71-74c2-45e5-90fe-92935bd82632"
   },
   "outputs": [
    {
     "ename": "ValueError",
     "evalue": "Could not interpret value `label` for parameter `hue`",
     "output_type": "error",
     "traceback": [
      "\u001b[0;31m---------------------------------------------------------------------------\u001b[0m",
      "\u001b[0;31mValueError\u001b[0m                                Traceback (most recent call last)",
      "\u001b[0;32m<ipython-input-56-ea0ef394733b>\u001b[0m in \u001b[0;36m<module>\u001b[0;34m\u001b[0m\n\u001b[0;32m----> 1\u001b[0;31m \u001b[0msns\u001b[0m\u001b[0;34m.\u001b[0m\u001b[0mhistplot\u001b[0m\u001b[0;34m(\u001b[0m\u001b[0mdata\u001b[0m\u001b[0;34m=\u001b[0m\u001b[0mdf_pathogenic_set\u001b[0m\u001b[0;34m,\u001b[0m \u001b[0mx\u001b[0m\u001b[0;34m=\u001b[0m\u001b[0;34m\"gpn_score\"\u001b[0m\u001b[0;34m,\u001b[0m \u001b[0mhue\u001b[0m\u001b[0;34m=\u001b[0m\u001b[0;34m\"label\"\u001b[0m\u001b[0;34m)\u001b[0m\u001b[0;34m\u001b[0m\u001b[0;34m\u001b[0m\u001b[0m\n\u001b[0m",
      "\u001b[0;32m/cm/shared/apps/spack/0.17.3/cpu/b/opt/spack/linux-rocky8-zen/gcc-8.5.0/anaconda3-2021.05-q4munrgvh7qp4o7r3nzcdkbuph4z7375/lib/python3.8/site-packages/seaborn/distributions.py\u001b[0m in \u001b[0;36mhistplot\u001b[0;34m(data, x, y, hue, weights, stat, bins, binwidth, binrange, discrete, cumulative, common_bins, common_norm, multiple, element, fill, shrink, kde, kde_kws, line_kws, thresh, pthresh, pmax, cbar, cbar_ax, cbar_kws, palette, hue_order, hue_norm, color, log_scale, legend, ax, **kwargs)\u001b[0m\n\u001b[1;32m   1389\u001b[0m ):\n\u001b[1;32m   1390\u001b[0m \u001b[0;34m\u001b[0m\u001b[0m\n\u001b[0;32m-> 1391\u001b[0;31m     p = _DistributionPlotter(\n\u001b[0m\u001b[1;32m   1392\u001b[0m         \u001b[0mdata\u001b[0m\u001b[0;34m=\u001b[0m\u001b[0mdata\u001b[0m\u001b[0;34m,\u001b[0m\u001b[0;34m\u001b[0m\u001b[0;34m\u001b[0m\u001b[0m\n\u001b[1;32m   1393\u001b[0m         \u001b[0mvariables\u001b[0m\u001b[0;34m=\u001b[0m\u001b[0m_DistributionPlotter\u001b[0m\u001b[0;34m.\u001b[0m\u001b[0mget_semantics\u001b[0m\u001b[0;34m(\u001b[0m\u001b[0mlocals\u001b[0m\u001b[0;34m(\u001b[0m\u001b[0;34m)\u001b[0m\u001b[0;34m)\u001b[0m\u001b[0;34m\u001b[0m\u001b[0;34m\u001b[0m\u001b[0m\n",
      "\u001b[0;32m/cm/shared/apps/spack/0.17.3/cpu/b/opt/spack/linux-rocky8-zen/gcc-8.5.0/anaconda3-2021.05-q4munrgvh7qp4o7r3nzcdkbuph4z7375/lib/python3.8/site-packages/seaborn/distributions.py\u001b[0m in \u001b[0;36m__init__\u001b[0;34m(self, data, variables)\u001b[0m\n\u001b[1;32m    107\u001b[0m     ):\n\u001b[1;32m    108\u001b[0m \u001b[0;34m\u001b[0m\u001b[0m\n\u001b[0;32m--> 109\u001b[0;31m         \u001b[0msuper\u001b[0m\u001b[0;34m(\u001b[0m\u001b[0;34m)\u001b[0m\u001b[0;34m.\u001b[0m\u001b[0m__init__\u001b[0m\u001b[0;34m(\u001b[0m\u001b[0mdata\u001b[0m\u001b[0;34m=\u001b[0m\u001b[0mdata\u001b[0m\u001b[0;34m,\u001b[0m \u001b[0mvariables\u001b[0m\u001b[0;34m=\u001b[0m\u001b[0mvariables\u001b[0m\u001b[0;34m)\u001b[0m\u001b[0;34m\u001b[0m\u001b[0;34m\u001b[0m\u001b[0m\n\u001b[0m\u001b[1;32m    110\u001b[0m \u001b[0;34m\u001b[0m\u001b[0m\n\u001b[1;32m    111\u001b[0m     \u001b[0;34m@\u001b[0m\u001b[0mproperty\u001b[0m\u001b[0;34m\u001b[0m\u001b[0;34m\u001b[0m\u001b[0m\n",
      "\u001b[0;32m/cm/shared/apps/spack/0.17.3/cpu/b/opt/spack/linux-rocky8-zen/gcc-8.5.0/anaconda3-2021.05-q4munrgvh7qp4o7r3nzcdkbuph4z7375/lib/python3.8/site-packages/seaborn/_core.py\u001b[0m in \u001b[0;36m__init__\u001b[0;34m(self, data, variables)\u001b[0m\n\u001b[1;32m    602\u001b[0m     \u001b[0;32mdef\u001b[0m \u001b[0m__init__\u001b[0m\u001b[0;34m(\u001b[0m\u001b[0mself\u001b[0m\u001b[0;34m,\u001b[0m \u001b[0mdata\u001b[0m\u001b[0;34m=\u001b[0m\u001b[0;32mNone\u001b[0m\u001b[0;34m,\u001b[0m \u001b[0mvariables\u001b[0m\u001b[0;34m=\u001b[0m\u001b[0;34m{\u001b[0m\u001b[0;34m}\u001b[0m\u001b[0;34m)\u001b[0m\u001b[0;34m:\u001b[0m\u001b[0;34m\u001b[0m\u001b[0;34m\u001b[0m\u001b[0m\n\u001b[1;32m    603\u001b[0m \u001b[0;34m\u001b[0m\u001b[0m\n\u001b[0;32m--> 604\u001b[0;31m         \u001b[0mself\u001b[0m\u001b[0;34m.\u001b[0m\u001b[0massign_variables\u001b[0m\u001b[0;34m(\u001b[0m\u001b[0mdata\u001b[0m\u001b[0;34m,\u001b[0m \u001b[0mvariables\u001b[0m\u001b[0;34m)\u001b[0m\u001b[0;34m\u001b[0m\u001b[0;34m\u001b[0m\u001b[0m\n\u001b[0m\u001b[1;32m    605\u001b[0m \u001b[0;34m\u001b[0m\u001b[0m\n\u001b[1;32m    606\u001b[0m         \u001b[0;32mfor\u001b[0m \u001b[0mvar\u001b[0m\u001b[0;34m,\u001b[0m \u001b[0mcls\u001b[0m \u001b[0;32min\u001b[0m \u001b[0mself\u001b[0m\u001b[0;34m.\u001b[0m\u001b[0m_semantic_mappings\u001b[0m\u001b[0;34m.\u001b[0m\u001b[0mitems\u001b[0m\u001b[0;34m(\u001b[0m\u001b[0;34m)\u001b[0m\u001b[0;34m:\u001b[0m\u001b[0;34m\u001b[0m\u001b[0;34m\u001b[0m\u001b[0m\n",
      "\u001b[0;32m/cm/shared/apps/spack/0.17.3/cpu/b/opt/spack/linux-rocky8-zen/gcc-8.5.0/anaconda3-2021.05-q4munrgvh7qp4o7r3nzcdkbuph4z7375/lib/python3.8/site-packages/seaborn/_core.py\u001b[0m in \u001b[0;36massign_variables\u001b[0;34m(self, data, variables)\u001b[0m\n\u001b[1;32m    665\u001b[0m         \u001b[0;32melse\u001b[0m\u001b[0;34m:\u001b[0m\u001b[0;34m\u001b[0m\u001b[0;34m\u001b[0m\u001b[0m\n\u001b[1;32m    666\u001b[0m             \u001b[0mself\u001b[0m\u001b[0;34m.\u001b[0m\u001b[0minput_format\u001b[0m \u001b[0;34m=\u001b[0m \u001b[0;34m\"long\"\u001b[0m\u001b[0;34m\u001b[0m\u001b[0;34m\u001b[0m\u001b[0m\n\u001b[0;32m--> 667\u001b[0;31m             plot_data, variables = self._assign_variables_longform(\n\u001b[0m\u001b[1;32m    668\u001b[0m                 \u001b[0mdata\u001b[0m\u001b[0;34m,\u001b[0m \u001b[0;34m**\u001b[0m\u001b[0mvariables\u001b[0m\u001b[0;34m,\u001b[0m\u001b[0;34m\u001b[0m\u001b[0;34m\u001b[0m\u001b[0m\n\u001b[1;32m    669\u001b[0m             )\n",
      "\u001b[0;32m/cm/shared/apps/spack/0.17.3/cpu/b/opt/spack/linux-rocky8-zen/gcc-8.5.0/anaconda3-2021.05-q4munrgvh7qp4o7r3nzcdkbuph4z7375/lib/python3.8/site-packages/seaborn/_core.py\u001b[0m in \u001b[0;36m_assign_variables_longform\u001b[0;34m(self, data, **kwargs)\u001b[0m\n\u001b[1;32m    900\u001b[0m \u001b[0;34m\u001b[0m\u001b[0m\n\u001b[1;32m    901\u001b[0m                 \u001b[0merr\u001b[0m \u001b[0;34m=\u001b[0m \u001b[0;34mf\"Could not interpret value `{val}` for parameter `{key}`\"\u001b[0m\u001b[0;34m\u001b[0m\u001b[0;34m\u001b[0m\u001b[0m\n\u001b[0;32m--> 902\u001b[0;31m                 \u001b[0;32mraise\u001b[0m \u001b[0mValueError\u001b[0m\u001b[0;34m(\u001b[0m\u001b[0merr\u001b[0m\u001b[0;34m)\u001b[0m\u001b[0;34m\u001b[0m\u001b[0;34m\u001b[0m\u001b[0m\n\u001b[0m\u001b[1;32m    903\u001b[0m \u001b[0;34m\u001b[0m\u001b[0m\n\u001b[1;32m    904\u001b[0m             \u001b[0;32melse\u001b[0m\u001b[0;34m:\u001b[0m\u001b[0;34m\u001b[0m\u001b[0;34m\u001b[0m\u001b[0m\n",
      "\u001b[0;31mValueError\u001b[0m: Could not interpret value `label` for parameter `hue`"
     ]
    }
   ],
   "source": [
    "sns.histplot(data=df_pathogenic_set, x=\"gpn_score\", hue=\"label\")"
   ]
  },
  {
   "cell_type": "markdown",
   "metadata": {},
   "source": [
    "## Save dataframe as CSV"
   ]
  },
  {
   "cell_type": "code",
   "execution_count": null,
   "metadata": {},
   "outputs": [],
   "source": [
    "output_file = output_dir + \"/pathogenic_set_hg38_part_\" + part + \"_\" + str(set_start) + \"_\" + str(set_end) + \".csv\"\n",
    "df_pathogenic_set.to_csv(output_file, index=False, sep=',')"
   ]
  },
  {
   "cell_type": "markdown",
   "metadata": {},
   "source": [
    "## Load dataframe from CSV (if needed)"
   ]
  },
  {
   "cell_type": "code",
   "execution_count": null,
   "metadata": {},
   "outputs": [],
   "source": [
    "output_dir = \"/expanse/lustre/projects/nji102/sgriesmer/gpn/output\"\n",
    "\n",
    "input_csv_file = output_dir + \"/pathogenic_set_0_39652.csv\"\n",
    "df_pathogenic_set = pd.read_csv(input_csv_file, sep=',')"
   ]
  },
  {
   "cell_type": "code",
   "execution_count": null,
   "metadata": {},
   "outputs": [],
   "source": [
    "sns.histplot(data=df_pathogenic_set, x=\"gpn_score\", hue=\"label\")"
   ]
  },
  {
   "cell_type": "markdown",
   "metadata": {},
   "source": [
    "## Calculate metrics"
   ]
  },
  {
   "cell_type": "code",
   "execution_count": null,
   "metadata": {},
   "outputs": [],
   "source": [
    "from sklearn.metrics import roc_auc_score, average_precision_score\n",
    "AUROC = roc_auc_score(df_pathogenic_set.label==\"Pathogenic\", -df_pathogenic_set.gpn_score)\n",
    "AUPRC = average_precision_score(df_pathogenic_set.label==\"Pathogenic\", -df_pathogenic_set.gpn_score)\n",
    "AUROC, AUPRC"
   ]
  },
  {
   "cell_type": "markdown",
   "metadata": {},
   "source": [
    "## Plot ROC curve"
   ]
  },
  {
   "cell_type": "code",
   "execution_count": null,
   "metadata": {},
   "outputs": [],
   "source": [
    "from sklearn.metrics import roc_curve\n",
    "\n",
    "fpr, tpr, thresholds = roc_curve(df_pathogenic_set.label==\"Pathogenic\", -df_pathogenic_set.gpn_score)"
   ]
  },
  {
   "cell_type": "code",
   "execution_count": null,
   "metadata": {},
   "outputs": [],
   "source": [
    "plt.figure(figsize=(8, 6))\n",
    "plt.plot(fpr, tpr, color='b', lw=2, label=f'ROC curve (AUC = {AUROC:.2f})')\n",
    "plt.plot([0, 1], [0, 1], color='gray', linestyle='--')\n",
    "plt.xlim([0.0, 1.0])\n",
    "plt.ylim([0.0, 1.05])\n",
    "plt.xlabel('False Positive Rate (FPR)')\n",
    "plt.ylabel('True Positive Rate (TPR)')\n",
    "plt.title('Receiver Operating Characteristic (ROC) Curve')\n",
    "plt.legend(loc='lower right')\n",
    "plt.grid(True)\n",
    "plt.show()"
   ]
  },
  {
   "cell_type": "markdown",
   "metadata": {},
   "source": [
    "## Cancer Dataset"
   ]
  },
  {
   "cell_type": "markdown",
   "metadata": {},
   "source": [
    "## Load Dataset to be Scored (if previously created)"
   ]
  },
  {
   "cell_type": "code",
   "execution_count": null,
   "metadata": {},
   "outputs": [],
   "source": [
    "#dataset_cancer_filename = dataset_prefix + \"cancer.parquet\"\n",
    "#dataset_cancer = load_dataset_from_file_or_dir(dataset_cancer_filename, split=\"test\", is_file=True)\n",
    "#dataset_cancer.shape"
   ]
  },
  {
   "cell_type": "code",
   "execution_count": null,
   "metadata": {},
   "outputs": [],
   "source": [
    "part = \"apaaabaaaaadac\"\n",
    "dataset_cancer_filename = dataset_prefix + \"CAN_dataset_XY-named-hg38-part-\" + part +\".vcf\"\n",
    "dataset_cancer = load_dataset_from_file_or_dir(dataset_cancer_filename, split=\"test\", is_file=True)\n",
    "dataset_cancer.shape"
   ]
  },
  {
   "cell_type": "code",
   "execution_count": null,
   "metadata": {},
   "outputs": [],
   "source": [
    "dataset_cancer.features"
   ]
  },
  {
   "cell_type": "code",
   "execution_count": null,
   "metadata": {},
   "outputs": [],
   "source": [
    "dataset_cancer[0]"
   ]
  },
  {
   "cell_type": "markdown",
   "metadata": {
    "id": "QP8qJdMLqL8C",
    "user_expressions": []
   },
   "source": [
    "## Load MSA data"
   ]
  },
  {
   "cell_type": "code",
   "execution_count": 5,
   "metadata": {
    "colab": {
     "base_uri": "https://localhost:8080/"
    },
    "id": "tGRtdN-jnTeE",
    "outputId": "e657dd7e-1369-4f60-9f76-109469012849",
    "tags": []
   },
   "outputs": [
    {
     "name": "stdout",
     "output_type": "stream",
     "text": [
      "Loading MSA...\n",
      "Loading MSA... Done\n"
     ]
    }
   ],
   "source": [
    "msa_path = \"zip:///::https://huggingface.co/datasets/songlab/multiz100way/resolve/main/89.zarr.zip\"\n",
    "genome_msa = GenomeMSA(msa_path)  # can take a minute or two"
   ]
  },
  {
   "cell_type": "markdown",
   "metadata": {
    "id": "33WyBAgnGBRA"
   },
   "source": [
    "## Load inference model"
   ]
  },
  {
   "cell_type": "code",
   "execution_count": null,
   "metadata": {
    "colab": {
     "base_uri": "https://localhost:8080/",
     "height": 203,
     "referenced_widgets": [
      "21520660a28a422ba0ee1caee61116ca",
      "07377b5371e7489cba645e32d955fe39",
      "9da13b3945cc48fe9ed1ecd11ccd2d97",
      "4e7e34eb2aa2485db5f4f9434e704e2b",
      "cd70659960b94448930c63058158ace9",
      "21c4fed2661a43f1a56ab765c45ae979",
      "71633234d48d4ed7b126a6ed4b3b599c",
      "4c18505813814a64810bfbeef9986741",
      "9cf729509177481e96d000fea80419c6",
      "e275e78371ad47c7a2d682b1a6f80b76",
      "012d27483f074768bd69e4017383a011",
      "ddf102151bfc420e98bbde067dc7c372",
      "7498e1d85a60419da550630092cf905b",
      "901d799c96464905bc4d5a6940d4e0e0",
      "9a1b2cb746b44121a9b2ae05fcea31d4",
      "0410163023af47cd9304f250cf0d32f2",
      "3fa7c7f8ab044c358166432f5c55642f",
      "2c0161221d6e441198a30cab93f227c3",
      "b91e2ad1ef914314a161357e9a350db3",
      "1d083f716ae24d4c90a44363c117cf51",
      "f1e286ad3c3a44aea02a4a8f38fbb458",
      "99a5fd00e9c441b698bbedfce5a62435"
     ]
    },
    "id": "AkPXrj7FeVPD",
    "outputId": "7c7e1fd1-5f0e-42b9-c93e-b3498d1c02fa"
   },
   "outputs": [],
   "source": [
    "from gpn.msa.vep import VEPInference\n",
    "\n",
    "model_path = \"songlab/gpn-msa-sapiens\"\n",
    "window_size = 128\n",
    "vep_inf = VEPInference(model_path, genome_msa, window_size, disable_aux_features=False)"
   ]
  },
  {
   "cell_type": "markdown",
   "metadata": {
    "id": "N_7JyZ6S6NaR"
   },
   "source": [
    "## Subset Dataset to be Scored"
   ]
  },
  {
   "cell_type": "code",
   "execution_count": null,
   "metadata": {
    "colab": {
     "base_uri": "https://localhost:8080/",
     "height": 253
    },
    "id": "iPh5hwvrfom4",
    "outputId": "c9fbc7f6-c032-4645-970c-90f85cd72c85"
   },
   "outputs": [],
   "source": [
    "set_start = 0\n",
    "set_end = 2\n",
    "dataset_cancer_set = dataset_cancer.select(range(set_start, set_end))\n",
    "df_cancer_set = pd.DataFrame(dataset_cancer_set)\n",
    "df_cancer_set"
   ]
  },
  {
   "cell_type": "markdown",
   "metadata": {},
   "source": [
    "## Tokenize Dataset"
   ]
  },
  {
   "cell_type": "code",
   "execution_count": null,
   "metadata": {
    "id": "HzU-Ik5Ap5F6"
   },
   "outputs": [],
   "source": [
    "dataset_cancer_set.set_transform(vep_inf.tokenize_function)"
   ]
  },
  {
   "cell_type": "markdown",
   "metadata": {},
   "source": [
    "## Set Arguments for Testing"
   ]
  },
  {
   "cell_type": "code",
   "execution_count": null,
   "metadata": {
    "id": "7psQo-T4qJo7"
   },
   "outputs": [],
   "source": [
    "from transformers import Trainer, TrainingArguments\n",
    "\n",
    "output_dir = \"/expanse/lustre/projects/nji102/sgriesmer/gpn/output\"\n",
    "\n",
    "batch_size = 100\n",
    "training_args = TrainingArguments(\n",
    "  output_dir=output_dir,\n",
    "  per_device_eval_batch_size=batch_size,\n",
    "  dataloader_num_workers=0,\n",
    "  remove_unused_columns=False,\n",
    "#  torch_compile=True,\n",
    "#  fp16=True,\n",
    ")"
   ]
  },
  {
   "cell_type": "code",
   "execution_count": null,
   "metadata": {
    "id": "IYsXPjxMq-Px"
   },
   "outputs": [],
   "source": [
    "trainer = Trainer(\n",
    "    model=vep_inf.model,\n",
    "    args=training_args\n",
    ")"
   ]
  },
  {
   "cell_type": "markdown",
   "metadata": {},
   "source": [
    "## Test and Score Dataset Subset"
   ]
  },
  {
   "cell_type": "code",
   "execution_count": null,
   "metadata": {
    "id": "Eo3ysWx_sbDA"
   },
   "outputs": [],
   "source": [
    "# for debugging purposes\n",
    "!TORCH_LOGS=\"+dynamo\"\n",
    "!TORCHDYNAMO_VERBOSE=1"
   ]
  },
  {
   "cell_type": "code",
   "execution_count": null,
   "metadata": {
    "colab": {
     "base_uri": "https://localhost:8080/",
     "height": 419
    },
    "id": "h3gNyjE1xhKJ",
    "outputId": "781f2a71-d6c3-49ee-9b93-b9eeef2cad74"
   },
   "outputs": [],
   "source": [
    "pred=trainer.predict(test_dataset=dataset_cancer_set).predictions"
   ]
  },
  {
   "cell_type": "markdown",
   "metadata": {},
   "source": [
    "## Add Score to Dataframe"
   ]
  },
  {
   "cell_type": "code",
   "execution_count": null,
   "metadata": {
    "colab": {
     "base_uri": "https://localhost:8080/",
     "height": 419
    },
    "id": "Q1lWiOrhzEWz",
    "outputId": "ff21a45f-219c-4e48-b8e9-e3c8938e7934"
   },
   "outputs": [],
   "source": [
    "gpn_score = vep_inf.postprocess(pred)\n",
    "df_cancer_set[\"gpn_score\"] = gpn_score\n",
    "df_cancer_set"
   ]
  },
  {
   "cell_type": "code",
   "execution_count": null,
   "metadata": {},
   "outputs": [],
   "source": [
    "df_cancer_set.drop([1], axis=0, inplace=True)\n",
    "df_cancer_set"
   ]
  },
  {
   "cell_type": "markdown",
   "metadata": {
    "id": "7WqloMgqIcVo"
   },
   "source": [
    "## Plot shows differentiation between Common and COSMIC/Frequent mutations"
   ]
  },
  {
   "cell_type": "code",
   "execution_count": null,
   "metadata": {
    "colab": {
     "base_uri": "https://localhost:8080/",
     "height": 466
    },
    "id": "Dc2zMD0nzj-A",
    "outputId": "7f888a71-74c2-45e5-90fe-92935bd82632"
   },
   "outputs": [],
   "source": [
    "#sns.histplot(data=df_cancer_set, x=\"gpn_score\", hue=\"label\")"
   ]
  },
  {
   "cell_type": "markdown",
   "metadata": {},
   "source": [
    "## Save dataframe as CSV"
   ]
  },
  {
   "cell_type": "code",
   "execution_count": null,
   "metadata": {},
   "outputs": [],
   "source": [
    "output_file = output_dir + \"/cancer_set_hg38_part_\" + part + \"_\" + str(set_start) + \"_\" + str(set_end) + \".csv\"\n",
    "df_cancer_set.to_csv(output_file, index=False, sep=',')"
   ]
  },
  {
   "cell_type": "markdown",
   "metadata": {},
   "source": [
    "## Calculate metrics"
   ]
  },
  {
   "cell_type": "code",
   "execution_count": null,
   "metadata": {},
   "outputs": [],
   "source": [
    "df_cancer_set[17585:17587]"
   ]
  },
  {
   "cell_type": "code",
   "execution_count": null,
   "metadata": {},
   "outputs": [],
   "source": [
    "from sklearn.metrics import roc_auc_score, average_precision_score\n",
    "AUROC = roc_auc_score(df_cancer_set.label==\"Frequent\", -gpn_score)\n",
    "AUPRC = average_precision_score(df_cancer_set.label==\"Frequent\", -gpn_score)\n",
    "AUROC, AUPRC"
   ]
  },
  {
   "cell_type": "markdown",
   "metadata": {},
   "source": [
    "## Plot ROC curve"
   ]
  },
  {
   "cell_type": "code",
   "execution_count": null,
   "metadata": {},
   "outputs": [],
   "source": [
    "from sklearn.metrics import roc_curve\n",
    "\n",
    "fpr, tpr, thresholds = roc_curve(df_cancer_set.label==\"Frequent\", -gpn_score)"
   ]
  },
  {
   "cell_type": "code",
   "execution_count": null,
   "metadata": {},
   "outputs": [],
   "source": [
    "plt.figure(figsize=(8, 6))\n",
    "plt.plot(fpr, tpr, color='b', lw=2, label=f'ROC curve (AUC = {AUROC:.2f})')\n",
    "plt.plot([0, 1], [0, 1], color='gray', linestyle='--')\n",
    "plt.xlim([0.0, 1.0])\n",
    "plt.ylim([0.0, 1.05])\n",
    "plt.xlabel('False Positive Rate (FPR)')\n",
    "plt.ylabel('True Positive Rate (TPR)')\n",
    "plt.title('Receiver Operating Characteristic (ROC) Curve')\n",
    "plt.legend(loc='lower right')\n",
    "plt.grid(True)\n",
    "plt.show()"
   ]
  },
  {
   "cell_type": "code",
   "execution_count": null,
   "metadata": {},
   "outputs": [],
   "source": [
    "## Regulatory Dataset"
   ]
  },
  {
   "cell_type": "markdown",
   "metadata": {
    "id": "QP8qJdMLqL8C",
    "user_expressions": []
   },
   "source": [
    "## Load MSA data"
   ]
  },
  {
   "cell_type": "code",
   "execution_count": null,
   "metadata": {
    "colab": {
     "base_uri": "https://localhost:8080/"
    },
    "id": "tGRtdN-jnTeE",
    "outputId": "e657dd7e-1369-4f60-9f76-109469012849",
    "tags": []
   },
   "outputs": [],
   "source": [
    "msa_path = \"zip:///::https://huggingface.co/datasets/songlab/multiz100way/resolve/main/89.zarr.zip\"\n",
    "genome_msa = GenomeMSA(msa_path)  # can take a minute or two"
   ]
  },
  {
   "cell_type": "markdown",
   "metadata": {
    "id": "33WyBAgnGBRA"
   },
   "source": [
    "## Load inference model"
   ]
  },
  {
   "cell_type": "code",
   "execution_count": null,
   "metadata": {
    "colab": {
     "base_uri": "https://localhost:8080/",
     "height": 203,
     "referenced_widgets": [
      "21520660a28a422ba0ee1caee61116ca",
      "07377b5371e7489cba645e32d955fe39",
      "9da13b3945cc48fe9ed1ecd11ccd2d97",
      "4e7e34eb2aa2485db5f4f9434e704e2b",
      "cd70659960b94448930c63058158ace9",
      "21c4fed2661a43f1a56ab765c45ae979",
      "71633234d48d4ed7b126a6ed4b3b599c",
      "4c18505813814a64810bfbeef9986741",
      "9cf729509177481e96d000fea80419c6",
      "e275e78371ad47c7a2d682b1a6f80b76",
      "012d27483f074768bd69e4017383a011",
      "ddf102151bfc420e98bbde067dc7c372",
      "7498e1d85a60419da550630092cf905b",
      "901d799c96464905bc4d5a6940d4e0e0",
      "9a1b2cb746b44121a9b2ae05fcea31d4",
      "0410163023af47cd9304f250cf0d32f2",
      "3fa7c7f8ab044c358166432f5c55642f",
      "2c0161221d6e441198a30cab93f227c3",
      "b91e2ad1ef914314a161357e9a350db3",
      "1d083f716ae24d4c90a44363c117cf51",
      "f1e286ad3c3a44aea02a4a8f38fbb458",
      "99a5fd00e9c441b698bbedfce5a62435"
     ]
    },
    "id": "AkPXrj7FeVPD",
    "outputId": "7c7e1fd1-5f0e-42b9-c93e-b3498d1c02fa"
   },
   "outputs": [],
   "source": [
    "from gpn.msa.vep import VEPInference\n",
    "\n",
    "model_path = \"songlab/gpn-msa-sapiens\"\n",
    "window_size = 128\n",
    "vep_inf = VEPInference(model_path, genome_msa, window_size, disable_aux_features=False)"
   ]
  },
  {
   "cell_type": "markdown",
   "metadata": {
    "id": "N_7JyZ6S6NaR"
   },
   "source": [
    "## Subset Dataset to be Scored"
   ]
  },
  {
   "cell_type": "code",
   "execution_count": null,
   "metadata": {
    "colab": {
     "base_uri": "https://localhost:8080/",
     "height": 253
    },
    "id": "iPh5hwvrfom4",
    "outputId": "c9fbc7f6-c032-4645-970c-90f85cd72c85"
   },
   "outputs": [],
   "source": [
    "output_dir = \"/expanse/lustre/projects/nji102/sgriesmer/gpn/output\"\n",
    "results_file = output_dir + \"/100-REG-results.csv\"\n",
    "\n",
    "f = open(results_file, 'a') \n",
    "\n",
    "for part in [ \n",
    "  \"adafabad\"\n",
    "  ]:\n",
    "\n",
    "  dataset_regulatory_filename = dataset_prefix + \"REG_dataset_XY-named-trunc-hg38-part-\" + part +\".vcf\"\n",
    "  dataset_regulatory = load_dataset_from_file_or_dir(dataset_regulatory_filename, split=\"test\", is_file=True)\n",
    "\n",
    "  set_start = 0\n",
    "  set_end = len(dataset_regulatory)\n",
    "  dataset_regulatory_set = dataset_regulatory.select(range(set_start, set_end))\n",
    "  df_regulatory_set = pd.DataFrame(dataset_regulatory_set)\n",
    "  df_regulatory_set\n",
    "\n",
    "# tokenize dataset\n",
    "\n",
    "  dataset_regulatory_set.set_transform(vep_inf.tokenize_function)\n",
    "\n",
    "# set arguments for testing\n",
    "\n",
    "  from transformers import Trainer, TrainingArguments\n",
    "\n",
    "  output_dir = \"/expanse/lustre/projects/nji102/sgriesmer/gpn/output\"\n",
    "\n",
    "  batch_size = 500\n",
    "  training_args = TrainingArguments(\n",
    "    output_dir=output_dir,\n",
    "    per_device_eval_batch_size=batch_size,\n",
    "    dataloader_num_workers=0,\n",
    "    remove_unused_columns=False,\n",
    "#   torch_compile=True,\n",
    "#   fp16=True,\n",
    ")\n",
    "\n",
    "  trainer = Trainer(\n",
    "    model=vep_inf.model,\n",
    "    args=training_args\n",
    "  )\n",
    "\n",
    "# Test and score dataset subset\n",
    "\n",
    "# for debugging purposes\n",
    "  !TORCH_LOGS=\"+dynamo\"\n",
    "  !TORCHDYNAMO_VERBOSE=1\n",
    "\n",
    "  try:\n",
    "      pred=trainer.predict(test_dataset=dataset_regulatory_set).predictions\n",
    "      print(part, \" - yes\")\n",
    "      #f.write(part + \",yes\")\n",
    "      \n",
    "      gpn_score = vep_inf.postprocess(pred)\n",
    "      df_regulatory_set[\"gpn_score\"] = gpn_score\n",
    "        \n",
    "      # drop stub if down to 1-result\n",
    "        \n",
    "      #df_regulatory_set.drop([1], axis=0, inplace=True)\n",
    "    \n",
    "      output_file = output_dir + \"/regulatory_set_hg38_part_\" + part + \"_\" + str(set_start) + \"_\" + str(set_end) + \".csv\"\n",
    "      df_regulatory_set.to_csv(output_file, index=False, sep=',')   \n",
    "  except:\n",
    "      print(part + \" - no\")  \n",
    "      #f.write(part + \",no\")\n",
    "      continue\n",
    "\n",
    "#gpn_score = vep_inf.postprocess(pred)\n",
    "#df_regulatory_set[\"gpn_score\"] = gpn_score\n",
    "#df_regulatory_set.head()\n",
    "\n",
    "# store output\n",
    "\n",
    "#output_file = output_dir + \"/regulatory_set_hg38_part_\" + \"_\" + str(set_start) + \"_\" + str(set_end) + \".csv\"\n",
    "#df_regulatory_set.to_csv(output_file, index=False, sep=',')\n"
   ]
  },
  {
   "cell_type": "markdown",
   "metadata": {
    "id": "7WqloMgqIcVo"
   },
   "source": [
    "## Plot shows differentiation between Common and OMIM/Pathogenic mutations"
   ]
  },
  {
   "cell_type": "code",
   "execution_count": null,
   "metadata": {
    "colab": {
     "base_uri": "https://localhost:8080/",
     "height": 466
    },
    "id": "Dc2zMD0nzj-A",
    "outputId": "7f888a71-74c2-45e5-90fe-92935bd82632"
   },
   "outputs": [],
   "source": [
    "sns.histplot(data=df_regulatory_set, x=\"gpn_score\", hue=\"label\")"
   ]
  },
  {
   "cell_type": "markdown",
   "metadata": {},
   "source": [
    "## Save dataframe as CSV"
   ]
  },
  {
   "cell_type": "code",
   "execution_count": null,
   "metadata": {},
   "outputs": [],
   "source": [
    "output_file = output_dir + \"/regulatory_set\" + \"_\" + str(set_start) + \"_\" + str(set_end) + \".csv\"\n",
    "df_regulatory_set.to_csv(output_file, index=False, sep=',')"
   ]
  },
  {
   "cell_type": "markdown",
   "metadata": {},
   "source": [
    "## Load dataframe from CSV (if needed)"
   ]
  },
  {
   "cell_type": "code",
   "execution_count": null,
   "metadata": {},
   "outputs": [],
   "source": [
    "output_dir = \"/expanse/lustre/projects/nji102/sgriesmer/gpn/output\"\n",
    "\n",
    "input_csv_file = [output_dir + \"/regulatory_set_0_100000.csv\", \n",
    "output_dir + \"/regulatory_set_100000_200000.csv\",\n",
    "output_dir + \"/regulatory_set_200000_300000.csv\",\n",
    "output_dir + \"/regulatory_set_300000_400000.csv\",\n",
    "output_dir + \"/regulatory_set_400000_600000.csv\",\n",
    "output_dir + \"/regulatory_set_600000_800000.csv\"]\n",
    "\n",
    "df_regulatory_subset = []\n",
    "for f in input_csv_file:\n",
    "    df_regulatory_subset.append(pd.read_csv(f, sep=','))\n",
    "    \n",
    "df_regulatory_set = pd.concat(df_regulatory_subset, axis=0)"
   ]
  },
  {
   "cell_type": "code",
   "execution_count": null,
   "metadata": {},
   "outputs": [],
   "source": [
    "df_regulatory_set"
   ]
  },
  {
   "cell_type": "code",
   "execution_count": null,
   "metadata": {},
   "outputs": [],
   "source": [
    "sns.histplot(data=df_regulatory_set, x=\"gpn_score\", hue=\"label\")"
   ]
  },
  {
   "cell_type": "markdown",
   "metadata": {},
   "source": [
    "## Calculate metrics"
   ]
  },
  {
   "cell_type": "code",
   "execution_count": null,
   "metadata": {},
   "outputs": [],
   "source": [
    "df_regulatory_set"
   ]
  },
  {
   "cell_type": "code",
   "execution_count": null,
   "metadata": {},
   "outputs": [],
   "source": [
    "from sklearn.metrics import roc_auc_score, average_precision_score\n",
    "AUROC = roc_auc_score(df_regulatory_set.label==\"Pathogenic\", -df_regulatory_set.gpn_score)\n",
    "AUPRC = average_precision_score(df_regulatory_set.label==\"Pathogenic\", -df_regulatory_set.gpn_score)\n",
    "AUROC, AUPRC"
   ]
  },
  {
   "cell_type": "markdown",
   "metadata": {},
   "source": [
    "## Plot ROC curve"
   ]
  },
  {
   "cell_type": "code",
   "execution_count": null,
   "metadata": {},
   "outputs": [],
   "source": [
    "from sklearn.metrics import roc_curve\n",
    "\n",
    "fpr, tpr, thresholds = roc_curve(df_regulatory_set.label==\"Pathogenic\", -df_regulatory_set.gpn_score)"
   ]
  },
  {
   "cell_type": "code",
   "execution_count": null,
   "metadata": {},
   "outputs": [],
   "source": [
    "plt.figure(figsize=(8, 6))\n",
    "plt.plot(fpr, tpr, color='b', lw=2, label=f'ROC curve (AUC = {AUROC:.2f})')\n",
    "plt.plot([0, 1], [0, 1], color='gray', linestyle='--')\n",
    "plt.xlim([0.0, 1.0])\n",
    "plt.ylim([0.0, 1.05])\n",
    "plt.xlabel('False Positive Rate (FPR)')\n",
    "plt.ylabel('True Positive Rate (TPR)')\n",
    "plt.title('Receiver Operating Characteristic (ROC) Curve')\n",
    "plt.legend(loc='lower right')\n",
    "plt.grid(True)\n",
    "plt.show()"
   ]
  },
  {
   "cell_type": "markdown",
   "metadata": {},
   "source": [
    "## CAD Datasets"
   ]
  },
  {
   "cell_type": "markdown",
   "metadata": {},
   "source": [
    "### Load GPN-MSA Model"
   ]
  },
  {
   "cell_type": "code",
   "execution_count": 4,
   "metadata": {},
   "outputs": [
    {
     "name": "stdout",
     "output_type": "stream",
     "text": [
      "Loading MSA...\n",
      "Loading MSA... Done\n"
     ]
    }
   ],
   "source": [
    "msa_path = \"zip:///::https://huggingface.co/datasets/songlab/multiz100way/resolve/main/89.zarr.zip\"\n",
    "genome_msa = GenomeMSA(msa_path)  # can take a minute or two"
   ]
  },
  {
   "cell_type": "markdown",
   "metadata": {},
   "source": [
    "### Load Inference Model"
   ]
  },
  {
   "cell_type": "code",
   "execution_count": 5,
   "metadata": {},
   "outputs": [],
   "source": [
    "from gpn.msa.vep import VEPInference\n",
    "\n",
    "model_path = \"songlab/gpn-msa-sapiens\"\n",
    "window_size = 128\n",
    "vep_inf = VEPInference(model_path, genome_msa, window_size, disable_aux_features=False)"
   ]
  },
  {
   "cell_type": "markdown",
   "metadata": {},
   "source": [
    "### Subset Dataset to be Scored"
   ]
  },
  {
   "cell_type": "code",
   "execution_count": 9,
   "metadata": {},
   "outputs": [
    {
     "name": "stdout",
     "output_type": "stream",
     "text": [
      "   chrom        pos      name ref alt\n",
      "0      2  110122469  BWN08000   G   A\n",
      "1      1  101158974  SNP00201   G   A\n",
      "  chrom        pos      name ref alt\n",
      "0     2  110122469  BWN08000   G   A\n",
      "1     1  101158974  SNP00201   G   A\n"
     ]
    },
    {
     "data": {
      "text/html": [],
      "text/plain": [
       "<IPython.core.display.HTML object>"
      ]
     },
     "metadata": {},
     "output_type": "display_data"
    },
    {
     "name": "stdout",
     "output_type": "stream",
     "text": [
      "0    0.433602\n",
      "1    1.683076\n",
      "Name: gpn_score, dtype: float32\n",
      "ahajahae,0.43360215\n",
      "   chrom        pos      name ref alt\n",
      "0      2  110126152  BWN08001   G   A\n",
      "1      1  101158974  SNP00201   G   A\n",
      "  chrom        pos      name ref alt\n",
      "0     2  110126152  BWN08001   G   A\n",
      "1     1  101158974  SNP00201   G   A\n"
     ]
    },
    {
     "data": {
      "text/html": [],
      "text/plain": [
       "<IPython.core.display.HTML object>"
      ]
     },
     "metadata": {},
     "output_type": "display_data"
    },
    {
     "name": "stdout",
     "output_type": "stream",
     "text": [
      "0    4.035152\n",
      "1    1.683076\n",
      "Name: gpn_score, dtype: float32\n",
      "ahajahaf,4.0351524\n",
      "   chrom        pos      name ref alt\n",
      "0      2  110127050  BWN08002   C   T\n",
      "1      1  101158974  SNP00201   G   A\n",
      "  chrom        pos      name ref alt\n",
      "0     2  110127050  BWN08002   C   T\n",
      "1     1  101158974  SNP00201   G   A\n"
     ]
    },
    {
     "data": {
      "text/html": [],
      "text/plain": [
       "<IPython.core.display.HTML object>"
      ]
     },
     "metadata": {},
     "output_type": "display_data"
    },
    {
     "name": "stdout",
     "output_type": "stream",
     "text": [
      "0   -1.740111\n",
      "1    1.683076\n",
      "Name: gpn_score, dtype: float32\n",
      "ahajahag,-1.7401114\n",
      "   chrom        pos      name ref alt\n",
      "0      2  110128565  BWN08003   G   A\n",
      "1      1  101158974  SNP00201   G   A\n",
      "  chrom        pos      name ref alt\n",
      "0     2  110128565  BWN08003   G   A\n",
      "1     1  101158974  SNP00201   G   A\n"
     ]
    },
    {
     "data": {
      "text/html": [],
      "text/plain": [
       "<IPython.core.display.HTML object>"
      ]
     },
     "metadata": {},
     "output_type": "display_data"
    },
    {
     "name": "stdout",
     "output_type": "stream",
     "text": [
      "0    1.347963\n",
      "1    1.683076\n",
      "Name: gpn_score, dtype: float32\n",
      "ahajahah,1.3479633\n",
      "   chrom        pos      name ref alt\n",
      "0      2  110135346  BWN08004   A   G\n",
      "1      1  101158974  SNP00201   G   A\n",
      "  chrom        pos      name ref alt\n",
      "0     2  110135346  BWN08004   A   G\n",
      "1     1  101158974  SNP00201   G   A\n"
     ]
    },
    {
     "data": {
      "text/html": [],
      "text/plain": [
       "<IPython.core.display.HTML object>"
      ]
     },
     "metadata": {},
     "output_type": "display_data"
    },
    {
     "name": "stdout",
     "output_type": "stream",
     "text": [
      "0   -0.272301\n",
      "1    1.683076\n",
      "Name: gpn_score, dtype: float32\n",
      "ahajahai,-0.27230084\n",
      "   chrom        pos      name ref alt\n",
      "0      2  110136202  BWN08005   G   C\n",
      "1      1  101158974  SNP00201   G   A\n",
      "  chrom        pos      name ref alt\n",
      "0     2  110136202  BWN08005   G   C\n",
      "1     1  101158974  SNP00201   G   A\n"
     ]
    },
    {
     "data": {
      "text/html": [],
      "text/plain": [
       "<IPython.core.display.HTML object>"
      ]
     },
     "metadata": {},
     "output_type": "display_data"
    },
    {
     "name": "stdout",
     "output_type": "stream",
     "text": [
      "0    1.903942\n",
      "1    1.683076\n",
      "Name: gpn_score, dtype: float32\n",
      "ahajahaj,1.9039416\n"
     ]
    }
   ],
   "source": [
    "# keep track of successful and unsuccessful scores in results file\n",
    "\n",
    "output_dir = \"/expanse/lustre/projects/nji102/sgriesmer/gpn/output\"\n",
    "results_file = output_dir + \"/Brown_hg38_gpn_1-ahajah-results.csv\"\n",
    "\n",
    "f = open(results_file, 'a') \n",
    "\n",
    "# create parts list\n",
    "\n",
    "import sre_yield\n",
    "\n",
    "parts = []\n",
    "#parts = list(sre_yield.AllStrings(r'[ab]'))\n",
    "parts = [\n",
    "  \"ahajahae\",\n",
    "  \"ahajahaf\",\n",
    "  \"ahajahag\",\n",
    "  \"ahajahah\",\n",
    "  \"ahajahai\",\n",
    "  \"ahajahaj\"\n",
    "]\n",
    "parts.sort()\n",
    "\n",
    "# parts processed so far\n",
    "\n",
    "parts_left = parts.copy()\n",
    "\n",
    "for part in parts:\n",
    "    \n",
    "# keep track of parts left to process in case of error\n",
    "    \n",
    "  parts_left.remove(part)\n",
    "\n",
    "  dataset_cad_filename = dataset_prefix + \"Brown_eQTL_dataset_XY-named-hg38-part-\" + part +\".vcf\"\n",
    "  dataset_cad_df = pd.read_csv(dataset_cad_filename, sep='\\t')\n",
    "  print(dataset_cad_df)\n",
    "  dataset_cad_filename_parquet = dataset_prefix + \"Brown_eQTL_dataset_XY-named-hg38-part-\" + part +\".parquet\"\n",
    "  dataset_cad_df.to_parquet(dataset_cad_filename_parquet)\n",
    "  dataset_cad = load_dataset_from_file_or_dir(dataset_cad_filename_parquet, split=\"test\", is_file=True)\n",
    " \n",
    "\n",
    "\n",
    "# create dataset and dataframe\n",
    "\n",
    "  set_start = 0\n",
    "  set_end = len(dataset_cad)\n",
    "  dataset_cad_set = dataset_cad.select(range(set_start, set_end))\n",
    "  df_cad_set = pd.DataFrame(dataset_cad_set)\n",
    "  print(df_cad_set)\n",
    "\n",
    "# tokenize dataset\n",
    "\n",
    "  dataset_cad_set.set_transform(vep_inf.tokenize_function)\n",
    "\n",
    "# set arguments for testing\n",
    "\n",
    "  from transformers import Trainer, TrainingArguments\n",
    "\n",
    "  batch_size = 500\n",
    "  training_args = TrainingArguments(\n",
    "    output_dir=output_dir,\n",
    "    per_device_eval_batch_size=batch_size,\n",
    "    dataloader_num_workers=0,\n",
    "    remove_unused_columns=False,\n",
    "#   torch_compile=True,\n",
    "#   fp16=True,\n",
    ")\n",
    "\n",
    "  trainer = Trainer(\n",
    "    model=vep_inf.model,\n",
    "    args=training_args\n",
    "  )\n",
    "\n",
    "# Test and score dataset subset\n",
    "\n",
    "# for debugging purposes\n",
    "  !TORCH_LOGS=\"+dynamo\"\n",
    "  !TORCHDYNAMO_VERBOSE=1\n",
    "\n",
    "  try:\n",
    "    pred=trainer.predict(test_dataset=dataset_cad_set).predictions\n",
    "\n",
    "      \n",
    "    gpn_score = vep_inf.postprocess(pred)\n",
    "    df_cad_set[\"gpn_score\"] = gpn_score\n",
    "    print(df_cad_set[\"gpn_score\"])\n",
    "        \n",
    "# drop stub if down to 1-result\n",
    "        \n",
    "    #df_cad_set.drop([1], axis=0, inplace=True)\n",
    "\n",
    "    \n",
    "# Write success to terminal and results file\n",
    "    \n",
    "    print(part + ',' + str(df_cad_set[\"gpn_score\"][0]))\n",
    "    f.write(part + ',' + str(df_cad_set[\"gpn_score\"][0]) + \"\\n\")\n",
    "    \n",
    "    \n",
    "# write score output to file\n",
    "    \n",
    "    #output_file = output_dir + \"/REG_dataset_XY-named-hg38-part_\" + part + \"_\" + str(set_start) + \"_\" + 1 + \".csv\"\n",
    "    output_file = output_dir + \"/Brown_eQTL_dataset_XY-named-hg38-part_\" + part + \"_\" + str(set_start) + \"_\" + str(set_end) + \".csv\"\n",
    "    df_cad_set.to_csv(output_file, index=False, sep=',')   \n",
    "  \n",
    "  except:\n",
    "        \n",
    "# Write failure to terminal and results file\n",
    "        \n",
    "    print(part + \",no score\") \n",
    "    f.write(part + \",no score\" + \"\\n\")\n",
    "    continue\n",
    "    \n",
    "# Close results file\n",
    "    \n",
    "f.close()\n"
   ]
  },
  {
   "cell_type": "markdown",
   "metadata": {},
   "source": [
    "Load CAD datasets for P < 0.01 and P > 0.5"
   ]
  },
  {
   "cell_type": "code",
   "execution_count": 20,
   "metadata": {},
   "outputs": [],
   "source": [
    "output_dir = \"/expanse/lustre/projects/nji102/sgriesmer/gpn/output\"\n",
    "\n",
    "cad_gt5_csv_file = output_dir + \"/cad-gt5-results.csv\"\n",
    "cad_lt01_csv_file = output_dir + \"/cad-lt01-results.csv\"\n",
    "df_cad_set_gt5 = pd.read_csv(cad_gt5_csv_file, sep=',')\n",
    "df_cad_set_lt01 = pd.read_csv(cad_lt01_csv_file, sep=',')"
   ]
  },
  {
   "cell_type": "code",
   "execution_count": 21,
   "metadata": {},
   "outputs": [
    {
     "data": {
      "text/html": [
       "<div>\n",
       "<style scoped>\n",
       "    .dataframe tbody tr th:only-of-type {\n",
       "        vertical-align: middle;\n",
       "    }\n",
       "\n",
       "    .dataframe tbody tr th {\n",
       "        vertical-align: top;\n",
       "    }\n",
       "\n",
       "    .dataframe thead th {\n",
       "        text-align: right;\n",
       "    }\n",
       "</style>\n",
       "<table border=\"1\" class=\"dataframe\">\n",
       "  <thead>\n",
       "    <tr style=\"text-align: right;\">\n",
       "      <th></th>\n",
       "      <th>file suffix</th>\n",
       "      <th>gpn_score</th>\n",
       "    </tr>\n",
       "  </thead>\n",
       "  <tbody>\n",
       "    <tr>\n",
       "      <th>0</th>\n",
       "      <td>aaaaaaaa</td>\n",
       "      <td>no score</td>\n",
       "    </tr>\n",
       "    <tr>\n",
       "      <th>1</th>\n",
       "      <td>aaaaaaab</td>\n",
       "      <td>0.89399433</td>\n",
       "    </tr>\n",
       "    <tr>\n",
       "      <th>2</th>\n",
       "      <td>aaaaaaac</td>\n",
       "      <td>1.8475147</td>\n",
       "    </tr>\n",
       "    <tr>\n",
       "      <th>3</th>\n",
       "      <td>aaaaaaad</td>\n",
       "      <td>-2.8691573</td>\n",
       "    </tr>\n",
       "    <tr>\n",
       "      <th>4</th>\n",
       "      <td>aaaaaaae</td>\n",
       "      <td>-1.3439262</td>\n",
       "    </tr>\n",
       "    <tr>\n",
       "      <th>...</th>\n",
       "      <td>...</td>\n",
       "      <td>...</td>\n",
       "    </tr>\n",
       "    <tr>\n",
       "      <th>9995</th>\n",
       "      <td>ajajajaf</td>\n",
       "      <td>-1.5116944</td>\n",
       "    </tr>\n",
       "    <tr>\n",
       "      <th>9996</th>\n",
       "      <td>ajajajag</td>\n",
       "      <td>-1.8452871</td>\n",
       "    </tr>\n",
       "    <tr>\n",
       "      <th>9997</th>\n",
       "      <td>ajajajah</td>\n",
       "      <td>no score</td>\n",
       "    </tr>\n",
       "    <tr>\n",
       "      <th>9998</th>\n",
       "      <td>ajajajai</td>\n",
       "      <td>no score</td>\n",
       "    </tr>\n",
       "    <tr>\n",
       "      <th>9999</th>\n",
       "      <td>ajajajaj</td>\n",
       "      <td>0.4681813</td>\n",
       "    </tr>\n",
       "  </tbody>\n",
       "</table>\n",
       "<p>10000 rows × 2 columns</p>\n",
       "</div>"
      ],
      "text/plain": [
       "     file suffix   gpn_score\n",
       "0       aaaaaaaa    no score\n",
       "1       aaaaaaab  0.89399433\n",
       "2       aaaaaaac   1.8475147\n",
       "3       aaaaaaad  -2.8691573\n",
       "4       aaaaaaae  -1.3439262\n",
       "...          ...         ...\n",
       "9995    ajajajaf  -1.5116944\n",
       "9996    ajajajag  -1.8452871\n",
       "9997    ajajajah    no score\n",
       "9998    ajajajai    no score\n",
       "9999    ajajajaj   0.4681813\n",
       "\n",
       "[10000 rows x 2 columns]"
      ]
     },
     "execution_count": 21,
     "metadata": {},
     "output_type": "execute_result"
    }
   ],
   "source": [
    "df_cad_set_gt5"
   ]
  },
  {
   "cell_type": "code",
   "execution_count": 22,
   "metadata": {},
   "outputs": [
    {
     "data": {
      "text/html": [
       "<div>\n",
       "<style scoped>\n",
       "    .dataframe tbody tr th:only-of-type {\n",
       "        vertical-align: middle;\n",
       "    }\n",
       "\n",
       "    .dataframe tbody tr th {\n",
       "        vertical-align: top;\n",
       "    }\n",
       "\n",
       "    .dataframe thead th {\n",
       "        text-align: right;\n",
       "    }\n",
       "</style>\n",
       "<table border=\"1\" class=\"dataframe\">\n",
       "  <thead>\n",
       "    <tr style=\"text-align: right;\">\n",
       "      <th></th>\n",
       "      <th>file suffix</th>\n",
       "      <th>gpn_score</th>\n",
       "    </tr>\n",
       "  </thead>\n",
       "  <tbody>\n",
       "    <tr>\n",
       "      <th>0</th>\n",
       "      <td>aaaaaaab</td>\n",
       "      <td>0.57608455</td>\n",
       "    </tr>\n",
       "    <tr>\n",
       "      <th>1</th>\n",
       "      <td>aaaaaaac</td>\n",
       "      <td>-0.36128122</td>\n",
       "    </tr>\n",
       "    <tr>\n",
       "      <th>2</th>\n",
       "      <td>aaaaaaad</td>\n",
       "      <td>no score</td>\n",
       "    </tr>\n",
       "    <tr>\n",
       "      <th>3</th>\n",
       "      <td>aaaaaaae</td>\n",
       "      <td>no score</td>\n",
       "    </tr>\n",
       "    <tr>\n",
       "      <th>4</th>\n",
       "      <td>aaaaaaaf</td>\n",
       "      <td>no score</td>\n",
       "    </tr>\n",
       "    <tr>\n",
       "      <th>...</th>\n",
       "      <td>...</td>\n",
       "      <td>...</td>\n",
       "    </tr>\n",
       "    <tr>\n",
       "      <th>9994</th>\n",
       "      <td>ajajajaf</td>\n",
       "      <td>no score</td>\n",
       "    </tr>\n",
       "    <tr>\n",
       "      <th>9995</th>\n",
       "      <td>ajajajag</td>\n",
       "      <td>no score</td>\n",
       "    </tr>\n",
       "    <tr>\n",
       "      <th>9996</th>\n",
       "      <td>ajajajah</td>\n",
       "      <td>1.2931308</td>\n",
       "    </tr>\n",
       "    <tr>\n",
       "      <th>9997</th>\n",
       "      <td>ajajajai</td>\n",
       "      <td>no score</td>\n",
       "    </tr>\n",
       "    <tr>\n",
       "      <th>9998</th>\n",
       "      <td>ajajajaj</td>\n",
       "      <td>-0.45482427</td>\n",
       "    </tr>\n",
       "  </tbody>\n",
       "</table>\n",
       "<p>9999 rows × 2 columns</p>\n",
       "</div>"
      ],
      "text/plain": [
       "     file suffix    gpn_score\n",
       "0       aaaaaaab   0.57608455\n",
       "1       aaaaaaac  -0.36128122\n",
       "2       aaaaaaad     no score\n",
       "3       aaaaaaae     no score\n",
       "4       aaaaaaaf     no score\n",
       "...          ...          ...\n",
       "9994    ajajajaf     no score\n",
       "9995    ajajajag     no score\n",
       "9996    ajajajah    1.2931308\n",
       "9997    ajajajai     no score\n",
       "9998    ajajajaj  -0.45482427\n",
       "\n",
       "[9999 rows x 2 columns]"
      ]
     },
     "execution_count": 22,
     "metadata": {},
     "output_type": "execute_result"
    }
   ],
   "source": [
    "df_cad_set_lt01"
   ]
  },
  {
   "cell_type": "markdown",
   "metadata": {},
   "source": [
    "### Drop rows with \"No score\""
   ]
  },
  {
   "cell_type": "code",
   "execution_count": 17,
   "metadata": {},
   "outputs": [
    {
     "data": {
      "text/html": [
       "<div>\n",
       "<style scoped>\n",
       "    .dataframe tbody tr th:only-of-type {\n",
       "        vertical-align: middle;\n",
       "    }\n",
       "\n",
       "    .dataframe tbody tr th {\n",
       "        vertical-align: top;\n",
       "    }\n",
       "\n",
       "    .dataframe thead th {\n",
       "        text-align: right;\n",
       "    }\n",
       "</style>\n",
       "<table border=\"1\" class=\"dataframe\">\n",
       "  <thead>\n",
       "    <tr style=\"text-align: right;\">\n",
       "      <th></th>\n",
       "      <th>file suffix</th>\n",
       "      <th>gpn_score</th>\n",
       "    </tr>\n",
       "  </thead>\n",
       "  <tbody>\n",
       "    <tr>\n",
       "      <th>0</th>\n",
       "      <td>aaaaaaab</td>\n",
       "      <td>0.57608455</td>\n",
       "    </tr>\n",
       "    <tr>\n",
       "      <th>1</th>\n",
       "      <td>aaaaaaac</td>\n",
       "      <td>-0.36128122</td>\n",
       "    </tr>\n",
       "    <tr>\n",
       "      <th>10</th>\n",
       "      <td>aaaaabab</td>\n",
       "      <td>-0.37237144</td>\n",
       "    </tr>\n",
       "    <tr>\n",
       "      <th>11</th>\n",
       "      <td>aaaaabac</td>\n",
       "      <td>-0.8319971</td>\n",
       "    </tr>\n",
       "    <tr>\n",
       "      <th>17</th>\n",
       "      <td>aaaaabai</td>\n",
       "      <td>-1.4604263</td>\n",
       "    </tr>\n",
       "    <tr>\n",
       "      <th>...</th>\n",
       "      <td>...</td>\n",
       "      <td>...</td>\n",
       "    </tr>\n",
       "    <tr>\n",
       "      <th>9991</th>\n",
       "      <td>ajajajac</td>\n",
       "      <td>-3.1450398</td>\n",
       "    </tr>\n",
       "    <tr>\n",
       "      <th>9992</th>\n",
       "      <td>ajajajad</td>\n",
       "      <td>0.41094077</td>\n",
       "    </tr>\n",
       "    <tr>\n",
       "      <th>9993</th>\n",
       "      <td>ajajajae</td>\n",
       "      <td>0.07117581</td>\n",
       "    </tr>\n",
       "    <tr>\n",
       "      <th>9996</th>\n",
       "      <td>ajajajah</td>\n",
       "      <td>1.2931308</td>\n",
       "    </tr>\n",
       "    <tr>\n",
       "      <th>9998</th>\n",
       "      <td>ajajajaj</td>\n",
       "      <td>-0.45482427</td>\n",
       "    </tr>\n",
       "  </tbody>\n",
       "</table>\n",
       "<p>4934 rows × 2 columns</p>\n",
       "</div>"
      ],
      "text/plain": [
       "     file suffix    gpn_score\n",
       "0       aaaaaaab   0.57608455\n",
       "1       aaaaaaac  -0.36128122\n",
       "10      aaaaabab  -0.37237144\n",
       "11      aaaaabac   -0.8319971\n",
       "17      aaaaabai   -1.4604263\n",
       "...          ...          ...\n",
       "9991    ajajajac   -3.1450398\n",
       "9992    ajajajad   0.41094077\n",
       "9993    ajajajae   0.07117581\n",
       "9996    ajajajah    1.2931308\n",
       "9998    ajajajaj  -0.45482427\n",
       "\n",
       "[4934 rows x 2 columns]"
      ]
     },
     "execution_count": 17,
     "metadata": {},
     "output_type": "execute_result"
    }
   ],
   "source": [
    "df_cad_set_lt01 = df_cad_set_lt01[df_cad_set_lt01[\"gpn_score\"].str.contains(\"no score\") == False]\n",
    "df_cad_set_lt01"
   ]
  },
  {
   "cell_type": "code",
   "execution_count": 19,
   "metadata": {},
   "outputs": [
    {
     "data": {
      "text/html": [
       "<div>\n",
       "<style scoped>\n",
       "    .dataframe tbody tr th:only-of-type {\n",
       "        vertical-align: middle;\n",
       "    }\n",
       "\n",
       "    .dataframe tbody tr th {\n",
       "        vertical-align: top;\n",
       "    }\n",
       "\n",
       "    .dataframe thead th {\n",
       "        text-align: right;\n",
       "    }\n",
       "</style>\n",
       "<table border=\"1\" class=\"dataframe\">\n",
       "  <thead>\n",
       "    <tr style=\"text-align: right;\">\n",
       "      <th></th>\n",
       "      <th>file suffix</th>\n",
       "      <th>gpn_score</th>\n",
       "    </tr>\n",
       "  </thead>\n",
       "  <tbody>\n",
       "    <tr>\n",
       "      <th>1</th>\n",
       "      <td>aaaaaaac</td>\n",
       "      <td>-0.36128122</td>\n",
       "    </tr>\n",
       "    <tr>\n",
       "      <th>10</th>\n",
       "      <td>aaaaabab</td>\n",
       "      <td>-0.37237144</td>\n",
       "    </tr>\n",
       "    <tr>\n",
       "      <th>11</th>\n",
       "      <td>aaaaabac</td>\n",
       "      <td>-0.8319971</td>\n",
       "    </tr>\n",
       "    <tr>\n",
       "      <th>17</th>\n",
       "      <td>aaaaabai</td>\n",
       "      <td>-1.4604263</td>\n",
       "    </tr>\n",
       "    <tr>\n",
       "      <th>20</th>\n",
       "      <td>aaaaacab</td>\n",
       "      <td>0.10453239</td>\n",
       "    </tr>\n",
       "    <tr>\n",
       "      <th>...</th>\n",
       "      <td>...</td>\n",
       "      <td>...</td>\n",
       "    </tr>\n",
       "    <tr>\n",
       "      <th>9974</th>\n",
       "      <td>ajajahaf</td>\n",
       "      <td>-0.98141</td>\n",
       "    </tr>\n",
       "    <tr>\n",
       "      <th>9977</th>\n",
       "      <td>ajajahai</td>\n",
       "      <td>-1.5508695</td>\n",
       "    </tr>\n",
       "    <tr>\n",
       "      <th>9987</th>\n",
       "      <td>ajajaiai</td>\n",
       "      <td>-0.33894324</td>\n",
       "    </tr>\n",
       "    <tr>\n",
       "      <th>9991</th>\n",
       "      <td>ajajajac</td>\n",
       "      <td>-3.1450398</td>\n",
       "    </tr>\n",
       "    <tr>\n",
       "      <th>9996</th>\n",
       "      <td>ajajajah</td>\n",
       "      <td>1.2931308</td>\n",
       "    </tr>\n",
       "  </tbody>\n",
       "</table>\n",
       "<p>2393 rows × 2 columns</p>\n",
       "</div>"
      ],
      "text/plain": [
       "     file suffix    gpn_score\n",
       "1       aaaaaaac  -0.36128122\n",
       "10      aaaaabab  -0.37237144\n",
       "11      aaaaabac   -0.8319971\n",
       "17      aaaaabai   -1.4604263\n",
       "20      aaaaacab   0.10453239\n",
       "...          ...          ...\n",
       "9974    ajajahaf     -0.98141\n",
       "9977    ajajahai   -1.5508695\n",
       "9987    ajajaiai  -0.33894324\n",
       "9991    ajajajac   -3.1450398\n",
       "9996    ajajajah    1.2931308\n",
       "\n",
       "[2393 rows x 2 columns]"
      ]
     },
     "execution_count": 19,
     "metadata": {},
     "output_type": "execute_result"
    }
   ],
   "source": [
    "df_cad_set_gt5 = df_cad_set_gt5[df_cad_set_gt5[\"gpn_score\"].str.contains(\"no score\") == False]\n",
    "df_cad_set_gt5"
   ]
  },
  {
   "cell_type": "code",
   "execution_count": null,
   "metadata": {},
   "outputs": [],
   "source": [
    "part = \"afajajag\"#  dataset_regulatory_filename = dataset_prefix + \"REG_dataset_XY-named-trunc-hg38-part-\" + part +\".vcf\"\n",
    "dataset_cad_filename = dataset_prefix + \"random_sampling_lt01-hg38-part-\" + part +\".vcf\"\n",
    "dataset_cad = load_dataset_from_file_or_dir(dataset_cad_filename, split=\"test\", is_file=True)\n",
    "dataset_cad"
   ]
  },
  {
   "cell_type": "code",
   "execution_count": null,
   "metadata": {},
   "outputs": [],
   "source": [
    "set_start = 0\n",
    "#set_end = len(dataset_cad)\n",
    "set_end = 2\n",
    "dataset_cad_set = dataset_cad.select(range(set_start, set_end))\n",
    "df_cad_set = pd.DataFrame(dataset_cad_set)\n",
    "df_cad_set, dataset_cad_set"
   ]
  },
  {
   "cell_type": "code",
   "execution_count": null,
   "metadata": {},
   "outputs": [],
   "source": [
    "dataset_cad_set.set_transform(vep_inf.tokenize_function)\n",
    "dataset_cad_set.features"
   ]
  },
  {
   "cell_type": "code",
   "execution_count": null,
   "metadata": {},
   "outputs": [],
   "source": [
    "from transformers import Trainer, TrainingArguments\n",
    "\n",
    "output_dir = \"/expanse/lustre/projects/nji102/sgriesmer/gpn/output\"\n",
    "\n",
    "batch_size = 500\n",
    "training_args = TrainingArguments(\n",
    "    output_dir=output_dir,\n",
    "    per_device_eval_batch_size=batch_size,\n",
    "    dataloader_num_workers=0,\n",
    "    remove_unused_columns=False,\n",
    "#   torch_compile=True,\n",
    "#   fp16=True,\n",
    ")\n"
   ]
  },
  {
   "cell_type": "code",
   "execution_count": null,
   "metadata": {},
   "outputs": [],
   "source": [
    "trainer = Trainer(\n",
    "    model=vep_inf.model,\n",
    "    args=training_args\n",
    ")"
   ]
  },
  {
   "cell_type": "code",
   "execution_count": null,
   "metadata": {},
   "outputs": [],
   "source": [
    "pred=trainer.predict(test_dataset=dataset_cad_set).predictions"
   ]
  },
  {
   "cell_type": "code",
   "execution_count": null,
   "metadata": {},
   "outputs": [],
   "source": [
    "gpn_score = vep_inf.postprocess(pred)\n",
    "df_cad_set[\"gpn_score\"] = gpn_score"
   ]
  },
  {
   "cell_type": "code",
   "execution_count": null,
   "metadata": {},
   "outputs": [],
   "source": [
    "df_cad_set"
   ]
  },
  {
   "cell_type": "markdown",
   "metadata": {},
   "source": [
    "### Cut out stub from set"
   ]
  },
  {
   "cell_type": "code",
   "execution_count": null,
   "metadata": {},
   "outputs": [],
   "source": [
    "df_cad_set.drop([1], axis=0, inplace=True)\n",
    "df_cad_set"
   ]
  },
  {
   "cell_type": "code",
   "execution_count": null,
   "metadata": {},
   "outputs": [],
   "source": [
    "print(part + ',' + str(df_cad_set[\"gpn_score\"][0]))"
   ]
  },
  {
   "cell_type": "code",
   "execution_count": null,
   "metadata": {},
   "outputs": [],
   "source": [
    "output_file = output_dir + \"/cad_set_hg38_part_\" + part + \"_\" + str(set_start) + \"_\" + str(set_end) + \".csv\"\n",
    "df_cad_set.to_csv(output_file, index=False, sep=',') "
   ]
  },
  {
   "cell_type": "code",
   "execution_count": null,
   "metadata": {},
   "outputs": [],
   "source": []
  }
 ],
 "metadata": {
  "accelerator": "GPU",
  "colab": {
   "gpuType": "A100",
   "machine_shape": "hm",
   "provenance": []
  },
  "kernelspec": {
   "display_name": "Python 3",
   "language": "python",
   "name": "python3"
  },
  "language_info": {
   "codemirror_mode": {
    "name": "ipython",
    "version": 3
   },
   "file_extension": ".py",
   "mimetype": "text/x-python",
   "name": "python",
   "nbconvert_exporter": "python",
   "pygments_lexer": "ipython3",
   "version": "3.8.8"
  },
  "widgets": {
   "application/vnd.jupyter.widget-state+json": {
    "00e15afb909343c0bd5580a58fb0aeca": {
     "model_module": "@jupyter-widgets/base",
     "model_module_version": "1.2.0",
     "model_name": "LayoutModel",
     "state": {
      "_model_module": "@jupyter-widgets/base",
      "_model_module_version": "1.2.0",
      "_model_name": "LayoutModel",
      "_view_count": null,
      "_view_module": "@jupyter-widgets/base",
      "_view_module_version": "1.2.0",
      "_view_name": "LayoutView",
      "align_content": null,
      "align_items": null,
      "align_self": null,
      "border": null,
      "bottom": null,
      "display": null,
      "flex": null,
      "flex_flow": null,
      "grid_area": null,
      "grid_auto_columns": null,
      "grid_auto_flow": null,
      "grid_auto_rows": null,
      "grid_column": null,
      "grid_gap": null,
      "grid_row": null,
      "grid_template_areas": null,
      "grid_template_columns": null,
      "grid_template_rows": null,
      "height": null,
      "justify_content": null,
      "justify_items": null,
      "left": null,
      "margin": null,
      "max_height": null,
      "max_width": null,
      "min_height": null,
      "min_width": null,
      "object_fit": null,
      "object_position": null,
      "order": null,
      "overflow": null,
      "overflow_x": null,
      "overflow_y": null,
      "padding": null,
      "right": null,
      "top": null,
      "visibility": null,
      "width": null
     }
    },
    "012d27483f074768bd69e4017383a011": {
     "model_module": "@jupyter-widgets/controls",
     "model_module_version": "1.5.0",
     "model_name": "DescriptionStyleModel",
     "state": {
      "_model_module": "@jupyter-widgets/controls",
      "_model_module_version": "1.5.0",
      "_model_name": "DescriptionStyleModel",
      "_view_count": null,
      "_view_module": "@jupyter-widgets/base",
      "_view_module_version": "1.2.0",
      "_view_name": "StyleView",
      "description_width": ""
     }
    },
    "0141c10e6e4d4d068f1e83a38ac7de2b": {
     "model_module": "@jupyter-widgets/controls",
     "model_module_version": "1.5.0",
     "model_name": "HBoxModel",
     "state": {
      "_dom_classes": [],
      "_model_module": "@jupyter-widgets/controls",
      "_model_module_version": "1.5.0",
      "_model_name": "HBoxModel",
      "_view_count": null,
      "_view_module": "@jupyter-widgets/controls",
      "_view_module_version": "1.5.0",
      "_view_name": "HBoxView",
      "box_style": "",
      "children": [
       "IPY_MODEL_82e528a86d7e4f479f99b1f9caa1619b",
       "IPY_MODEL_7629b6c1f78b4f64be614403c170f412",
       "IPY_MODEL_25d4867eae194198a0b2402076a9b828"
      ],
      "layout": "IPY_MODEL_099bc9d6aedf451ab75a165e7998c48a"
     }
    },
    "0410163023af47cd9304f250cf0d32f2": {
     "model_module": "@jupyter-widgets/base",
     "model_module_version": "1.2.0",
     "model_name": "LayoutModel",
     "state": {
      "_model_module": "@jupyter-widgets/base",
      "_model_module_version": "1.2.0",
      "_model_name": "LayoutModel",
      "_view_count": null,
      "_view_module": "@jupyter-widgets/base",
      "_view_module_version": "1.2.0",
      "_view_name": "LayoutView",
      "align_content": null,
      "align_items": null,
      "align_self": null,
      "border": null,
      "bottom": null,
      "display": null,
      "flex": null,
      "flex_flow": null,
      "grid_area": null,
      "grid_auto_columns": null,
      "grid_auto_flow": null,
      "grid_auto_rows": null,
      "grid_column": null,
      "grid_gap": null,
      "grid_row": null,
      "grid_template_areas": null,
      "grid_template_columns": null,
      "grid_template_rows": null,
      "height": null,
      "justify_content": null,
      "justify_items": null,
      "left": null,
      "margin": null,
      "max_height": null,
      "max_width": null,
      "min_height": null,
      "min_width": null,
      "object_fit": null,
      "object_position": null,
      "order": null,
      "overflow": null,
      "overflow_x": null,
      "overflow_y": null,
      "padding": null,
      "right": null,
      "top": null,
      "visibility": null,
      "width": null
     }
    },
    "07377b5371e7489cba645e32d955fe39": {
     "model_module": "@jupyter-widgets/controls",
     "model_module_version": "1.5.0",
     "model_name": "HTMLModel",
     "state": {
      "_dom_classes": [],
      "_model_module": "@jupyter-widgets/controls",
      "_model_module_version": "1.5.0",
      "_model_name": "HTMLModel",
      "_view_count": null,
      "_view_module": "@jupyter-widgets/controls",
      "_view_module_version": "1.5.0",
      "_view_name": "HTMLView",
      "description": "",
      "description_tooltip": null,
      "layout": "IPY_MODEL_21c4fed2661a43f1a56ab765c45ae979",
      "placeholder": "​",
      "style": "IPY_MODEL_71633234d48d4ed7b126a6ed4b3b599c",
      "value": "config.json: 100%"
     }
    },
    "099bc9d6aedf451ab75a165e7998c48a": {
     "model_module": "@jupyter-widgets/base",
     "model_module_version": "1.2.0",
     "model_name": "LayoutModel",
     "state": {
      "_model_module": "@jupyter-widgets/base",
      "_model_module_version": "1.2.0",
      "_model_name": "LayoutModel",
      "_view_count": null,
      "_view_module": "@jupyter-widgets/base",
      "_view_module_version": "1.2.0",
      "_view_name": "LayoutView",
      "align_content": null,
      "align_items": null,
      "align_self": null,
      "border": null,
      "bottom": null,
      "display": null,
      "flex": null,
      "flex_flow": null,
      "grid_area": null,
      "grid_auto_columns": null,
      "grid_auto_flow": null,
      "grid_auto_rows": null,
      "grid_column": null,
      "grid_gap": null,
      "grid_row": null,
      "grid_template_areas": null,
      "grid_template_columns": null,
      "grid_template_rows": null,
      "height": null,
      "justify_content": null,
      "justify_items": null,
      "left": null,
      "margin": null,
      "max_height": null,
      "max_width": null,
      "min_height": null,
      "min_width": null,
      "object_fit": null,
      "object_position": null,
      "order": null,
      "overflow": null,
      "overflow_x": null,
      "overflow_y": null,
      "padding": null,
      "right": null,
      "top": null,
      "visibility": null,
      "width": null
     }
    },
    "0b90c8ccb877444088da9d9db6042afc": {
     "model_module": "@jupyter-widgets/controls",
     "model_module_version": "1.5.0",
     "model_name": "ProgressStyleModel",
     "state": {
      "_model_module": "@jupyter-widgets/controls",
      "_model_module_version": "1.5.0",
      "_model_name": "ProgressStyleModel",
      "_view_count": null,
      "_view_module": "@jupyter-widgets/base",
      "_view_module_version": "1.2.0",
      "_view_name": "StyleView",
      "bar_color": null,
      "description_width": ""
     }
    },
    "171406a5ab004c90bd7471ab8c060d0a": {
     "model_module": "@jupyter-widgets/controls",
     "model_module_version": "1.5.0",
     "model_name": "DescriptionStyleModel",
     "state": {
      "_model_module": "@jupyter-widgets/controls",
      "_model_module_version": "1.5.0",
      "_model_name": "DescriptionStyleModel",
      "_view_count": null,
      "_view_module": "@jupyter-widgets/base",
      "_view_module_version": "1.2.0",
      "_view_name": "StyleView",
      "description_width": ""
     }
    },
    "1d083f716ae24d4c90a44363c117cf51": {
     "model_module": "@jupyter-widgets/controls",
     "model_module_version": "1.5.0",
     "model_name": "ProgressStyleModel",
     "state": {
      "_model_module": "@jupyter-widgets/controls",
      "_model_module_version": "1.5.0",
      "_model_name": "ProgressStyleModel",
      "_view_count": null,
      "_view_module": "@jupyter-widgets/base",
      "_view_module_version": "1.2.0",
      "_view_name": "StyleView",
      "bar_color": null,
      "description_width": ""
     }
    },
    "1da2e8ddeeb84998851b70208e7a39a5": {
     "model_module": "@jupyter-widgets/controls",
     "model_module_version": "1.5.0",
     "model_name": "HTMLModel",
     "state": {
      "_dom_classes": [],
      "_model_module": "@jupyter-widgets/controls",
      "_model_module_version": "1.5.0",
      "_model_name": "HTMLModel",
      "_view_count": null,
      "_view_module": "@jupyter-widgets/controls",
      "_view_module_version": "1.5.0",
      "_view_name": "HTMLView",
      "description": "",
      "description_tooltip": null,
      "layout": "IPY_MODEL_531fa210fcc74105b753fb8adb870da3",
      "placeholder": "​",
      "style": "IPY_MODEL_bffb7d6280864246af0de6179d6c2c1c",
      "value": "Filter: 100%"
     }
    },
    "21520660a28a422ba0ee1caee61116ca": {
     "model_module": "@jupyter-widgets/controls",
     "model_module_version": "1.5.0",
     "model_name": "HBoxModel",
     "state": {
      "_dom_classes": [],
      "_model_module": "@jupyter-widgets/controls",
      "_model_module_version": "1.5.0",
      "_model_name": "HBoxModel",
      "_view_count": null,
      "_view_module": "@jupyter-widgets/controls",
      "_view_module_version": "1.5.0",
      "_view_name": "HBoxView",
      "box_style": "",
      "children": [
       "IPY_MODEL_07377b5371e7489cba645e32d955fe39",
       "IPY_MODEL_9da13b3945cc48fe9ed1ecd11ccd2d97",
       "IPY_MODEL_4e7e34eb2aa2485db5f4f9434e704e2b"
      ],
      "layout": "IPY_MODEL_cd70659960b94448930c63058158ace9"
     }
    },
    "21a3333f99f444afb8a4f8b82bbba4ea": {
     "model_module": "@jupyter-widgets/controls",
     "model_module_version": "1.5.0",
     "model_name": "HBoxModel",
     "state": {
      "_dom_classes": [],
      "_model_module": "@jupyter-widgets/controls",
      "_model_module_version": "1.5.0",
      "_model_name": "HBoxModel",
      "_view_count": null,
      "_view_module": "@jupyter-widgets/controls",
      "_view_module_version": "1.5.0",
      "_view_name": "HBoxView",
      "box_style": "",
      "children": [
       "IPY_MODEL_1da2e8ddeeb84998851b70208e7a39a5",
       "IPY_MODEL_4766ae97957f486a9749439ef8560cdd",
       "IPY_MODEL_e3924633f045407098f8e79c7c419f61"
      ],
      "layout": "IPY_MODEL_00e15afb909343c0bd5580a58fb0aeca"
     }
    },
    "21c4fed2661a43f1a56ab765c45ae979": {
     "model_module": "@jupyter-widgets/base",
     "model_module_version": "1.2.0",
     "model_name": "LayoutModel",
     "state": {
      "_model_module": "@jupyter-widgets/base",
      "_model_module_version": "1.2.0",
      "_model_name": "LayoutModel",
      "_view_count": null,
      "_view_module": "@jupyter-widgets/base",
      "_view_module_version": "1.2.0",
      "_view_name": "LayoutView",
      "align_content": null,
      "align_items": null,
      "align_self": null,
      "border": null,
      "bottom": null,
      "display": null,
      "flex": null,
      "flex_flow": null,
      "grid_area": null,
      "grid_auto_columns": null,
      "grid_auto_flow": null,
      "grid_auto_rows": null,
      "grid_column": null,
      "grid_gap": null,
      "grid_row": null,
      "grid_template_areas": null,
      "grid_template_columns": null,
      "grid_template_rows": null,
      "height": null,
      "justify_content": null,
      "justify_items": null,
      "left": null,
      "margin": null,
      "max_height": null,
      "max_width": null,
      "min_height": null,
      "min_width": null,
      "object_fit": null,
      "object_position": null,
      "order": null,
      "overflow": null,
      "overflow_x": null,
      "overflow_y": null,
      "padding": null,
      "right": null,
      "top": null,
      "visibility": null,
      "width": null
     }
    },
    "221672eec59e45a8a0ff95186e90189b": {
     "model_module": "@jupyter-widgets/base",
     "model_module_version": "1.2.0",
     "model_name": "LayoutModel",
     "state": {
      "_model_module": "@jupyter-widgets/base",
      "_model_module_version": "1.2.0",
      "_model_name": "LayoutModel",
      "_view_count": null,
      "_view_module": "@jupyter-widgets/base",
      "_view_module_version": "1.2.0",
      "_view_name": "LayoutView",
      "align_content": null,
      "align_items": null,
      "align_self": null,
      "border": null,
      "bottom": null,
      "display": null,
      "flex": null,
      "flex_flow": null,
      "grid_area": null,
      "grid_auto_columns": null,
      "grid_auto_flow": null,
      "grid_auto_rows": null,
      "grid_column": null,
      "grid_gap": null,
      "grid_row": null,
      "grid_template_areas": null,
      "grid_template_columns": null,
      "grid_template_rows": null,
      "height": null,
      "justify_content": null,
      "justify_items": null,
      "left": null,
      "margin": null,
      "max_height": null,
      "max_width": null,
      "min_height": null,
      "min_width": null,
      "object_fit": null,
      "object_position": null,
      "order": null,
      "overflow": null,
      "overflow_x": null,
      "overflow_y": null,
      "padding": null,
      "right": null,
      "top": null,
      "visibility": null,
      "width": null
     }
    },
    "25d4867eae194198a0b2402076a9b828": {
     "model_module": "@jupyter-widgets/controls",
     "model_module_version": "1.5.0",
     "model_name": "HTMLModel",
     "state": {
      "_dom_classes": [],
      "_model_module": "@jupyter-widgets/controls",
      "_model_module_version": "1.5.0",
      "_model_name": "HTMLModel",
      "_view_count": null,
      "_view_module": "@jupyter-widgets/controls",
      "_view_module_version": "1.5.0",
      "_view_name": "HTMLView",
      "description": "",
      "description_tooltip": null,
      "layout": "IPY_MODEL_2ce91020d8834b8d88699fc38a692f07",
      "placeholder": "​",
      "style": "IPY_MODEL_b0cc9cddb6e14f198321332da62b1ba4",
      "value": " 9761267/9761267 [02:26&lt;00:00, 65238.45 examples/s]"
     }
    },
    "2c0161221d6e441198a30cab93f227c3": {
     "model_module": "@jupyter-widgets/controls",
     "model_module_version": "1.5.0",
     "model_name": "DescriptionStyleModel",
     "state": {
      "_model_module": "@jupyter-widgets/controls",
      "_model_module_version": "1.5.0",
      "_model_name": "DescriptionStyleModel",
      "_view_count": null,
      "_view_module": "@jupyter-widgets/base",
      "_view_module_version": "1.2.0",
      "_view_name": "StyleView",
      "description_width": ""
     }
    },
    "2ce91020d8834b8d88699fc38a692f07": {
     "model_module": "@jupyter-widgets/base",
     "model_module_version": "1.2.0",
     "model_name": "LayoutModel",
     "state": {
      "_model_module": "@jupyter-widgets/base",
      "_model_module_version": "1.2.0",
      "_model_name": "LayoutModel",
      "_view_count": null,
      "_view_module": "@jupyter-widgets/base",
      "_view_module_version": "1.2.0",
      "_view_name": "LayoutView",
      "align_content": null,
      "align_items": null,
      "align_self": null,
      "border": null,
      "bottom": null,
      "display": null,
      "flex": null,
      "flex_flow": null,
      "grid_area": null,
      "grid_auto_columns": null,
      "grid_auto_flow": null,
      "grid_auto_rows": null,
      "grid_column": null,
      "grid_gap": null,
      "grid_row": null,
      "grid_template_areas": null,
      "grid_template_columns": null,
      "grid_template_rows": null,
      "height": null,
      "justify_content": null,
      "justify_items": null,
      "left": null,
      "margin": null,
      "max_height": null,
      "max_width": null,
      "min_height": null,
      "min_width": null,
      "object_fit": null,
      "object_position": null,
      "order": null,
      "overflow": null,
      "overflow_x": null,
      "overflow_y": null,
      "padding": null,
      "right": null,
      "top": null,
      "visibility": null,
      "width": null
     }
    },
    "2f6ad30fb3c5452b9736de95f8933bce": {
     "model_module": "@jupyter-widgets/controls",
     "model_module_version": "1.5.0",
     "model_name": "HBoxModel",
     "state": {
      "_dom_classes": [],
      "_model_module": "@jupyter-widgets/controls",
      "_model_module_version": "1.5.0",
      "_model_name": "HBoxModel",
      "_view_count": null,
      "_view_module": "@jupyter-widgets/controls",
      "_view_module_version": "1.5.0",
      "_view_name": "HBoxView",
      "box_style": "",
      "children": [
       "IPY_MODEL_43c28e7ae1c14a44aa83b73ee921cf25",
       "IPY_MODEL_fec558ceb67143068f2d7a07e06258e6",
       "IPY_MODEL_74c31538135a4e4c9d7d23d112a0cfa0"
      ],
      "layout": "IPY_MODEL_7453a7db0ec2433190fedbbe6f4c746d"
     }
    },
    "3fa7c7f8ab044c358166432f5c55642f": {
     "model_module": "@jupyter-widgets/base",
     "model_module_version": "1.2.0",
     "model_name": "LayoutModel",
     "state": {
      "_model_module": "@jupyter-widgets/base",
      "_model_module_version": "1.2.0",
      "_model_name": "LayoutModel",
      "_view_count": null,
      "_view_module": "@jupyter-widgets/base",
      "_view_module_version": "1.2.0",
      "_view_name": "LayoutView",
      "align_content": null,
      "align_items": null,
      "align_self": null,
      "border": null,
      "bottom": null,
      "display": null,
      "flex": null,
      "flex_flow": null,
      "grid_area": null,
      "grid_auto_columns": null,
      "grid_auto_flow": null,
      "grid_auto_rows": null,
      "grid_column": null,
      "grid_gap": null,
      "grid_row": null,
      "grid_template_areas": null,
      "grid_template_columns": null,
      "grid_template_rows": null,
      "height": null,
      "justify_content": null,
      "justify_items": null,
      "left": null,
      "margin": null,
      "max_height": null,
      "max_width": null,
      "min_height": null,
      "min_width": null,
      "object_fit": null,
      "object_position": null,
      "order": null,
      "overflow": null,
      "overflow_x": null,
      "overflow_y": null,
      "padding": null,
      "right": null,
      "top": null,
      "visibility": null,
      "width": null
     }
    },
    "43c28e7ae1c14a44aa83b73ee921cf25": {
     "model_module": "@jupyter-widgets/controls",
     "model_module_version": "1.5.0",
     "model_name": "HTMLModel",
     "state": {
      "_dom_classes": [],
      "_model_module": "@jupyter-widgets/controls",
      "_model_module_version": "1.5.0",
      "_model_name": "HTMLModel",
      "_view_count": null,
      "_view_module": "@jupyter-widgets/controls",
      "_view_module_version": "1.5.0",
      "_view_name": "HTMLView",
      "description": "",
      "description_tooltip": null,
      "layout": "IPY_MODEL_b9025a317b5b4402b766d9f5ddbbb2b2",
      "placeholder": "​",
      "style": "IPY_MODEL_61989154f6e7474a8dcbc8849474f56a",
      "value": "Filter: 100%"
     }
    },
    "46c4293be4f04fb6a259aabd58a952f8": {
     "model_module": "@jupyter-widgets/base",
     "model_module_version": "1.2.0",
     "model_name": "LayoutModel",
     "state": {
      "_model_module": "@jupyter-widgets/base",
      "_model_module_version": "1.2.0",
      "_model_name": "LayoutModel",
      "_view_count": null,
      "_view_module": "@jupyter-widgets/base",
      "_view_module_version": "1.2.0",
      "_view_name": "LayoutView",
      "align_content": null,
      "align_items": null,
      "align_self": null,
      "border": null,
      "bottom": null,
      "display": null,
      "flex": null,
      "flex_flow": null,
      "grid_area": null,
      "grid_auto_columns": null,
      "grid_auto_flow": null,
      "grid_auto_rows": null,
      "grid_column": null,
      "grid_gap": null,
      "grid_row": null,
      "grid_template_areas": null,
      "grid_template_columns": null,
      "grid_template_rows": null,
      "height": null,
      "justify_content": null,
      "justify_items": null,
      "left": null,
      "margin": null,
      "max_height": null,
      "max_width": null,
      "min_height": null,
      "min_width": null,
      "object_fit": null,
      "object_position": null,
      "order": null,
      "overflow": null,
      "overflow_x": null,
      "overflow_y": null,
      "padding": null,
      "right": null,
      "top": null,
      "visibility": null,
      "width": null
     }
    },
    "4766ae97957f486a9749439ef8560cdd": {
     "model_module": "@jupyter-widgets/controls",
     "model_module_version": "1.5.0",
     "model_name": "FloatProgressModel",
     "state": {
      "_dom_classes": [],
      "_model_module": "@jupyter-widgets/controls",
      "_model_module_version": "1.5.0",
      "_model_name": "FloatProgressModel",
      "_view_count": null,
      "_view_module": "@jupyter-widgets/controls",
      "_view_module_version": "1.5.0",
      "_view_name": "ProgressView",
      "bar_style": "success",
      "description": "",
      "description_tooltip": null,
      "layout": "IPY_MODEL_fe5978623a9549268b64d644ef6ab400",
      "max": 9761267,
      "min": 0,
      "orientation": "horizontal",
      "style": "IPY_MODEL_c6b66b9aeae54bf6ac72893eec44fa48",
      "value": 9761267
     }
    },
    "4c18505813814a64810bfbeef9986741": {
     "model_module": "@jupyter-widgets/base",
     "model_module_version": "1.2.0",
     "model_name": "LayoutModel",
     "state": {
      "_model_module": "@jupyter-widgets/base",
      "_model_module_version": "1.2.0",
      "_model_name": "LayoutModel",
      "_view_count": null,
      "_view_module": "@jupyter-widgets/base",
      "_view_module_version": "1.2.0",
      "_view_name": "LayoutView",
      "align_content": null,
      "align_items": null,
      "align_self": null,
      "border": null,
      "bottom": null,
      "display": null,
      "flex": null,
      "flex_flow": null,
      "grid_area": null,
      "grid_auto_columns": null,
      "grid_auto_flow": null,
      "grid_auto_rows": null,
      "grid_column": null,
      "grid_gap": null,
      "grid_row": null,
      "grid_template_areas": null,
      "grid_template_columns": null,
      "grid_template_rows": null,
      "height": null,
      "justify_content": null,
      "justify_items": null,
      "left": null,
      "margin": null,
      "max_height": null,
      "max_width": null,
      "min_height": null,
      "min_width": null,
      "object_fit": null,
      "object_position": null,
      "order": null,
      "overflow": null,
      "overflow_x": null,
      "overflow_y": null,
      "padding": null,
      "right": null,
      "top": null,
      "visibility": null,
      "width": null
     }
    },
    "4e7e34eb2aa2485db5f4f9434e704e2b": {
     "model_module": "@jupyter-widgets/controls",
     "model_module_version": "1.5.0",
     "model_name": "HTMLModel",
     "state": {
      "_dom_classes": [],
      "_model_module": "@jupyter-widgets/controls",
      "_model_module_version": "1.5.0",
      "_model_name": "HTMLModel",
      "_view_count": null,
      "_view_module": "@jupyter-widgets/controls",
      "_view_module_version": "1.5.0",
      "_view_name": "HTMLView",
      "description": "",
      "description_tooltip": null,
      "layout": "IPY_MODEL_e275e78371ad47c7a2d682b1a6f80b76",
      "placeholder": "​",
      "style": "IPY_MODEL_012d27483f074768bd69e4017383a011",
      "value": " 784/784 [00:00&lt;00:00, 69.9kB/s]"
     }
    },
    "531fa210fcc74105b753fb8adb870da3": {
     "model_module": "@jupyter-widgets/base",
     "model_module_version": "1.2.0",
     "model_name": "LayoutModel",
     "state": {
      "_model_module": "@jupyter-widgets/base",
      "_model_module_version": "1.2.0",
      "_model_name": "LayoutModel",
      "_view_count": null,
      "_view_module": "@jupyter-widgets/base",
      "_view_module_version": "1.2.0",
      "_view_name": "LayoutView",
      "align_content": null,
      "align_items": null,
      "align_self": null,
      "border": null,
      "bottom": null,
      "display": null,
      "flex": null,
      "flex_flow": null,
      "grid_area": null,
      "grid_auto_columns": null,
      "grid_auto_flow": null,
      "grid_auto_rows": null,
      "grid_column": null,
      "grid_gap": null,
      "grid_row": null,
      "grid_template_areas": null,
      "grid_template_columns": null,
      "grid_template_rows": null,
      "height": null,
      "justify_content": null,
      "justify_items": null,
      "left": null,
      "margin": null,
      "max_height": null,
      "max_width": null,
      "min_height": null,
      "min_width": null,
      "object_fit": null,
      "object_position": null,
      "order": null,
      "overflow": null,
      "overflow_x": null,
      "overflow_y": null,
      "padding": null,
      "right": null,
      "top": null,
      "visibility": null,
      "width": null
     }
    },
    "61989154f6e7474a8dcbc8849474f56a": {
     "model_module": "@jupyter-widgets/controls",
     "model_module_version": "1.5.0",
     "model_name": "DescriptionStyleModel",
     "state": {
      "_model_module": "@jupyter-widgets/controls",
      "_model_module_version": "1.5.0",
      "_model_name": "DescriptionStyleModel",
      "_view_count": null,
      "_view_module": "@jupyter-widgets/base",
      "_view_module_version": "1.2.0",
      "_view_name": "StyleView",
      "description_width": ""
     }
    },
    "6bad89144cb14a77ba129aab38f455ae": {
     "model_module": "@jupyter-widgets/base",
     "model_module_version": "1.2.0",
     "model_name": "LayoutModel",
     "state": {
      "_model_module": "@jupyter-widgets/base",
      "_model_module_version": "1.2.0",
      "_model_name": "LayoutModel",
      "_view_count": null,
      "_view_module": "@jupyter-widgets/base",
      "_view_module_version": "1.2.0",
      "_view_name": "LayoutView",
      "align_content": null,
      "align_items": null,
      "align_self": null,
      "border": null,
      "bottom": null,
      "display": null,
      "flex": null,
      "flex_flow": null,
      "grid_area": null,
      "grid_auto_columns": null,
      "grid_auto_flow": null,
      "grid_auto_rows": null,
      "grid_column": null,
      "grid_gap": null,
      "grid_row": null,
      "grid_template_areas": null,
      "grid_template_columns": null,
      "grid_template_rows": null,
      "height": null,
      "justify_content": null,
      "justify_items": null,
      "left": null,
      "margin": null,
      "max_height": null,
      "max_width": null,
      "min_height": null,
      "min_width": null,
      "object_fit": null,
      "object_position": null,
      "order": null,
      "overflow": null,
      "overflow_x": null,
      "overflow_y": null,
      "padding": null,
      "right": null,
      "top": null,
      "visibility": null,
      "width": null
     }
    },
    "701a68116de94886afeea16b637c5e6b": {
     "model_module": "@jupyter-widgets/base",
     "model_module_version": "1.2.0",
     "model_name": "LayoutModel",
     "state": {
      "_model_module": "@jupyter-widgets/base",
      "_model_module_version": "1.2.0",
      "_model_name": "LayoutModel",
      "_view_count": null,
      "_view_module": "@jupyter-widgets/base",
      "_view_module_version": "1.2.0",
      "_view_name": "LayoutView",
      "align_content": null,
      "align_items": null,
      "align_self": null,
      "border": null,
      "bottom": null,
      "display": null,
      "flex": null,
      "flex_flow": null,
      "grid_area": null,
      "grid_auto_columns": null,
      "grid_auto_flow": null,
      "grid_auto_rows": null,
      "grid_column": null,
      "grid_gap": null,
      "grid_row": null,
      "grid_template_areas": null,
      "grid_template_columns": null,
      "grid_template_rows": null,
      "height": null,
      "justify_content": null,
      "justify_items": null,
      "left": null,
      "margin": null,
      "max_height": null,
      "max_width": null,
      "min_height": null,
      "min_width": null,
      "object_fit": null,
      "object_position": null,
      "order": null,
      "overflow": null,
      "overflow_x": null,
      "overflow_y": null,
      "padding": null,
      "right": null,
      "top": null,
      "visibility": null,
      "width": null
     }
    },
    "71633234d48d4ed7b126a6ed4b3b599c": {
     "model_module": "@jupyter-widgets/controls",
     "model_module_version": "1.5.0",
     "model_name": "DescriptionStyleModel",
     "state": {
      "_model_module": "@jupyter-widgets/controls",
      "_model_module_version": "1.5.0",
      "_model_name": "DescriptionStyleModel",
      "_view_count": null,
      "_view_module": "@jupyter-widgets/base",
      "_view_module_version": "1.2.0",
      "_view_name": "StyleView",
      "description_width": ""
     }
    },
    "7453a7db0ec2433190fedbbe6f4c746d": {
     "model_module": "@jupyter-widgets/base",
     "model_module_version": "1.2.0",
     "model_name": "LayoutModel",
     "state": {
      "_model_module": "@jupyter-widgets/base",
      "_model_module_version": "1.2.0",
      "_model_name": "LayoutModel",
      "_view_count": null,
      "_view_module": "@jupyter-widgets/base",
      "_view_module_version": "1.2.0",
      "_view_name": "LayoutView",
      "align_content": null,
      "align_items": null,
      "align_self": null,
      "border": null,
      "bottom": null,
      "display": null,
      "flex": null,
      "flex_flow": null,
      "grid_area": null,
      "grid_auto_columns": null,
      "grid_auto_flow": null,
      "grid_auto_rows": null,
      "grid_column": null,
      "grid_gap": null,
      "grid_row": null,
      "grid_template_areas": null,
      "grid_template_columns": null,
      "grid_template_rows": null,
      "height": null,
      "justify_content": null,
      "justify_items": null,
      "left": null,
      "margin": null,
      "max_height": null,
      "max_width": null,
      "min_height": null,
      "min_width": null,
      "object_fit": null,
      "object_position": null,
      "order": null,
      "overflow": null,
      "overflow_x": null,
      "overflow_y": null,
      "padding": null,
      "right": null,
      "top": null,
      "visibility": null,
      "width": null
     }
    },
    "7498e1d85a60419da550630092cf905b": {
     "model_module": "@jupyter-widgets/controls",
     "model_module_version": "1.5.0",
     "model_name": "HTMLModel",
     "state": {
      "_dom_classes": [],
      "_model_module": "@jupyter-widgets/controls",
      "_model_module_version": "1.5.0",
      "_model_name": "HTMLModel",
      "_view_count": null,
      "_view_module": "@jupyter-widgets/controls",
      "_view_module_version": "1.5.0",
      "_view_name": "HTMLView",
      "description": "",
      "description_tooltip": null,
      "layout": "IPY_MODEL_3fa7c7f8ab044c358166432f5c55642f",
      "placeholder": "​",
      "style": "IPY_MODEL_2c0161221d6e441198a30cab93f227c3",
      "value": "pytorch_model.bin: 100%"
     }
    },
    "74c31538135a4e4c9d7d23d112a0cfa0": {
     "model_module": "@jupyter-widgets/controls",
     "model_module_version": "1.5.0",
     "model_name": "HTMLModel",
     "state": {
      "_dom_classes": [],
      "_model_module": "@jupyter-widgets/controls",
      "_model_module_version": "1.5.0",
      "_model_name": "HTMLModel",
      "_view_count": null,
      "_view_module": "@jupyter-widgets/controls",
      "_view_module_version": "1.5.0",
      "_view_name": "HTMLView",
      "description": "",
      "description_tooltip": null,
      "layout": "IPY_MODEL_e82cd9242007446a91602aba9f5dc63c",
      "placeholder": "​",
      "style": "IPY_MODEL_e49605d41988446e9544c8a1f6d7a06c",
      "value": " 9761267/9761267 [02:44&lt;00:00, 58718.10 examples/s]"
     }
    },
    "7629b6c1f78b4f64be614403c170f412": {
     "model_module": "@jupyter-widgets/controls",
     "model_module_version": "1.5.0",
     "model_name": "FloatProgressModel",
     "state": {
      "_dom_classes": [],
      "_model_module": "@jupyter-widgets/controls",
      "_model_module_version": "1.5.0",
      "_model_name": "FloatProgressModel",
      "_view_count": null,
      "_view_module": "@jupyter-widgets/controls",
      "_view_module_version": "1.5.0",
      "_view_name": "ProgressView",
      "bar_style": "success",
      "description": "",
      "description_tooltip": null,
      "layout": "IPY_MODEL_46c4293be4f04fb6a259aabd58a952f8",
      "max": 9761267,
      "min": 0,
      "orientation": "horizontal",
      "style": "IPY_MODEL_0b90c8ccb877444088da9d9db6042afc",
      "value": 9761267
     }
    },
    "82e528a86d7e4f479f99b1f9caa1619b": {
     "model_module": "@jupyter-widgets/controls",
     "model_module_version": "1.5.0",
     "model_name": "HTMLModel",
     "state": {
      "_dom_classes": [],
      "_model_module": "@jupyter-widgets/controls",
      "_model_module_version": "1.5.0",
      "_model_name": "HTMLModel",
      "_view_count": null,
      "_view_module": "@jupyter-widgets/controls",
      "_view_module_version": "1.5.0",
      "_view_name": "HTMLView",
      "description": "",
      "description_tooltip": null,
      "layout": "IPY_MODEL_6bad89144cb14a77ba129aab38f455ae",
      "placeholder": "​",
      "style": "IPY_MODEL_e18b4e814daf45e78f4dccf1c2a13c6b",
      "value": "Filter: 100%"
     }
    },
    "901d799c96464905bc4d5a6940d4e0e0": {
     "model_module": "@jupyter-widgets/controls",
     "model_module_version": "1.5.0",
     "model_name": "FloatProgressModel",
     "state": {
      "_dom_classes": [],
      "_model_module": "@jupyter-widgets/controls",
      "_model_module_version": "1.5.0",
      "_model_name": "FloatProgressModel",
      "_view_count": null,
      "_view_module": "@jupyter-widgets/controls",
      "_view_module_version": "1.5.0",
      "_view_name": "ProgressView",
      "bar_style": "success",
      "description": "",
      "description_tooltip": null,
      "layout": "IPY_MODEL_b91e2ad1ef914314a161357e9a350db3",
      "max": 343063273,
      "min": 0,
      "orientation": "horizontal",
      "style": "IPY_MODEL_1d083f716ae24d4c90a44363c117cf51",
      "value": 343063273
     }
    },
    "99a5fd00e9c441b698bbedfce5a62435": {
     "model_module": "@jupyter-widgets/controls",
     "model_module_version": "1.5.0",
     "model_name": "DescriptionStyleModel",
     "state": {
      "_model_module": "@jupyter-widgets/controls",
      "_model_module_version": "1.5.0",
      "_model_name": "DescriptionStyleModel",
      "_view_count": null,
      "_view_module": "@jupyter-widgets/base",
      "_view_module_version": "1.2.0",
      "_view_name": "StyleView",
      "description_width": ""
     }
    },
    "9a1b2cb746b44121a9b2ae05fcea31d4": {
     "model_module": "@jupyter-widgets/controls",
     "model_module_version": "1.5.0",
     "model_name": "HTMLModel",
     "state": {
      "_dom_classes": [],
      "_model_module": "@jupyter-widgets/controls",
      "_model_module_version": "1.5.0",
      "_model_name": "HTMLModel",
      "_view_count": null,
      "_view_module": "@jupyter-widgets/controls",
      "_view_module_version": "1.5.0",
      "_view_name": "HTMLView",
      "description": "",
      "description_tooltip": null,
      "layout": "IPY_MODEL_f1e286ad3c3a44aea02a4a8f38fbb458",
      "placeholder": "​",
      "style": "IPY_MODEL_99a5fd00e9c441b698bbedfce5a62435",
      "value": " 343M/343M [00:26&lt;00:00, 11.4MB/s]"
     }
    },
    "9cf729509177481e96d000fea80419c6": {
     "model_module": "@jupyter-widgets/controls",
     "model_module_version": "1.5.0",
     "model_name": "ProgressStyleModel",
     "state": {
      "_model_module": "@jupyter-widgets/controls",
      "_model_module_version": "1.5.0",
      "_model_name": "ProgressStyleModel",
      "_view_count": null,
      "_view_module": "@jupyter-widgets/base",
      "_view_module_version": "1.2.0",
      "_view_name": "StyleView",
      "bar_color": null,
      "description_width": ""
     }
    },
    "9da13b3945cc48fe9ed1ecd11ccd2d97": {
     "model_module": "@jupyter-widgets/controls",
     "model_module_version": "1.5.0",
     "model_name": "FloatProgressModel",
     "state": {
      "_dom_classes": [],
      "_model_module": "@jupyter-widgets/controls",
      "_model_module_version": "1.5.0",
      "_model_name": "FloatProgressModel",
      "_view_count": null,
      "_view_module": "@jupyter-widgets/controls",
      "_view_module_version": "1.5.0",
      "_view_name": "ProgressView",
      "bar_style": "success",
      "description": "",
      "description_tooltip": null,
      "layout": "IPY_MODEL_4c18505813814a64810bfbeef9986741",
      "max": 784,
      "min": 0,
      "orientation": "horizontal",
      "style": "IPY_MODEL_9cf729509177481e96d000fea80419c6",
      "value": 784
     }
    },
    "b0cc9cddb6e14f198321332da62b1ba4": {
     "model_module": "@jupyter-widgets/controls",
     "model_module_version": "1.5.0",
     "model_name": "DescriptionStyleModel",
     "state": {
      "_model_module": "@jupyter-widgets/controls",
      "_model_module_version": "1.5.0",
      "_model_name": "DescriptionStyleModel",
      "_view_count": null,
      "_view_module": "@jupyter-widgets/base",
      "_view_module_version": "1.2.0",
      "_view_name": "StyleView",
      "description_width": ""
     }
    },
    "b29922a7755a43b6930c5efed0029f59": {
     "model_module": "@jupyter-widgets/controls",
     "model_module_version": "1.5.0",
     "model_name": "ProgressStyleModel",
     "state": {
      "_model_module": "@jupyter-widgets/controls",
      "_model_module_version": "1.5.0",
      "_model_name": "ProgressStyleModel",
      "_view_count": null,
      "_view_module": "@jupyter-widgets/base",
      "_view_module_version": "1.2.0",
      "_view_name": "StyleView",
      "bar_color": null,
      "description_width": ""
     }
    },
    "b9025a317b5b4402b766d9f5ddbbb2b2": {
     "model_module": "@jupyter-widgets/base",
     "model_module_version": "1.2.0",
     "model_name": "LayoutModel",
     "state": {
      "_model_module": "@jupyter-widgets/base",
      "_model_module_version": "1.2.0",
      "_model_name": "LayoutModel",
      "_view_count": null,
      "_view_module": "@jupyter-widgets/base",
      "_view_module_version": "1.2.0",
      "_view_name": "LayoutView",
      "align_content": null,
      "align_items": null,
      "align_self": null,
      "border": null,
      "bottom": null,
      "display": null,
      "flex": null,
      "flex_flow": null,
      "grid_area": null,
      "grid_auto_columns": null,
      "grid_auto_flow": null,
      "grid_auto_rows": null,
      "grid_column": null,
      "grid_gap": null,
      "grid_row": null,
      "grid_template_areas": null,
      "grid_template_columns": null,
      "grid_template_rows": null,
      "height": null,
      "justify_content": null,
      "justify_items": null,
      "left": null,
      "margin": null,
      "max_height": null,
      "max_width": null,
      "min_height": null,
      "min_width": null,
      "object_fit": null,
      "object_position": null,
      "order": null,
      "overflow": null,
      "overflow_x": null,
      "overflow_y": null,
      "padding": null,
      "right": null,
      "top": null,
      "visibility": null,
      "width": null
     }
    },
    "b91e2ad1ef914314a161357e9a350db3": {
     "model_module": "@jupyter-widgets/base",
     "model_module_version": "1.2.0",
     "model_name": "LayoutModel",
     "state": {
      "_model_module": "@jupyter-widgets/base",
      "_model_module_version": "1.2.0",
      "_model_name": "LayoutModel",
      "_view_count": null,
      "_view_module": "@jupyter-widgets/base",
      "_view_module_version": "1.2.0",
      "_view_name": "LayoutView",
      "align_content": null,
      "align_items": null,
      "align_self": null,
      "border": null,
      "bottom": null,
      "display": null,
      "flex": null,
      "flex_flow": null,
      "grid_area": null,
      "grid_auto_columns": null,
      "grid_auto_flow": null,
      "grid_auto_rows": null,
      "grid_column": null,
      "grid_gap": null,
      "grid_row": null,
      "grid_template_areas": null,
      "grid_template_columns": null,
      "grid_template_rows": null,
      "height": null,
      "justify_content": null,
      "justify_items": null,
      "left": null,
      "margin": null,
      "max_height": null,
      "max_width": null,
      "min_height": null,
      "min_width": null,
      "object_fit": null,
      "object_position": null,
      "order": null,
      "overflow": null,
      "overflow_x": null,
      "overflow_y": null,
      "padding": null,
      "right": null,
      "top": null,
      "visibility": null,
      "width": null
     }
    },
    "bffb7d6280864246af0de6179d6c2c1c": {
     "model_module": "@jupyter-widgets/controls",
     "model_module_version": "1.5.0",
     "model_name": "DescriptionStyleModel",
     "state": {
      "_model_module": "@jupyter-widgets/controls",
      "_model_module_version": "1.5.0",
      "_model_name": "DescriptionStyleModel",
      "_view_count": null,
      "_view_module": "@jupyter-widgets/base",
      "_view_module_version": "1.2.0",
      "_view_name": "StyleView",
      "description_width": ""
     }
    },
    "c6b66b9aeae54bf6ac72893eec44fa48": {
     "model_module": "@jupyter-widgets/controls",
     "model_module_version": "1.5.0",
     "model_name": "ProgressStyleModel",
     "state": {
      "_model_module": "@jupyter-widgets/controls",
      "_model_module_version": "1.5.0",
      "_model_name": "ProgressStyleModel",
      "_view_count": null,
      "_view_module": "@jupyter-widgets/base",
      "_view_module_version": "1.2.0",
      "_view_name": "StyleView",
      "bar_color": null,
      "description_width": ""
     }
    },
    "cd70659960b94448930c63058158ace9": {
     "model_module": "@jupyter-widgets/base",
     "model_module_version": "1.2.0",
     "model_name": "LayoutModel",
     "state": {
      "_model_module": "@jupyter-widgets/base",
      "_model_module_version": "1.2.0",
      "_model_name": "LayoutModel",
      "_view_count": null,
      "_view_module": "@jupyter-widgets/base",
      "_view_module_version": "1.2.0",
      "_view_name": "LayoutView",
      "align_content": null,
      "align_items": null,
      "align_self": null,
      "border": null,
      "bottom": null,
      "display": null,
      "flex": null,
      "flex_flow": null,
      "grid_area": null,
      "grid_auto_columns": null,
      "grid_auto_flow": null,
      "grid_auto_rows": null,
      "grid_column": null,
      "grid_gap": null,
      "grid_row": null,
      "grid_template_areas": null,
      "grid_template_columns": null,
      "grid_template_rows": null,
      "height": null,
      "justify_content": null,
      "justify_items": null,
      "left": null,
      "margin": null,
      "max_height": null,
      "max_width": null,
      "min_height": null,
      "min_width": null,
      "object_fit": null,
      "object_position": null,
      "order": null,
      "overflow": null,
      "overflow_x": null,
      "overflow_y": null,
      "padding": null,
      "right": null,
      "top": null,
      "visibility": null,
      "width": null
     }
    },
    "ddf102151bfc420e98bbde067dc7c372": {
     "model_module": "@jupyter-widgets/controls",
     "model_module_version": "1.5.0",
     "model_name": "HBoxModel",
     "state": {
      "_dom_classes": [],
      "_model_module": "@jupyter-widgets/controls",
      "_model_module_version": "1.5.0",
      "_model_name": "HBoxModel",
      "_view_count": null,
      "_view_module": "@jupyter-widgets/controls",
      "_view_module_version": "1.5.0",
      "_view_name": "HBoxView",
      "box_style": "",
      "children": [
       "IPY_MODEL_7498e1d85a60419da550630092cf905b",
       "IPY_MODEL_901d799c96464905bc4d5a6940d4e0e0",
       "IPY_MODEL_9a1b2cb746b44121a9b2ae05fcea31d4"
      ],
      "layout": "IPY_MODEL_0410163023af47cd9304f250cf0d32f2"
     }
    },
    "e18b4e814daf45e78f4dccf1c2a13c6b": {
     "model_module": "@jupyter-widgets/controls",
     "model_module_version": "1.5.0",
     "model_name": "DescriptionStyleModel",
     "state": {
      "_model_module": "@jupyter-widgets/controls",
      "_model_module_version": "1.5.0",
      "_model_name": "DescriptionStyleModel",
      "_view_count": null,
      "_view_module": "@jupyter-widgets/base",
      "_view_module_version": "1.2.0",
      "_view_name": "StyleView",
      "description_width": ""
     }
    },
    "e275e78371ad47c7a2d682b1a6f80b76": {
     "model_module": "@jupyter-widgets/base",
     "model_module_version": "1.2.0",
     "model_name": "LayoutModel",
     "state": {
      "_model_module": "@jupyter-widgets/base",
      "_model_module_version": "1.2.0",
      "_model_name": "LayoutModel",
      "_view_count": null,
      "_view_module": "@jupyter-widgets/base",
      "_view_module_version": "1.2.0",
      "_view_name": "LayoutView",
      "align_content": null,
      "align_items": null,
      "align_self": null,
      "border": null,
      "bottom": null,
      "display": null,
      "flex": null,
      "flex_flow": null,
      "grid_area": null,
      "grid_auto_columns": null,
      "grid_auto_flow": null,
      "grid_auto_rows": null,
      "grid_column": null,
      "grid_gap": null,
      "grid_row": null,
      "grid_template_areas": null,
      "grid_template_columns": null,
      "grid_template_rows": null,
      "height": null,
      "justify_content": null,
      "justify_items": null,
      "left": null,
      "margin": null,
      "max_height": null,
      "max_width": null,
      "min_height": null,
      "min_width": null,
      "object_fit": null,
      "object_position": null,
      "order": null,
      "overflow": null,
      "overflow_x": null,
      "overflow_y": null,
      "padding": null,
      "right": null,
      "top": null,
      "visibility": null,
      "width": null
     }
    },
    "e3924633f045407098f8e79c7c419f61": {
     "model_module": "@jupyter-widgets/controls",
     "model_module_version": "1.5.0",
     "model_name": "HTMLModel",
     "state": {
      "_dom_classes": [],
      "_model_module": "@jupyter-widgets/controls",
      "_model_module_version": "1.5.0",
      "_model_name": "HTMLModel",
      "_view_count": null,
      "_view_module": "@jupyter-widgets/controls",
      "_view_module_version": "1.5.0",
      "_view_name": "HTMLView",
      "description": "",
      "description_tooltip": null,
      "layout": "IPY_MODEL_701a68116de94886afeea16b637c5e6b",
      "placeholder": "​",
      "style": "IPY_MODEL_171406a5ab004c90bd7471ab8c060d0a",
      "value": " 9761267/9761267 [02:30&lt;00:00, 64612.65 examples/s]"
     }
    },
    "e49605d41988446e9544c8a1f6d7a06c": {
     "model_module": "@jupyter-widgets/controls",
     "model_module_version": "1.5.0",
     "model_name": "DescriptionStyleModel",
     "state": {
      "_model_module": "@jupyter-widgets/controls",
      "_model_module_version": "1.5.0",
      "_model_name": "DescriptionStyleModel",
      "_view_count": null,
      "_view_module": "@jupyter-widgets/base",
      "_view_module_version": "1.2.0",
      "_view_name": "StyleView",
      "description_width": ""
     }
    },
    "e82cd9242007446a91602aba9f5dc63c": {
     "model_module": "@jupyter-widgets/base",
     "model_module_version": "1.2.0",
     "model_name": "LayoutModel",
     "state": {
      "_model_module": "@jupyter-widgets/base",
      "_model_module_version": "1.2.0",
      "_model_name": "LayoutModel",
      "_view_count": null,
      "_view_module": "@jupyter-widgets/base",
      "_view_module_version": "1.2.0",
      "_view_name": "LayoutView",
      "align_content": null,
      "align_items": null,
      "align_self": null,
      "border": null,
      "bottom": null,
      "display": null,
      "flex": null,
      "flex_flow": null,
      "grid_area": null,
      "grid_auto_columns": null,
      "grid_auto_flow": null,
      "grid_auto_rows": null,
      "grid_column": null,
      "grid_gap": null,
      "grid_row": null,
      "grid_template_areas": null,
      "grid_template_columns": null,
      "grid_template_rows": null,
      "height": null,
      "justify_content": null,
      "justify_items": null,
      "left": null,
      "margin": null,
      "max_height": null,
      "max_width": null,
      "min_height": null,
      "min_width": null,
      "object_fit": null,
      "object_position": null,
      "order": null,
      "overflow": null,
      "overflow_x": null,
      "overflow_y": null,
      "padding": null,
      "right": null,
      "top": null,
      "visibility": null,
      "width": null
     }
    },
    "f1e286ad3c3a44aea02a4a8f38fbb458": {
     "model_module": "@jupyter-widgets/base",
     "model_module_version": "1.2.0",
     "model_name": "LayoutModel",
     "state": {
      "_model_module": "@jupyter-widgets/base",
      "_model_module_version": "1.2.0",
      "_model_name": "LayoutModel",
      "_view_count": null,
      "_view_module": "@jupyter-widgets/base",
      "_view_module_version": "1.2.0",
      "_view_name": "LayoutView",
      "align_content": null,
      "align_items": null,
      "align_self": null,
      "border": null,
      "bottom": null,
      "display": null,
      "flex": null,
      "flex_flow": null,
      "grid_area": null,
      "grid_auto_columns": null,
      "grid_auto_flow": null,
      "grid_auto_rows": null,
      "grid_column": null,
      "grid_gap": null,
      "grid_row": null,
      "grid_template_areas": null,
      "grid_template_columns": null,
      "grid_template_rows": null,
      "height": null,
      "justify_content": null,
      "justify_items": null,
      "left": null,
      "margin": null,
      "max_height": null,
      "max_width": null,
      "min_height": null,
      "min_width": null,
      "object_fit": null,
      "object_position": null,
      "order": null,
      "overflow": null,
      "overflow_x": null,
      "overflow_y": null,
      "padding": null,
      "right": null,
      "top": null,
      "visibility": null,
      "width": null
     }
    },
    "fe5978623a9549268b64d644ef6ab400": {
     "model_module": "@jupyter-widgets/base",
     "model_module_version": "1.2.0",
     "model_name": "LayoutModel",
     "state": {
      "_model_module": "@jupyter-widgets/base",
      "_model_module_version": "1.2.0",
      "_model_name": "LayoutModel",
      "_view_count": null,
      "_view_module": "@jupyter-widgets/base",
      "_view_module_version": "1.2.0",
      "_view_name": "LayoutView",
      "align_content": null,
      "align_items": null,
      "align_self": null,
      "border": null,
      "bottom": null,
      "display": null,
      "flex": null,
      "flex_flow": null,
      "grid_area": null,
      "grid_auto_columns": null,
      "grid_auto_flow": null,
      "grid_auto_rows": null,
      "grid_column": null,
      "grid_gap": null,
      "grid_row": null,
      "grid_template_areas": null,
      "grid_template_columns": null,
      "grid_template_rows": null,
      "height": null,
      "justify_content": null,
      "justify_items": null,
      "left": null,
      "margin": null,
      "max_height": null,
      "max_width": null,
      "min_height": null,
      "min_width": null,
      "object_fit": null,
      "object_position": null,
      "order": null,
      "overflow": null,
      "overflow_x": null,
      "overflow_y": null,
      "padding": null,
      "right": null,
      "top": null,
      "visibility": null,
      "width": null
     }
    },
    "fec558ceb67143068f2d7a07e06258e6": {
     "model_module": "@jupyter-widgets/controls",
     "model_module_version": "1.5.0",
     "model_name": "FloatProgressModel",
     "state": {
      "_dom_classes": [],
      "_model_module": "@jupyter-widgets/controls",
      "_model_module_version": "1.5.0",
      "_model_name": "FloatProgressModel",
      "_view_count": null,
      "_view_module": "@jupyter-widgets/controls",
      "_view_module_version": "1.5.0",
      "_view_name": "ProgressView",
      "bar_style": "success",
      "description": "",
      "description_tooltip": null,
      "layout": "IPY_MODEL_221672eec59e45a8a0ff95186e90189b",
      "max": 9761267,
      "min": 0,
      "orientation": "horizontal",
      "style": "IPY_MODEL_b29922a7755a43b6930c5efed0029f59",
      "value": 9761267
     }
    }
   }
  }
 },
 "nbformat": 4,
 "nbformat_minor": 4
}
