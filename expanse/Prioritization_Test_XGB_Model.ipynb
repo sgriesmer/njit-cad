{
 "cells": [
  {
   "cell_type": "markdown",
   "id": "5464fc2b-9cd7-4fd8-98a6-4b8f43e3ad34",
   "metadata": {
    "id": "dfoAktdfUsl1"
   },
   "source": [
    "## Installation"
   ]
  },
  {
   "cell_type": "markdown",
   "id": "4479e1c6-847c-4309-a11f-b28f25a49d8d",
   "metadata": {
    "id": "nSKLjlh-HmIi"
   },
   "source": [
    "Installing Bio, transformers, genomic-benchmarks, and datasets packages.  The Bio package is from Biopython; transformers package for machine learning (pytorch, tensorflow); genomic-benchmarks and datasets from ML-Bioinfo-CEITEC.\n"
   ]
  },
  {
   "cell_type": "code",
   "execution_count": null,
   "id": "da3e4a35-1bd2-494f-94b3-3dea8b471930",
   "metadata": {
    "colab": {
     "base_uri": "https://localhost:8080/"
    },
    "id": "vTrn2sqTOGNV",
    "outputId": "bc84cc59-887a-417b-b905-75bb4123b63d"
   },
   "outputs": [],
   "source": [
    "# already set up on Expanse; toggle for colab\n",
    "\n",
    "# pip install -qq Bio transformers genomic-benchmarks datasets transformers[torch] pyfaidx"
   ]
  },
  {
   "cell_type": "markdown",
   "id": "bc6e69c0-d7df-43fe-9b6f-ed87fc9aa763",
   "metadata": {},
   "source": [
    "Set path prefix for Expanse"
   ]
  },
  {
   "cell_type": "code",
   "execution_count": 1,
   "id": "36d4362c-c4b3-4caf-a7a4-d342528278dc",
   "metadata": {},
   "outputs": [],
   "source": [
    "path_prefix = \"/expanse/lustre/projects/nji102/sgriesmer/\""
   ]
  },
  {
   "cell_type": "markdown",
   "id": "0db717fd-54ae-42f2-a5ee-d2b4dad218f6",
   "metadata": {
    "id": "i2DqTmk9asRO"
   },
   "source": [
    "Import SNP datasets"
   ]
  },
  {
   "cell_type": "code",
   "execution_count": 2,
   "id": "f0324ff2-5351-49c6-be86-7a5e99193448",
   "metadata": {},
   "outputs": [
    {
     "name": "stderr",
     "output_type": "stream",
     "text": [
      "/cm/shared/apps/spack/0.17.3/cpu/b/opt/spack/linux-rocky8-zen/gcc-8.5.0/anaconda3-2021.05-q4munrgvh7qp4o7r3nzcdkbuph4z7375/lib/python3.8/site-packages/scipy/__init__.py:138: UserWarning: A NumPy version >=1.16.5 and <1.23.0 is required for this version of SciPy (detected version 1.24.4)\n",
      "  warnings.warn(f\"A NumPy version >={np_minversion} and <{np_maxversion} is required for this version of \"\n"
     ]
    }
   ],
   "source": [
    "from joblib import dump, load\n",
    "\n",
    "# model name is \"REG_all\", \"PAT_all\", \"CAN_all\", \"REG_default\", \"PAT_default\", or \"CAN_default\"\n",
    "model_name = \"PAT_all\"\n",
    "\n",
    "test_estimator = load('/expanse/lustre/projects/nji102/sgriesmer/DNABERT_2/Output_Models/model_xpg_boost_PRVCS_' + model_name + '.joblib')"
   ]
  },
  {
   "cell_type": "code",
   "execution_count": 3,
   "id": "b2ea3eea-fea1-4cfd-8c81-87e4b4514d95",
   "metadata": {},
   "outputs": [],
   "source": [
    "# Load Rate_Patho dataset"
   ]
  },
  {
   "cell_type": "code",
   "execution_count": 4,
   "id": "ce5d8175-c0ff-42e2-8a8a-63f3ac4c4754",
   "metadata": {},
   "outputs": [],
   "source": [
    "import pandas as pd\n",
    "\n",
    "path_prefix = \"/expanse/lustre/projects/nji102/sgriesmer/\"\n",
    "\n",
    "RARPAT_abs_diff_plus_log_odds_scores_norm = pd.read_csv(path_prefix + \"DNABERT_2/output/RARPAT_0_102-abs_diff_plus_log_odds_scores_norm_results_by_variant.csv\", sep=',')"
   ]
  },
  {
   "cell_type": "code",
   "execution_count": 5,
   "id": "5c06c0db-aee2-4633-88d1-b680e500168a",
   "metadata": {},
   "outputs": [
    {
     "data": {
      "text/plain": [
       "(102, 1380)"
      ]
     },
     "execution_count": 5,
     "metadata": {},
     "output_type": "execute_result"
    }
   ],
   "source": [
    "RARPAT_abs_diff_plus_log_odds_scores_norm.shape"
   ]
  },
  {
   "cell_type": "code",
   "execution_count": 6,
   "id": "64be8f8b-8150-42f2-af67-8094c127e011",
   "metadata": {},
   "outputs": [],
   "source": [
    "# Set model names to numbers"
   ]
  },
  {
   "cell_type": "code",
   "execution_count": 7,
   "id": "07f8e330-9ae9-451e-8396-e577c78bd8a1",
   "metadata": {},
   "outputs": [],
   "source": [
    "col_lab = list(range(0,1380))\n",
    "RARPAT_abs_diff_plus_log_odds_scores_norm = RARPAT_abs_diff_plus_log_odds_scores_norm.set_axis(col_lab, axis=\"columns\")"
   ]
  },
  {
   "cell_type": "code",
   "execution_count": 8,
   "id": "eceb2c39-efe2-4997-9ed9-4c8e445a2b70",
   "metadata": {},
   "outputs": [
    {
     "data": {
      "text/html": [
       "<div>\n",
       "<style scoped>\n",
       "    .dataframe tbody tr th:only-of-type {\n",
       "        vertical-align: middle;\n",
       "    }\n",
       "\n",
       "    .dataframe tbody tr th {\n",
       "        vertical-align: top;\n",
       "    }\n",
       "\n",
       "    .dataframe thead th {\n",
       "        text-align: right;\n",
       "    }\n",
       "</style>\n",
       "<table border=\"1\" class=\"dataframe\">\n",
       "  <thead>\n",
       "    <tr style=\"text-align: right;\">\n",
       "      <th></th>\n",
       "      <th>0</th>\n",
       "      <th>1</th>\n",
       "      <th>2</th>\n",
       "      <th>3</th>\n",
       "      <th>4</th>\n",
       "      <th>5</th>\n",
       "      <th>6</th>\n",
       "      <th>7</th>\n",
       "      <th>8</th>\n",
       "      <th>9</th>\n",
       "      <th>...</th>\n",
       "      <th>1370</th>\n",
       "      <th>1371</th>\n",
       "      <th>1372</th>\n",
       "      <th>1373</th>\n",
       "      <th>1374</th>\n",
       "      <th>1375</th>\n",
       "      <th>1376</th>\n",
       "      <th>1377</th>\n",
       "      <th>1378</th>\n",
       "      <th>1379</th>\n",
       "    </tr>\n",
       "  </thead>\n",
       "  <tbody>\n",
       "    <tr>\n",
       "      <th>0</th>\n",
       "      <td>-0.206538</td>\n",
       "      <td>2.906377</td>\n",
       "      <td>-0.170420</td>\n",
       "      <td>0.426654</td>\n",
       "      <td>4.482777</td>\n",
       "      <td>-0.250790</td>\n",
       "      <td>-0.309892</td>\n",
       "      <td>-0.490882</td>\n",
       "      <td>1.445626</td>\n",
       "      <td>-0.223756</td>\n",
       "      <td>...</td>\n",
       "      <td>-0.292526</td>\n",
       "      <td>-0.281652</td>\n",
       "      <td>-0.167682</td>\n",
       "      <td>-0.233516</td>\n",
       "      <td>-0.345971</td>\n",
       "      <td>-0.380637</td>\n",
       "      <td>-0.121216</td>\n",
       "      <td>-0.384348</td>\n",
       "      <td>-0.293211</td>\n",
       "      <td>-0.380950</td>\n",
       "    </tr>\n",
       "    <tr>\n",
       "      <th>1</th>\n",
       "      <td>-0.199992</td>\n",
       "      <td>-0.375900</td>\n",
       "      <td>-0.181145</td>\n",
       "      <td>0.090514</td>\n",
       "      <td>-0.511342</td>\n",
       "      <td>-0.245346</td>\n",
       "      <td>-0.315248</td>\n",
       "      <td>-0.518109</td>\n",
       "      <td>-0.447039</td>\n",
       "      <td>-0.203248</td>\n",
       "      <td>...</td>\n",
       "      <td>-0.375940</td>\n",
       "      <td>-0.288418</td>\n",
       "      <td>-0.374367</td>\n",
       "      <td>-0.217801</td>\n",
       "      <td>0.005478</td>\n",
       "      <td>-0.285432</td>\n",
       "      <td>-0.564576</td>\n",
       "      <td>-0.375864</td>\n",
       "      <td>-0.276490</td>\n",
       "      <td>-0.429664</td>\n",
       "    </tr>\n",
       "    <tr>\n",
       "      <th>2</th>\n",
       "      <td>-0.206664</td>\n",
       "      <td>-0.596656</td>\n",
       "      <td>0.064562</td>\n",
       "      <td>-0.834445</td>\n",
       "      <td>-0.511587</td>\n",
       "      <td>-0.200498</td>\n",
       "      <td>-0.315569</td>\n",
       "      <td>-0.146835</td>\n",
       "      <td>-0.445965</td>\n",
       "      <td>-0.220517</td>\n",
       "      <td>...</td>\n",
       "      <td>-0.370802</td>\n",
       "      <td>0.187261</td>\n",
       "      <td>-0.351366</td>\n",
       "      <td>0.206297</td>\n",
       "      <td>0.588175</td>\n",
       "      <td>0.127299</td>\n",
       "      <td>-0.620407</td>\n",
       "      <td>-0.369813</td>\n",
       "      <td>1.355054</td>\n",
       "      <td>0.490738</td>\n",
       "    </tr>\n",
       "    <tr>\n",
       "      <th>3</th>\n",
       "      <td>-0.206959</td>\n",
       "      <td>-0.652848</td>\n",
       "      <td>-0.199506</td>\n",
       "      <td>-1.051992</td>\n",
       "      <td>-0.511260</td>\n",
       "      <td>-0.250757</td>\n",
       "      <td>-0.315690</td>\n",
       "      <td>-0.531651</td>\n",
       "      <td>-0.447218</td>\n",
       "      <td>-0.225224</td>\n",
       "      <td>...</td>\n",
       "      <td>-0.383695</td>\n",
       "      <td>-0.284505</td>\n",
       "      <td>-0.408235</td>\n",
       "      <td>-0.359250</td>\n",
       "      <td>-0.414731</td>\n",
       "      <td>-0.393139</td>\n",
       "      <td>-0.635052</td>\n",
       "      <td>-0.382570</td>\n",
       "      <td>-0.302146</td>\n",
       "      <td>-0.436147</td>\n",
       "    </tr>\n",
       "    <tr>\n",
       "      <th>4</th>\n",
       "      <td>-0.206414</td>\n",
       "      <td>-0.607214</td>\n",
       "      <td>-0.142333</td>\n",
       "      <td>-0.135244</td>\n",
       "      <td>-0.511261</td>\n",
       "      <td>-0.250779</td>\n",
       "      <td>-0.314809</td>\n",
       "      <td>-0.530276</td>\n",
       "      <td>-0.366058</td>\n",
       "      <td>-0.225169</td>\n",
       "      <td>...</td>\n",
       "      <td>-0.244978</td>\n",
       "      <td>-0.263905</td>\n",
       "      <td>0.010622</td>\n",
       "      <td>0.155276</td>\n",
       "      <td>-0.283245</td>\n",
       "      <td>-0.315174</td>\n",
       "      <td>1.199907</td>\n",
       "      <td>-0.343330</td>\n",
       "      <td>-0.283350</td>\n",
       "      <td>-0.238857</td>\n",
       "    </tr>\n",
       "    <tr>\n",
       "      <th>...</th>\n",
       "      <td>...</td>\n",
       "      <td>...</td>\n",
       "      <td>...</td>\n",
       "      <td>...</td>\n",
       "      <td>...</td>\n",
       "      <td>...</td>\n",
       "      <td>...</td>\n",
       "      <td>...</td>\n",
       "      <td>...</td>\n",
       "      <td>...</td>\n",
       "      <td>...</td>\n",
       "      <td>...</td>\n",
       "      <td>...</td>\n",
       "      <td>...</td>\n",
       "      <td>...</td>\n",
       "      <td>...</td>\n",
       "      <td>...</td>\n",
       "      <td>...</td>\n",
       "      <td>...</td>\n",
       "      <td>...</td>\n",
       "      <td>...</td>\n",
       "    </tr>\n",
       "    <tr>\n",
       "      <th>97</th>\n",
       "      <td>0.358051</td>\n",
       "      <td>1.170373</td>\n",
       "      <td>0.535112</td>\n",
       "      <td>0.557339</td>\n",
       "      <td>-0.139149</td>\n",
       "      <td>-0.221604</td>\n",
       "      <td>-0.294488</td>\n",
       "      <td>-0.465753</td>\n",
       "      <td>-0.089202</td>\n",
       "      <td>-0.127893</td>\n",
       "      <td>...</td>\n",
       "      <td>-0.165478</td>\n",
       "      <td>-0.266507</td>\n",
       "      <td>0.991530</td>\n",
       "      <td>-0.222650</td>\n",
       "      <td>-0.301338</td>\n",
       "      <td>-0.008619</td>\n",
       "      <td>-0.463245</td>\n",
       "      <td>0.107149</td>\n",
       "      <td>-0.249296</td>\n",
       "      <td>-0.181547</td>\n",
       "    </tr>\n",
       "    <tr>\n",
       "      <th>98</th>\n",
       "      <td>0.395013</td>\n",
       "      <td>3.306250</td>\n",
       "      <td>0.176883</td>\n",
       "      <td>0.839464</td>\n",
       "      <td>0.098059</td>\n",
       "      <td>-0.159920</td>\n",
       "      <td>-0.292982</td>\n",
       "      <td>-0.471717</td>\n",
       "      <td>0.924219</td>\n",
       "      <td>-0.163577</td>\n",
       "      <td>...</td>\n",
       "      <td>-0.374401</td>\n",
       "      <td>1.186856</td>\n",
       "      <td>-0.314071</td>\n",
       "      <td>-0.108176</td>\n",
       "      <td>-0.416086</td>\n",
       "      <td>-0.071533</td>\n",
       "      <td>-0.495524</td>\n",
       "      <td>-0.187121</td>\n",
       "      <td>-0.251338</td>\n",
       "      <td>-0.333898</td>\n",
       "    </tr>\n",
       "    <tr>\n",
       "      <th>99</th>\n",
       "      <td>1.713206</td>\n",
       "      <td>-0.532519</td>\n",
       "      <td>0.096789</td>\n",
       "      <td>0.765235</td>\n",
       "      <td>2.301548</td>\n",
       "      <td>-0.026938</td>\n",
       "      <td>-0.315642</td>\n",
       "      <td>-0.385426</td>\n",
       "      <td>-0.442458</td>\n",
       "      <td>0.458197</td>\n",
       "      <td>...</td>\n",
       "      <td>-0.337452</td>\n",
       "      <td>-0.258003</td>\n",
       "      <td>0.113286</td>\n",
       "      <td>-0.193847</td>\n",
       "      <td>0.099295</td>\n",
       "      <td>0.810668</td>\n",
       "      <td>-0.066553</td>\n",
       "      <td>-0.376010</td>\n",
       "      <td>0.247688</td>\n",
       "      <td>0.248135</td>\n",
       "    </tr>\n",
       "    <tr>\n",
       "      <th>100</th>\n",
       "      <td>-0.206210</td>\n",
       "      <td>0.352594</td>\n",
       "      <td>-0.198994</td>\n",
       "      <td>-0.541340</td>\n",
       "      <td>-0.498336</td>\n",
       "      <td>-0.250799</td>\n",
       "      <td>1.820070</td>\n",
       "      <td>-0.310376</td>\n",
       "      <td>0.780945</td>\n",
       "      <td>-0.225134</td>\n",
       "      <td>...</td>\n",
       "      <td>-0.362194</td>\n",
       "      <td>-0.279813</td>\n",
       "      <td>-0.214143</td>\n",
       "      <td>-0.339482</td>\n",
       "      <td>-0.071771</td>\n",
       "      <td>-0.149783</td>\n",
       "      <td>-0.630602</td>\n",
       "      <td>-0.381858</td>\n",
       "      <td>-0.303848</td>\n",
       "      <td>-0.410570</td>\n",
       "    </tr>\n",
       "    <tr>\n",
       "      <th>101</th>\n",
       "      <td>-0.206418</td>\n",
       "      <td>-0.190577</td>\n",
       "      <td>-0.199462</td>\n",
       "      <td>-0.646232</td>\n",
       "      <td>-0.500907</td>\n",
       "      <td>-0.250379</td>\n",
       "      <td>-0.315727</td>\n",
       "      <td>-0.309261</td>\n",
       "      <td>-0.446197</td>\n",
       "      <td>-0.170776</td>\n",
       "      <td>...</td>\n",
       "      <td>-0.284785</td>\n",
       "      <td>-0.261036</td>\n",
       "      <td>0.479139</td>\n",
       "      <td>-0.154865</td>\n",
       "      <td>-0.334768</td>\n",
       "      <td>0.012277</td>\n",
       "      <td>2.361952</td>\n",
       "      <td>-0.368337</td>\n",
       "      <td>-0.298699</td>\n",
       "      <td>-0.305140</td>\n",
       "    </tr>\n",
       "  </tbody>\n",
       "</table>\n",
       "<p>102 rows × 1380 columns</p>\n",
       "</div>"
      ],
      "text/plain": [
       "         0         1         2         3         4         5         6     \\\n",
       "0   -0.206538  2.906377 -0.170420  0.426654  4.482777 -0.250790 -0.309892   \n",
       "1   -0.199992 -0.375900 -0.181145  0.090514 -0.511342 -0.245346 -0.315248   \n",
       "2   -0.206664 -0.596656  0.064562 -0.834445 -0.511587 -0.200498 -0.315569   \n",
       "3   -0.206959 -0.652848 -0.199506 -1.051992 -0.511260 -0.250757 -0.315690   \n",
       "4   -0.206414 -0.607214 -0.142333 -0.135244 -0.511261 -0.250779 -0.314809   \n",
       "..        ...       ...       ...       ...       ...       ...       ...   \n",
       "97   0.358051  1.170373  0.535112  0.557339 -0.139149 -0.221604 -0.294488   \n",
       "98   0.395013  3.306250  0.176883  0.839464  0.098059 -0.159920 -0.292982   \n",
       "99   1.713206 -0.532519  0.096789  0.765235  2.301548 -0.026938 -0.315642   \n",
       "100 -0.206210  0.352594 -0.198994 -0.541340 -0.498336 -0.250799  1.820070   \n",
       "101 -0.206418 -0.190577 -0.199462 -0.646232 -0.500907 -0.250379 -0.315727   \n",
       "\n",
       "         7         8         9     ...      1370      1371      1372  \\\n",
       "0   -0.490882  1.445626 -0.223756  ... -0.292526 -0.281652 -0.167682   \n",
       "1   -0.518109 -0.447039 -0.203248  ... -0.375940 -0.288418 -0.374367   \n",
       "2   -0.146835 -0.445965 -0.220517  ... -0.370802  0.187261 -0.351366   \n",
       "3   -0.531651 -0.447218 -0.225224  ... -0.383695 -0.284505 -0.408235   \n",
       "4   -0.530276 -0.366058 -0.225169  ... -0.244978 -0.263905  0.010622   \n",
       "..        ...       ...       ...  ...       ...       ...       ...   \n",
       "97  -0.465753 -0.089202 -0.127893  ... -0.165478 -0.266507  0.991530   \n",
       "98  -0.471717  0.924219 -0.163577  ... -0.374401  1.186856 -0.314071   \n",
       "99  -0.385426 -0.442458  0.458197  ... -0.337452 -0.258003  0.113286   \n",
       "100 -0.310376  0.780945 -0.225134  ... -0.362194 -0.279813 -0.214143   \n",
       "101 -0.309261 -0.446197 -0.170776  ... -0.284785 -0.261036  0.479139   \n",
       "\n",
       "         1373      1374      1375      1376      1377      1378      1379  \n",
       "0   -0.233516 -0.345971 -0.380637 -0.121216 -0.384348 -0.293211 -0.380950  \n",
       "1   -0.217801  0.005478 -0.285432 -0.564576 -0.375864 -0.276490 -0.429664  \n",
       "2    0.206297  0.588175  0.127299 -0.620407 -0.369813  1.355054  0.490738  \n",
       "3   -0.359250 -0.414731 -0.393139 -0.635052 -0.382570 -0.302146 -0.436147  \n",
       "4    0.155276 -0.283245 -0.315174  1.199907 -0.343330 -0.283350 -0.238857  \n",
       "..        ...       ...       ...       ...       ...       ...       ...  \n",
       "97  -0.222650 -0.301338 -0.008619 -0.463245  0.107149 -0.249296 -0.181547  \n",
       "98  -0.108176 -0.416086 -0.071533 -0.495524 -0.187121 -0.251338 -0.333898  \n",
       "99  -0.193847  0.099295  0.810668 -0.066553 -0.376010  0.247688  0.248135  \n",
       "100 -0.339482 -0.071771 -0.149783 -0.630602 -0.381858 -0.303848 -0.410570  \n",
       "101 -0.154865 -0.334768  0.012277  2.361952 -0.368337 -0.298699 -0.305140  \n",
       "\n",
       "[102 rows x 1380 columns]"
      ]
     },
     "execution_count": 8,
     "metadata": {},
     "output_type": "execute_result"
    }
   ],
   "source": [
    "RARPAT_abs_diff_plus_log_odds_scores_norm"
   ]
  },
  {
   "cell_type": "code",
   "execution_count": 9,
   "id": "8cec1bca-2973-497c-9535-24f37d1f73e5",
   "metadata": {},
   "outputs": [],
   "source": [
    "RARPAT_prvcs = pd.read_csv(path_prefix + \"DNABERT_2/Datasets/PRVCS/test_dataset/Rare_Patho_SNV_dataset_XY-named.txt\", sep='\\t')"
   ]
  },
  {
   "cell_type": "code",
   "execution_count": 10,
   "id": "eb170548-19f6-449f-830b-6f6d8ddad624",
   "metadata": {},
   "outputs": [],
   "source": [
    "y = RARPAT_prvcs['label']"
   ]
  },
  {
   "cell_type": "code",
   "execution_count": 11,
   "id": "9638bee0-3c16-4a12-823b-9dddde168c52",
   "metadata": {},
   "outputs": [
    {
     "data": {
      "text/plain": [
       "0      0\n",
       "1      0\n",
       "2      0\n",
       "3      0\n",
       "4      0\n",
       "      ..\n",
       "97     1\n",
       "98     1\n",
       "99     1\n",
       "100    0\n",
       "101    1\n",
       "Name: label, Length: 102, dtype: int64"
      ]
     },
     "execution_count": 11,
     "metadata": {},
     "output_type": "execute_result"
    }
   ],
   "source": [
    "y"
   ]
  },
  {
   "cell_type": "code",
   "execution_count": 12,
   "id": "536ed0f9-2744-40d3-8457-9f0f7a35f407",
   "metadata": {},
   "outputs": [],
   "source": [
    "RARPAT_pred = test_estimator.predict(RARPAT_abs_diff_plus_log_odds_scores_norm)"
   ]
  },
  {
   "cell_type": "code",
   "execution_count": 13,
   "id": "b7140b1d-e49f-4a1f-b518-671af8b38b99",
   "metadata": {},
   "outputs": [
    {
     "name": "stdout",
     "output_type": "stream",
     "text": [
      "Accuracy_model_REG: 0.5784\n",
      "F1_model_REG: 0.0444\n",
      "MCC_model_REG: 0.1142\n",
      "ROC_AUC_model_REG: 0.5114\n",
      "Avg_Recall_Score_model_REG: 0.4443\n"
     ]
    }
   ],
   "source": [
    "from sklearn.metrics import accuracy_score, f1_score, matthews_corrcoef, roc_auc_score, average_precision_score\n",
    "\n",
    "print(\"Accuracy_model_REG: %.4f\" % (accuracy_score(y, RARPAT_pred)))  \n",
    "print(\"F1_model_REG: %.4f\" % (f1_score(y, RARPAT_pred)))  \n",
    "print(\"MCC_model_REG: %.4f\" % (matthews_corrcoef(y, RARPAT_pred)))  \n",
    "print(\"ROC_AUC_model_REG: %.4f\" % (roc_auc_score(y , RARPAT_pred)))\n",
    "print(\"Avg_Recall_Score_model_REG: %.4f\" % (average_precision_score(y , RARPAT_pred)))"
   ]
  },
  {
   "cell_type": "code",
   "execution_count": 16,
   "id": "698780ab-38c8-40b8-9a89-619623cdcea2",
   "metadata": {},
   "outputs": [
    {
     "name": "stdout",
     "output_type": "stream",
     "text": [
      "1 0 43 58\n"
     ]
    }
   ],
   "source": [
    "from sklearn.metrics import confusion_matrix\n",
    "\n",
    "tn, fp, fn, tp = confusion_matrix(y, RARPAT_pred).ravel()\n",
    "print(tp, fp, fn, tn)"
   ]
  },
  {
   "cell_type": "code",
   "execution_count": 17,
   "id": "6be11792-7f98-45bc-9529-06a4b1c90db9",
   "metadata": {},
   "outputs": [
    {
     "data": {
      "text/plain": [
       "<sklearn.metrics._plot.roc_curve.RocCurveDisplay at 0x1554f1f794c0>"
      ]
     },
     "execution_count": 17,
     "metadata": {},
     "output_type": "execute_result"
    },
    {
     "data": {
      "image/png": "[encoded data removed]",
      "text/plain": [
       "<Figure size 432x288 with 1 Axes>"
      ]
     },
     "metadata": {
      "needs_background": "light"
     },
     "output_type": "display_data"
    }
   ],
   "source": [
    "import matplotlib.pyplot as plt\n",
    "from sklearn import metrics\n",
    "from sklearn.metrics import roc_curve\n",
    "\n",
    "fpr, tpr, _ = roc_curve(y, RARPAT_pred)\n",
    "roc_auc = roc_auc_score(y, RARPAT_pred)\n",
    "display = metrics.RocCurveDisplay(fpr=fpr, tpr=tpr, roc_auc=roc_auc)\n",
    "display.plot(name=\"ROC Curve\")"
   ]
  },
  {
   "cell_type": "markdown",
   "id": "0acf9307-97d6-4e5b-8305-3fc8d1d89d99",
   "metadata": {},
   "source": [
    "Load ASD dataset"
   ]
  },
  {
   "cell_type": "code",
   "execution_count": 18,
   "id": "d35d8eb6-0933-4c70-b5b5-83a1c8120383",
   "metadata": {},
   "outputs": [],
   "source": [
    "ASD_abs_diff_plus_log_odds_scores_norm = pd.read_csv(path_prefix + \"DNABERT_2/output/ASD_0_107-abs_diff_plus_log_odds_scores_norm_results_by_variant.csv\", sep=',')"
   ]
  },
  {
   "cell_type": "code",
   "execution_count": 19,
   "id": "32defa15-440c-431d-9efd-dd156d83f0ac",
   "metadata": {},
   "outputs": [],
   "source": [
    "ASD_abs_diff_plus_log_odds_scores_norm = ASD_abs_diff_plus_log_odds_scores_norm.set_axis(col_lab, axis=\"columns\")"
   ]
  },
  {
   "cell_type": "code",
   "execution_count": 20,
   "id": "da710227-617c-4fbf-9c4b-1f4688f157fd",
   "metadata": {},
   "outputs": [],
   "source": [
    "ASD_prvcs = pd.read_csv(path_prefix + \"DNABERT_2/Datasets/PRVCS/test_dataset/ASD_denovo_SNV_dataset_XY-named.txt\", sep='\\t')"
   ]
  },
  {
   "cell_type": "code",
   "execution_count": 21,
   "id": "b068a572-1f93-41c7-bde2-fd3a7ba08f90",
   "metadata": {},
   "outputs": [],
   "source": [
    "y = ASD_prvcs['label']"
   ]
  },
  {
   "cell_type": "code",
   "execution_count": 22,
   "id": "3fabf628-bc27-4827-ad87-47f3566ee08a",
   "metadata": {},
   "outputs": [],
   "source": [
    "ASD_pred = test_estimator.predict(ASD_abs_diff_plus_log_odds_scores_norm)"
   ]
  },
  {
   "cell_type": "code",
   "execution_count": 23,
   "id": "950fec45-df06-41c8-bd97-3468fdd6d8c0",
   "metadata": {},
   "outputs": [
    {
     "name": "stdout",
     "output_type": "stream",
     "text": [
      "Accuracy_model_REG: 0.4673\n",
      "F1_model_REG: 0.0000\n",
      "MCC_model_REG: 0.0000\n",
      "ROC_AUC_model_REG: 0.5000\n",
      "Avg_Recall_Score_model_REG: 0.5327\n"
     ]
    },
    {
     "name": "stderr",
     "output_type": "stream",
     "text": [
      "/cm/shared/apps/spack/0.17.3/cpu/b/opt/spack/linux-rocky8-zen/gcc-8.5.0/anaconda3-2021.05-q4munrgvh7qp4o7r3nzcdkbuph4z7375/lib/python3.8/site-packages/sklearn/metrics/_classification.py:870: RuntimeWarning: invalid value encountered in scalar divide\n",
      "  mcc = cov_ytyp / np.sqrt(cov_ytyt * cov_ypyp)\n"
     ]
    }
   ],
   "source": [
    "print(\"Accuracy_model_REG: %.4f\" % (accuracy_score(y, ASD_pred)))  \n",
    "print(\"F1_model_REG: %.4f\" % (f1_score(y, ASD_pred)))  \n",
    "print(\"MCC_model_REG: %.4f\" % (matthews_corrcoef(y, ASD_pred)))  \n",
    "print(\"ROC_AUC_model_REG: %.4f\" % (roc_auc_score(y , ASD_pred)))\n",
    "print(\"Avg_Recall_Score_model_REG: %.4f\" % (average_precision_score(y , ASD_pred)))"
   ]
  },
  {
   "cell_type": "markdown",
   "id": "8c8c4c78-28cd-4dc5-927b-b9ca576a0f73",
   "metadata": {},
   "source": [
    "Load GTEx dataset"
   ]
  },
  {
   "cell_type": "code",
   "execution_count": 24,
   "id": "fbe3ef48-bb30-4e93-9cb9-c5a236bddefb",
   "metadata": {},
   "outputs": [],
   "source": [
    "GTEX_abs_diff_plus_log_odds_scores_norm = pd.read_csv(path_prefix + \"DNABERT_2/output/GTEX_0_796-abs_diff_plus_log_odds_scores_norm_results_by_variant.csv\", sep=',')"
   ]
  },
  {
   "cell_type": "code",
   "execution_count": 25,
   "id": "af838288-5d77-4a36-8e40-87a14896932f",
   "metadata": {},
   "outputs": [],
   "source": [
    "GTEX_abs_diff_plus_log_odds_scores_norm = GTEX_abs_diff_plus_log_odds_scores_norm.set_axis(col_lab, axis=\"columns\")"
   ]
  },
  {
   "cell_type": "code",
   "execution_count": 26,
   "id": "6fcf0887-1002-482a-b463-6daa056a34ff",
   "metadata": {},
   "outputs": [],
   "source": [
    "GTEX_prvcs = pd.read_csv(path_prefix + \"DNABERT_2/Datasets/PRVCS/test_dataset/GTEx_eQTL_dataset_XY-named.txt\", sep='\\t')"
   ]
  },
  {
   "cell_type": "code",
   "execution_count": 27,
   "id": "3f2ea40d-22a8-472b-b90c-429310b1bda6",
   "metadata": {},
   "outputs": [],
   "source": [
    "y = GTEX_prvcs['label']"
   ]
  },
  {
   "cell_type": "code",
   "execution_count": 28,
   "id": "f2084259-091e-4568-8725-12bed2549afd",
   "metadata": {
    "tags": []
   },
   "outputs": [],
   "source": [
    "GTEX_pred = test_estimator.predict(GTEX_abs_diff_plus_log_odds_scores_norm)"
   ]
  },
  {
   "cell_type": "code",
   "execution_count": 29,
   "id": "350a26d7-e59f-475b-9761-2106dd4e579f",
   "metadata": {},
   "outputs": [
    {
     "name": "stdout",
     "output_type": "stream",
     "text": [
      "Accuracy_model_REG: 0.5075\n",
      "F1_model_REG: 0.0841\n",
      "MCC_model_REG: 0.0945\n",
      "ROC_AUC_model_REG: 0.5158\n",
      "Avg_Recall_Score_model_REG: 0.5210\n"
     ]
    }
   ],
   "source": [
    "print(\"Accuracy_model_REG: %.4f\" % (accuracy_score(y, GTEX_pred)))  \n",
    "print(\"F1_model_REG: %.4f\" % (f1_score(y, GTEX_pred)))  \n",
    "print(\"MCC_model_REG: %.4f\" % (matthews_corrcoef(y, GTEX_pred)))  \n",
    "print(\"ROC_AUC_model_REG: %.4f\" % (roc_auc_score(y , GTEX_pred)))\n",
    "print(\"Avg_Recall_Score_model_REG: %.4f\" % (average_precision_score(y , GTEX_pred)))"
   ]
  },
  {
   "cell_type": "code",
   "execution_count": 31,
   "id": "9f21f45d-780c-484a-9063-8d1a930dcf57",
   "metadata": {},
   "outputs": [
    {
     "name": "stdout",
     "output_type": "stream",
     "text": [
      "18 5 387 386\n"
     ]
    }
   ],
   "source": [
    "from sklearn.metrics import confusion_matrix\n",
    "\n",
    "tn, fp, fn, tp = confusion_matrix(y, GTEX_pred).ravel()\n",
    "print(tp, fp, fn, tn)"
   ]
  },
  {
   "cell_type": "code",
   "execution_count": 33,
   "id": "0505ec38-3f72-450d-b432-0246940a6378",
   "metadata": {},
   "outputs": [
    {
     "data": {
      "text/plain": [
       "<sklearn.metrics._plot.roc_curve.RocCurveDisplay at 0x1554f0f61c10>"
      ]
     },
     "execution_count": 33,
     "metadata": {},
     "output_type": "execute_result"
    },
    {
     "data": {
      "image/png": "[encoded data removed]",
      "text/plain": [
       "<Figure size 432x288 with 1 Axes>"
      ]
     },
     "metadata": {
      "needs_background": "light"
     },
     "output_type": "display_data"
    }
   ],
   "source": [
    "import matplotlib.pyplot as plt\n",
    "from sklearn import metrics\n",
    "from sklearn.metrics import roc_curve\n",
    "\n",
    "fpr, tpr, _ = roc_curve(y, GTEX_pred)\n",
    "roc_auc = roc_auc_score(y, GTEX_pred)\n",
    "display = metrics.RocCurveDisplay(fpr=fpr, tpr=tpr, roc_auc=roc_auc)\n",
    "display.plot(name=\"ROC Curve\")"
   ]
  },
  {
   "cell_type": "markdown",
   "id": "8c239e10-14d9-4ed1-ac31-0da3f0a9b71e",
   "metadata": {},
   "source": [
    "Load Somatic eQTL dataset"
   ]
  },
  {
   "cell_type": "code",
   "execution_count": 34,
   "id": "a01f2ce7-e68c-4bfe-9799-68951c7ce9c5",
   "metadata": {
    "tags": []
   },
   "outputs": [],
   "source": [
    "SOMEQTL_abs_diff_plus_log_odds_scores_norm = pd.read_csv(path_prefix + \"DNABERT_2/output/SOMEQTL_0_7513-abs_diff_plus_log_odds_scores_norm_results_by_variant.csv\", sep=',')"
   ]
  },
  {
   "cell_type": "code",
   "execution_count": 35,
   "id": "126e8d78-03a6-4213-b932-fa1542f15f53",
   "metadata": {},
   "outputs": [],
   "source": [
    "SOMEQTL_abs_diff_plus_log_odds_scores_norm = SOMEQTL_abs_diff_plus_log_odds_scores_norm.set_axis(col_lab, axis=\"columns\")"
   ]
  },
  {
   "cell_type": "code",
   "execution_count": 36,
   "id": "faf8a66d-bf7e-4245-81f4-8233b99ecda6",
   "metadata": {},
   "outputs": [],
   "source": [
    "SOMEQTL_prvcs = pd.read_csv(path_prefix + \"DNABERT_2/Datasets/PRVCS/test_dataset/Somatic_eQTL_dataset_XY-named.txt\", sep='\\t')"
   ]
  },
  {
   "cell_type": "code",
   "execution_count": 37,
   "id": "269e597a-bf36-48ef-a10c-d49f4b695986",
   "metadata": {
    "tags": []
   },
   "outputs": [],
   "source": [
    "y = SOMEQTL_prvcs['label']"
   ]
  },
  {
   "cell_type": "code",
   "execution_count": 38,
   "id": "9e96cdd1-a174-46d2-a6fc-763a986a6aa7",
   "metadata": {},
   "outputs": [],
   "source": [
    "SOMEQTL_pred = test_estimator.predict(SOMEQTL_abs_diff_plus_log_odds_scores_norm)"
   ]
  },
  {
   "cell_type": "code",
   "execution_count": 39,
   "id": "8d276845-819b-479e-865f-1338fa550126",
   "metadata": {},
   "outputs": [
    {
     "name": "stdout",
     "output_type": "stream",
     "text": [
      "Accuracy_model_REG: 0.5195\n",
      "F1_model_REG: 0.1724\n",
      "MCC_model_REG: 0.0714\n",
      "ROC_AUC_model_REG: 0.5194\n",
      "Avg_Recall_Score_model_REG: 0.5120\n"
     ]
    }
   ],
   "source": [
    "print(\"Accuracy_model_REG: %.4f\" % (accuracy_score(y, SOMEQTL_pred)))  \n",
    "print(\"F1_model_REG: %.4f\" % (f1_score(y, SOMEQTL_pred)))  \n",
    "print(\"MCC_model_REG: %.4f\" % (matthews_corrcoef(y, SOMEQTL_pred)))  \n",
    "print(\"ROC_AUC_model_REG: %.4f\" % (roc_auc_score(y , SOMEQTL_pred)))\n",
    "print(\"Avg_Recall_Score_model_REG: %.4f\" % (average_precision_score(y , SOMEQTL_pred)))"
   ]
  },
  {
   "cell_type": "code",
   "execution_count": 40,
   "id": "70a88576-4b33-418f-b54d-10e1c510cd6b",
   "metadata": {},
   "outputs": [
    {
     "name": "stdout",
     "output_type": "stream",
     "text": [
      "376 230 3380 3527\n"
     ]
    }
   ],
   "source": [
    "from sklearn.metrics import confusion_matrix\n",
    "\n",
    "tn, fp, fn, tp = confusion_matrix(y, SOMEQTL_pred).ravel()\n",
    "print(tp, fp, fn, tn)"
   ]
  },
  {
   "cell_type": "code",
   "execution_count": 41,
   "id": "b6865a96-71c1-4c5f-88d2-44e405254cc3",
   "metadata": {},
   "outputs": [
    {
     "data": {
      "text/plain": [
       "<sklearn.metrics._plot.roc_curve.RocCurveDisplay at 0x1554f0d35040>"
      ]
     },
     "execution_count": 41,
     "metadata": {},
     "output_type": "execute_result"
    },
    {
     "data": {
      "image/png": "[encoded data removed]",
      "text/plain": [
       "<Figure size 432x288 with 1 Axes>"
      ]
     },
     "metadata": {
      "needs_background": "light"
     },
     "output_type": "display_data"
    }
   ],
   "source": [
    "import matplotlib.pyplot as plt\n",
    "from sklearn import metrics\n",
    "from sklearn.metrics import roc_curve\n",
    "\n",
    "fpr, tpr, _ = roc_curve(y, SOMEQTL_pred)\n",
    "roc_auc = roc_auc_score(y, SOMEQTL_pred)\n",
    "display = metrics.RocCurveDisplay(fpr=fpr, tpr=tpr, roc_auc=roc_auc)\n",
    "display.plot(name=\"ROC Curve\")"
   ]
  },
  {
   "cell_type": "markdown",
   "id": "5ec98c2b-0ce1-403a-9067-3dbf14ad2490",
   "metadata": {},
   "source": [
    "Load GWAS E-8 dataset"
   ]
  },
  {
   "cell_type": "code",
   "execution_count": 42,
   "id": "5ea3b3bb-5b95-4364-8312-f86250b01573",
   "metadata": {},
   "outputs": [],
   "source": [
    "GWAS8_abs_diff_plus_log_odds_scores_norm = pd.read_csv(path_prefix + \"DNABERT_2/output/GWAS8_0_21725-abs_diff_plus_log_odds_scores_norm_results_by_variant.csv\", sep=',')"
   ]
  },
  {
   "cell_type": "code",
   "execution_count": 43,
   "id": "dac24448-989e-4281-87c6-07085218a0b9",
   "metadata": {},
   "outputs": [],
   "source": [
    "GWAS8_abs_diff_plus_log_odds_scores_norm = GWAS8_abs_diff_plus_log_odds_scores_norm.set_axis(col_lab, axis=\"columns\")"
   ]
  },
  {
   "cell_type": "code",
   "execution_count": 44,
   "id": "1a7f4229-e9d4-4aac-95bd-6971bfa13adf",
   "metadata": {},
   "outputs": [],
   "source": [
    "GWAS8_prvcs = pd.read_csv(path_prefix + \"DNABERT_2/Datasets/PRVCS/test_dataset/GWAS_SNP_5E-8_dataset_XY-named.txt\", sep='\\t')"
   ]
  },
  {
   "cell_type": "code",
   "execution_count": 45,
   "id": "97f60872-4cf0-499f-9637-c443ccd8caa7",
   "metadata": {},
   "outputs": [],
   "source": [
    "y = GWAS8_prvcs['label']"
   ]
  },
  {
   "cell_type": "code",
   "execution_count": 46,
   "id": "c76a4f70-9c55-4744-a121-36b7cec3aff4",
   "metadata": {},
   "outputs": [],
   "source": [
    "GWAS8_pred = test_estimator.predict(GWAS8_abs_diff_plus_log_odds_scores_norm)"
   ]
  },
  {
   "cell_type": "code",
   "execution_count": 47,
   "id": "c174f90f-529e-4b67-9513-bf1718fc9ba5",
   "metadata": {},
   "outputs": [
    {
     "name": "stdout",
     "output_type": "stream",
     "text": [
      "Accuracy_model_REG: 0.1358\n",
      "F1_model_REG: 0.0988\n",
      "MCC_model_REG: -0.7309\n",
      "ROC_AUC_model_REG: 0.1357\n",
      "Avg_Recall_Score_model_REG: 0.4603\n"
     ]
    }
   ],
   "source": [
    "print(\"Accuracy_model_REG: %.4f\" % (accuracy_score(y, GWAS8_pred)))  \n",
    "print(\"F1_model_REG: %.4f\" % (f1_score(y, GWAS8_pred)))  \n",
    "print(\"MCC_model_REG: %.4f\" % (matthews_corrcoef(y, GWAS8_pred)))  \n",
    "print(\"ROC_AUC_model_REG: %.4f\" % (roc_auc_score(y , GWAS8_pred)))\n",
    "print(\"Avg_Recall_Score_model_REG: %.4f\" % (average_precision_score(y , GWAS8_pred)))"
   ]
  },
  {
   "cell_type": "code",
   "execution_count": 48,
   "id": "9daf9ca6-d799-4424-92ba-727581fd4b37",
   "metadata": {},
   "outputs": [
    {
     "name": "stdout",
     "output_type": "stream",
     "text": [
      "1029 8986 9788 1922\n"
     ]
    }
   ],
   "source": [
    "from sklearn.metrics import confusion_matrix\n",
    "\n",
    "tn, fp, fn, tp = confusion_matrix(y, GWAS8_pred).ravel()\n",
    "print(tp, fp, fn, tn)"
   ]
  },
  {
   "cell_type": "code",
   "execution_count": 49,
   "id": "ea2424b8-a52c-437b-a58e-cc052045c892",
   "metadata": {},
   "outputs": [
    {
     "data": {
      "text/plain": [
       "<sklearn.metrics._plot.roc_curve.RocCurveDisplay at 0x1554f0d26970>"
      ]
     },
     "execution_count": 49,
     "metadata": {},
     "output_type": "execute_result"
    },
    {
     "data": {
      "image/png": "[encoded data removed]",
      "text/plain": [
       "<Figure size 432x288 with 1 Axes>"
      ]
     },
     "metadata": {
      "needs_background": "light"
     },
     "output_type": "display_data"
    }
   ],
   "source": [
    "import matplotlib.pyplot as plt\n",
    "from sklearn import metrics\n",
    "from sklearn.metrics import roc_curve\n",
    "\n",
    "fpr, tpr, _ = roc_curve(y, GWAS8_pred)\n",
    "roc_auc = roc_auc_score(y, GWAS8_pred)\n",
    "display = metrics.RocCurveDisplay(fpr=fpr, tpr=tpr, roc_auc=roc_auc)\n",
    "display.plot(name=\"ROC Curve\")"
   ]
  },
  {
   "cell_type": "markdown",
   "id": "36426f1b-f659-46d5-8781-56a38bada2af",
   "metadata": {},
   "source": [
    "Load GWAS E-5 dataset"
   ]
  },
  {
   "cell_type": "code",
   "execution_count": 50,
   "id": "0d3c861f-c9c1-478f-b6f5-8af6e591ac21",
   "metadata": {},
   "outputs": [],
   "source": [
    "GWAS5_abs_diff_plus_log_odds_scores_norm = pd.read_csv(path_prefix + \"DNABERT_2/output/GWAS5_0_60593-abs_diff_plus_log_odds_scores_norm_results_by_variant.csv\", sep=',')"
   ]
  },
  {
   "cell_type": "code",
   "execution_count": 51,
   "id": "222799e1-d22f-494e-a66e-f2f28e55b570",
   "metadata": {},
   "outputs": [
    {
     "data": {
      "text/plain": [
       "(60593, 1380)"
      ]
     },
     "execution_count": 51,
     "metadata": {},
     "output_type": "execute_result"
    }
   ],
   "source": [
    "GWAS5_abs_diff_plus_log_odds_scores_norm.shape"
   ]
  },
  {
   "cell_type": "code",
   "execution_count": 52,
   "id": "2daf40bf-2567-4855-b65e-f260d47016ee",
   "metadata": {},
   "outputs": [],
   "source": [
    "GWAS5_abs_diff_plus_log_odds_scores_norm = GWAS5_abs_diff_plus_log_odds_scores_norm.set_axis(col_lab, axis=\"columns\")"
   ]
  },
  {
   "cell_type": "code",
   "execution_count": 53,
   "id": "abcd5c84-e9ac-4ee6-b382-5d4549a470c5",
   "metadata": {},
   "outputs": [],
   "source": [
    "GWAS5_prvcs = pd.read_csv(path_prefix + \"DNABERT_2/Datasets/PRVCS/test_dataset/GWAS_SNP_1E-5_dataset_XY-named.txt\", sep='\\t')"
   ]
  },
  {
   "cell_type": "code",
   "execution_count": 54,
   "id": "e0485e10-e3d7-4267-af70-889a5a58b1a3",
   "metadata": {},
   "outputs": [],
   "source": [
    "y = GWAS5_prvcs['label']"
   ]
  },
  {
   "cell_type": "code",
   "execution_count": 55,
   "id": "14ea3c20-519b-43a5-9cbf-11560755242b",
   "metadata": {},
   "outputs": [],
   "source": [
    "GWAS5_pred = test_estimator.predict(GWAS5_abs_diff_plus_log_odds_scores_norm)"
   ]
  },
  {
   "cell_type": "code",
   "execution_count": 58,
   "id": "e551dca5-68cb-463d-879a-37ee5e408544",
   "metadata": {},
   "outputs": [
    {
     "name": "stdout",
     "output_type": "stream",
     "text": [
      "Accuracy_model_REG: 0.2681\n",
      "F1_model_REG: 0.3692\n",
      "MCC_model_REG: -0.4890\n",
      "ROC_AUC_model_REG: 0.2687\n",
      "Avg_Recall_Score_model_REG: 0.4231\n"
     ]
    }
   ],
   "source": [
    "print(\"Accuracy_model_REG: %.4f\" % (accuracy_score(y, GWAS5_pred)))  \n",
    "print(\"F1_model_REG: %.4f\" % (f1_score(y, GWAS5_pred)))  \n",
    "print(\"MCC_model_REG: %.4f\" % (matthews_corrcoef(y, GWAS5_pred)))  \n",
    "print(\"ROC_AUC_model_REG: %.4f\" % (roc_auc_score(y , GWAS5_pred)))\n",
    "print(\"Avg_Recall_Score_model_REG: %.4f\" % (average_precision_score(y , GWAS5_pred)))"
   ]
  },
  {
   "cell_type": "code",
   "execution_count": 60,
   "id": "f21dd87e-1a09-44f2-b7b7-736db14528fe",
   "metadata": {},
   "outputs": [
    {
     "name": "stdout",
     "output_type": "stream",
     "text": [
      "12978 27138 17210 3267\n"
     ]
    }
   ],
   "source": [
    "from sklearn.metrics import confusion_matrix\n",
    "\n",
    "tn, fp, fn, tp = confusion_matrix(y, GWAS5_pred).ravel()\n",
    "print(tp, fp, fn, tn)"
   ]
  },
  {
   "cell_type": "code",
   "execution_count": 61,
   "id": "03ec7a7b-ea50-48d2-9cd5-17860b32c526",
   "metadata": {},
   "outputs": [
    {
     "data": {
      "text/plain": [
       "<sklearn.metrics._plot.roc_curve.RocCurveDisplay at 0x1554f020e310>"
      ]
     },
     "execution_count": 61,
     "metadata": {},
     "output_type": "execute_result"
    },
    {
     "data": {
      "image/png": "[encoded data removed]",
      "text/plain": [
       "<Figure size 432x288 with 1 Axes>"
      ]
     },
     "metadata": {
      "needs_background": "light"
     },
     "output_type": "display_data"
    }
   ],
   "source": [
    "import matplotlib.pyplot as plt\n",
    "from sklearn import metrics\n",
    "from sklearn.metrics import roc_curve\n",
    "\n",
    "fpr, tpr, _ = roc_curve(y, GWAS5_pred)\n",
    "roc_auc = roc_auc_score(y, GWAS5_pred)\n",
    "display = metrics.RocCurveDisplay(fpr=fpr, tpr=tpr, roc_auc=roc_auc)\n",
    "display.plot(name=\"ROC Curve\")"
   ]
  },
  {
   "cell_type": "markdown",
   "id": "39923bfb-4fed-4347-ae09-cb39ae8b4de3",
   "metadata": {},
   "source": [
    "Load Brown eQTL dataset"
   ]
  },
  {
   "cell_type": "code",
   "execution_count": 88,
   "id": "8eb4bdf2-f2f3-4f40-9d0e-089f26c70207",
   "metadata": {},
   "outputs": [],
   "source": [
    "BWN_abs_diff_plus_log_odds_scores_norm = pd.read_csv(path_prefix + \"DNABERT_2/output/BWN_0_67635-abs_diff_plus_log_odds_scores_norm_results_by_variant.csv\", sep=',')"
   ]
  },
  {
   "cell_type": "code",
   "execution_count": 89,
   "id": "8e7bb2a2-3a42-44c7-9257-828a27a253d0",
   "metadata": {},
   "outputs": [],
   "source": [
    "BWN_abs_diff_plus_log_odds_scores_norm = BWN_abs_diff_plus_log_odds_scores_norm.set_axis(col_lab, axis=\"columns\")"
   ]
  },
  {
   "cell_type": "code",
   "execution_count": 90,
   "id": "ba8edd50-1858-4d61-b905-12b9edb12e93",
   "metadata": {},
   "outputs": [],
   "source": [
    "BWN_prvcs = pd.read_csv(path_prefix + \"DNABERT_2/Datasets/PRVCS/test_dataset/Brown_eQTL_dataset_XY-named.txt\", sep='\\t')"
   ]
  },
  {
   "cell_type": "code",
   "execution_count": 91,
   "id": "d5b0eed6-2878-47da-8668-6777ab08a082",
   "metadata": {},
   "outputs": [],
   "source": [
    "y = BWN_prvcs['label']"
   ]
  },
  {
   "cell_type": "code",
   "execution_count": 92,
   "id": "7d2e5224-d840-4c39-8dd7-965956be4616",
   "metadata": {},
   "outputs": [],
   "source": [
    "BWN_pred = test_estimator.predict(BWN_abs_diff_plus_log_odds_scores_norm)"
   ]
  },
  {
   "cell_type": "code",
   "execution_count": 93,
   "id": "97d3b0a9-bacd-4de4-9042-3fa6346098c5",
   "metadata": {},
   "outputs": [
    {
     "name": "stdout",
     "output_type": "stream",
     "text": [
      "Accuracy_model_REG: 0.4400\n",
      "F1_model_REG: 0.5393\n",
      "MCC_model_REG: -0.0924\n",
      "ROC_AUC_model_REG: 0.4602\n",
      "Avg_Recall_Score_model_REG: 0.4414\n"
     ]
    }
   ],
   "source": [
    "print(\"Accuracy_model_REG: %.4f\" % (accuracy_score(y, BWN_pred)))  \n",
    "print(\"F1_model_REG: %.4f\" % (f1_score(y, BWN_pred)))  \n",
    "print(\"MCC_model_REG: %.4f\" % (matthews_corrcoef(y, BWN_pred)))  \n",
    "print(\"ROC_AUC_model_REG: %.4f\" % (roc_auc_score(y , BWN_pred)))\n",
    "print(\"Avg_Recall_Score_model_REG: %.4f\" % (average_precision_score(y , BWN_pred)))"
   ]
  },
  {
   "cell_type": "code",
   "execution_count": 94,
   "id": "d32f4f15-f071-4b3c-86fb-43d0eeeeca8e",
   "metadata": {},
   "outputs": [
    {
     "name": "stdout",
     "output_type": "stream",
     "text": [
      "22173 28934 8942 7586\n"
     ]
    }
   ],
   "source": [
    "from sklearn.metrics import confusion_matrix\n",
    "\n",
    "tn, fp, fn, tp = confusion_matrix(y, BWN_pred).ravel()\n",
    "print(tp, fp, fn, tn)"
   ]
  },
  {
   "cell_type": "code",
   "execution_count": 95,
   "id": "b5c08ce0-57ed-4146-b63a-275f28bbbdef",
   "metadata": {},
   "outputs": [
    {
     "data": {
      "text/plain": [
       "<sklearn.metrics._plot.roc_curve.RocCurveDisplay at 0x1554b6cb3580>"
      ]
     },
     "execution_count": 95,
     "metadata": {},
     "output_type": "execute_result"
    },
    {
     "data": {
      "image/png": "[encoded data removed]",
      "text/plain": [
       "<Figure size 432x288 with 1 Axes>"
      ]
     },
     "metadata": {
      "needs_background": "light"
     },
     "output_type": "display_data"
    }
   ],
   "source": [
    "import matplotlib.pyplot as plt\n",
    "from sklearn import metrics\n",
    "from sklearn.metrics import roc_curve\n",
    "\n",
    "fpr, tpr, _ = roc_curve(y, BWN_pred)\n",
    "roc_auc = roc_auc_score(y, BWN_pred)\n",
    "display = metrics.RocCurveDisplay(fpr=fpr, tpr=tpr, roc_auc=roc_auc)\n",
    "display.plot(name=\"ROC Curve\")"
   ]
  },
  {
   "cell_type": "code",
   "execution_count": null,
   "id": "0b961847-f211-420d-9d95-810a3a8705e8",
   "metadata": {},
   "outputs": [],
   "source": []
  }
 ],
 "metadata": {
  "kernelspec": {
   "display_name": "Python 3",
   "language": "python",
   "name": "python3"
  },
  "language_info": {
   "codemirror_mode": {
    "name": "ipython",
    "version": 3
   },
   "file_extension": ".py",
   "mimetype": "text/x-python",
   "name": "python",
   "nbconvert_exporter": "python",
   "pygments_lexer": "ipython3",
   "version": "3.8.8"
  }
 },
 "nbformat": 4,
 "nbformat_minor": 5
}
