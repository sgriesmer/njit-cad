{
 "cells": [
  {
   "cell_type": "markdown",
   "id": "5464fc2b-9cd7-4fd8-98a6-4b8f43e3ad34",
   "metadata": {
    "id": "dfoAktdfUsl1"
   },
   "source": [
    "## Installation"
   ]
  },
  {
   "cell_type": "markdown",
   "id": "4479e1c6-847c-4309-a11f-b28f25a49d8d",
   "metadata": {
    "id": "nSKLjlh-HmIi"
   },
   "source": [
    "Installing Bio, transformers, genomic-benchmarks, and datasets packages.  The Bio package is from Biopython; transformers package for machine learning (pytorch, tensorflow); genomic-benchmarks and datasets from ML-Bioinfo-CEITEC.\n"
   ]
  },
  {
   "cell_type": "code",
   "execution_count": null,
   "id": "da3e4a35-1bd2-494f-94b3-3dea8b471930",
   "metadata": {
    "colab": {
     "base_uri": "https://localhost:8080/"
    },
    "id": "vTrn2sqTOGNV",
    "outputId": "bc84cc59-887a-417b-b905-75bb4123b63d"
   },
   "outputs": [],
   "source": [
    "# already set up on Expanse; toggle for colab\n",
    "\n",
    "# pip install -qq Bio transformers genomic-benchmarks datasets transformers[torch] pyfaidx"
   ]
  },
  {
   "cell_type": "markdown",
   "id": "bc6e69c0-d7df-43fe-9b6f-ed87fc9aa763",
   "metadata": {},
   "source": [
    "Set path prefix for Expanse"
   ]
  },
  {
   "cell_type": "code",
   "execution_count": 1,
   "id": "36d4362c-c4b3-4caf-a7a4-d342528278dc",
   "metadata": {},
   "outputs": [],
   "source": [
    "path_prefix = \"/expanse/lustre/projects/nji102/sgriesmer/\""
   ]
  },
  {
   "cell_type": "markdown",
   "id": "0db717fd-54ae-42f2-a5ee-d2b4dad218f6",
   "metadata": {
    "id": "i2DqTmk9asRO"
   },
   "source": [
    "Import SNP datasets"
   ]
  },
  {
   "cell_type": "code",
   "execution_count": 2,
   "id": "4a6aff36-d304-4ead-aac5-6a87aa07715f",
   "metadata": {
    "colab": {
     "base_uri": "https://localhost:8080/"
    },
    "id": "xw3EuhcVawX4",
    "outputId": "9351656c-5d7a-4839-a4be-bd08616e167b"
   },
   "outputs": [
    {
     "data": {
      "text/plain": [
       "(   BroadDnd41CtcfUniPk151-ran  BroadDnd41Ezh239875UniPk151-ran  \\\n",
       " 0                   -0.154390                        -0.517654   \n",
       " 1                   -0.154486                        -0.526337   \n",
       " 2                   -0.154486                        -0.528125   \n",
       " 3                   -0.153836                        -0.513125   \n",
       " 4                   -0.154373                        -0.490701   \n",
       " \n",
       "    BroadGm12878CtcfUniPk151-ran  BroadGm12878Ezh239875UniPk151-ran  \\\n",
       " 0                     -0.198518                           1.045550   \n",
       " 1                     -0.198527                           1.097025   \n",
       " 2                     -0.198532                          -0.595088   \n",
       " 3                     -0.157125                           0.776755   \n",
       " 4                     -0.197923                          -0.629536   \n",
       " \n",
       "    BroadH1hescChd1a301218aUniPk151-ran  BroadH1hescCtcfUniPk151-ran  \\\n",
       " 0                            -0.360801                    -0.179535   \n",
       " 1                            -0.372392                    -0.179535   \n",
       " 2                            -0.373646                    -0.179535   \n",
       " 3                            -0.373142                    -0.178239   \n",
       " 4                            -0.373864                    -0.179529   \n",
       " \n",
       "    BroadH1hescEzh239875UniPk151-ran  BroadH1hescJarid1aab26049UniPk151-ran  \\\n",
       " 0                         -0.217770                              -0.459057   \n",
       " 1                         -0.219437                              -0.458986   \n",
       " 2                         -0.220829                              -0.459128   \n",
       " 3                         -0.220690                              -0.450845   \n",
       " 4                         -0.220554                              -0.459159   \n",
       " \n",
       "    BroadH1hescRbbp5a300109aUniPk151-ran  BroadHelas3CtcfUniPk151-ran  ...  \\\n",
       " 0                             -0.324826                    -0.175673  ...   \n",
       " 1                             -0.324962                    -0.175673  ...   \n",
       " 2                             -0.324945                    -0.175666  ...   \n",
       " 3                             -0.304771                    -0.175553  ...   \n",
       " 4                             -0.324434                    -0.175160  ...   \n",
       " \n",
       "    UwMcf7CtcfUniPk151-ran.1  UwNb4CtcfUniPk151-ran.1  \\\n",
       " 0                 -0.343486                -0.223921   \n",
       " 1                 -0.338357                -0.215674   \n",
       " 2                 -0.335260                -0.212019   \n",
       " 3                 -0.193427                -0.198190   \n",
       " 4                 -0.230177                -0.158104   \n",
       " \n",
       "    UwNhdfneoCtcfUniPk151-ran.1  UwNhekCtcfUniPk151-ran.1  \\\n",
       " 0                    -0.331870                 -0.277389   \n",
       " 1                    -0.373075                 -0.241736   \n",
       " 2                    -0.208013                 -0.215740   \n",
       " 3                    -0.265678                 -0.257696   \n",
       " 4                    -0.394389                 -0.320062   \n",
       " \n",
       "    UwNhlfCtcfUniPk151-ran.1  UwRptecCtcfUniPk151-ran.1  \\\n",
       " 0                 -0.254582                  -0.130768   \n",
       " 1                 -0.256540                  -0.332558   \n",
       " 2                 -0.274748                  -0.299737   \n",
       " 3                 -0.214739                   2.196165   \n",
       " 4                 -0.028447                  -0.222698   \n",
       " \n",
       "    UwSaecCtcfUniPk151-ran.1  UwSknshraCtcfUniPk151-ran.1  \\\n",
       " 0                 -0.452403                    -0.261299   \n",
       " 1                 -0.488405                    -0.259493   \n",
       " 2                 -0.102483                    -0.259153   \n",
       " 3                 -0.361218                    -0.226442   \n",
       " 4                 -0.152905                    -0.251612   \n",
       " \n",
       "    UwWerirb1CtcfUniPk151-ran.1  UwWi38CtcfUniPk151-ran.1  \n",
       " 0                    -0.212030                 -0.328566  \n",
       " 1                    -0.215981                 -0.319342  \n",
       " 2                    -0.211673                 -0.297017  \n",
       " 3                     1.717090                 -0.153760  \n",
       " 4                    -0.201743                 -0.245226  \n",
       " \n",
       " [5 rows x 1380 columns],\n",
       " (61170, 1380))"
      ]
     },
     "execution_count": 2,
     "metadata": {},
     "output_type": "execute_result"
    }
   ],
   "source": [
    "import pandas as pd\n",
    "\n",
    "#abs_diff_plus_log_odds_scores_norm = pd.read_csv(path_prefix + \"DNABERT_2/output/SNP_PRVCS_0_10492-abs_diff_plus_log_odds_scores_norm_results_by_variant.csv\", sep=',')\n",
    "abs_diff_plus_log_odds_scores_norm = pd.read_csv(path_prefix + \"DNABERT_2/output/SNP_PRVCS_REG_test_all-abs_diff_plus_log_odds_scores_norm_results_by_variant.csv\", sep=',')\n",
    "abs_diff_plus_log_odds_scores_norm.head(), abs_diff_plus_log_odds_scores_norm.shape\n"
   ]
  },
  {
   "cell_type": "markdown",
   "id": "f7336b9f-19dc-42a5-b1e7-2a692a2ff434",
   "metadata": {
    "id": "mcTP_vqPJ7fS"
   },
   "source": [
    "Choose test set for run"
   ]
  },
  {
   "cell_type": "code",
   "execution_count": 3,
   "id": "e6d5c1ef-e5a2-47a5-8d0f-fcc7fcfc35d7",
   "metadata": {},
   "outputs": [
    {
     "name": "stderr",
     "output_type": "stream",
     "text": [
      "/cm/shared/apps/spack/0.17.3/cpu/b/opt/spack/linux-rocky8-zen/gcc-8.5.0/anaconda3-2021.05-q4munrgvh7qp4o7r3nzcdkbuph4z7375/lib/python3.8/site-packages/scipy/__init__.py:138: UserWarning: A NumPy version >=1.16.5 and <1.23.0 is required for this version of SciPy (detected version 1.24.4)\n",
      "  warnings.warn(f\"A NumPy version >={np_minversion} and <{np_maxversion} is required for this version of \"\n"
     ]
    }
   ],
   "source": [
    "import xgboost"
   ]
  },
  {
   "cell_type": "code",
   "execution_count": 4,
   "id": "7850649d-4714-4f8d-993b-13915d161c2f",
   "metadata": {},
   "outputs": [],
   "source": [
    "from numpy import asarray\n",
    "from numpy import mean\n",
    "from numpy import std\n",
    "from sklearn.datasets import make_classification\n",
    "from xgboost import XGBClassifier\n",
    "from sklearn.model_selection import cross_val_score\n",
    "from sklearn.model_selection import RepeatedStratifiedKFold\n",
    "from matplotlib import pyplot"
   ]
  },
  {
   "cell_type": "code",
   "execution_count": 5,
   "id": "065a3b85-46dc-4451-a9c4-89c6676e026d",
   "metadata": {},
   "outputs": [],
   "source": [
    "X=abs_diff_plus_log_odds_scores_norm[0:61170]"
   ]
  },
  {
   "cell_type": "code",
   "execution_count": 6,
   "id": "72747834-37ae-4f59-b449-7ead84b58f13",
   "metadata": {},
   "outputs": [
    {
     "data": {
      "text/html": [
       "<div>\n",
       "<style scoped>\n",
       "    .dataframe tbody tr th:only-of-type {\n",
       "        vertical-align: middle;\n",
       "    }\n",
       "\n",
       "    .dataframe tbody tr th {\n",
       "        vertical-align: top;\n",
       "    }\n",
       "\n",
       "    .dataframe thead th {\n",
       "        text-align: right;\n",
       "    }\n",
       "</style>\n",
       "<table border=\"1\" class=\"dataframe\">\n",
       "  <thead>\n",
       "    <tr style=\"text-align: right;\">\n",
       "      <th></th>\n",
       "      <th>BroadDnd41CtcfUniPk151-ran</th>\n",
       "      <th>BroadDnd41Ezh239875UniPk151-ran</th>\n",
       "      <th>BroadGm12878CtcfUniPk151-ran</th>\n",
       "      <th>BroadGm12878Ezh239875UniPk151-ran</th>\n",
       "      <th>BroadH1hescChd1a301218aUniPk151-ran</th>\n",
       "      <th>BroadH1hescCtcfUniPk151-ran</th>\n",
       "      <th>BroadH1hescEzh239875UniPk151-ran</th>\n",
       "      <th>BroadH1hescJarid1aab26049UniPk151-ran</th>\n",
       "      <th>BroadH1hescRbbp5a300109aUniPk151-ran</th>\n",
       "      <th>BroadHelas3CtcfUniPk151-ran</th>\n",
       "      <th>...</th>\n",
       "      <th>UwMcf7CtcfUniPk151-ran.1</th>\n",
       "      <th>UwNb4CtcfUniPk151-ran.1</th>\n",
       "      <th>UwNhdfneoCtcfUniPk151-ran.1</th>\n",
       "      <th>UwNhekCtcfUniPk151-ran.1</th>\n",
       "      <th>UwNhlfCtcfUniPk151-ran.1</th>\n",
       "      <th>UwRptecCtcfUniPk151-ran.1</th>\n",
       "      <th>UwSaecCtcfUniPk151-ran.1</th>\n",
       "      <th>UwSknshraCtcfUniPk151-ran.1</th>\n",
       "      <th>UwWerirb1CtcfUniPk151-ran.1</th>\n",
       "      <th>UwWi38CtcfUniPk151-ran.1</th>\n",
       "    </tr>\n",
       "  </thead>\n",
       "  <tbody>\n",
       "    <tr>\n",
       "      <th>0</th>\n",
       "      <td>-0.154390</td>\n",
       "      <td>-0.517654</td>\n",
       "      <td>-0.198518</td>\n",
       "      <td>1.045550</td>\n",
       "      <td>-0.360801</td>\n",
       "      <td>-0.179535</td>\n",
       "      <td>-0.217770</td>\n",
       "      <td>-0.459057</td>\n",
       "      <td>-0.324826</td>\n",
       "      <td>-0.175673</td>\n",
       "      <td>...</td>\n",
       "      <td>-0.343486</td>\n",
       "      <td>-0.223921</td>\n",
       "      <td>-0.331870</td>\n",
       "      <td>-0.277389</td>\n",
       "      <td>-0.254582</td>\n",
       "      <td>-0.130768</td>\n",
       "      <td>-0.452403</td>\n",
       "      <td>-0.261299</td>\n",
       "      <td>-0.212030</td>\n",
       "      <td>-0.328566</td>\n",
       "    </tr>\n",
       "    <tr>\n",
       "      <th>1</th>\n",
       "      <td>-0.154486</td>\n",
       "      <td>-0.526337</td>\n",
       "      <td>-0.198527</td>\n",
       "      <td>1.097025</td>\n",
       "      <td>-0.372392</td>\n",
       "      <td>-0.179535</td>\n",
       "      <td>-0.219437</td>\n",
       "      <td>-0.458986</td>\n",
       "      <td>-0.324962</td>\n",
       "      <td>-0.175673</td>\n",
       "      <td>...</td>\n",
       "      <td>-0.338357</td>\n",
       "      <td>-0.215674</td>\n",
       "      <td>-0.373075</td>\n",
       "      <td>-0.241736</td>\n",
       "      <td>-0.256540</td>\n",
       "      <td>-0.332558</td>\n",
       "      <td>-0.488405</td>\n",
       "      <td>-0.259493</td>\n",
       "      <td>-0.215981</td>\n",
       "      <td>-0.319342</td>\n",
       "    </tr>\n",
       "    <tr>\n",
       "      <th>2</th>\n",
       "      <td>-0.154486</td>\n",
       "      <td>-0.528125</td>\n",
       "      <td>-0.198532</td>\n",
       "      <td>-0.595088</td>\n",
       "      <td>-0.373646</td>\n",
       "      <td>-0.179535</td>\n",
       "      <td>-0.220829</td>\n",
       "      <td>-0.459128</td>\n",
       "      <td>-0.324945</td>\n",
       "      <td>-0.175666</td>\n",
       "      <td>...</td>\n",
       "      <td>-0.335260</td>\n",
       "      <td>-0.212019</td>\n",
       "      <td>-0.208013</td>\n",
       "      <td>-0.215740</td>\n",
       "      <td>-0.274748</td>\n",
       "      <td>-0.299737</td>\n",
       "      <td>-0.102483</td>\n",
       "      <td>-0.259153</td>\n",
       "      <td>-0.211673</td>\n",
       "      <td>-0.297017</td>\n",
       "    </tr>\n",
       "    <tr>\n",
       "      <th>3</th>\n",
       "      <td>-0.153836</td>\n",
       "      <td>-0.513125</td>\n",
       "      <td>-0.157125</td>\n",
       "      <td>0.776755</td>\n",
       "      <td>-0.373142</td>\n",
       "      <td>-0.178239</td>\n",
       "      <td>-0.220690</td>\n",
       "      <td>-0.450845</td>\n",
       "      <td>-0.304771</td>\n",
       "      <td>-0.175553</td>\n",
       "      <td>...</td>\n",
       "      <td>-0.193427</td>\n",
       "      <td>-0.198190</td>\n",
       "      <td>-0.265678</td>\n",
       "      <td>-0.257696</td>\n",
       "      <td>-0.214739</td>\n",
       "      <td>2.196165</td>\n",
       "      <td>-0.361218</td>\n",
       "      <td>-0.226442</td>\n",
       "      <td>1.717090</td>\n",
       "      <td>-0.153760</td>\n",
       "    </tr>\n",
       "    <tr>\n",
       "      <th>4</th>\n",
       "      <td>-0.154373</td>\n",
       "      <td>-0.490701</td>\n",
       "      <td>-0.197923</td>\n",
       "      <td>-0.629536</td>\n",
       "      <td>-0.373864</td>\n",
       "      <td>-0.179529</td>\n",
       "      <td>-0.220554</td>\n",
       "      <td>-0.459159</td>\n",
       "      <td>-0.324434</td>\n",
       "      <td>-0.175160</td>\n",
       "      <td>...</td>\n",
       "      <td>-0.230177</td>\n",
       "      <td>-0.158104</td>\n",
       "      <td>-0.394389</td>\n",
       "      <td>-0.320062</td>\n",
       "      <td>-0.028447</td>\n",
       "      <td>-0.222698</td>\n",
       "      <td>-0.152905</td>\n",
       "      <td>-0.251612</td>\n",
       "      <td>-0.201743</td>\n",
       "      <td>-0.245226</td>\n",
       "    </tr>\n",
       "    <tr>\n",
       "      <th>...</th>\n",
       "      <td>...</td>\n",
       "      <td>...</td>\n",
       "      <td>...</td>\n",
       "      <td>...</td>\n",
       "      <td>...</td>\n",
       "      <td>...</td>\n",
       "      <td>...</td>\n",
       "      <td>...</td>\n",
       "      <td>...</td>\n",
       "      <td>...</td>\n",
       "      <td>...</td>\n",
       "      <td>...</td>\n",
       "      <td>...</td>\n",
       "      <td>...</td>\n",
       "      <td>...</td>\n",
       "      <td>...</td>\n",
       "      <td>...</td>\n",
       "      <td>...</td>\n",
       "      <td>...</td>\n",
       "      <td>...</td>\n",
       "      <td>...</td>\n",
       "    </tr>\n",
       "    <tr>\n",
       "      <th>61165</th>\n",
       "      <td>-0.136322</td>\n",
       "      <td>-0.522225</td>\n",
       "      <td>-0.169776</td>\n",
       "      <td>-0.661247</td>\n",
       "      <td>-0.359026</td>\n",
       "      <td>-0.152563</td>\n",
       "      <td>-0.191376</td>\n",
       "      <td>-0.457834</td>\n",
       "      <td>-0.282376</td>\n",
       "      <td>-0.147173</td>\n",
       "      <td>...</td>\n",
       "      <td>-0.292017</td>\n",
       "      <td>-0.190517</td>\n",
       "      <td>-0.381051</td>\n",
       "      <td>-0.211006</td>\n",
       "      <td>-0.245971</td>\n",
       "      <td>-0.323873</td>\n",
       "      <td>-0.415494</td>\n",
       "      <td>-0.207852</td>\n",
       "      <td>-0.173248</td>\n",
       "      <td>-0.288908</td>\n",
       "    </tr>\n",
       "    <tr>\n",
       "      <th>61166</th>\n",
       "      <td>-0.136286</td>\n",
       "      <td>-0.522024</td>\n",
       "      <td>-0.169777</td>\n",
       "      <td>-0.668193</td>\n",
       "      <td>-0.334889</td>\n",
       "      <td>-0.152524</td>\n",
       "      <td>-0.191320</td>\n",
       "      <td>-0.457706</td>\n",
       "      <td>-0.282315</td>\n",
       "      <td>-0.147162</td>\n",
       "      <td>...</td>\n",
       "      <td>-0.126047</td>\n",
       "      <td>-0.188932</td>\n",
       "      <td>-0.170777</td>\n",
       "      <td>-0.182490</td>\n",
       "      <td>-0.245290</td>\n",
       "      <td>-0.191485</td>\n",
       "      <td>-0.198568</td>\n",
       "      <td>-0.182700</td>\n",
       "      <td>-0.177811</td>\n",
       "      <td>-0.235758</td>\n",
       "    </tr>\n",
       "    <tr>\n",
       "      <th>61167</th>\n",
       "      <td>-0.136322</td>\n",
       "      <td>-0.520121</td>\n",
       "      <td>-0.169780</td>\n",
       "      <td>-0.664945</td>\n",
       "      <td>-0.356867</td>\n",
       "      <td>-0.152564</td>\n",
       "      <td>-0.191359</td>\n",
       "      <td>-0.457910</td>\n",
       "      <td>-0.282280</td>\n",
       "      <td>-0.147173</td>\n",
       "      <td>...</td>\n",
       "      <td>-0.292230</td>\n",
       "      <td>-0.192022</td>\n",
       "      <td>-0.353683</td>\n",
       "      <td>-0.243476</td>\n",
       "      <td>-0.245743</td>\n",
       "      <td>-0.315652</td>\n",
       "      <td>-0.448360</td>\n",
       "      <td>-0.208909</td>\n",
       "      <td>-0.177915</td>\n",
       "      <td>-0.269982</td>\n",
       "    </tr>\n",
       "    <tr>\n",
       "      <th>61168</th>\n",
       "      <td>-0.136258</td>\n",
       "      <td>1.356259</td>\n",
       "      <td>-0.169359</td>\n",
       "      <td>2.570300</td>\n",
       "      <td>-0.100510</td>\n",
       "      <td>-0.152563</td>\n",
       "      <td>-0.178538</td>\n",
       "      <td>2.360620</td>\n",
       "      <td>-0.154137</td>\n",
       "      <td>-0.147163</td>\n",
       "      <td>...</td>\n",
       "      <td>-0.297182</td>\n",
       "      <td>-0.188820</td>\n",
       "      <td>-0.111741</td>\n",
       "      <td>-0.233245</td>\n",
       "      <td>-0.243760</td>\n",
       "      <td>-0.263651</td>\n",
       "      <td>-0.435328</td>\n",
       "      <td>-0.207928</td>\n",
       "      <td>-0.169643</td>\n",
       "      <td>-0.263580</td>\n",
       "    </tr>\n",
       "    <tr>\n",
       "      <th>61169</th>\n",
       "      <td>-0.136318</td>\n",
       "      <td>-0.520729</td>\n",
       "      <td>-0.169778</td>\n",
       "      <td>-0.637207</td>\n",
       "      <td>-0.358970</td>\n",
       "      <td>-0.152564</td>\n",
       "      <td>-0.191388</td>\n",
       "      <td>-0.457911</td>\n",
       "      <td>-0.282315</td>\n",
       "      <td>-0.147170</td>\n",
       "      <td>...</td>\n",
       "      <td>-0.286373</td>\n",
       "      <td>-0.190357</td>\n",
       "      <td>-0.369085</td>\n",
       "      <td>-0.201983</td>\n",
       "      <td>-0.241629</td>\n",
       "      <td>-0.298386</td>\n",
       "      <td>-0.454168</td>\n",
       "      <td>-0.210320</td>\n",
       "      <td>-0.175876</td>\n",
       "      <td>-0.255571</td>\n",
       "    </tr>\n",
       "  </tbody>\n",
       "</table>\n",
       "<p>61170 rows × 1380 columns</p>\n",
       "</div>"
      ],
      "text/plain": [
       "       BroadDnd41CtcfUniPk151-ran  BroadDnd41Ezh239875UniPk151-ran  \\\n",
       "0                       -0.154390                        -0.517654   \n",
       "1                       -0.154486                        -0.526337   \n",
       "2                       -0.154486                        -0.528125   \n",
       "3                       -0.153836                        -0.513125   \n",
       "4                       -0.154373                        -0.490701   \n",
       "...                           ...                              ...   \n",
       "61165                   -0.136322                        -0.522225   \n",
       "61166                   -0.136286                        -0.522024   \n",
       "61167                   -0.136322                        -0.520121   \n",
       "61168                   -0.136258                         1.356259   \n",
       "61169                   -0.136318                        -0.520729   \n",
       "\n",
       "       BroadGm12878CtcfUniPk151-ran  BroadGm12878Ezh239875UniPk151-ran  \\\n",
       "0                         -0.198518                           1.045550   \n",
       "1                         -0.198527                           1.097025   \n",
       "2                         -0.198532                          -0.595088   \n",
       "3                         -0.157125                           0.776755   \n",
       "4                         -0.197923                          -0.629536   \n",
       "...                             ...                                ...   \n",
       "61165                     -0.169776                          -0.661247   \n",
       "61166                     -0.169777                          -0.668193   \n",
       "61167                     -0.169780                          -0.664945   \n",
       "61168                     -0.169359                           2.570300   \n",
       "61169                     -0.169778                          -0.637207   \n",
       "\n",
       "       BroadH1hescChd1a301218aUniPk151-ran  BroadH1hescCtcfUniPk151-ran  \\\n",
       "0                                -0.360801                    -0.179535   \n",
       "1                                -0.372392                    -0.179535   \n",
       "2                                -0.373646                    -0.179535   \n",
       "3                                -0.373142                    -0.178239   \n",
       "4                                -0.373864                    -0.179529   \n",
       "...                                    ...                          ...   \n",
       "61165                            -0.359026                    -0.152563   \n",
       "61166                            -0.334889                    -0.152524   \n",
       "61167                            -0.356867                    -0.152564   \n",
       "61168                            -0.100510                    -0.152563   \n",
       "61169                            -0.358970                    -0.152564   \n",
       "\n",
       "       BroadH1hescEzh239875UniPk151-ran  \\\n",
       "0                             -0.217770   \n",
       "1                             -0.219437   \n",
       "2                             -0.220829   \n",
       "3                             -0.220690   \n",
       "4                             -0.220554   \n",
       "...                                 ...   \n",
       "61165                         -0.191376   \n",
       "61166                         -0.191320   \n",
       "61167                         -0.191359   \n",
       "61168                         -0.178538   \n",
       "61169                         -0.191388   \n",
       "\n",
       "       BroadH1hescJarid1aab26049UniPk151-ran  \\\n",
       "0                                  -0.459057   \n",
       "1                                  -0.458986   \n",
       "2                                  -0.459128   \n",
       "3                                  -0.450845   \n",
       "4                                  -0.459159   \n",
       "...                                      ...   \n",
       "61165                              -0.457834   \n",
       "61166                              -0.457706   \n",
       "61167                              -0.457910   \n",
       "61168                               2.360620   \n",
       "61169                              -0.457911   \n",
       "\n",
       "       BroadH1hescRbbp5a300109aUniPk151-ran  BroadHelas3CtcfUniPk151-ran  ...  \\\n",
       "0                                 -0.324826                    -0.175673  ...   \n",
       "1                                 -0.324962                    -0.175673  ...   \n",
       "2                                 -0.324945                    -0.175666  ...   \n",
       "3                                 -0.304771                    -0.175553  ...   \n",
       "4                                 -0.324434                    -0.175160  ...   \n",
       "...                                     ...                          ...  ...   \n",
       "61165                             -0.282376                    -0.147173  ...   \n",
       "61166                             -0.282315                    -0.147162  ...   \n",
       "61167                             -0.282280                    -0.147173  ...   \n",
       "61168                             -0.154137                    -0.147163  ...   \n",
       "61169                             -0.282315                    -0.147170  ...   \n",
       "\n",
       "       UwMcf7CtcfUniPk151-ran.1  UwNb4CtcfUniPk151-ran.1  \\\n",
       "0                     -0.343486                -0.223921   \n",
       "1                     -0.338357                -0.215674   \n",
       "2                     -0.335260                -0.212019   \n",
       "3                     -0.193427                -0.198190   \n",
       "4                     -0.230177                -0.158104   \n",
       "...                         ...                      ...   \n",
       "61165                 -0.292017                -0.190517   \n",
       "61166                 -0.126047                -0.188932   \n",
       "61167                 -0.292230                -0.192022   \n",
       "61168                 -0.297182                -0.188820   \n",
       "61169                 -0.286373                -0.190357   \n",
       "\n",
       "       UwNhdfneoCtcfUniPk151-ran.1  UwNhekCtcfUniPk151-ran.1  \\\n",
       "0                        -0.331870                 -0.277389   \n",
       "1                        -0.373075                 -0.241736   \n",
       "2                        -0.208013                 -0.215740   \n",
       "3                        -0.265678                 -0.257696   \n",
       "4                        -0.394389                 -0.320062   \n",
       "...                            ...                       ...   \n",
       "61165                    -0.381051                 -0.211006   \n",
       "61166                    -0.170777                 -0.182490   \n",
       "61167                    -0.353683                 -0.243476   \n",
       "61168                    -0.111741                 -0.233245   \n",
       "61169                    -0.369085                 -0.201983   \n",
       "\n",
       "       UwNhlfCtcfUniPk151-ran.1  UwRptecCtcfUniPk151-ran.1  \\\n",
       "0                     -0.254582                  -0.130768   \n",
       "1                     -0.256540                  -0.332558   \n",
       "2                     -0.274748                  -0.299737   \n",
       "3                     -0.214739                   2.196165   \n",
       "4                     -0.028447                  -0.222698   \n",
       "...                         ...                        ...   \n",
       "61165                 -0.245971                  -0.323873   \n",
       "61166                 -0.245290                  -0.191485   \n",
       "61167                 -0.245743                  -0.315652   \n",
       "61168                 -0.243760                  -0.263651   \n",
       "61169                 -0.241629                  -0.298386   \n",
       "\n",
       "       UwSaecCtcfUniPk151-ran.1  UwSknshraCtcfUniPk151-ran.1  \\\n",
       "0                     -0.452403                    -0.261299   \n",
       "1                     -0.488405                    -0.259493   \n",
       "2                     -0.102483                    -0.259153   \n",
       "3                     -0.361218                    -0.226442   \n",
       "4                     -0.152905                    -0.251612   \n",
       "...                         ...                          ...   \n",
       "61165                 -0.415494                    -0.207852   \n",
       "61166                 -0.198568                    -0.182700   \n",
       "61167                 -0.448360                    -0.208909   \n",
       "61168                 -0.435328                    -0.207928   \n",
       "61169                 -0.454168                    -0.210320   \n",
       "\n",
       "       UwWerirb1CtcfUniPk151-ran.1  UwWi38CtcfUniPk151-ran.1  \n",
       "0                        -0.212030                 -0.328566  \n",
       "1                        -0.215981                 -0.319342  \n",
       "2                        -0.211673                 -0.297017  \n",
       "3                         1.717090                 -0.153760  \n",
       "4                        -0.201743                 -0.245226  \n",
       "...                            ...                       ...  \n",
       "61165                    -0.173248                 -0.288908  \n",
       "61166                    -0.177811                 -0.235758  \n",
       "61167                    -0.177915                 -0.269982  \n",
       "61168                    -0.169643                 -0.263580  \n",
       "61169                    -0.175876                 -0.255571  \n",
       "\n",
       "[61170 rows x 1380 columns]"
      ]
     },
     "execution_count": 6,
     "metadata": {},
     "output_type": "execute_result"
    }
   ],
   "source": [
    "X"
   ]
  },
  {
   "cell_type": "code",
   "execution_count": 7,
   "id": "49769645-78b1-41b1-85f8-6e5a018766ec",
   "metadata": {},
   "outputs": [],
   "source": [
    "col_lab = list(range(0,1380))\n",
    "X = X.set_axis(col_lab, axis=\"columns\")"
   ]
  },
  {
   "cell_type": "code",
   "execution_count": 8,
   "id": "ee8ecca4-4ab1-4944-8115-ae231169b821",
   "metadata": {},
   "outputs": [
    {
     "data": {
      "text/html": [
       "<div>\n",
       "<style scoped>\n",
       "    .dataframe tbody tr th:only-of-type {\n",
       "        vertical-align: middle;\n",
       "    }\n",
       "\n",
       "    .dataframe tbody tr th {\n",
       "        vertical-align: top;\n",
       "    }\n",
       "\n",
       "    .dataframe thead th {\n",
       "        text-align: right;\n",
       "    }\n",
       "</style>\n",
       "<table border=\"1\" class=\"dataframe\">\n",
       "  <thead>\n",
       "    <tr style=\"text-align: right;\">\n",
       "      <th></th>\n",
       "      <th>0</th>\n",
       "      <th>1</th>\n",
       "      <th>2</th>\n",
       "      <th>3</th>\n",
       "      <th>4</th>\n",
       "      <th>5</th>\n",
       "      <th>6</th>\n",
       "      <th>7</th>\n",
       "      <th>8</th>\n",
       "      <th>9</th>\n",
       "      <th>...</th>\n",
       "      <th>1370</th>\n",
       "      <th>1371</th>\n",
       "      <th>1372</th>\n",
       "      <th>1373</th>\n",
       "      <th>1374</th>\n",
       "      <th>1375</th>\n",
       "      <th>1376</th>\n",
       "      <th>1377</th>\n",
       "      <th>1378</th>\n",
       "      <th>1379</th>\n",
       "    </tr>\n",
       "  </thead>\n",
       "  <tbody>\n",
       "    <tr>\n",
       "      <th>0</th>\n",
       "      <td>-0.154390</td>\n",
       "      <td>-0.517654</td>\n",
       "      <td>-0.198518</td>\n",
       "      <td>1.045550</td>\n",
       "      <td>-0.360801</td>\n",
       "      <td>-0.179535</td>\n",
       "      <td>-0.217770</td>\n",
       "      <td>-0.459057</td>\n",
       "      <td>-0.324826</td>\n",
       "      <td>-0.175673</td>\n",
       "      <td>...</td>\n",
       "      <td>-0.343486</td>\n",
       "      <td>-0.223921</td>\n",
       "      <td>-0.331870</td>\n",
       "      <td>-0.277389</td>\n",
       "      <td>-0.254582</td>\n",
       "      <td>-0.130768</td>\n",
       "      <td>-0.452403</td>\n",
       "      <td>-0.261299</td>\n",
       "      <td>-0.212030</td>\n",
       "      <td>-0.328566</td>\n",
       "    </tr>\n",
       "    <tr>\n",
       "      <th>1</th>\n",
       "      <td>-0.154486</td>\n",
       "      <td>-0.526337</td>\n",
       "      <td>-0.198527</td>\n",
       "      <td>1.097025</td>\n",
       "      <td>-0.372392</td>\n",
       "      <td>-0.179535</td>\n",
       "      <td>-0.219437</td>\n",
       "      <td>-0.458986</td>\n",
       "      <td>-0.324962</td>\n",
       "      <td>-0.175673</td>\n",
       "      <td>...</td>\n",
       "      <td>-0.338357</td>\n",
       "      <td>-0.215674</td>\n",
       "      <td>-0.373075</td>\n",
       "      <td>-0.241736</td>\n",
       "      <td>-0.256540</td>\n",
       "      <td>-0.332558</td>\n",
       "      <td>-0.488405</td>\n",
       "      <td>-0.259493</td>\n",
       "      <td>-0.215981</td>\n",
       "      <td>-0.319342</td>\n",
       "    </tr>\n",
       "    <tr>\n",
       "      <th>2</th>\n",
       "      <td>-0.154486</td>\n",
       "      <td>-0.528125</td>\n",
       "      <td>-0.198532</td>\n",
       "      <td>-0.595088</td>\n",
       "      <td>-0.373646</td>\n",
       "      <td>-0.179535</td>\n",
       "      <td>-0.220829</td>\n",
       "      <td>-0.459128</td>\n",
       "      <td>-0.324945</td>\n",
       "      <td>-0.175666</td>\n",
       "      <td>...</td>\n",
       "      <td>-0.335260</td>\n",
       "      <td>-0.212019</td>\n",
       "      <td>-0.208013</td>\n",
       "      <td>-0.215740</td>\n",
       "      <td>-0.274748</td>\n",
       "      <td>-0.299737</td>\n",
       "      <td>-0.102483</td>\n",
       "      <td>-0.259153</td>\n",
       "      <td>-0.211673</td>\n",
       "      <td>-0.297017</td>\n",
       "    </tr>\n",
       "    <tr>\n",
       "      <th>3</th>\n",
       "      <td>-0.153836</td>\n",
       "      <td>-0.513125</td>\n",
       "      <td>-0.157125</td>\n",
       "      <td>0.776755</td>\n",
       "      <td>-0.373142</td>\n",
       "      <td>-0.178239</td>\n",
       "      <td>-0.220690</td>\n",
       "      <td>-0.450845</td>\n",
       "      <td>-0.304771</td>\n",
       "      <td>-0.175553</td>\n",
       "      <td>...</td>\n",
       "      <td>-0.193427</td>\n",
       "      <td>-0.198190</td>\n",
       "      <td>-0.265678</td>\n",
       "      <td>-0.257696</td>\n",
       "      <td>-0.214739</td>\n",
       "      <td>2.196165</td>\n",
       "      <td>-0.361218</td>\n",
       "      <td>-0.226442</td>\n",
       "      <td>1.717090</td>\n",
       "      <td>-0.153760</td>\n",
       "    </tr>\n",
       "    <tr>\n",
       "      <th>4</th>\n",
       "      <td>-0.154373</td>\n",
       "      <td>-0.490701</td>\n",
       "      <td>-0.197923</td>\n",
       "      <td>-0.629536</td>\n",
       "      <td>-0.373864</td>\n",
       "      <td>-0.179529</td>\n",
       "      <td>-0.220554</td>\n",
       "      <td>-0.459159</td>\n",
       "      <td>-0.324434</td>\n",
       "      <td>-0.175160</td>\n",
       "      <td>...</td>\n",
       "      <td>-0.230177</td>\n",
       "      <td>-0.158104</td>\n",
       "      <td>-0.394389</td>\n",
       "      <td>-0.320062</td>\n",
       "      <td>-0.028447</td>\n",
       "      <td>-0.222698</td>\n",
       "      <td>-0.152905</td>\n",
       "      <td>-0.251612</td>\n",
       "      <td>-0.201743</td>\n",
       "      <td>-0.245226</td>\n",
       "    </tr>\n",
       "    <tr>\n",
       "      <th>...</th>\n",
       "      <td>...</td>\n",
       "      <td>...</td>\n",
       "      <td>...</td>\n",
       "      <td>...</td>\n",
       "      <td>...</td>\n",
       "      <td>...</td>\n",
       "      <td>...</td>\n",
       "      <td>...</td>\n",
       "      <td>...</td>\n",
       "      <td>...</td>\n",
       "      <td>...</td>\n",
       "      <td>...</td>\n",
       "      <td>...</td>\n",
       "      <td>...</td>\n",
       "      <td>...</td>\n",
       "      <td>...</td>\n",
       "      <td>...</td>\n",
       "      <td>...</td>\n",
       "      <td>...</td>\n",
       "      <td>...</td>\n",
       "      <td>...</td>\n",
       "    </tr>\n",
       "    <tr>\n",
       "      <th>61165</th>\n",
       "      <td>-0.136322</td>\n",
       "      <td>-0.522225</td>\n",
       "      <td>-0.169776</td>\n",
       "      <td>-0.661247</td>\n",
       "      <td>-0.359026</td>\n",
       "      <td>-0.152563</td>\n",
       "      <td>-0.191376</td>\n",
       "      <td>-0.457834</td>\n",
       "      <td>-0.282376</td>\n",
       "      <td>-0.147173</td>\n",
       "      <td>...</td>\n",
       "      <td>-0.292017</td>\n",
       "      <td>-0.190517</td>\n",
       "      <td>-0.381051</td>\n",
       "      <td>-0.211006</td>\n",
       "      <td>-0.245971</td>\n",
       "      <td>-0.323873</td>\n",
       "      <td>-0.415494</td>\n",
       "      <td>-0.207852</td>\n",
       "      <td>-0.173248</td>\n",
       "      <td>-0.288908</td>\n",
       "    </tr>\n",
       "    <tr>\n",
       "      <th>61166</th>\n",
       "      <td>-0.136286</td>\n",
       "      <td>-0.522024</td>\n",
       "      <td>-0.169777</td>\n",
       "      <td>-0.668193</td>\n",
       "      <td>-0.334889</td>\n",
       "      <td>-0.152524</td>\n",
       "      <td>-0.191320</td>\n",
       "      <td>-0.457706</td>\n",
       "      <td>-0.282315</td>\n",
       "      <td>-0.147162</td>\n",
       "      <td>...</td>\n",
       "      <td>-0.126047</td>\n",
       "      <td>-0.188932</td>\n",
       "      <td>-0.170777</td>\n",
       "      <td>-0.182490</td>\n",
       "      <td>-0.245290</td>\n",
       "      <td>-0.191485</td>\n",
       "      <td>-0.198568</td>\n",
       "      <td>-0.182700</td>\n",
       "      <td>-0.177811</td>\n",
       "      <td>-0.235758</td>\n",
       "    </tr>\n",
       "    <tr>\n",
       "      <th>61167</th>\n",
       "      <td>-0.136322</td>\n",
       "      <td>-0.520121</td>\n",
       "      <td>-0.169780</td>\n",
       "      <td>-0.664945</td>\n",
       "      <td>-0.356867</td>\n",
       "      <td>-0.152564</td>\n",
       "      <td>-0.191359</td>\n",
       "      <td>-0.457910</td>\n",
       "      <td>-0.282280</td>\n",
       "      <td>-0.147173</td>\n",
       "      <td>...</td>\n",
       "      <td>-0.292230</td>\n",
       "      <td>-0.192022</td>\n",
       "      <td>-0.353683</td>\n",
       "      <td>-0.243476</td>\n",
       "      <td>-0.245743</td>\n",
       "      <td>-0.315652</td>\n",
       "      <td>-0.448360</td>\n",
       "      <td>-0.208909</td>\n",
       "      <td>-0.177915</td>\n",
       "      <td>-0.269982</td>\n",
       "    </tr>\n",
       "    <tr>\n",
       "      <th>61168</th>\n",
       "      <td>-0.136258</td>\n",
       "      <td>1.356259</td>\n",
       "      <td>-0.169359</td>\n",
       "      <td>2.570300</td>\n",
       "      <td>-0.100510</td>\n",
       "      <td>-0.152563</td>\n",
       "      <td>-0.178538</td>\n",
       "      <td>2.360620</td>\n",
       "      <td>-0.154137</td>\n",
       "      <td>-0.147163</td>\n",
       "      <td>...</td>\n",
       "      <td>-0.297182</td>\n",
       "      <td>-0.188820</td>\n",
       "      <td>-0.111741</td>\n",
       "      <td>-0.233245</td>\n",
       "      <td>-0.243760</td>\n",
       "      <td>-0.263651</td>\n",
       "      <td>-0.435328</td>\n",
       "      <td>-0.207928</td>\n",
       "      <td>-0.169643</td>\n",
       "      <td>-0.263580</td>\n",
       "    </tr>\n",
       "    <tr>\n",
       "      <th>61169</th>\n",
       "      <td>-0.136318</td>\n",
       "      <td>-0.520729</td>\n",
       "      <td>-0.169778</td>\n",
       "      <td>-0.637207</td>\n",
       "      <td>-0.358970</td>\n",
       "      <td>-0.152564</td>\n",
       "      <td>-0.191388</td>\n",
       "      <td>-0.457911</td>\n",
       "      <td>-0.282315</td>\n",
       "      <td>-0.147170</td>\n",
       "      <td>...</td>\n",
       "      <td>-0.286373</td>\n",
       "      <td>-0.190357</td>\n",
       "      <td>-0.369085</td>\n",
       "      <td>-0.201983</td>\n",
       "      <td>-0.241629</td>\n",
       "      <td>-0.298386</td>\n",
       "      <td>-0.454168</td>\n",
       "      <td>-0.210320</td>\n",
       "      <td>-0.175876</td>\n",
       "      <td>-0.255571</td>\n",
       "    </tr>\n",
       "  </tbody>\n",
       "</table>\n",
       "<p>61170 rows × 1380 columns</p>\n",
       "</div>"
      ],
      "text/plain": [
       "           0         1         2         3         4         5         6     \\\n",
       "0     -0.154390 -0.517654 -0.198518  1.045550 -0.360801 -0.179535 -0.217770   \n",
       "1     -0.154486 -0.526337 -0.198527  1.097025 -0.372392 -0.179535 -0.219437   \n",
       "2     -0.154486 -0.528125 -0.198532 -0.595088 -0.373646 -0.179535 -0.220829   \n",
       "3     -0.153836 -0.513125 -0.157125  0.776755 -0.373142 -0.178239 -0.220690   \n",
       "4     -0.154373 -0.490701 -0.197923 -0.629536 -0.373864 -0.179529 -0.220554   \n",
       "...         ...       ...       ...       ...       ...       ...       ...   \n",
       "61165 -0.136322 -0.522225 -0.169776 -0.661247 -0.359026 -0.152563 -0.191376   \n",
       "61166 -0.136286 -0.522024 -0.169777 -0.668193 -0.334889 -0.152524 -0.191320   \n",
       "61167 -0.136322 -0.520121 -0.169780 -0.664945 -0.356867 -0.152564 -0.191359   \n",
       "61168 -0.136258  1.356259 -0.169359  2.570300 -0.100510 -0.152563 -0.178538   \n",
       "61169 -0.136318 -0.520729 -0.169778 -0.637207 -0.358970 -0.152564 -0.191388   \n",
       "\n",
       "           7         8         9     ...      1370      1371      1372  \\\n",
       "0     -0.459057 -0.324826 -0.175673  ... -0.343486 -0.223921 -0.331870   \n",
       "1     -0.458986 -0.324962 -0.175673  ... -0.338357 -0.215674 -0.373075   \n",
       "2     -0.459128 -0.324945 -0.175666  ... -0.335260 -0.212019 -0.208013   \n",
       "3     -0.450845 -0.304771 -0.175553  ... -0.193427 -0.198190 -0.265678   \n",
       "4     -0.459159 -0.324434 -0.175160  ... -0.230177 -0.158104 -0.394389   \n",
       "...         ...       ...       ...  ...       ...       ...       ...   \n",
       "61165 -0.457834 -0.282376 -0.147173  ... -0.292017 -0.190517 -0.381051   \n",
       "61166 -0.457706 -0.282315 -0.147162  ... -0.126047 -0.188932 -0.170777   \n",
       "61167 -0.457910 -0.282280 -0.147173  ... -0.292230 -0.192022 -0.353683   \n",
       "61168  2.360620 -0.154137 -0.147163  ... -0.297182 -0.188820 -0.111741   \n",
       "61169 -0.457911 -0.282315 -0.147170  ... -0.286373 -0.190357 -0.369085   \n",
       "\n",
       "           1373      1374      1375      1376      1377      1378      1379  \n",
       "0     -0.277389 -0.254582 -0.130768 -0.452403 -0.261299 -0.212030 -0.328566  \n",
       "1     -0.241736 -0.256540 -0.332558 -0.488405 -0.259493 -0.215981 -0.319342  \n",
       "2     -0.215740 -0.274748 -0.299737 -0.102483 -0.259153 -0.211673 -0.297017  \n",
       "3     -0.257696 -0.214739  2.196165 -0.361218 -0.226442  1.717090 -0.153760  \n",
       "4     -0.320062 -0.028447 -0.222698 -0.152905 -0.251612 -0.201743 -0.245226  \n",
       "...         ...       ...       ...       ...       ...       ...       ...  \n",
       "61165 -0.211006 -0.245971 -0.323873 -0.415494 -0.207852 -0.173248 -0.288908  \n",
       "61166 -0.182490 -0.245290 -0.191485 -0.198568 -0.182700 -0.177811 -0.235758  \n",
       "61167 -0.243476 -0.245743 -0.315652 -0.448360 -0.208909 -0.177915 -0.269982  \n",
       "61168 -0.233245 -0.243760 -0.263651 -0.435328 -0.207928 -0.169643 -0.263580  \n",
       "61169 -0.201983 -0.241629 -0.298386 -0.454168 -0.210320 -0.175876 -0.255571  \n",
       "\n",
       "[61170 rows x 1380 columns]"
      ]
     },
     "execution_count": 8,
     "metadata": {},
     "output_type": "execute_result"
    }
   ],
   "source": [
    "X"
   ]
  },
  {
   "cell_type": "code",
   "execution_count": 9,
   "id": "c7e8516a-5939-4a37-92a5-936dd4a8570d",
   "metadata": {},
   "outputs": [],
   "source": [
    "import pandas as pd\n",
    "\n",
    "snp_prvcs = pd.read_csv(path_prefix + \"DNABERT_2/Datasets/PRVCS/REG_dataset_XY-named.csv\", sep=',')\n"
   ]
  },
  {
   "cell_type": "code",
   "execution_count": 10,
   "id": "6e93133f-2216-47d0-bac9-2839adb720c5",
   "metadata": {},
   "outputs": [],
   "source": [
    "# Using trucated model\n",
    "#y = snp_prvcs['label'][0:10492]\n",
    "\n",
    "y = snp_prvcs['label'][0:61170]"
   ]
  },
  {
   "cell_type": "code",
   "execution_count": 11,
   "id": "ba09a3ff-1382-4bdf-b7ae-63c396932e0d",
   "metadata": {},
   "outputs": [
    {
     "data": {
      "text/plain": [
       "0        1\n",
       "1        1\n",
       "2        1\n",
       "3        1\n",
       "4        1\n",
       "        ..\n",
       "61165    0\n",
       "61166    0\n",
       "61167    0\n",
       "61168    0\n",
       "61169    0\n",
       "Name: label, Length: 61170, dtype: int64"
      ]
     },
     "execution_count": 11,
     "metadata": {},
     "output_type": "execute_result"
    }
   ],
   "source": [
    "y"
   ]
  },
  {
   "cell_type": "code",
   "execution_count": 12,
   "id": "a6f2234d-1bd1-41af-a085-4247dc2c3455",
   "metadata": {},
   "outputs": [
    {
     "data": {
      "text/plain": [
       "5240    1\n",
       "5241    1\n",
       "5242    1\n",
       "5243    1\n",
       "5244    1\n",
       "5245    1\n",
       "5246    1\n",
       "5247    0\n",
       "5248    0\n",
       "5249    0\n",
       "Name: label, dtype: int64"
      ]
     },
     "execution_count": 12,
     "metadata": {},
     "output_type": "execute_result"
    }
   ],
   "source": [
    "y[5240:5250]"
   ]
  },
  {
   "cell_type": "code",
   "execution_count": 13,
   "id": "0d22875d-1244-4ffb-a7a2-1c379998e15b",
   "metadata": {},
   "outputs": [
    {
     "data": {
      "text/html": [
       "<div>\n",
       "<style scoped>\n",
       "    .dataframe tbody tr th:only-of-type {\n",
       "        vertical-align: middle;\n",
       "    }\n",
       "\n",
       "    .dataframe tbody tr th {\n",
       "        vertical-align: top;\n",
       "    }\n",
       "\n",
       "    .dataframe thead th {\n",
       "        text-align: right;\n",
       "    }\n",
       "</style>\n",
       "<table border=\"1\" class=\"dataframe\">\n",
       "  <thead>\n",
       "    <tr style=\"text-align: right;\">\n",
       "      <th></th>\n",
       "      <th>Name</th>\n",
       "      <th>Chromosome</th>\n",
       "      <th>Position</th>\n",
       "      <th>Ref</th>\n",
       "      <th>Alt</th>\n",
       "      <th>label</th>\n",
       "    </tr>\n",
       "  </thead>\n",
       "  <tbody>\n",
       "    <tr>\n",
       "      <th>5240</th>\n",
       "      <td>SNP05241</td>\n",
       "      <td>X</td>\n",
       "      <td>113818582</td>\n",
       "      <td>G</td>\n",
       "      <td>C</td>\n",
       "      <td>1</td>\n",
       "    </tr>\n",
       "    <tr>\n",
       "      <th>5241</th>\n",
       "      <td>SNP05242</td>\n",
       "      <td>X</td>\n",
       "      <td>115305126</td>\n",
       "      <td>A</td>\n",
       "      <td>C</td>\n",
       "      <td>1</td>\n",
       "    </tr>\n",
       "    <tr>\n",
       "      <th>5242</th>\n",
       "      <td>SNP05243</td>\n",
       "      <td>X</td>\n",
       "      <td>115590299</td>\n",
       "      <td>C</td>\n",
       "      <td>G</td>\n",
       "      <td>1</td>\n",
       "    </tr>\n",
       "    <tr>\n",
       "      <th>5243</th>\n",
       "      <td>SNP05244</td>\n",
       "      <td>X</td>\n",
       "      <td>128870791</td>\n",
       "      <td>C</td>\n",
       "      <td>A</td>\n",
       "      <td>1</td>\n",
       "    </tr>\n",
       "    <tr>\n",
       "      <th>5244</th>\n",
       "      <td>SNP05245</td>\n",
       "      <td>X</td>\n",
       "      <td>135726950</td>\n",
       "      <td>A</td>\n",
       "      <td>G</td>\n",
       "      <td>1</td>\n",
       "    </tr>\n",
       "    <tr>\n",
       "      <th>5245</th>\n",
       "      <td>SNP05246</td>\n",
       "      <td>X</td>\n",
       "      <td>138612197</td>\n",
       "      <td>T</td>\n",
       "      <td>C</td>\n",
       "      <td>1</td>\n",
       "    </tr>\n",
       "    <tr>\n",
       "      <th>5246</th>\n",
       "      <td>SNP05247</td>\n",
       "      <td>X</td>\n",
       "      <td>145078733</td>\n",
       "      <td>A</td>\n",
       "      <td>G</td>\n",
       "      <td>1</td>\n",
       "    </tr>\n",
       "    <tr>\n",
       "      <th>5247</th>\n",
       "      <td>SNP05248</td>\n",
       "      <td>1</td>\n",
       "      <td>5318950</td>\n",
       "      <td>A</td>\n",
       "      <td>T</td>\n",
       "      <td>0</td>\n",
       "    </tr>\n",
       "    <tr>\n",
       "      <th>5248</th>\n",
       "      <td>SNP05249</td>\n",
       "      <td>1</td>\n",
       "      <td>5320503</td>\n",
       "      <td>C</td>\n",
       "      <td>T</td>\n",
       "      <td>0</td>\n",
       "    </tr>\n",
       "    <tr>\n",
       "      <th>5249</th>\n",
       "      <td>SNP05250</td>\n",
       "      <td>1</td>\n",
       "      <td>5321508</td>\n",
       "      <td>G</td>\n",
       "      <td>C</td>\n",
       "      <td>0</td>\n",
       "    </tr>\n",
       "  </tbody>\n",
       "</table>\n",
       "</div>"
      ],
      "text/plain": [
       "          Name Chromosome   Position Ref Alt  label\n",
       "5240  SNP05241          X  113818582   G   C      1\n",
       "5241  SNP05242          X  115305126   A   C      1\n",
       "5242  SNP05243          X  115590299   C   G      1\n",
       "5243  SNP05244          X  128870791   C   A      1\n",
       "5244  SNP05245          X  135726950   A   G      1\n",
       "5245  SNP05246          X  138612197   T   C      1\n",
       "5246  SNP05247          X  145078733   A   G      1\n",
       "5247  SNP05248          1    5318950   A   T      0\n",
       "5248  SNP05249          1    5320503   C   T      0\n",
       "5249  SNP05250          1    5321508   G   C      0"
      ]
     },
     "execution_count": 13,
     "metadata": {},
     "output_type": "execute_result"
    }
   ],
   "source": [
    "snp_prvcs[5240:5250]"
   ]
  },
  {
   "cell_type": "code",
   "execution_count": 14,
   "id": "3c1516c0-c145-4693-9ce6-bcaf3baed2be",
   "metadata": {},
   "outputs": [],
   "source": [
    "from sklearn.model_selection import train_test_split\n",
    "test_size = 0.3\n",
    "train_percent = 0.70\n",
    "#val_percent = 0.15\n",
    "#test_percent = 0.15\n",
    "seed = 7\n",
    "X_train, X_test, y_train, y_test = train_test_split(X, y, test_size=1-train_percent, random_state=seed)\n",
    "\n",
    "# Added validation dataset (commented out)\n",
    "\n",
    "#X_val, X_test, y_val, y_test = train_test_split(X_test, y_test, test_size=test_percent/(test_percent+val_percent), random_state=seed)"
   ]
  },
  {
   "cell_type": "markdown",
   "id": "71068789-f14f-455e-8226-65fafd162097",
   "metadata": {},
   "source": [
    "Try logistic regression for classification"
   ]
  },
  {
   "cell_type": "code",
   "execution_count": 15,
   "id": "a1d1a110-b4c8-406b-a3f9-61335fc0f217",
   "metadata": {},
   "outputs": [],
   "source": [
    "from sklearn.linear_model import LogisticRegression\n",
    "\n",
    "lr_model = LogisticRegression(solver='lbfgs', max_iter=1000)\n",
    "lr_train_model = lr_model.fit(X_train,y_train)\n",
    "pred_lr = lr_model.predict(X_test)"
   ]
  },
  {
   "cell_type": "code",
   "execution_count": 16,
   "id": "580c9c56-de49-42ad-b8dd-3e72119b774a",
   "metadata": {},
   "outputs": [
    {
     "name": "stdout",
     "output_type": "stream",
     "text": [
      "Accuracy_model_lr: 0.9129\n",
      "F1_model_lr: 0.0037\n",
      "MCC_model_lr: -0.0041\n",
      "ROC_AUC_model_lr: 0.4996\n"
     ]
    }
   ],
   "source": [
    "from sklearn.metrics import accuracy_score, f1_score, matthews_corrcoef, roc_auc_score\n",
    "\n",
    "print(\"Accuracy_model_lr: %.4f\" % (accuracy_score(y_test, pred_lr))) \n",
    "print(\"F1_model_lr: %.4f\" % (f1_score(y_test, pred_lr)))\n",
    "print(\"MCC_model_lr: %.4f\" % (matthews_corrcoef(y_test, pred_lr)))\n",
    "print(\"ROC_AUC_model_lr: %.4f\" % (roc_auc_score(y_test, pred_lr))) # don't know about call: y_score vs. pred"
   ]
  },
  {
   "cell_type": "code",
   "execution_count": 17,
   "id": "6c63aeb5-f21b-4fac-ac17-6adcca56c9f1",
   "metadata": {},
   "outputs": [
    {
     "name": "stdout",
     "output_type": "stream",
     "text": [
      "3 45 1554 16750\n"
     ]
    }
   ],
   "source": [
    "from sklearn.metrics import confusion_matrix\n",
    "\n",
    "#confusion_matrix(y_val, pred1)\n",
    "tn, fp, fn, tp = confusion_matrix(y_test, pred_lr).ravel()\n",
    "print(tp, fp, fn, tn)"
   ]
  },
  {
   "cell_type": "code",
   "execution_count": 18,
   "id": "577c29db-a50f-4b98-bdb1-526b3ed58602",
   "metadata": {},
   "outputs": [
    {
     "data": {
      "text/plain": [
       "<sklearn.metrics._plot.roc_curve.RocCurveDisplay at 0x155513b58b20>"
      ]
     },
     "execution_count": 18,
     "metadata": {},
     "output_type": "execute_result"
    },
    {
     "data": {
      "image/png": "[encoded data removed]",
      "text/plain": [
       "<Figure size 432x288 with 1 Axes>"
      ]
     },
     "metadata": {
      "needs_background": "light"
     },
     "output_type": "display_data"
    }
   ],
   "source": [
    "import matplotlib.pyplot as plt\n",
    "from sklearn import metrics\n",
    "from sklearn.metrics import roc_curve\n",
    "\n",
    "fpr, tpr, _ = roc_curve(y_test, pred_lr)\n",
    "roc_auc = roc_auc_score(y_test, pred_lr)\n",
    "display = metrics.RocCurveDisplay(fpr=fpr, tpr=tpr, roc_auc=roc_auc)\n",
    "display.plot(name=\"ROC Curve\")"
   ]
  },
  {
   "cell_type": "code",
   "execution_count": 19,
   "id": "5edc1204-4609-4965-b50d-74cb1f8e46e2",
   "metadata": {},
   "outputs": [
    {
     "data": {
      "text/plain": [
       "['/expanse/lustre/projects/nji102/sgriesmer/DNABERT_2/Output_Models/model_xpg_boost_PRVCS_REG_lr.joblib']"
      ]
     },
     "execution_count": 19,
     "metadata": {},
     "output_type": "execute_result"
    }
   ],
   "source": [
    "# Save logistic regression model\n",
    "\n",
    "from joblib import dump, load\n",
    "\n",
    "best_estimator = lr_train_model\n",
    "dump(best_estimator, path_prefix + \"DNABERT_2/Output_Models/\" + \"model_xpg_boost_PRVCS_REG_lr.joblib\")"
   ]
  },
  {
   "cell_type": "markdown",
   "id": "3f68473e-1a6b-4369-b642-ab3091a6c0bd",
   "metadata": {},
   "source": [
    "Try logistic regression with penalty"
   ]
  },
  {
   "cell_type": "code",
   "execution_count": 20,
   "id": "da76e2c0-76be-49e4-823f-9e20cce71639",
   "metadata": {},
   "outputs": [],
   "source": [
    "from sklearn.linear_model import LogisticRegression\n",
    "\n",
    "lrpen_model = LogisticRegression(solver='liblinear', penalty='l1', max_iter=1000)\n",
    "lrpen_train_model = lrpen_model.fit(X_train,y_train)\n",
    "pred_lrpen = lrpen_model.predict(X_test)"
   ]
  },
  {
   "cell_type": "code",
   "execution_count": 21,
   "id": "64243f53-7054-480a-9869-47125c0783e8",
   "metadata": {},
   "outputs": [
    {
     "name": "stdout",
     "output_type": "stream",
     "text": [
      "Accuracy_model_lrpen: 0.9132\n",
      "F1_model_lrpen: 0.0025\n",
      "MCC_model_lrpen: -0.0058\n",
      "ROC_AUC_model_lrpen: 0.4995\n"
     ]
    }
   ],
   "source": [
    "from sklearn.metrics import accuracy_score, f1_score, matthews_corrcoef, roc_auc_score\n",
    "\n",
    "print(\"Accuracy_model_lrpen: %.4f\" % (accuracy_score(y_test, pred_lrpen))) \n",
    "print(\"F1_model_lrpen: %.4f\" % (f1_score(y_test, pred_lrpen)))\n",
    "print(\"MCC_model_lrpen: %.4f\" % (matthews_corrcoef(y_test, pred_lrpen)))\n",
    "print(\"ROC_AUC_model_lrpen: %.4f\" % (roc_auc_score(y_test, pred_lrpen))) # don't know about call: y_score vs. pred"
   ]
  },
  {
   "cell_type": "code",
   "execution_count": 22,
   "id": "8f81419a-43cc-4af2-9e3e-a9e2825ab8c3",
   "metadata": {},
   "outputs": [
    {
     "name": "stdout",
     "output_type": "stream",
     "text": [
      "Accuracy_model1: 0.9389\n",
      "Accuracy_model2: 0.9413\n",
      "F1_model1: 0.6472\n",
      "F1_model2: 0.6621\n",
      "MCC_model1: 0.6139\n",
      "MCC_model2: 0.6301\n",
      "ROC_AUC_model1: 0.8125\n",
      "ROC_AUC_model2: 0.8219\n"
     ]
    }
   ],
   "source": [
    "from sklearn.metrics import accuracy_score, f1_score, matthews_corrcoef, roc_auc_score\n",
    "\n",
    "model1 = XGBClassifier() \n",
    "model2 = XGBClassifier(n_estimators=100, max_depth=8, learning_rate=0.1, subsample=0.5) \n",
    "train_model1 = model1.fit(X_train, y_train) \n",
    "train_model2 = model2.fit(X_train, y_train) \n",
    "#pred1 = train_model1.predict(X_val) \n",
    "#pred2 = train_model2.predict(X_val) \n",
    "pred1 = train_model1.predict(X_test) \n",
    "pred2 = train_model2.predict(X_test)\n",
    "#print(\"Accuracy_model1: %.4f\" % (accuracy_score(y_val, pred1))) \n",
    "#print(\"Accuracy_model2: %.4f\" % (accuracy_score(y_val, pred2))) \n",
    "#print(\"F1_model1: %.4f\" % (f1_score(y_val, pred1)))\n",
    "#print(\"F1_model2: %.4f\" % (f1_score(y_val, pred2)))\n",
    "#print(\"MCC_model1: %.4f\" % (matthews_corrcoef(y_val, pred1)))\n",
    "#print(\"MCC_model2: %.4f\" % (matthews_corrcoef(y_val, pred2)))\n",
    "#print(\"ROC_AUC_model1: %.4f\" % (roc_auc_score(y_val, pred1))) # don't know about call: y_score vs. pred\n",
    "#print(\"ROC_AUC_model2: %.4f\" % (roc_auc_score(y_val, pred2))) # don't know about call: y_score vs. pred\n",
    "print(\"Accuracy_model1: %.4f\" % (accuracy_score(y_test, pred1))) \n",
    "print(\"Accuracy_model2: %.4f\" % (accuracy_score(y_test, pred2))) \n",
    "print(\"F1_model1: %.4f\" % (f1_score(y_test, pred1)))\n",
    "print(\"F1_model2: %.4f\" % (f1_score(y_test, pred2)))\n",
    "print(\"MCC_model1: %.4f\" % (matthews_corrcoef(y_test, pred1)))\n",
    "print(\"MCC_model2: %.4f\" % (matthews_corrcoef(y_test, pred2)))\n",
    "print(\"ROC_AUC_model1: %.4f\" % (roc_auc_score(y_test, pred1))) # don't know about call: y_score vs. pred\n",
    "print(\"ROC_AUC_model2: %.4f\" % (roc_auc_score(y_test, pred2))) # don't know about call: y_score vs. pred\n",
    "\n"
   ]
  },
  {
   "cell_type": "code",
   "execution_count": 23,
   "id": "c34bbbb6-0322-42cd-b9db-39e4810d3c41",
   "metadata": {},
   "outputs": [
    {
     "name": "stdout",
     "output_type": "stream",
     "text": [
      "1028 592 529 16203\n"
     ]
    }
   ],
   "source": [
    "from sklearn.metrics import confusion_matrix\n",
    "\n",
    "tn, fp, fn, tp = confusion_matrix(y_test, pred1).ravel()\n",
    "print(tp, fp, fn, tn)"
   ]
  },
  {
   "cell_type": "code",
   "execution_count": 24,
   "id": "97bb0167-e361-4f4b-bdb8-7bcecb812330",
   "metadata": {},
   "outputs": [
    {
     "data": {
      "text/plain": [
       "<sklearn.metrics._plot.roc_curve.RocCurveDisplay at 0x15551427fc70>"
      ]
     },
     "execution_count": 24,
     "metadata": {},
     "output_type": "execute_result"
    },
    {
     "data": {
      "image/png": "[encoded data removed]",
      "text/plain": [
       "<Figure size 432x288 with 1 Axes>"
      ]
     },
     "metadata": {
      "needs_background": "light"
     },
     "output_type": "display_data"
    }
   ],
   "source": [
    "import matplotlib.pyplot as plt\n",
    "from sklearn import metrics\n",
    "from sklearn.metrics import roc_curve\n",
    "\n",
    "fpr, tpr, _ = roc_curve(y_test, pred1)\n",
    "roc_auc = roc_auc_score(y_test, pred1)\n",
    "display = metrics.RocCurveDisplay(fpr=fpr, tpr=tpr, roc_auc=roc_auc)\n",
    "display.plot(name=\"ROC Curve\")"
   ]
  },
  {
   "cell_type": "code",
   "execution_count": 25,
   "id": "4565cf2b-d81c-4d57-8114-3eb189767bf6",
   "metadata": {},
   "outputs": [
    {
     "name": "stdout",
     "output_type": "stream",
     "text": [
      "1056 577 501 16218\n"
     ]
    }
   ],
   "source": [
    "tn, fp, fn, tp = confusion_matrix(y_test, pred2).ravel()\n",
    "print(tp, fp, fn, tn)"
   ]
  },
  {
   "cell_type": "code",
   "execution_count": 26,
   "id": "767472a3-3501-48e6-828d-6b3dadc40d40",
   "metadata": {},
   "outputs": [
    {
     "data": {
      "text/plain": [
       "<sklearn.metrics._plot.roc_curve.RocCurveDisplay at 0x1555139ad940>"
      ]
     },
     "execution_count": 26,
     "metadata": {},
     "output_type": "execute_result"
    },
    {
     "data": {
      "image/png": "[encoded data removed]",
      "text/plain": [
       "<Figure size 432x288 with 1 Axes>"
      ]
     },
     "metadata": {
      "needs_background": "light"
     },
     "output_type": "display_data"
    }
   ],
   "source": [
    "import matplotlib.pyplot as plt\n",
    "from sklearn import metrics\n",
    "from sklearn.metrics import roc_curve\n",
    "\n",
    "fpr, tpr, _ = roc_curve(y_test, pred2)\n",
    "roc_auc = roc_auc_score(y_test, pred2)\n",
    "display = metrics.RocCurveDisplay(fpr=fpr, tpr=tpr, roc_auc=roc_auc)\n",
    "display.plot(name=\"ROC Curve\")"
   ]
  },
  {
   "cell_type": "code",
   "execution_count": 29,
   "id": "af683b67-0945-4dbc-bc99-9aab56b58cf5",
   "metadata": {},
   "outputs": [
    {
     "name": "stdout",
     "output_type": "stream",
     "text": [
      "Accuracy_model3: 0.9425\n",
      "F1_model3: 0.6694\n",
      "MCC_model3: 0.6381\n",
      "ROC_AUC_model3: 0.8261\n"
     ]
    }
   ],
   "source": [
    "model3 = XGBClassifier(\n",
    " learning_rate =0.1,\n",
    " n_estimators=1000,\n",
    " max_depth=5,\n",
    " min_child_weight=1,\n",
    " gamma=0,\n",
    " subsample=0.8,\n",
    " colsample_bytree=0.8,\n",
    " objective= 'binary:logistic',\n",
    " nthread=4,\n",
    " scale_pos_weight=1,\n",
    " seed=7)\n",
    "\n",
    "train_model3 = model3.fit(X_train, y_train)\n",
    "#pred3 = train_model3.predict(X_val)\n",
    "#print(\"Accuracy_model3: %.4f\" % (accuracy_score(y_val, pred3)))\n",
    "#print(\"F1_model3: %.4f\" % (f1_score(y_val, pred3)))\n",
    "#print(\"MCC_model3: %.4f\" % (matthews_corrcoef(y_val, pred3)))\n",
    "#print(\"ROC_AUC_model3: %.4f\" % (roc_auc_score(y_val, pred3))) # don't know about call: y_score vs. pr\n",
    "pred3 = train_model3.predict(X_test)\n",
    "print(\"Accuracy_model3: %.4f\" % (accuracy_score(y_test, pred3)))\n",
    "print(\"F1_model3: %.4f\" % (f1_score(y_test, pred3)))\n",
    "print(\"MCC_model3: %.4f\" % (matthews_corrcoef(y_test, pred3)))\n",
    "print(\"ROC_AUC_model3: %.4f\" % (roc_auc_score(y_test, pred3))) # don't know about call: y_score vs. pred"
   ]
  },
  {
   "cell_type": "code",
   "execution_count": 30,
   "id": "4e249a1e-35b5-4aba-b16d-712a9ed2e4fa",
   "metadata": {},
   "outputs": [
    {
     "name": "stdout",
     "output_type": "stream",
     "text": [
      "1068 566 489 16229\n"
     ]
    }
   ],
   "source": [
    "tn, fp, fn, tp = confusion_matrix(y_test, pred3).ravel()\n",
    "print(tp, fp, fn, tn)"
   ]
  },
  {
   "cell_type": "code",
   "execution_count": 31,
   "id": "cb27fb41-e7ba-4aed-b9a7-3d951350a7f7",
   "metadata": {},
   "outputs": [
    {
     "data": {
      "text/plain": [
       "<sklearn.metrics._plot.roc_curve.RocCurveDisplay at 0x1555522f1640>"
      ]
     },
     "execution_count": 31,
     "metadata": {},
     "output_type": "execute_result"
    },
    {
     "data": {
      "image/png": "[encoded data removed]",
      "text/plain": [
       "<Figure size 432x288 with 1 Axes>"
      ]
     },
     "metadata": {
      "needs_background": "light"
     },
     "output_type": "display_data"
    }
   ],
   "source": [
    "import matplotlib.pyplot as plt\n",
    "from sklearn import metrics\n",
    "from sklearn.metrics import roc_curve\n",
    "\n",
    "fpr, tpr, _ = roc_curve(y_test, pred3)\n",
    "roc_auc = roc_auc_score(y_test, pred3)\n",
    "display = metrics.RocCurveDisplay(fpr=fpr, tpr=tpr, roc_auc=roc_auc)\n",
    "display.plot(name=\"ROC Curve\")"
   ]
  },
  {
   "cell_type": "code",
   "execution_count": 32,
   "id": "3d5c50f3-cce3-4a0d-9560-a35d49740611",
   "metadata": {},
   "outputs": [
    {
     "name": "stdout",
     "output_type": "stream",
     "text": [
      "Fitting 5 folds for each of 1 candidates, totalling 5 fits\n",
      "Accuracy_model4: 0.9423\n",
      "F1_model4: 0.6685\n",
      "MCC_model4: 0.6372\n",
      "ROC_AUC_model4: 0.8257\n"
     ]
    }
   ],
   "source": [
    "from sklearn.model_selection import GridSearchCV\n",
    "\n",
    "param_test = {\n",
    " 'max_depth':[4],\n",
    " 'min_child_weight':[2],\n",
    " 'learning_rate':[0.1],\n",
    " 'n_estimators':[50],\n",
    " 'objective':['binary:logistic']\n",
    " #'objective':['binary:logistic','binary:hinge','binary:logitraw']\n",
    "}\n",
    "    \n",
    "gsearch = GridSearchCV(estimator=XGBClassifier(gamma=0, \n",
    "                                               subsample=0.8, \n",
    "                                               colsample_bytree=0.8, \n",
    "                                               nthread=4, \n",
    "                                               scale_pos_weight=1, \n",
    "                                               seed=7), \n",
    "                       param_grid=param_test, \n",
    "                       scoring='roc_auc',\n",
    "                       n_jobs=4, \n",
    "                       verbose=4,\n",
    "                       return_train_score=True,\n",
    "                       cv=5,\n",
    "                       refit=True)\n",
    "\n",
    "train_model4 = gsearch.fit(X_train, y_train)\n",
    "#pred4 = train_model4.predict(X_val)\n",
    "#print(\"Accuracy_model4: %.4f\" % (accuracy_score(y_val, pred4)))  \n",
    "#print(\"F1_model4: %.4f\" % (f1_score(y_val, pred4)))  \n",
    "#print(\"MCC_model4: %.4f\" % (matthews_corrcoef(y_val, pred4)))  \n",
    "#print(\"ROC_AUC_model4: %.4f\" % (roc_auc_score(y_val, pred4)))\n",
    "pred4 = train_model4.predict(X_test)\n",
    "print(\"Accuracy_model4: %.4f\" % (accuracy_score(y_test, pred4)))  \n",
    "print(\"F1_model4: %.4f\" % (f1_score(y_test, pred4)))  \n",
    "print(\"MCC_model4: %.4f\" % (matthews_corrcoef(y_test, pred4)))  \n",
    "print(\"ROC_AUC_model4: %.4f\" % (roc_auc_score(y_test, pred4)))"
   ]
  },
  {
   "cell_type": "code",
   "execution_count": 33,
   "id": "43109b07-3de0-4d52-8f86-aeef0c392b14",
   "metadata": {},
   "outputs": [
    {
     "name": "stdout",
     "output_type": "stream",
     "text": [
      "1067 568 490 16227\n"
     ]
    }
   ],
   "source": [
    "tn, fp, fn, tp = confusion_matrix(y_test, pred4).ravel()\n",
    "print(tp, fp, fn, tn)"
   ]
  },
  {
   "cell_type": "code",
   "execution_count": 34,
   "id": "92897478-64dc-4c5c-a675-d637ef67b1f2",
   "metadata": {},
   "outputs": [
    {
     "data": {
      "text/plain": [
       "<sklearn.metrics._plot.roc_curve.RocCurveDisplay at 0x1554780c8040>"
      ]
     },
     "execution_count": 34,
     "metadata": {},
     "output_type": "execute_result"
    },
    {
     "data": {
      "image/png": "[encoded data removed]",
      "text/plain": [
       "<Figure size 432x288 with 1 Axes>"
      ]
     },
     "metadata": {
      "needs_background": "light"
     },
     "output_type": "display_data"
    }
   ],
   "source": [
    "import matplotlib.pyplot as plt\n",
    "from sklearn import metrics\n",
    "from sklearn.metrics import roc_curve\n",
    "\n",
    "fpr, tpr, _ = roc_curve(y_test, pred4)\n",
    "roc_auc = roc_auc_score(y_test, pred4)\n",
    "display = metrics.RocCurveDisplay(fpr=fpr, tpr=tpr, roc_auc=roc_auc)\n",
    "display.plot(name=\"ROC Curve\")"
   ]
  },
  {
   "cell_type": "code",
   "execution_count": 35,
   "id": "9be2aace-f165-49f2-9821-61e0e4637549",
   "metadata": {},
   "outputs": [
    {
     "data": {
      "text/plain": [
       "1635"
      ]
     },
     "execution_count": 35,
     "metadata": {},
     "output_type": "execute_result"
    }
   ],
   "source": [
    "pred4.sum()"
   ]
  },
  {
   "cell_type": "code",
   "execution_count": 36,
   "id": "7ebdd02b-d38d-48bb-aac3-1a8f4551c882",
   "metadata": {},
   "outputs": [
    {
     "data": {
      "text/plain": [
       "{'learning_rate': 0.1,\n",
       " 'max_depth': 4,\n",
       " 'min_child_weight': 2,\n",
       " 'n_estimators': 50,\n",
       " 'objective': 'binary:logistic'}"
      ]
     },
     "execution_count": 36,
     "metadata": {},
     "output_type": "execute_result"
    }
   ],
   "source": [
    "gsearch.cv_results_['params'][gsearch.best_index_]"
   ]
  },
  {
   "cell_type": "code",
   "execution_count": 37,
   "id": "cdeb08e1-ce89-4e0d-8902-03afd928c743",
   "metadata": {},
   "outputs": [
    {
     "name": "stdout",
     "output_type": "stream",
     "text": [
      "Accuracy_model_deepsea1: 0.9152\n",
      "F1_model_deepsea1: 0.0000\n",
      "MCC_model_deepsea1: 0.0000\n",
      "ROC_AUC_model_deepsea1: 0.5000\n"
     ]
    },
    {
     "name": "stderr",
     "output_type": "stream",
     "text": [
      "/cm/shared/apps/spack/0.17.3/cpu/b/opt/spack/linux-rocky8-zen/gcc-8.5.0/anaconda3-2021.05-q4munrgvh7qp4o7r3nzcdkbuph4z7375/lib/python3.8/site-packages/sklearn/metrics/_classification.py:870: RuntimeWarning: invalid value encountered in scalar divide\n",
      "  mcc = cov_ytyp / np.sqrt(cov_ytyt * cov_ypyp)\n"
     ]
    }
   ],
   "source": [
    "model_deepsea1 = XGBClassifier(\n",
    " reg_alpha = 20,\n",
    " reg_lambda = 2000,\n",
    " eta = 0.1,\n",
    " n_estimators=10,\n",
    " objective= 'binary:logistic',\n",
    " seed=7)\n",
    "\n",
    "train_model_deepsea1 = model_deepsea1.fit(X_train, y_train)\n",
    "#pred_deepsea1 = train_model_deepsea1.predict(X_val)\n",
    "#print(\"Accuracy_model_deepsea1: %.4f\" % (accuracy_score(y_val, pred_deepsea1)))\n",
    "#print(\"F1_model_deepsea1: %.4f\" % (f1_score(y_val, pred_deepsea1)))\n",
    "#print(\"MCC_model_deepsea1: %.4f\" % (matthews_corrcoef(y_val, pred_deepsea1)))\n",
    "#print(\"ROC_AUC_model_deepsea1: %.4f\" % (roc_auc_score(y_val, pred_deepsea1))) # don't know about call: y_score vs. pred\n",
    "pred_deepsea1 = train_model_deepsea1.predict(X_test)\n",
    "print(\"Accuracy_model_deepsea1: %.4f\" % (accuracy_score(y_test, pred_deepsea1)))\n",
    "print(\"F1_model_deepsea1: %.4f\" % (f1_score(y_test, pred_deepsea1)))\n",
    "print(\"MCC_model_deepsea1: %.4f\" % (matthews_corrcoef(y_test, pred_deepsea1)))\n",
    "print(\"ROC_AUC_model_deepsea1: %.4f\" % (roc_auc_score(y_test, pred_deepsea1))) # don't know about call: y_score vs. pred"
   ]
  },
  {
   "cell_type": "code",
   "execution_count": 38,
   "id": "de14555a-9502-44db-b42b-0c5623e6805d",
   "metadata": {},
   "outputs": [
    {
     "name": "stdout",
     "output_type": "stream",
     "text": [
      "Accuracy_model_deepsea1: 0.9417\n",
      "F1_model_deepsea2: 0.6673\n",
      "MCC_model_deepsea2: 0.6358\n",
      "ROC_AUC_model_deepsea2: 0.8271\n"
     ]
    }
   ],
   "source": [
    "model_deepsea2 = XGBClassifier(\n",
    " reg_alpha = 0,\n",
    " reg_lambda = 10,\n",
    " eta = 0.1,\n",
    " n_estimators=100,\n",
    " objective= 'binary:logistic',\n",
    " seed=7)\n",
    "\n",
    "train_model_deepsea2 = model_deepsea2.fit(X_train, y_train)\n",
    "#pred_deepsea2 = train_model_deepsea2.predict(X_val)\n",
    "#print(\"Accuracy_model_deepsea1: %.4f\" % (accuracy_score(y_val, pred_deepsea2)))\n",
    "#print(\"F1_model_deepsea2: %.4f\" % (f1_score(y_val, pred_deepsea2)))\n",
    "#print(\"MCC_model_deepsea2: %.4f\" % (matthews_corrcoef(y_val, pred_deepsea2)))\n",
    "#print(\"ROC_AUC_model_deepsea2: %.4f\" % (roc_auc_score(y_val, pred_deepsea2))) # don't know about call: y_score vs. pred\n",
    "pred_deepsea2 = train_model_deepsea2.predict(X_test)\n",
    "print(\"Accuracy_model_deepsea1: %.4f\" % (accuracy_score(y_test, pred_deepsea2)))\n",
    "print(\"F1_model_deepsea2: %.4f\" % (f1_score(y_test, pred_deepsea2)))\n",
    "print(\"MCC_model_deepsea2: %.4f\" % (matthews_corrcoef(y_test, pred_deepsea2)))\n",
    "print(\"ROC_AUC_model_deepsea2: %.4f\" % (roc_auc_score(y_test, pred_deepsea2))) # don't know about call: y_score vs. pred"
   ]
  },
  {
   "cell_type": "code",
   "execution_count": 39,
   "id": "e3d9a08c-e956-4d9f-98f6-d9dbf68c4736",
   "metadata": {},
   "outputs": [
    {
     "name": "stdout",
     "output_type": "stream",
     "text": [
      "1073 586 484 16209\n"
     ]
    }
   ],
   "source": [
    "tn, fp, fn, tp = confusion_matrix(y_test, pred_deepsea2).ravel()\n",
    "print(tp, fp, fn, tn)"
   ]
  },
  {
   "cell_type": "code",
   "execution_count": 40,
   "id": "d3c40915-a68e-46a3-8172-542466e2bfa6",
   "metadata": {},
   "outputs": [
    {
     "data": {
      "text/plain": [
       "<sklearn.metrics._plot.roc_curve.RocCurveDisplay at 0x155513a38bb0>"
      ]
     },
     "execution_count": 40,
     "metadata": {},
     "output_type": "execute_result"
    },
    {
     "data": {
      "image/png": "[encoded data removed]",
      "text/plain": [
       "<Figure size 432x288 with 1 Axes>"
      ]
     },
     "metadata": {
      "needs_background": "light"
     },
     "output_type": "display_data"
    }
   ],
   "source": [
    "import matplotlib.pyplot as plt\n",
    "from sklearn import metrics\n",
    "from sklearn.metrics import roc_curve\n",
    "\n",
    "fpr, tpr, _ = roc_curve(y_test, pred_deepsea2)\n",
    "roc_auc = roc_auc_score(y_test, pred_deepsea2)\n",
    "display = metrics.RocCurveDisplay(fpr=fpr, tpr=tpr, roc_auc=roc_auc)\n",
    "display.plot(name=\"ROC Curve\")"
   ]
  },
  {
   "cell_type": "code",
   "execution_count": 41,
   "id": "4cdcc510-f322-4941-84f8-d1f839ad8f19",
   "metadata": {},
   "outputs": [
    {
     "name": "stdout",
     "output_type": "stream",
     "text": [
      "Accuracy_model_regbase: 0.9298\n",
      "F1_model_regbase: 0.7032\n",
      "MCC_model_regbase: 0.7034\n",
      "ROC_AUC_model_regbase: 0.9529\n"
     ]
    }
   ],
   "source": [
    "model_regbase = XGBClassifier(\n",
    "     colsample_bylevel = 0.6,\n",
    "#    colsample_bytree = 0.75,\n",
    "     colsample_bytree = 1.0,\n",
    "#    gamma = 3.0,\n",
    "     gamma = 5.0,\n",
    "     learning_rate = 0.1,\n",
    "     max_depth = 4,\n",
    "#    min_child_weight = 3,\n",
    "     min_child_weight = 4,\n",
    "     n_estimators = 300,\n",
    "     reg_alpha = 5.0,\n",
    "     reg_lambda = 0.01,\n",
    "     scale_pos_weight = 10.658093373,\n",
    "#    subsample = 0.5\n",
    "     subsample = 1.0\n",
    ")\n",
    "\n",
    "train_model_regbase = model_regbase.fit(X_train, y_train)\n",
    "#pred_regbase = train_model_regbase.predict(X_val)\n",
    "#print(\"Accuracy_model_regbase: %.4f\" % (accuracy_score(y_val, pred_regbase)))\n",
    "#print(\"F1_model_regbase: %.4f\" % (f1_score(y_val, pred_regbase)))\n",
    "#print(\"MCC_model_regbase: %.4f\" % (matthews_corrcoef(y_val, pred_regbase)))\n",
    "#print(\"ROC_AUC_model_regbase: %.4f\" % (roc_auc_score(y_val, pred_regbase)))\n",
    "pred_regbase = train_model_regbase.predict(X_test)\n",
    "print(\"Accuracy_model_regbase: %.4f\" % (accuracy_score(y_test, pred_regbase)))\n",
    "print(\"F1_model_regbase: %.4f\" % (f1_score(y_test, pred_regbase)))\n",
    "print(\"MCC_model_regbase: %.4f\" % (matthews_corrcoef(y_test, pred_regbase)))\n",
    "print(\"ROC_AUC_model_regbase: %.4f\" % (roc_auc_score(y_test, pred_regbase)))"
   ]
  },
  {
   "cell_type": "code",
   "execution_count": 42,
   "id": "588ae1de-430c-4ff8-a84f-5d4c21b9aedd",
   "metadata": {},
   "outputs": [
    {
     "name": "stdout",
     "output_type": "stream",
     "text": [
      "1527 1259 30 15536\n"
     ]
    }
   ],
   "source": [
    "tn, fp, fn, tp = confusion_matrix(y_test, pred_regbase).ravel()\n",
    "print(tp, fp, fn, tn)"
   ]
  },
  {
   "cell_type": "code",
   "execution_count": 43,
   "id": "e5fef346-6085-4dbd-bdf1-2b9ac786281a",
   "metadata": {},
   "outputs": [
    {
     "data": {
      "text/plain": [
       "<sklearn.metrics._plot.roc_curve.RocCurveDisplay at 0x155473762dc0>"
      ]
     },
     "execution_count": 43,
     "metadata": {},
     "output_type": "execute_result"
    },
    {
     "data": {
      "image/png": "[encoded data removed]",
      "text/plain": [
       "<Figure size 432x288 with 1 Axes>"
      ]
     },
     "metadata": {
      "needs_background": "light"
     },
     "output_type": "display_data"
    }
   ],
   "source": [
    "import matplotlib.pyplot as plt\n",
    "from sklearn import metrics\n",
    "from sklearn.metrics import roc_curve\n",
    "\n",
    "fpr, tpr, _ = roc_curve(y_test, pred_regbase)\n",
    "roc_auc = roc_auc_score(y_test, pred_regbase)\n",
    "display = metrics.RocCurveDisplay(fpr=fpr, tpr=tpr, roc_auc=roc_auc)\n",
    "display.plot(name=\"ROC Curve\")"
   ]
  },
  {
   "cell_type": "code",
   "execution_count": 52,
   "id": "805dfef1-390c-4587-9431-c1537441720e",
   "metadata": {},
   "outputs": [
    {
     "data": {
      "text/plain": [
       "['/expanse/lustre/projects/nji102/sgriesmer/DNABERT_2/Output_Models/model_xpg_boost_PRVCS_REG_untuned.joblib']"
      ]
     },
     "execution_count": 52,
     "metadata": {},
     "output_type": "execute_result"
    }
   ],
   "source": [
    "# Save untuned model\n",
    "\n",
    "from joblib import dump, load\n",
    "\n",
    "best_estimator = train_model_regbase\n",
    "dump(best_estimator, path_prefix + \"DNABERT_2/Output_Models/\" + \"model_xpg_boost_PRVCS_REG_untuned.joblib\")"
   ]
  },
  {
   "cell_type": "code",
   "execution_count": 44,
   "id": "67a0c1ac-f02c-4e52-8eb5-0a09831a870d",
   "metadata": {},
   "outputs": [],
   "source": [
    "import xgboost as xgb\n",
    "\n",
    "data_matrix = xgb.DMatrix(data=X_train, label=y_train)\n",
    "# data_matrix = xgb.DMatrix(data=X, label=y)\n",
    "\n",
    "params = {\n",
    "    \"colsample_bylevel\": 0.6,\n",
    "#   \"colsample_bytree\": 0.75,\n",
    "    \"colsample_bytree\": 1.0,\n",
    "#   \"gamma\": 3.0,\n",
    "    \"gamma\": 5.0,\n",
    "    \"learning_rate\": 0.1,\n",
    "    \"max_depth\": 4,\n",
    "#   \"min_child_weight\": 3,\n",
    "    \"min_child_weight\": 4,\n",
    "    \"alpha\": 5.0,\n",
    "    \"lambda\": 0.01,\n",
    "    \"scale_pos_weight\": 10.658093373,\n",
    "#   \"subsample\": 0.5\n",
    "    \"subsample\": 1.0\n",
    "}\n",
    "\n",
    "xgb_cv = xgb.cv(dtrain=data_matrix, params=params, nfold=10,\n",
    "                    num_boost_round=100, early_stopping_rounds=10, metrics=\"auc\", as_pandas=True, seed=7)\n"
   ]
  },
  {
   "cell_type": "code",
   "execution_count": 45,
   "id": "91fb9893-62cc-4ab5-9cc1-d1eac99b53e3",
   "metadata": {},
   "outputs": [
    {
     "data": {
      "text/html": [
       "<div>\n",
       "<style scoped>\n",
       "    .dataframe tbody tr th:only-of-type {\n",
       "        vertical-align: middle;\n",
       "    }\n",
       "\n",
       "    .dataframe tbody tr th {\n",
       "        vertical-align: top;\n",
       "    }\n",
       "\n",
       "    .dataframe thead th {\n",
       "        text-align: right;\n",
       "    }\n",
       "</style>\n",
       "<table border=\"1\" class=\"dataframe\">\n",
       "  <thead>\n",
       "    <tr style=\"text-align: right;\">\n",
       "      <th></th>\n",
       "      <th>train-auc-mean</th>\n",
       "      <th>train-auc-std</th>\n",
       "      <th>test-auc-mean</th>\n",
       "      <th>test-auc-std</th>\n",
       "    </tr>\n",
       "  </thead>\n",
       "  <tbody>\n",
       "    <tr>\n",
       "      <th>0</th>\n",
       "      <td>0.968172</td>\n",
       "      <td>0.000393</td>\n",
       "      <td>0.966847</td>\n",
       "      <td>0.002186</td>\n",
       "    </tr>\n",
       "    <tr>\n",
       "      <th>1</th>\n",
       "      <td>0.971841</td>\n",
       "      <td>0.000368</td>\n",
       "      <td>0.969564</td>\n",
       "      <td>0.000930</td>\n",
       "    </tr>\n",
       "    <tr>\n",
       "      <th>2</th>\n",
       "      <td>0.973086</td>\n",
       "      <td>0.000396</td>\n",
       "      <td>0.970624</td>\n",
       "      <td>0.001124</td>\n",
       "    </tr>\n",
       "    <tr>\n",
       "      <th>3</th>\n",
       "      <td>0.973738</td>\n",
       "      <td>0.000540</td>\n",
       "      <td>0.970969</td>\n",
       "      <td>0.000981</td>\n",
       "    </tr>\n",
       "    <tr>\n",
       "      <th>4</th>\n",
       "      <td>0.973887</td>\n",
       "      <td>0.000587</td>\n",
       "      <td>0.970878</td>\n",
       "      <td>0.000803</td>\n",
       "    </tr>\n",
       "    <tr>\n",
       "      <th>5</th>\n",
       "      <td>0.974319</td>\n",
       "      <td>0.000537</td>\n",
       "      <td>0.971278</td>\n",
       "      <td>0.000661</td>\n",
       "    </tr>\n",
       "    <tr>\n",
       "      <th>6</th>\n",
       "      <td>0.974655</td>\n",
       "      <td>0.000504</td>\n",
       "      <td>0.971427</td>\n",
       "      <td>0.000764</td>\n",
       "    </tr>\n",
       "    <tr>\n",
       "      <th>7</th>\n",
       "      <td>0.974856</td>\n",
       "      <td>0.000431</td>\n",
       "      <td>0.971666</td>\n",
       "      <td>0.000829</td>\n",
       "    </tr>\n",
       "    <tr>\n",
       "      <th>8</th>\n",
       "      <td>0.975125</td>\n",
       "      <td>0.000376</td>\n",
       "      <td>0.971737</td>\n",
       "      <td>0.000865</td>\n",
       "    </tr>\n",
       "    <tr>\n",
       "      <th>9</th>\n",
       "      <td>0.975354</td>\n",
       "      <td>0.000387</td>\n",
       "      <td>0.971748</td>\n",
       "      <td>0.000871</td>\n",
       "    </tr>\n",
       "    <tr>\n",
       "      <th>10</th>\n",
       "      <td>0.975519</td>\n",
       "      <td>0.000404</td>\n",
       "      <td>0.971935</td>\n",
       "      <td>0.000871</td>\n",
       "    </tr>\n",
       "    <tr>\n",
       "      <th>11</th>\n",
       "      <td>0.975616</td>\n",
       "      <td>0.000356</td>\n",
       "      <td>0.971961</td>\n",
       "      <td>0.000906</td>\n",
       "    </tr>\n",
       "    <tr>\n",
       "      <th>12</th>\n",
       "      <td>0.975748</td>\n",
       "      <td>0.000287</td>\n",
       "      <td>0.972074</td>\n",
       "      <td>0.000978</td>\n",
       "    </tr>\n",
       "    <tr>\n",
       "      <th>13</th>\n",
       "      <td>0.975904</td>\n",
       "      <td>0.000287</td>\n",
       "      <td>0.972114</td>\n",
       "      <td>0.000878</td>\n",
       "    </tr>\n",
       "    <tr>\n",
       "      <th>14</th>\n",
       "      <td>0.976024</td>\n",
       "      <td>0.000261</td>\n",
       "      <td>0.972206</td>\n",
       "      <td>0.000807</td>\n",
       "    </tr>\n",
       "    <tr>\n",
       "      <th>15</th>\n",
       "      <td>0.976124</td>\n",
       "      <td>0.000247</td>\n",
       "      <td>0.972176</td>\n",
       "      <td>0.000834</td>\n",
       "    </tr>\n",
       "    <tr>\n",
       "      <th>16</th>\n",
       "      <td>0.976211</td>\n",
       "      <td>0.000242</td>\n",
       "      <td>0.972154</td>\n",
       "      <td>0.000764</td>\n",
       "    </tr>\n",
       "    <tr>\n",
       "      <th>17</th>\n",
       "      <td>0.976325</td>\n",
       "      <td>0.000200</td>\n",
       "      <td>0.972161</td>\n",
       "      <td>0.000783</td>\n",
       "    </tr>\n",
       "    <tr>\n",
       "      <th>18</th>\n",
       "      <td>0.976411</td>\n",
       "      <td>0.000197</td>\n",
       "      <td>0.972163</td>\n",
       "      <td>0.000834</td>\n",
       "    </tr>\n",
       "    <tr>\n",
       "      <th>19</th>\n",
       "      <td>0.976436</td>\n",
       "      <td>0.000234</td>\n",
       "      <td>0.972213</td>\n",
       "      <td>0.000736</td>\n",
       "    </tr>\n",
       "  </tbody>\n",
       "</table>\n",
       "</div>"
      ],
      "text/plain": [
       "    train-auc-mean  train-auc-std  test-auc-mean  test-auc-std\n",
       "0         0.968172       0.000393       0.966847      0.002186\n",
       "1         0.971841       0.000368       0.969564      0.000930\n",
       "2         0.973086       0.000396       0.970624      0.001124\n",
       "3         0.973738       0.000540       0.970969      0.000981\n",
       "4         0.973887       0.000587       0.970878      0.000803\n",
       "5         0.974319       0.000537       0.971278      0.000661\n",
       "6         0.974655       0.000504       0.971427      0.000764\n",
       "7         0.974856       0.000431       0.971666      0.000829\n",
       "8         0.975125       0.000376       0.971737      0.000865\n",
       "9         0.975354       0.000387       0.971748      0.000871\n",
       "10        0.975519       0.000404       0.971935      0.000871\n",
       "11        0.975616       0.000356       0.971961      0.000906\n",
       "12        0.975748       0.000287       0.972074      0.000978\n",
       "13        0.975904       0.000287       0.972114      0.000878\n",
       "14        0.976024       0.000261       0.972206      0.000807\n",
       "15        0.976124       0.000247       0.972176      0.000834\n",
       "16        0.976211       0.000242       0.972154      0.000764\n",
       "17        0.976325       0.000200       0.972161      0.000783\n",
       "18        0.976411       0.000197       0.972163      0.000834\n",
       "19        0.976436       0.000234       0.972213      0.000736"
      ]
     },
     "execution_count": 45,
     "metadata": {},
     "output_type": "execute_result"
    }
   ],
   "source": [
    "xgb_cv"
   ]
  },
  {
   "cell_type": "code",
   "execution_count": 46,
   "id": "74b102ad-4644-4bdb-9a6a-917286044433",
   "metadata": {},
   "outputs": [
    {
     "data": {
      "text/plain": [
       "XGBClassifier(base_score=None, booster=None, callbacks=None,\n",
       "              colsample_bylevel=0.6, colsample_bynode=None,\n",
       "              colsample_bytree=1.0, device=None, early_stopping_rounds=None,\n",
       "              enable_categorical=False, eval_metric=None, feature_types=None,\n",
       "              gamma=5.0, grow_policy=None, importance_type=None,\n",
       "              interaction_constraints=None, learning_rate=0.1, max_bin=None,\n",
       "              max_cat_threshold=None, max_cat_to_onehot=None,\n",
       "              max_delta_step=None, max_depth=4, max_leaves=None,\n",
       "              min_child_weight=4, missing=nan, monotone_constraints=None,\n",
       "              multi_strategy=None, n_estimators=20, n_jobs=None,\n",
       "              num_parallel_tree=None, random_state=None, ...)"
      ]
     },
     "execution_count": 46,
     "metadata": {},
     "output_type": "execute_result"
    }
   ],
   "source": [
    "model_regbase.set_params(n_estimators=xgb_cv.shape[0])\n",
    "\n"
   ]
  },
  {
   "cell_type": "code",
   "execution_count": 47,
   "id": "e38fbfa8-d29d-4bba-a62d-d06532acdf18",
   "metadata": {},
   "outputs": [
    {
     "name": "stdout",
     "output_type": "stream",
     "text": [
      "Accuracy_model_regbase_cv: 0.9230\n",
      "F1_model_regbase_cv: 0.6879\n",
      "MCC_model_regbase_cv: 0.6929\n",
      "ROC_AUC_model_regbase_cv: 0.9579\n"
     ]
    }
   ],
   "source": [
    "train_model_regbase_cv = model_regbase.fit(X_train,y_train)\n",
    "#pred_regbase_cv = train_model_regbase.predict(X_val)\n",
    "#print(\"Accuracy_model_regbase_cv: %.4f\" % (accuracy_score(y_val, pred_regbase_cv)))\n",
    "#print(\"F1_model_regbase_cv: %.4f\" % (f1_score(y_val, pred_regbase_cv)))\n",
    "#print(\"MCC_model_regbase_cv: %.4f\" % (matthews_corrcoef(y_val, pred_regbase_cv)))\n",
    "#print(\"ROC_AUC_model_regbase_cv: %.4f\" % (roc_auc_score(y_val, pred_regbase_cv)))\n",
    "pred_regbase_cv = train_model_regbase.predict(X_test)\n",
    "print(\"Accuracy_model_regbase_cv: %.4f\" % (accuracy_score(y_test, pred_regbase_cv)))\n",
    "print(\"F1_model_regbase_cv: %.4f\" % (f1_score(y_test, pred_regbase_cv)))\n",
    "print(\"MCC_model_regbase_cv: %.4f\" % (matthews_corrcoef(y_test, pred_regbase_cv)))\n",
    "print(\"ROC_AUC_model_regbase_cv: %.4f\" % (roc_auc_score(y_test, pred_regbase_cv)))"
   ]
  },
  {
   "cell_type": "code",
   "execution_count": 48,
   "id": "1e6f5359-1817-4759-93b3-3291d30feeba",
   "metadata": {},
   "outputs": [
    {
     "name": "stdout",
     "output_type": "stream",
     "text": [
      "1557 1413 0 15382\n"
     ]
    }
   ],
   "source": [
    "tn, fp, fn, tp = confusion_matrix(y_test, pred_regbase_cv).ravel()\n",
    "print(tp, fp, fn, tn)"
   ]
  },
  {
   "cell_type": "code",
   "execution_count": 50,
   "id": "47c07b99-25b5-47b9-b136-5ed0b9034f70",
   "metadata": {},
   "outputs": [
    {
     "data": {
      "text/plain": [
       "<sklearn.metrics._plot.roc_curve.RocCurveDisplay at 0x155473708d30>"
      ]
     },
     "execution_count": 50,
     "metadata": {},
     "output_type": "execute_result"
    },
    {
     "data": {
      "image/png": "[encoded data removed]",
      "text/plain": [
       "<Figure size 432x288 with 1 Axes>"
      ]
     },
     "metadata": {
      "needs_background": "light"
     },
     "output_type": "display_data"
    }
   ],
   "source": [
    "import matplotlib.pyplot as plt\n",
    "from sklearn import metrics\n",
    "from sklearn.metrics import roc_curve\n",
    "\n",
    "fpr, tpr, _ = roc_curve(y_test, pred_regbase_cv)\n",
    "roc_auc = roc_auc_score(y_test, pred_regbase_cv)\n",
    "display = metrics.RocCurveDisplay(fpr=fpr, tpr=tpr, roc_auc=roc_auc)\n",
    "display.plot(name=\"ROC Curve\")"
   ]
  },
  {
   "cell_type": "markdown",
   "id": "585c4103-7a96-4af9-9ae9-dd1c04777579",
   "metadata": {},
   "source": [
    "Run best model on test dataset"
   ]
  },
  {
   "cell_type": "code",
   "execution_count": 53,
   "id": "4a85957f-bafa-4327-9185-19e64132415c",
   "metadata": {},
   "outputs": [
    {
     "data": {
      "text/plain": [
       "['/expanse/lustre/projects/nji102/sgriesmer/DNABERT_2/Output_Models/model_xpg_boost_PRVCS_REG_tuned.joblib']"
      ]
     },
     "execution_count": 53,
     "metadata": {},
     "output_type": "execute_result"
    }
   ],
   "source": [
    "# Save tuned model\n",
    "\n",
    "from joblib import dump, load\n",
    "\n",
    "best_estimator = train_model_regbase_cv\n",
    "dump(best_estimator, path_prefix + \"DNABERT_2/Output_Models/\" + \"model_xpg_boost_PRVCS_REG_tuned.joblib\")"
   ]
  },
  {
   "cell_type": "code",
   "execution_count": null,
   "id": "f6dfe62d-5f32-48bf-a070-3ab83f36a3bb",
   "metadata": {},
   "outputs": [],
   "source": [
    "param_test = {\n",
    " 'max_depth': range(2,8,2),\n",
    " 'min_child_weight': range(2,8,2)\n",
    "}\n",
    "    \n",
    "gsearch = GridSearchCV(estimator=XGBClassifier(colsample_bylevel = 0.6,\n",
    "                                                colsample_bytree = 1.0,\n",
    "                                                gamma = 5.0,\n",
    "                                                learning_rate = 0.1,\n",
    "                                                max_depth = 4,\n",
    "                                                min_child_weight = 4,\n",
    "                                                n_estimators = 24,\n",
    "                                                objective = 'binary:logistic',\n",
    "                                                reg_alpha = 5.0,\n",
    "                                                reg_lambda = 0.01,\n",
    "                                                scale_pos_weight = 10.658093373,\n",
    "                                                subsample = 1.0), \n",
    "                       param_grid=param_test, \n",
    "                       scoring='roc_auc',\n",
    "                       n_jobs=4, \n",
    "                       verbose=4,\n",
    "                       return_train_score=True,\n",
    "                       cv=5,\n",
    "                       refit=True)\n",
    "\n",
    "train_model_regbase_cv2 = gsearch.fit(X_train, y_train)\n",
    "pred_regbase_cv2 = train_model_regbase_cv2.predict(X_test)\n",
    "print(\"Accuracy_model_cv2: %.4f\" % (accuracy_score(y_test, pred_regbase_cv2)))  \n",
    "print(\"F1_model_cv2: %.4f\" % (f1_score(y_test, pred_regbase_cv2)))  \n",
    "print(\"MCC_model_cv2: %.4f\" % (matthews_corrcoef(y_test, pred_regbase_cv2)))  \n",
    "print(\"ROC_AUC_model_cv2: %.4f\" % (roc_auc_score(y_test, pred_regbase_cv2)))  "
   ]
  },
  {
   "cell_type": "code",
   "execution_count": null,
   "id": "bb32b024-4e5f-4b64-839a-4ac651a3a6fc",
   "metadata": {},
   "outputs": [],
   "source": [
    "gsearch.cv_results_['params'][gsearch.best_index_]"
   ]
  },
  {
   "cell_type": "code",
   "execution_count": null,
   "id": "33edd641-8a0e-432c-a834-1345dafcd264",
   "metadata": {},
   "outputs": [],
   "source": [
    "param_test = {\n",
    " 'max_depth': [3,4,5],\n",
    " 'min_child_weight': [3,4,5]\n",
    "}\n",
    "    \n",
    "gsearch = GridSearchCV(estimator=XGBClassifier(colsample_bylevel = 0.6,\n",
    "                                                colsample_bytree = 1.0,\n",
    "                                                gamma = 5.0,\n",
    "                                                learning_rate = 0.1,\n",
    "                                                max_depth = 4,\n",
    "                                                min_child_weight = 4,\n",
    "                                                n_estimators = 24,\n",
    "                                                objective = 'binary:logistic',\n",
    "                                                reg_alpha = 5.0,\n",
    "                                                reg_lambda = 0.01,\n",
    "                                                scale_pos_weight = 10.658093373,\n",
    "                                                subsample = 1.0), \n",
    "                       param_grid=param_test, \n",
    "                       scoring='roc_auc',\n",
    "                       n_jobs=4, \n",
    "                       verbose=4,\n",
    "                       return_train_score=True,\n",
    "                       cv=10,\n",
    "                       refit=True)\n",
    "\n",
    "train_model_regbase_cv3 = gsearch.fit(X_train, y_train)\n",
    "pred_regbase_cv3 = train_model_regbase_cv3.predict(X_test)\n",
    "print(\"Accuracy_model_cv3: %.4f\" % (accuracy_score(y_test, pred_regbase_cv3)))  \n",
    "print(\"F1_model_cv3: %.4f\" % (f1_score(y_test, pred_regbase_cv3)))  \n",
    "print(\"MCC_model_cv3: %.4f\" % (matthews_corrcoef(y_test, pred_regbase_cv3)))  \n",
    "print(\"ROC_AUC_model_cv3: %.4f\" % (roc_auc_score(y_test, pred_regbase_cv3)))  "
   ]
  },
  {
   "cell_type": "code",
   "execution_count": null,
   "id": "0389f210-d40b-4505-a89c-785dcb89f32a",
   "metadata": {},
   "outputs": [],
   "source": [
    "gsearch.cv_results_['params'][gsearch.best_index_]"
   ]
  },
  {
   "cell_type": "code",
   "execution_count": null,
   "id": "fe5bf274-0008-4f84-b913-7a23230bd70d",
   "metadata": {},
   "outputs": [],
   "source": [
    "pd.DataFrame(gsearch.cv_results_)"
   ]
  },
  {
   "cell_type": "code",
   "execution_count": null,
   "id": "e739fdc0-7f44-4a04-9290-faa538c60eb5",
   "metadata": {},
   "outputs": [],
   "source": [
    "param_test = {\n",
    " 'gamma': range(2,6),\n",
    "}\n",
    "    \n",
    "gsearch = GridSearchCV(estimator=XGBClassifier(colsample_bylevel = 0.6,\n",
    "                                                colsample_bytree = 1.0,\n",
    "                                                gamma = 5.0,\n",
    "                                                learning_rate = 0.1,\n",
    "                                                max_depth = 4,\n",
    "                                                min_child_weight = 5,\n",
    "                                                n_estimators = 24,\n",
    "                                                objective = 'binary:logistic',\n",
    "                                                reg_alpha = 5.0,\n",
    "                                                reg_lambda = 0.01,\n",
    "                                                scale_pos_weight = 10.658093373,\n",
    "                                                subsample = 1.0), \n",
    "                       param_grid=param_test, \n",
    "                       scoring='roc_auc',\n",
    "                       n_jobs=4, \n",
    "                       verbose=4,\n",
    "                       return_train_score=True,\n",
    "                       cv=10,\n",
    "                       refit=True)\n",
    "\n",
    "train_model_regbase_cv4 = gsearch.fit(X_train, y_train)\n",
    "pred_regbase_cv4 = train_model_regbase_cv4.predict(X_test)\n",
    "print(\"Accuracy_model_cv4: %.4f\" % (accuracy_score(y_test, pred_regbase_cv4)))  \n",
    "print(\"F1_model_cv4: %.4f\" % (f1_score(y_test, pred_regbase_cv4)))  \n",
    "print(\"MCC_model_cv4: %.4f\" % (matthews_corrcoef(y_test, pred_regbase_cv4)))  \n",
    "print(\"ROC_AUC_model_cv4: %.4f\" % (roc_auc_score(y_test, pred_regbase_cv4)))  "
   ]
  },
  {
   "cell_type": "code",
   "execution_count": null,
   "id": "45579955-943e-44d5-9f79-d90bc6b3972e",
   "metadata": {},
   "outputs": [],
   "source": [
    "gsearch.cv_results_['params'][gsearch.best_index_]"
   ]
  },
  {
   "cell_type": "code",
   "execution_count": null,
   "id": "0ce06aba-8628-4314-b2f7-0bb75ca7a54e",
   "metadata": {},
   "outputs": [],
   "source": [
    "pd.DataFrame(gsearch.cv_results_)"
   ]
  },
  {
   "cell_type": "code",
   "execution_count": null,
   "id": "a43a3b57-86b6-4c29-9f02-67d0c467319e",
   "metadata": {},
   "outputs": [],
   "source": [
    "param_test = {\n",
    " 'subsample': [i/10.0 for i in range(6,10)],\n",
    " 'colsample_bytree': [i/10.0 for i in range(6,10)]\n",
    "}\n",
    "    \n",
    "gsearch = GridSearchCV(estimator=XGBClassifier(colsample_bylevel = 0.6,\n",
    "                                                colsample_bytree = 1.0,\n",
    "                                                gamma = 3.0,\n",
    "                                                learning_rate = 0.1,\n",
    "                                                max_depth = 4,\n",
    "                                                min_child_weight = 5,\n",
    "                                                n_estimators = 24,\n",
    "                                                objective = 'binary:logistic',\n",
    "                                                reg_alpha = 5.0,\n",
    "                                                reg_lambda = 0.01,\n",
    "                                                scale_pos_weight = 10.658093373,\n",
    "                                                subsample = 1.0), \n",
    "                       param_grid=param_test, \n",
    "                       scoring='roc_auc',\n",
    "                       n_jobs=4, \n",
    "                       verbose=4,\n",
    "                       return_train_score=True,\n",
    "                       cv=10,\n",
    "                       refit=True)\n",
    "\n",
    "train_model_regbase_cv5 = gsearch.fit(X_train, y_train)\n",
    "pred_regbase_cv5 = train_model_regbase_cv5.predict(X_test)\n",
    "print(\"Accuracy_model_cv5: %.4f\" % (accuracy_score(y_test, pred_regbase_cv5)))  \n",
    "print(\"F1_model_cv5: %.4f\" % (f1_score(y_test, pred_regbase_cv5)))  \n",
    "print(\"MCC_model_cv5: %.4f\" % (matthews_corrcoef(y_test, pred_regbase_cv5)))  \n",
    "print(\"ROC_AUC_model_cv5: %.4f\" % (roc_auc_score(y_test, pred_regbase_cv5)))  "
   ]
  },
  {
   "cell_type": "code",
   "execution_count": null,
   "id": "eebe8878-8de1-419b-afea-646ff89c3994",
   "metadata": {},
   "outputs": [],
   "source": [
    "gsearch.cv_results_['params'][gsearch.best_index_], gsearch.best_score_"
   ]
  },
  {
   "cell_type": "code",
   "execution_count": null,
   "id": "5b63dcb1-74cf-4f87-a1a1-b01946bb6cbe",
   "metadata": {},
   "outputs": [],
   "source": [
    "pd.DataFrame(gsearch.cv_results_)"
   ]
  },
  {
   "cell_type": "code",
   "execution_count": null,
   "id": "c631a369-5f00-47cb-8a34-1d46c8839cd2",
   "metadata": {},
   "outputs": [],
   "source": [
    "param_test = {\n",
    "# 'reg_alpha':[1e-5, 1e-2, 0.1, 1, 5, 100]\n",
    " 'reg_alpha':[5, 6, 7, 8]\n",
    "}\n",
    "    \n",
    "gsearch = GridSearchCV(estimator=XGBClassifier(colsample_bylevel = 0.6,\n",
    "                                                colsample_bytree = 1.0,\n",
    "                                                gamma = 3.0,\n",
    "                                                learning_rate = 0.1,\n",
    "                                                max_depth = 4,\n",
    "                                                min_child_weight = 5,\n",
    "                                                n_estimators = 24,\n",
    "                                                objective = 'binary:logistic',\n",
    "                                                reg_alpha = 5.0,\n",
    "                                                reg_lambda = 0.01,\n",
    "                                                scale_pos_weight = 10.658093373,\n",
    "                                                subsample = 1.0), \n",
    "                       param_grid=param_test, \n",
    "                       scoring='roc_auc',\n",
    "                       n_jobs=4, \n",
    "                       verbose=4,\n",
    "                       return_train_score=True,\n",
    "                       cv=10,\n",
    "                       refit=True)\n",
    "\n",
    "train_model_regbase_cv6 = gsearch.fit(X_train, y_train)\n",
    "pred_regbase_cv6 = train_model_regbase_cv6.predict(X_test)\n",
    "print(\"Accuracy_model_cv6: %.4f\" % (accuracy_score(y_test, pred_regbase_cv6)))  \n",
    "print(\"F1_model_cv6: %.4f\" % (f1_score(y_test, pred_regbase_cv6)))  \n",
    "print(\"MCC_model_cv6: %.4f\" % (matthews_corrcoef(y_test, pred_regbase_cv6)))  \n",
    "print(\"ROC_AUC_model_cv6: %.4f\" % (roc_auc_score(y_test, pred_regbase_cv6)))  "
   ]
  },
  {
   "cell_type": "code",
   "execution_count": null,
   "id": "7c520744-6307-4173-aece-00e0e34c63b0",
   "metadata": {},
   "outputs": [],
   "source": [
    "gsearch.cv_results_['params'][gsearch.best_index_], gsearch.best_score_"
   ]
  },
  {
   "cell_type": "code",
   "execution_count": null,
   "id": "70192482-bd2d-4d0c-875f-04093cd9cc60",
   "metadata": {},
   "outputs": [],
   "source": [
    "pd.DataFrame(gsearch.cv_results_)"
   ]
  },
  {
   "cell_type": "code",
   "execution_count": null,
   "id": "565fa294-f245-45f8-9634-10f1341b563f",
   "metadata": {},
   "outputs": [],
   "source": [
    "# Save best model"
   ]
  },
  {
   "cell_type": "code",
   "execution_count": null,
   "id": "f7104199-32e5-47e0-a70f-585d4cbca887",
   "metadata": {},
   "outputs": [],
   "source": [
    "from joblib import dump, load\n",
    "\n",
    "best_estimator = train_model_regbase_cv\n",
    "dump(best_estimator, path_prefix + \"DNABERT_2/Output_Models/\" + \"model_xpg_boost_PRVCS_REG_all.joblib\")"
   ]
  },
  {
   "cell_type": "code",
   "execution_count": null,
   "id": "9de423a7-a039-4754-8a84-dcb90fdca81d",
   "metadata": {},
   "outputs": [],
   "source": [
    "# Save default model\n",
    "\n",
    "from joblib import dump, load\n",
    "\n",
    "best_estimator = train_model1\n",
    "dump(best_estimator, path_prefix + \"DNABERT_2/Output_Models/\" + \"model_xpg_boost_PRVCS_REG_default.joblib\")"
   ]
  },
  {
   "cell_type": "code",
   "execution_count": null,
   "id": "f0324ff2-5351-49c6-be86-7a5e99193448",
   "metadata": {},
   "outputs": [],
   "source": [
    "from joblib import dump, load\n",
    "\n",
    "test_estimator = load('/expanse/lustre/projects/nji102/sgriesmer/DNABERT_2/Output_Models/model_xpg_boost_PRVCS_REG_all.joblib')"
   ]
  },
  {
   "cell_type": "code",
   "execution_count": null,
   "id": "3e44eeff-af85-4842-b9d3-7e2bac418d4c",
   "metadata": {},
   "outputs": [],
   "source": [
    "test_pred = test_estimator.predict(X_test)"
   ]
  },
  {
   "cell_type": "code",
   "execution_count": null,
   "id": "c9f44b95-649e-4008-97e9-21f96177b707",
   "metadata": {},
   "outputs": [],
   "source": [
    "from sklearn.metrics import accuracy_score, f1_score, matthews_corrcoef, roc_auc_score\n",
    "\n",
    "print(\"Accuracy_best: %.4f\" % (accuracy_score(y_test, test_pred)))\n",
    "print(\"F1_best: %.4f\" % (f1_score(y_test, test_pred)))\n",
    "print(\"MCC_best: %.4f\" % (matthews_corrcoef(y_test, test_pred)))\n",
    "print(\"ROC_best: %.4f\" % (roc_auc_score(y_test, test_pred)))"
   ]
  },
  {
   "cell_type": "code",
   "execution_count": null,
   "id": "234ec97d-ef7d-421a-834d-367f3cc6e605",
   "metadata": {},
   "outputs": [],
   "source": [
    "test_pred.sum()"
   ]
  },
  {
   "cell_type": "code",
   "execution_count": null,
   "id": "b2ea3eea-fea1-4cfd-8c81-87e4b4514d95",
   "metadata": {},
   "outputs": [],
   "source": [
    "# Load Rate_Patho dataset"
   ]
  },
  {
   "cell_type": "code",
   "execution_count": null,
   "id": "ce5d8175-c0ff-42e2-8a8a-63f3ac4c4754",
   "metadata": {},
   "outputs": [],
   "source": [
    "import pandas as pd\n",
    "\n",
    "path_prefix = \"/expanse/lustre/projects/nji102/sgriesmer/\"\n",
    "\n",
    "RARPAT_abs_diff_plus_log_odds_scores_norm = pd.read_csv(path_prefix + \"DNABERT_2/output/RARPAT_0_102-abs_diff_plus_log_odds_scores_norm_results_by_variant.csv\", sep=',')"
   ]
  },
  {
   "cell_type": "code",
   "execution_count": null,
   "id": "5c06c0db-aee2-4633-88d1-b680e500168a",
   "metadata": {},
   "outputs": [],
   "source": [
    "RARPAT_abs_diff_plus_log_odds_scores_norm.shape"
   ]
  },
  {
   "cell_type": "code",
   "execution_count": null,
   "id": "64be8f8b-8150-42f2-af67-8094c127e011",
   "metadata": {},
   "outputs": [],
   "source": [
    "# Set model names to numbers"
   ]
  },
  {
   "cell_type": "code",
   "execution_count": null,
   "id": "07f8e330-9ae9-451e-8396-e577c78bd8a1",
   "metadata": {},
   "outputs": [],
   "source": [
    "RARPAT_abs_diff_plus_log_odds_scores_norm = RARPAT_abs_diff_plus_log_odds_scores_norm.set_axis(col_lab, axis=\"columns\")"
   ]
  },
  {
   "cell_type": "code",
   "execution_count": null,
   "id": "eceb2c39-efe2-4997-9ed9-4c8e445a2b70",
   "metadata": {},
   "outputs": [],
   "source": [
    "RARPAT_abs_diff_plus_log_odds_scores_norm"
   ]
  },
  {
   "cell_type": "code",
   "execution_count": null,
   "id": "8cec1bca-2973-497c-9535-24f37d1f73e5",
   "metadata": {},
   "outputs": [],
   "source": [
    "RARPAT_prvcs = pd.read_csv(path_prefix + \"DNABERT_2/Datasets/PRVCS/test_dataset/Rare_Patho_SNV_dataset_XY-named.txt\", sep='\\t')"
   ]
  },
  {
   "cell_type": "code",
   "execution_count": null,
   "id": "eb170548-19f6-449f-830b-6f6d8ddad624",
   "metadata": {},
   "outputs": [],
   "source": [
    "y = RARPAT_prvcs['label']"
   ]
  },
  {
   "cell_type": "code",
   "execution_count": null,
   "id": "9638bee0-3c16-4a12-823b-9dddde168c52",
   "metadata": {},
   "outputs": [],
   "source": [
    "y"
   ]
  },
  {
   "cell_type": "code",
   "execution_count": null,
   "id": "536ed0f9-2744-40d3-8457-9f0f7a35f407",
   "metadata": {},
   "outputs": [],
   "source": [
    "RARPAT_pred = test_estimator.predict(RARPAT_abs_diff_plus_log_odds_scores_norm)"
   ]
  },
  {
   "cell_type": "code",
   "execution_count": null,
   "id": "b7140b1d-e49f-4a1f-b518-671af8b38b99",
   "metadata": {},
   "outputs": [],
   "source": [
    "print(\"Accuracy_model_REG: %.4f\" % (accuracy_score(y, RARPAT_pred)))  \n",
    "print(\"F1_model_REG: %.4f\" % (f1_score(y, RARPAT_pred)))  \n",
    "print(\"MCC_model_REG: %.4f\" % (matthews_corrcoef(y, RARPAT_pred)))  \n",
    "print(\"ROC_AUC_model_REG: %.4f\" % (roc_auc_score(y , RARPAT_pred)))"
   ]
  },
  {
   "cell_type": "markdown",
   "id": "0acf9307-97d6-4e5b-8305-3fc8d1d89d99",
   "metadata": {},
   "source": [
    "Load ASD dataset"
   ]
  },
  {
   "cell_type": "code",
   "execution_count": null,
   "id": "d35d8eb6-0933-4c70-b5b5-83a1c8120383",
   "metadata": {},
   "outputs": [],
   "source": [
    "ASD_abs_diff_plus_log_odds_scores_norm = pd.read_csv(path_prefix + \"DNABERT_2/output/ASD_0_107-abs_diff_plus_log_odds_scores_norm_results_by_variant.csv\", sep=',')"
   ]
  },
  {
   "cell_type": "code",
   "execution_count": null,
   "id": "32defa15-440c-431d-9efd-dd156d83f0ac",
   "metadata": {},
   "outputs": [],
   "source": [
    "ASD_abs_diff_plus_log_odds_scores_norm = ASD_abs_diff_plus_log_odds_scores_norm.set_axis(col_lab, axis=\"columns\")"
   ]
  },
  {
   "cell_type": "code",
   "execution_count": null,
   "id": "da710227-617c-4fbf-9c4b-1f4688f157fd",
   "metadata": {},
   "outputs": [],
   "source": [
    "ASD_prvcs = pd.read_csv(path_prefix + \"DNABERT_2/Datasets/PRVCS/test_dataset/ASD_denovo_SNV_dataset_XY-named.txt\", sep='\\t')"
   ]
  },
  {
   "cell_type": "code",
   "execution_count": null,
   "id": "b068a572-1f93-41c7-bde2-fd3a7ba08f90",
   "metadata": {},
   "outputs": [],
   "source": [
    "y = ASD_prvcs['label']"
   ]
  },
  {
   "cell_type": "code",
   "execution_count": null,
   "id": "3fabf628-bc27-4827-ad87-47f3566ee08a",
   "metadata": {},
   "outputs": [],
   "source": [
    "ASD_pred = test_estimator.predict(ASD_abs_diff_plus_log_odds_scores_norm)"
   ]
  },
  {
   "cell_type": "code",
   "execution_count": null,
   "id": "950fec45-df06-41c8-bd97-3468fdd6d8c0",
   "metadata": {},
   "outputs": [],
   "source": [
    "print(\"Accuracy_model_REG: %.4f\" % (accuracy_score(y, ASD_pred)))  \n",
    "print(\"F1_model_REG: %.4f\" % (f1_score(y, ASD_pred)))  \n",
    "print(\"MCC_model_REG: %.4f\" % (matthews_corrcoef(y, ASD_pred)))  \n",
    "print(\"ROC_AUC_model_REG: %.4f\" % (roc_auc_score(y , ASD_pred)))"
   ]
  },
  {
   "cell_type": "markdown",
   "id": "8c8c4c78-28cd-4dc5-927b-b9ca576a0f73",
   "metadata": {},
   "source": [
    "Load GTEx dataset"
   ]
  },
  {
   "cell_type": "code",
   "execution_count": null,
   "id": "fbe3ef48-bb30-4e93-9cb9-c5a236bddefb",
   "metadata": {},
   "outputs": [],
   "source": [
    "GTEX_abs_diff_plus_log_odds_scores_norm = pd.read_csv(path_prefix + \"DNABERT_2/output/GTEX_0_796-abs_diff_plus_log_odds_scores_norm_results_by_variant.csv\", sep=',')"
   ]
  },
  {
   "cell_type": "code",
   "execution_count": null,
   "id": "af838288-5d77-4a36-8e40-87a14896932f",
   "metadata": {},
   "outputs": [],
   "source": [
    "GTEX_abs_diff_plus_log_odds_scores_norm = GTEX_abs_diff_plus_log_odds_scores_norm.set_axis(col_lab, axis=\"columns\")"
   ]
  },
  {
   "cell_type": "code",
   "execution_count": null,
   "id": "6fcf0887-1002-482a-b463-6daa056a34ff",
   "metadata": {},
   "outputs": [],
   "source": [
    "GTEX_prvcs = pd.read_csv(path_prefix + \"DNABERT_2/Datasets/PRVCS/test_dataset/GTEx_eQTL_dataset_XY-named.txt\", sep='\\t')"
   ]
  },
  {
   "cell_type": "code",
   "execution_count": null,
   "id": "3f2ea40d-22a8-472b-b90c-429310b1bda6",
   "metadata": {},
   "outputs": [],
   "source": [
    "y = GTEX_prvcs['label']"
   ]
  },
  {
   "cell_type": "code",
   "execution_count": null,
   "id": "f2084259-091e-4568-8725-12bed2549afd",
   "metadata": {
    "tags": []
   },
   "outputs": [],
   "source": [
    "GTEX_pred = test_estimator.predict(GTEX_abs_diff_plus_log_odds_scores_norm)"
   ]
  },
  {
   "cell_type": "code",
   "execution_count": null,
   "id": "350a26d7-e59f-475b-9761-2106dd4e579f",
   "metadata": {},
   "outputs": [],
   "source": [
    "print(\"Accuracy_model_REG: %.4f\" % (accuracy_score(y, GTEX_pred)))  \n",
    "print(\"F1_model_REG: %.4f\" % (f1_score(y, GTEX_pred)))  \n",
    "print(\"MCC_model_REG: %.4f\" % (matthews_corrcoef(y, GTEX_pred)))  \n",
    "print(\"ROC_AUC_model_REG: %.4f\" % (roc_auc_score(y , GTEX_pred)))"
   ]
  },
  {
   "cell_type": "markdown",
   "id": "8c239e10-14d9-4ed1-ac31-0da3f0a9b71e",
   "metadata": {},
   "source": [
    "Load Somatic eQTL dataset"
   ]
  },
  {
   "cell_type": "code",
   "execution_count": null,
   "id": "a01f2ce7-e68c-4bfe-9799-68951c7ce9c5",
   "metadata": {},
   "outputs": [],
   "source": [
    "SOMEQTL_abs_diff_plus_log_odds_scores_norm = pd.read_csv(path_prefix + \"DNABERT_2/output/SOMEQTL_0_7513-abs_diff_plus_log_odds_scores_norm_results_by_variant.csv\", sep=',')"
   ]
  },
  {
   "cell_type": "code",
   "execution_count": null,
   "id": "126e8d78-03a6-4213-b932-fa1542f15f53",
   "metadata": {},
   "outputs": [],
   "source": [
    "SOMEQTL_abs_diff_plus_log_odds_scores_norm = SOMEQTL_abs_diff_plus_log_odds_scores_norm.set_axis(col_lab, axis=\"columns\")"
   ]
  },
  {
   "cell_type": "code",
   "execution_count": null,
   "id": "faf8a66d-bf7e-4245-81f4-8233b99ecda6",
   "metadata": {},
   "outputs": [],
   "source": [
    "SOMEQTL_prvcs = pd.read_csv(path_prefix + \"DNABERT_2/Datasets/PRVCS/test_dataset/Somatic_eQTL_dataset_XY-named.txt\", sep='\\t')"
   ]
  },
  {
   "cell_type": "code",
   "execution_count": null,
   "id": "269e597a-bf36-48ef-a10c-d49f4b695986",
   "metadata": {
    "tags": []
   },
   "outputs": [],
   "source": [
    "y = SOMEQTL_prvcs['label']"
   ]
  },
  {
   "cell_type": "code",
   "execution_count": null,
   "id": "9e96cdd1-a174-46d2-a6fc-763a986a6aa7",
   "metadata": {},
   "outputs": [],
   "source": [
    "SOMEQTL_pred = test_estimator.predict(SOMEQTL_abs_diff_plus_log_odds_scores_norm)"
   ]
  },
  {
   "cell_type": "code",
   "execution_count": null,
   "id": "8d276845-819b-479e-865f-1338fa550126",
   "metadata": {},
   "outputs": [],
   "source": [
    "print(\"Accuracy_model_REG: %.4f\" % (accuracy_score(y, SOMEQTL_pred)))  \n",
    "print(\"F1_model_REG: %.4f\" % (f1_score(y, SOMEQTL_pred)))  \n",
    "print(\"MCC_model_REG: %.4f\" % (matthews_corrcoef(y, SOMEQTL_pred)))  \n",
    "print(\"ROC_AUC_model_REG: %.4f\" % (roc_auc_score(y , SOMEQTL_pred)))"
   ]
  },
  {
   "cell_type": "code",
   "execution_count": null,
   "id": "e22cf18a-7821-443a-aebb-a621b92511a6",
   "metadata": {},
   "outputs": [],
   "source": []
  }
 ],
 "metadata": {
  "kernelspec": {
   "display_name": "Python 3",
   "language": "python",
   "name": "python3"
  },
  "language_info": {
   "codemirror_mode": {
    "name": "ipython",
    "version": 3
   },
   "file_extension": ".py",
   "mimetype": "text/x-python",
   "name": "python",
   "nbconvert_exporter": "python",
   "pygments_lexer": "ipython3",
   "version": "3.8.8"
  }
 },
 "nbformat": 4,
 "nbformat_minor": 5
}
